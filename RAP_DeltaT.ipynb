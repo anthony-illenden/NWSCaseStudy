{
 "cells": [
  {
   "cell_type": "code",
   "execution_count": null,
   "metadata": {},
   "outputs": [],
   "source": [
    "from datetime import datetime\n",
    "import cartopy.crs as ccrs\n",
    "import cartopy.feature as cfeature\n",
    "import matplotlib.pyplot as plt\n",
    "from metpy.units import units\n",
    "from netCDF4 import num2date\n",
    "import numpy as np\n",
    "import scipy.ndimage as ndimage\n",
    "from siphon.catalog import TDSCatalog\n",
    "from siphon.ncss import NCSS\n",
    "import metpy.calc as mpcalc\n",
    "import xarray as xr\n",
    "from metpy.plots import USCOUNTIES"
   ]
  },
  {
   "cell_type": "code",
   "execution_count": 29,
   "metadata": {},
   "outputs": [],
   "source": [
    "# Helper function for finding proper time variable\n",
    "def find_time_var(var, time_basename='time'):\n",
    "    for coord_name in var.coordinates.split():\n",
    "        if coord_name.startswith(time_basename):\n",
    "            return coord_name\n",
    "    raise ValueError('No time variable found for ' + var.name)\n",
    "def calculate_dewpoint(temperature, relative_humidity):\n",
    "    a = 17.27\n",
    "    b = 237.7\n",
    "    # Convert relative humidity from percentage to fraction\n",
    "    relative_humidity = relative_humidity / 100.0\n",
    "    alpha = ((a * temperature) / (b + temperature)) + np.log(relative_humidity)\n",
    "    dewpoint = (b * alpha) / (a - alpha)\n",
    "    return dewpoint\n",
    "\n",
    "def calc_thetae(temperature, pressure, mixing_ratio):\n",
    "    theta = temperature * (1000.0 / pressure) ** 0.286 + 3 * mixing_ratio\n",
    "    return theta\n",
    "\n",
    "def plot_data(data, time):\n",
    "    istep = 0\n",
    "    level = 850000\n",
    "    h1000 = 1000\n",
    "    h900 = 900\n",
    "    h850 = 850\n",
    "    h700 = 700\n",
    "    time_dim_name = list(uvar.dims)[0]\n",
    "\n",
    "    tempk_h1000 = uvar.sel(isobaric=1000*100, method='nearest').isel(**{time_dim_name: istep}).data\n",
    "    temp_h1000 = tempk_h1000 \n",
    "    temp_h1000 = units.Quantity(temp_h1000, 'K')\n",
    "    rh_h1000 = ref.sel(isobaric=1000*100, method='nearest').isel(**{time_dim_name: istep}).data\n",
    "    td_h1000 = mpcalc.dewpoint_from_relative_humidity(temp_h1000, rh_h1000)\n",
    "    uwnd_h1000 = uwnd.sel(isobaric=1000*100, method='nearest').isel(**{time_dim_name: istep}).data\n",
    "    vwnd_h1000 = vwnd.sel(isobaric=1000*100, method='nearest').isel(**{time_dim_name: istep}).data\n",
    "\n",
    "\n",
    "    tempk_h850 = uvar.sel(isobaric=h850*100, method='nearest').isel(**{time_dim_name: istep}).data\n",
    "    temp_h850 = tempk_h850 \n",
    "    temp_h850 = units.Quantity(temp_h850, 'K')\n",
    "    rh_h850 = ref.sel(isobaric=h850*100, method='nearest').isel(**{time_dim_name: istep}).data\n",
    "    td_h850 = mpcalc.dewpoint_from_relative_humidity(temp_h850, rh_h850)\n",
    "\n",
    "    tempk_h700 = uvar.sel(isobaric=h700*100, method='nearest').isel(**{time_dim_name: istep}).data\n",
    "    temp_h700 = tempk_h700 \n",
    "    temp_h700 = units.Quantity(temp_h700, 'K')\n",
    "    rh_h700 = ref.sel(isobaric=h700*100, method='nearest').isel(**{time_dim_name: istep}).data\n",
    "    td_h700 = mpcalc.dewpoint_from_relative_humidity(temp_h700, rh_h700)\n",
    "\n",
    "    mixingratio_h1000 = mpcalc.mixing_ratio_from_relative_humidity(h1000*units.hPa, (tempk_h1000 - 273.15) * units.degC, rh_h1000 / 100).to('g/kg')\n",
    "    mixingratio_h850 = mpcalc.mixing_ratio_from_relative_humidity(h850*units.hPa, (tempk_h850 - 273.15) * units.degC, rh_h850 / 100).to('g/kg')\n",
    "    mixingratio_h700 = mpcalc.mixing_ratio_from_relative_humidity(h700*units.hPa, (tempk_h700 - 273.15) * units.degC, rh_h700 / 100).to('g/kg')\n",
    "\n",
    "    new_thetah1000 = calc_thetae(tempk_h1000, h1000, mixingratio_h1000.magnitude)\n",
    "    new_thetah850 = calc_thetae(tempk_h850, h850, mixingratio_h850.magnitude)\n",
    "    new_thetah700 = calc_thetae(tempk_h700, h1000, mixingratio_h700.magnitude)\n",
    "    \n",
    "\n",
    "    lon = np.linspace(-92, -80, tempk_h850.shape[1])\n",
    "    lat = np.linspace(40, 49, tempk_h850.shape[0])\n",
    "\n",
    "\n",
    "    new_thetae_h1000_da = xr.DataArray(new_thetah1000, dims=('lat', 'lon'), coords={'lat': lat, 'lon': lon})\n",
    "    new_thetae_h850_da = xr.DataArray(new_thetah850, dims=('lat', 'lon'), coords={'lat': lat, 'lon': lon})\n",
    "    new_thetae_h700_da = xr.DataArray(new_thetah700, dims=('lat', 'lon'), coords={'lat': lat, 'lon': lon})\n",
    "\n",
    "    new_theta_lapserate_1500 = (new_thetah850 - new_thetah1000) / 1.5\n",
    "    new_theta_lapserate_3000 = (new_thetah700 - new_thetah1000) / 3\n",
    "\n",
    "    lapse_rate_1500 = (tempk_h850 - tempk_h1000) / 1.5\n",
    "    lapse_rate_3000 = (tempk_h700 - tempk_h1000) / 3.0\n",
    "\n",
    "    delt_1500 = tempk_h850 - tempk_h1000\n",
    "    delt_3000 = tempk_h700 - tempk_h1000\n",
    "    lon = np.linspace(-92, -80, tempk_h850.shape[1])\n",
    "    lat = np.linspace(40, 49, tempk_h850.shape[0])\n",
    "    orig_map=plt.cm.get_cmap('Reds')\n",
    "  \n",
    "    reversed_map = orig_map.reversed()\n",
    "\n",
    "    lon0 = grid.longitude_of_central_meridian\n",
    "    lat0 = grid.latitude_of_projection_origin\n",
    "    lat1 = grid.standard_parallel\n",
    "    earth_radius = grid.earth_radius\n",
    "\n",
    "    globe = ccrs.Globe(ellipse='sphere', semimajor_axis=grid.earth_radius)\n",
    "    datacrs = ccrs.PlateCarree() \n",
    "    crs = ccrs.LambertConformal(central_longitude=lon0, central_latitude=lat0, \n",
    "                            standard_parallels=(lat0, lat1), globe=globe)\n",
    "    \n",
    "    fig = plt.figure(figsize=(18, 12)) \n",
    "    ax = fig.add_subplot(1, 1, 1, projection=crs) \n",
    "    \n",
    "    ax.set_extent([-90.5, -84.0, 45.5, 48], datacrs) \n",
    "\n",
    "    ax.add_feature(cfeature.STATES, edgecolor='black', linewidth=2)\n",
    "    ax.add_feature(USCOUNTIES.with_scale('5m'), linewidth=0.25, alpha = 0.5)\n",
    "\n",
    "    cf = ax.contourf(new_thetae_h1000_da.metpy.x, new_thetae_h1000_da.metpy.y, ndimage.gaussian_filter(delt_1500, sigma=3, order=0),\n",
    "                    levels=range(-25, 0, 1), transform=ccrs.PlateCarree(), cmap=reversed_map)\n",
    "    plt.colorbar(cf, orientation='horizontal', extend=max, aspect=65, pad=0,\n",
    "                extendrect='True', label = 'Temperature Difference (C)') \n",
    "\n",
    "    c = ax.contour(new_thetae_h1000_da.metpy.x, new_thetae_h1000_da.metpy.y, ndimage.gaussian_filter(delt_1500, sigma=3, order=0), levels=range(-25, 0, 1), colors='black', transform=datacrs)\n",
    "    ax.clabel(c, fontsize=12, inline=1, inline_spacing=4, fmt='%i')\n",
    "\n",
    "    plt.title('RAP Surface-850MB Delta-T')\n",
    "    plt.title('VALID: {:s}z'.format(str(time)), loc='right')\n",
    "    #plt.savefig(r\"C:\\Users\\Tony\\Desktop\\test\\new_RAP\\Delta-T{:s}z.png\".format(str(time).replace(':', '_')), bbox_inches='tight')\n",
    "    plt.close()"
   ]
  },
  {
   "cell_type": "code",
   "execution_count": 30,
   "metadata": {},
   "outputs": [
    {
     "name": "stdout",
     "output_type": "stream",
     "text": [
      "https://www.ncei.noaa.gov/thredds/catalog/model-rap130/202305/20230501/catalog.html?dataset=rap130/202305/20230501/rap_130_20230501_0300_031.grb2\n"
     ]
    },
    {
     "name": "stderr",
     "output_type": "stream",
     "text": [
      "C:\\Users\\Tony\\anaconda3\\lib\\site-packages\\siphon\\catalog.py:292: UserWarning: URL https://www.ncei.noaa.gov/thredds/catalog/model-rap130/202305/20230501/catalog.html?dataset=rap130/202305/20230501/rap_130_20230501_0300_031.grb2 returned HTML. Changing to: https://www.ncei.noaa.gov/thredds/catalog/model-rap130/202305/20230501/catalog.xml?dataset=rap130/202305/20230501/rap_130_20230501_0300_031.grb2\n",
      "  warnings.warn('URL {} returned HTML. Changing to: {}'.format(self.catalog_url,\n"
     ]
    },
    {
     "name": "stdout",
     "output_type": "stream",
     "text": [
      "{'Pressure_zeroDegC_isotherm', 'Geopotential_height_UnknownLevelType-14', 'Vertical_velocity_pressure_isobaric', 'Convective_inhibition_surface', 'Baseflow-groundwater_runoff_surface_1_Hour_Accumulation', 'Total_precipitation_surface_Mixed_intervals_Accumulation', 'U-Component_Storm_Motion_height_above_ground_layer', 'Temperature_surface', 'Water_equivalent_of_accumulated_snow_depth_surface', 'Dewpoint_temperature_height_above_ground', 'Total_snowfall_surface_31_Hour_Accumulation', 'Mass_density_concentration_height_above_ground', 'Snow_depth_surface', 'v-component_of_wind_maximum_wind', 'Geopotential_height_isotherm', 'Pseudo-adiabatic_potential_temperature_or_equivalent_potential_temperature_surface', 'Temperature_height_above_ground', 'u-component_of_wind_height_above_ground', 'Geopotential_height_highest_tropospheric_freezing', 'MSLP_MAPS_System_Reduction_msl', 'Vertical_velocity_pressure_pressure_difference_layer', 'u-component_of_wind_isobaric', 'Geopotential_height_surface', 'Storm_surface_runoff_surface_1_Hour_Accumulation', 'Wind_speed_gust_surface', 'Dewpoint_depression_or_deficit_height_above_ground', 'Freezing_Rain_surface_31_Hour_Accumulation', 'Total_cloud_cover_entire_atmosphere', 'Pressure_height_above_ground', 'Geopotential_height_cloud_tops', 'Best_4_layer_Lifted_Index_pressure_difference_layer', 'Simulated_Brightness_Temperature_for_GOES_11_Channel_4_atmosphere_top', 'v-component_of_wind_height_above_ground', 'v-component_of_wind_pressure_difference_layer', 'Echo_top_entire_atmosphere_single_layer', 'Medium_cloud_cover_middle_cloud', 'Moisture_Availability_depth_below_surface', 'Geopotential_height_equilibrium', 'Critical_Angle_height_above_ground_layer', 'Vertical_u-component_shear_height_above_ground_layer', 'Vertical_v-component_shear_height_above_ground_layer', 'Convective_inhibition_pressure_difference_layer', 'Composite_reflectivity_entire_atmosphere', 'Categorical_Freezing_Rain_surface', 'Low_cloud_cover_low_cloud', 'Enhanced_Stretching_Potential_height_above_ground_layer', 'Categorical_Rain_surface', 'Frozen_Rain_surface_Mixed_intervals_Accumulation', 'Convective_available_potential_energy_height_above_ground_layer', 'Pressure_surface', 'Potential_temperature_tropopause', 'v-component_of_wind_tropopause', 'Relative_humidity_highest_tropospheric_freezing', 'Categorical_Ice_Pellets_surface', 'u-component_of_wind_maximum_wind', 'Layer_Thickness_isotherm_layer', 'Precipitable_water_entire_atmosphere_single_layer', 'Geopotential_height_isobaric', 'Relative_humidity_pressure_difference_layer', 'Lightning_surface', 'Planetary_Boundary_Layer_Height_surface', 'Relative_humidity_zeroDegC_isotherm', 'Simulated_Brightness_Temperature_for_GOES_12_Channel_4_atmosphere_top', 'v-component_of_wind_isobaric', 'Total_cloud_cover_boundary_layer_cloud', 'u-component_of_wind_tropopause', 'Temperature_isobaric', 'Potential_temperature_height_above_ground', 'Geopotential_height_zeroDegC_isotherm', 'u-component_of_wind_pressure_difference_layer', 'Geopotential_height_cloud_ceiling', 'Geopotential_height_cloud_base', 'Pressure_highest_tropospheric_freezing', 'Surface_Lifted_Index_isobaric_layer', 'Temperature_pressure_difference_layer', 'Simulated_Brightness_Temperature_for_GOES_11_Channel_3_atmosphere_top', 'Geopotential_height_convective_cloud_top', 'Precipitation_rate_surface', 'Storm_relative_helicity_height_above_ground_layer', 'V-Component_Storm_Motion_height_above_ground_layer', 'Haines_index_surface', 'Pressure_maximum_wind', 'Simulated_Brightness_Temperature_for_GOES_12_Channel_3_atmosphere_top', 'Aerosol_optical_thickness_entire_atmosphere_single_layer', 'Visibility_surface', 'Relative_humidity_isobaric', 'Convective_available_potential_energy_pressure_difference_layer', 'Water_equivalent_of_accumulated_snow_depth_surface_Mixed_intervals_Accumulation', 'Geopotential_height_lowest_level_of_the_wet_bulb_zero', 'Convective_available_potential_energy_surface', 'Relative_Humidity_with_Respect_to_Precipitable_Water_entire_atmosphere', 'Categorical_Snow_surface', 'Absolute_vorticity_isobaric', 'Temperature_tropopause', 'Convective_precipitation_surface_Mixed_intervals_Accumulation', 'Effective_Storm_Relative_Helicity_surface', 'Reflectivity_height_above_ground', 'Relative_humidity_height_above_ground', 'High_cloud_cover_high_cloud', 'Pressure_of_level_from_which_parcel_was_lifted_pressure_difference_layer', 'Geopotential_height_planetary_boundary', 'Pressure_tropopause', 'Specific_humidity_height_above_ground'}\n"
     ]
    },
    {
     "name": "stderr",
     "output_type": "stream",
     "text": [
      "C:\\Users\\Tony\\anaconda3\\lib\\site-packages\\metpy\\calc\\thermo.py:1078: UserWarning: Relative humidity >120%, ensure proper units.\n",
      "  warnings.warn('Relative humidity >120%, ensure proper units.')\n",
      "C:\\Users\\Tony\\anaconda3\\lib\\site-packages\\metpy\\calc\\thermo.py:1078: UserWarning: Relative humidity >120%, ensure proper units.\n",
      "  warnings.warn('Relative humidity >120%, ensure proper units.')\n",
      "C:\\Users\\Tony\\anaconda3\\lib\\site-packages\\metpy\\calc\\thermo.py:1078: UserWarning: Relative humidity >120%, ensure proper units.\n",
      "  warnings.warn('Relative humidity >120%, ensure proper units.')\n"
     ]
    },
    {
     "name": "stdout",
     "output_type": "stream",
     "text": [
      "https://www.ncei.noaa.gov/thredds/catalog/model-rap130/202305/20230501/catalog.html?dataset=rap130/202305/20230501/rap_130_20230501_0300_032.grb2\n"
     ]
    },
    {
     "name": "stderr",
     "output_type": "stream",
     "text": [
      "C:\\Users\\Tony\\anaconda3\\lib\\site-packages\\siphon\\catalog.py:292: UserWarning: URL https://www.ncei.noaa.gov/thredds/catalog/model-rap130/202305/20230501/catalog.html?dataset=rap130/202305/20230501/rap_130_20230501_0300_032.grb2 returned HTML. Changing to: https://www.ncei.noaa.gov/thredds/catalog/model-rap130/202305/20230501/catalog.xml?dataset=rap130/202305/20230501/rap_130_20230501_0300_032.grb2\n",
      "  warnings.warn('URL {} returned HTML. Changing to: {}'.format(self.catalog_url,\n"
     ]
    },
    {
     "name": "stdout",
     "output_type": "stream",
     "text": [
      "{'Pressure_zeroDegC_isotherm', 'Geopotential_height_UnknownLevelType-14', 'Vertical_velocity_pressure_isobaric', 'Convective_inhibition_surface', 'Baseflow-groundwater_runoff_surface_1_Hour_Accumulation', 'Total_precipitation_surface_Mixed_intervals_Accumulation', 'U-Component_Storm_Motion_height_above_ground_layer', 'Temperature_surface', 'Water_equivalent_of_accumulated_snow_depth_surface', 'Dewpoint_temperature_height_above_ground', 'Mass_density_concentration_height_above_ground', 'Snow_depth_surface', 'v-component_of_wind_maximum_wind', 'Geopotential_height_isotherm', 'Pseudo-adiabatic_potential_temperature_or_equivalent_potential_temperature_surface', 'Temperature_height_above_ground', 'u-component_of_wind_height_above_ground', 'Geopotential_height_highest_tropospheric_freezing', 'MSLP_MAPS_System_Reduction_msl', 'Vertical_velocity_pressure_pressure_difference_layer', 'u-component_of_wind_isobaric', 'Geopotential_height_surface', 'Storm_surface_runoff_surface_1_Hour_Accumulation', 'Wind_speed_gust_surface', 'Dewpoint_depression_or_deficit_height_above_ground', 'Total_cloud_cover_entire_atmosphere', 'Pressure_height_above_ground', 'Geopotential_height_cloud_tops', 'Best_4_layer_Lifted_Index_pressure_difference_layer', 'Simulated_Brightness_Temperature_for_GOES_11_Channel_4_atmosphere_top', 'v-component_of_wind_height_above_ground', 'v-component_of_wind_pressure_difference_layer', 'Echo_top_entire_atmosphere_single_layer', 'Medium_cloud_cover_middle_cloud', 'Moisture_Availability_depth_below_surface', 'Geopotential_height_equilibrium', 'Critical_Angle_height_above_ground_layer', 'Vertical_u-component_shear_height_above_ground_layer', 'Vertical_v-component_shear_height_above_ground_layer', 'Convective_inhibition_pressure_difference_layer', 'Composite_reflectivity_entire_atmosphere', 'Categorical_Freezing_Rain_surface', 'Low_cloud_cover_low_cloud', 'Enhanced_Stretching_Potential_height_above_ground_layer', 'Categorical_Rain_surface', 'Frozen_Rain_surface_Mixed_intervals_Accumulation', 'Convective_available_potential_energy_height_above_ground_layer', 'Pressure_surface', 'Potential_temperature_tropopause', 'v-component_of_wind_tropopause', 'Relative_humidity_highest_tropospheric_freezing', 'Categorical_Ice_Pellets_surface', 'u-component_of_wind_maximum_wind', 'Layer_Thickness_isotherm_layer', 'Precipitable_water_entire_atmosphere_single_layer', 'Geopotential_height_isobaric', 'Relative_humidity_pressure_difference_layer', 'Lightning_surface', 'Planetary_Boundary_Layer_Height_surface', 'Relative_humidity_zeroDegC_isotherm', 'Simulated_Brightness_Temperature_for_GOES_12_Channel_4_atmosphere_top', 'v-component_of_wind_isobaric', 'Total_cloud_cover_boundary_layer_cloud', 'u-component_of_wind_tropopause', 'Temperature_isobaric', 'Potential_temperature_height_above_ground', 'Geopotential_height_zeroDegC_isotherm', 'u-component_of_wind_pressure_difference_layer', 'Geopotential_height_cloud_ceiling', 'Geopotential_height_cloud_base', 'Pressure_highest_tropospheric_freezing', 'Surface_Lifted_Index_isobaric_layer', 'Temperature_pressure_difference_layer', 'Simulated_Brightness_Temperature_for_GOES_11_Channel_3_atmosphere_top', 'Geopotential_height_convective_cloud_top', 'Precipitation_rate_surface', 'Storm_relative_helicity_height_above_ground_layer', 'V-Component_Storm_Motion_height_above_ground_layer', 'Haines_index_surface', 'Pressure_maximum_wind', 'Simulated_Brightness_Temperature_for_GOES_12_Channel_3_atmosphere_top', 'Aerosol_optical_thickness_entire_atmosphere_single_layer', 'Visibility_surface', 'Relative_humidity_isobaric', 'Convective_available_potential_energy_pressure_difference_layer', 'Water_equivalent_of_accumulated_snow_depth_surface_Mixed_intervals_Accumulation', 'Geopotential_height_lowest_level_of_the_wet_bulb_zero', 'Convective_available_potential_energy_surface', 'Relative_Humidity_with_Respect_to_Precipitable_Water_entire_atmosphere', 'Categorical_Snow_surface', 'Absolute_vorticity_isobaric', 'Temperature_tropopause', 'Convective_precipitation_surface_Mixed_intervals_Accumulation', 'Effective_Storm_Relative_Helicity_surface', 'Reflectivity_height_above_ground', 'Relative_humidity_height_above_ground', 'Freezing_Rain_surface_32_Hour_Accumulation', 'High_cloud_cover_high_cloud', 'Pressure_of_level_from_which_parcel_was_lifted_pressure_difference_layer', 'Total_snowfall_surface_32_Hour_Accumulation', 'Geopotential_height_planetary_boundary', 'Pressure_tropopause', 'Specific_humidity_height_above_ground'}\n"
     ]
    },
    {
     "name": "stderr",
     "output_type": "stream",
     "text": [
      "C:\\Users\\Tony\\anaconda3\\lib\\site-packages\\metpy\\calc\\thermo.py:1078: UserWarning: Relative humidity >120%, ensure proper units.\n",
      "  warnings.warn('Relative humidity >120%, ensure proper units.')\n",
      "C:\\Users\\Tony\\anaconda3\\lib\\site-packages\\metpy\\calc\\thermo.py:1078: UserWarning: Relative humidity >120%, ensure proper units.\n",
      "  warnings.warn('Relative humidity >120%, ensure proper units.')\n",
      "C:\\Users\\Tony\\anaconda3\\lib\\site-packages\\metpy\\calc\\thermo.py:1078: UserWarning: Relative humidity >120%, ensure proper units.\n",
      "  warnings.warn('Relative humidity >120%, ensure proper units.')\n"
     ]
    },
    {
     "name": "stdout",
     "output_type": "stream",
     "text": [
      "https://www.ncei.noaa.gov/thredds/catalog/model-rap130/202305/20230501/catalog.html?dataset=rap130/202305/20230501/rap_130_20230501_0300_033.grb2\n"
     ]
    },
    {
     "name": "stderr",
     "output_type": "stream",
     "text": [
      "C:\\Users\\Tony\\anaconda3\\lib\\site-packages\\siphon\\catalog.py:292: UserWarning: URL https://www.ncei.noaa.gov/thredds/catalog/model-rap130/202305/20230501/catalog.html?dataset=rap130/202305/20230501/rap_130_20230501_0300_033.grb2 returned HTML. Changing to: https://www.ncei.noaa.gov/thredds/catalog/model-rap130/202305/20230501/catalog.xml?dataset=rap130/202305/20230501/rap_130_20230501_0300_033.grb2\n",
      "  warnings.warn('URL {} returned HTML. Changing to: {}'.format(self.catalog_url,\n"
     ]
    },
    {
     "name": "stdout",
     "output_type": "stream",
     "text": [
      "{'Pressure_zeroDegC_isotherm', 'Geopotential_height_UnknownLevelType-14', 'Vertical_velocity_pressure_isobaric', 'Total_precipitation_surface_Mixed_intervals_Accumulation', 'Convective_inhibition_surface', 'Baseflow-groundwater_runoff_surface_1_Hour_Accumulation', 'U-Component_Storm_Motion_height_above_ground_layer', 'Temperature_surface', 'Water_equivalent_of_accumulated_snow_depth_surface', 'Dewpoint_temperature_height_above_ground', 'Mass_density_concentration_height_above_ground', 'Snow_depth_surface', 'v-component_of_wind_maximum_wind', 'Geopotential_height_isotherm', 'Pseudo-adiabatic_potential_temperature_or_equivalent_potential_temperature_surface', 'Temperature_height_above_ground', 'u-component_of_wind_height_above_ground', 'Geopotential_height_highest_tropospheric_freezing', 'MSLP_MAPS_System_Reduction_msl', 'Vertical_velocity_pressure_pressure_difference_layer', 'u-component_of_wind_isobaric', 'Geopotential_height_surface', 'Storm_surface_runoff_surface_1_Hour_Accumulation', 'Wind_speed_gust_surface', 'Dewpoint_depression_or_deficit_height_above_ground', 'Total_cloud_cover_entire_atmosphere', 'Pressure_height_above_ground', 'Geopotential_height_cloud_tops', 'Best_4_layer_Lifted_Index_pressure_difference_layer', 'Simulated_Brightness_Temperature_for_GOES_11_Channel_4_atmosphere_top', 'v-component_of_wind_height_above_ground', 'v-component_of_wind_pressure_difference_layer', 'Echo_top_entire_atmosphere_single_layer', 'Medium_cloud_cover_middle_cloud', 'Moisture_Availability_depth_below_surface', 'Geopotential_height_equilibrium', 'Critical_Angle_height_above_ground_layer', 'Vertical_u-component_shear_height_above_ground_layer', 'Vertical_v-component_shear_height_above_ground_layer', 'Convective_inhibition_pressure_difference_layer', 'Composite_reflectivity_entire_atmosphere', 'Categorical_Freezing_Rain_surface', 'Low_cloud_cover_low_cloud', 'Enhanced_Stretching_Potential_height_above_ground_layer', 'Categorical_Rain_surface', 'Frozen_Rain_surface_Mixed_intervals_Accumulation', 'Convective_available_potential_energy_height_above_ground_layer', 'Pressure_surface', 'Potential_temperature_tropopause', 'v-component_of_wind_tropopause', 'Relative_humidity_highest_tropospheric_freezing', 'Categorical_Ice_Pellets_surface', 'u-component_of_wind_maximum_wind', 'Layer_Thickness_isotherm_layer', 'Precipitable_water_entire_atmosphere_single_layer', 'Geopotential_height_isobaric', 'Relative_humidity_pressure_difference_layer', 'Lightning_surface', 'Planetary_Boundary_Layer_Height_surface', 'Relative_humidity_zeroDegC_isotherm', 'Simulated_Brightness_Temperature_for_GOES_12_Channel_4_atmosphere_top', 'Freezing_Rain_surface_33_Hour_Accumulation', 'v-component_of_wind_isobaric', 'Total_cloud_cover_boundary_layer_cloud', 'u-component_of_wind_tropopause', 'Temperature_isobaric', 'Potential_temperature_height_above_ground', 'Geopotential_height_zeroDegC_isotherm', 'Total_snowfall_surface_33_Hour_Accumulation', 'u-component_of_wind_pressure_difference_layer', 'Geopotential_height_cloud_ceiling', 'Geopotential_height_cloud_base', 'Pressure_highest_tropospheric_freezing', 'Surface_Lifted_Index_isobaric_layer', 'Temperature_pressure_difference_layer', 'Simulated_Brightness_Temperature_for_GOES_11_Channel_3_atmosphere_top', 'Geopotential_height_convective_cloud_top', 'Precipitation_rate_surface', 'Storm_relative_helicity_height_above_ground_layer', 'V-Component_Storm_Motion_height_above_ground_layer', 'Haines_index_surface', 'Pressure_maximum_wind', 'Simulated_Brightness_Temperature_for_GOES_12_Channel_3_atmosphere_top', 'Aerosol_optical_thickness_entire_atmosphere_single_layer', 'Visibility_surface', 'Relative_humidity_isobaric', 'Convective_available_potential_energy_pressure_difference_layer', 'Water_equivalent_of_accumulated_snow_depth_surface_Mixed_intervals_Accumulation', 'Geopotential_height_lowest_level_of_the_wet_bulb_zero', 'Convective_available_potential_energy_surface', 'Relative_Humidity_with_Respect_to_Precipitable_Water_entire_atmosphere', 'Categorical_Snow_surface', 'Absolute_vorticity_isobaric', 'Convective_precipitation_surface_Mixed_intervals_Accumulation', 'Temperature_tropopause', 'Effective_Storm_Relative_Helicity_surface', 'Reflectivity_height_above_ground', 'Relative_humidity_height_above_ground', 'High_cloud_cover_high_cloud', 'Pressure_of_level_from_which_parcel_was_lifted_pressure_difference_layer', 'Geopotential_height_planetary_boundary', 'Pressure_tropopause', 'Specific_humidity_height_above_ground'}\n"
     ]
    },
    {
     "name": "stderr",
     "output_type": "stream",
     "text": [
      "C:\\Users\\Tony\\anaconda3\\lib\\site-packages\\metpy\\calc\\thermo.py:1078: UserWarning: Relative humidity >120%, ensure proper units.\n",
      "  warnings.warn('Relative humidity >120%, ensure proper units.')\n",
      "C:\\Users\\Tony\\anaconda3\\lib\\site-packages\\metpy\\calc\\thermo.py:1078: UserWarning: Relative humidity >120%, ensure proper units.\n",
      "  warnings.warn('Relative humidity >120%, ensure proper units.')\n",
      "C:\\Users\\Tony\\anaconda3\\lib\\site-packages\\metpy\\calc\\thermo.py:1078: UserWarning: Relative humidity >120%, ensure proper units.\n",
      "  warnings.warn('Relative humidity >120%, ensure proper units.')\n"
     ]
    },
    {
     "name": "stdout",
     "output_type": "stream",
     "text": [
      "https://www.ncei.noaa.gov/thredds/catalog/model-rap130/202305/20230501/catalog.html?dataset=rap130/202305/20230501/rap_130_20230501_0300_034.grb2\n"
     ]
    },
    {
     "name": "stderr",
     "output_type": "stream",
     "text": [
      "C:\\Users\\Tony\\anaconda3\\lib\\site-packages\\siphon\\catalog.py:292: UserWarning: URL https://www.ncei.noaa.gov/thredds/catalog/model-rap130/202305/20230501/catalog.html?dataset=rap130/202305/20230501/rap_130_20230501_0300_034.grb2 returned HTML. Changing to: https://www.ncei.noaa.gov/thredds/catalog/model-rap130/202305/20230501/catalog.xml?dataset=rap130/202305/20230501/rap_130_20230501_0300_034.grb2\n",
      "  warnings.warn('URL {} returned HTML. Changing to: {}'.format(self.catalog_url,\n"
     ]
    },
    {
     "name": "stdout",
     "output_type": "stream",
     "text": [
      "{'Pressure_zeroDegC_isotherm', 'Geopotential_height_UnknownLevelType-14', 'Vertical_velocity_pressure_isobaric', 'Total_precipitation_surface_Mixed_intervals_Accumulation', 'Baseflow-groundwater_runoff_surface_1_Hour_Accumulation', 'Convective_inhibition_surface', 'U-Component_Storm_Motion_height_above_ground_layer', 'Temperature_surface', 'Water_equivalent_of_accumulated_snow_depth_surface', 'Dewpoint_temperature_height_above_ground', 'Mass_density_concentration_height_above_ground', 'Snow_depth_surface', 'v-component_of_wind_maximum_wind', 'Geopotential_height_isotherm', 'Pseudo-adiabatic_potential_temperature_or_equivalent_potential_temperature_surface', 'Temperature_height_above_ground', 'u-component_of_wind_height_above_ground', 'Geopotential_height_highest_tropospheric_freezing', 'MSLP_MAPS_System_Reduction_msl', 'Vertical_velocity_pressure_pressure_difference_layer', 'u-component_of_wind_isobaric', 'Geopotential_height_surface', 'Storm_surface_runoff_surface_1_Hour_Accumulation', 'Wind_speed_gust_surface', 'Dewpoint_depression_or_deficit_height_above_ground', 'Total_cloud_cover_entire_atmosphere', 'Pressure_height_above_ground', 'Geopotential_height_cloud_tops', 'Best_4_layer_Lifted_Index_pressure_difference_layer', 'Simulated_Brightness_Temperature_for_GOES_11_Channel_4_atmosphere_top', 'v-component_of_wind_height_above_ground', 'v-component_of_wind_pressure_difference_layer', 'Echo_top_entire_atmosphere_single_layer', 'Medium_cloud_cover_middle_cloud', 'Moisture_Availability_depth_below_surface', 'Geopotential_height_equilibrium', 'Critical_Angle_height_above_ground_layer', 'Vertical_u-component_shear_height_above_ground_layer', 'Vertical_v-component_shear_height_above_ground_layer', 'Convective_inhibition_pressure_difference_layer', 'Composite_reflectivity_entire_atmosphere', 'Categorical_Freezing_Rain_surface', 'Low_cloud_cover_low_cloud', 'Enhanced_Stretching_Potential_height_above_ground_layer', 'Categorical_Rain_surface', 'Frozen_Rain_surface_Mixed_intervals_Accumulation', 'Convective_available_potential_energy_height_above_ground_layer', 'Pressure_surface', 'Potential_temperature_tropopause', 'v-component_of_wind_tropopause', 'Relative_humidity_highest_tropospheric_freezing', 'Categorical_Ice_Pellets_surface', 'u-component_of_wind_maximum_wind', 'Layer_Thickness_isotherm_layer', 'Precipitable_water_entire_atmosphere_single_layer', 'Geopotential_height_isobaric', 'Freezing_Rain_surface_34_Hour_Accumulation', 'Relative_humidity_pressure_difference_layer', 'Lightning_surface', 'Planetary_Boundary_Layer_Height_surface', 'Relative_humidity_zeroDegC_isotherm', 'Simulated_Brightness_Temperature_for_GOES_12_Channel_4_atmosphere_top', 'v-component_of_wind_isobaric', 'Total_cloud_cover_boundary_layer_cloud', 'u-component_of_wind_tropopause', 'Temperature_isobaric', 'Potential_temperature_height_above_ground', 'Geopotential_height_zeroDegC_isotherm', 'u-component_of_wind_pressure_difference_layer', 'Geopotential_height_cloud_ceiling', 'Geopotential_height_cloud_base', 'Pressure_highest_tropospheric_freezing', 'Surface_Lifted_Index_isobaric_layer', 'Temperature_pressure_difference_layer', 'Simulated_Brightness_Temperature_for_GOES_11_Channel_3_atmosphere_top', 'Geopotential_height_convective_cloud_top', 'Precipitation_rate_surface', 'Storm_relative_helicity_height_above_ground_layer', 'V-Component_Storm_Motion_height_above_ground_layer', 'Haines_index_surface', 'Pressure_maximum_wind', 'Simulated_Brightness_Temperature_for_GOES_12_Channel_3_atmosphere_top', 'Aerosol_optical_thickness_entire_atmosphere_single_layer', 'Total_snowfall_surface_34_Hour_Accumulation', 'Visibility_surface', 'Relative_humidity_isobaric', 'Convective_available_potential_energy_pressure_difference_layer', 'Water_equivalent_of_accumulated_snow_depth_surface_Mixed_intervals_Accumulation', 'Geopotential_height_lowest_level_of_the_wet_bulb_zero', 'Convective_available_potential_energy_surface', 'Relative_Humidity_with_Respect_to_Precipitable_Water_entire_atmosphere', 'Categorical_Snow_surface', 'Absolute_vorticity_isobaric', 'Convective_precipitation_surface_Mixed_intervals_Accumulation', 'Temperature_tropopause', 'Effective_Storm_Relative_Helicity_surface', 'Reflectivity_height_above_ground', 'Relative_humidity_height_above_ground', 'High_cloud_cover_high_cloud', 'Pressure_of_level_from_which_parcel_was_lifted_pressure_difference_layer', 'Geopotential_height_planetary_boundary', 'Pressure_tropopause', 'Specific_humidity_height_above_ground'}\n"
     ]
    },
    {
     "name": "stderr",
     "output_type": "stream",
     "text": [
      "C:\\Users\\Tony\\anaconda3\\lib\\site-packages\\metpy\\calc\\thermo.py:1078: UserWarning: Relative humidity >120%, ensure proper units.\n",
      "  warnings.warn('Relative humidity >120%, ensure proper units.')\n",
      "C:\\Users\\Tony\\anaconda3\\lib\\site-packages\\metpy\\calc\\thermo.py:1078: UserWarning: Relative humidity >120%, ensure proper units.\n",
      "  warnings.warn('Relative humidity >120%, ensure proper units.')\n",
      "C:\\Users\\Tony\\anaconda3\\lib\\site-packages\\metpy\\calc\\thermo.py:1078: UserWarning: Relative humidity >120%, ensure proper units.\n",
      "  warnings.warn('Relative humidity >120%, ensure proper units.')\n"
     ]
    },
    {
     "name": "stdout",
     "output_type": "stream",
     "text": [
      "https://www.ncei.noaa.gov/thredds/catalog/model-rap130/202305/20230501/catalog.html?dataset=rap130/202305/20230501/rap_130_20230501_0300_035.grb2\n"
     ]
    },
    {
     "name": "stderr",
     "output_type": "stream",
     "text": [
      "C:\\Users\\Tony\\anaconda3\\lib\\site-packages\\siphon\\catalog.py:292: UserWarning: URL https://www.ncei.noaa.gov/thredds/catalog/model-rap130/202305/20230501/catalog.html?dataset=rap130/202305/20230501/rap_130_20230501_0300_035.grb2 returned HTML. Changing to: https://www.ncei.noaa.gov/thredds/catalog/model-rap130/202305/20230501/catalog.xml?dataset=rap130/202305/20230501/rap_130_20230501_0300_035.grb2\n",
      "  warnings.warn('URL {} returned HTML. Changing to: {}'.format(self.catalog_url,\n"
     ]
    },
    {
     "name": "stdout",
     "output_type": "stream",
     "text": [
      "{'Pressure_zeroDegC_isotherm', 'Geopotential_height_UnknownLevelType-14', 'Vertical_velocity_pressure_isobaric', 'Convective_inhibition_surface', 'Baseflow-groundwater_runoff_surface_1_Hour_Accumulation', 'Total_precipitation_surface_Mixed_intervals_Accumulation', 'U-Component_Storm_Motion_height_above_ground_layer', 'Temperature_surface', 'Water_equivalent_of_accumulated_snow_depth_surface', 'Dewpoint_temperature_height_above_ground', 'Mass_density_concentration_height_above_ground', 'Total_snowfall_surface_35_Hour_Accumulation', 'Snow_depth_surface', 'v-component_of_wind_maximum_wind', 'Geopotential_height_isotherm', 'Pseudo-adiabatic_potential_temperature_or_equivalent_potential_temperature_surface', 'Temperature_height_above_ground', 'u-component_of_wind_height_above_ground', 'Geopotential_height_highest_tropospheric_freezing', 'MSLP_MAPS_System_Reduction_msl', 'Freezing_Rain_surface_35_Hour_Accumulation', 'Vertical_velocity_pressure_pressure_difference_layer', 'u-component_of_wind_isobaric', 'Geopotential_height_surface', 'Storm_surface_runoff_surface_1_Hour_Accumulation', 'Wind_speed_gust_surface', 'Dewpoint_depression_or_deficit_height_above_ground', 'Total_cloud_cover_entire_atmosphere', 'Pressure_height_above_ground', 'Geopotential_height_cloud_tops', 'Best_4_layer_Lifted_Index_pressure_difference_layer', 'Simulated_Brightness_Temperature_for_GOES_11_Channel_4_atmosphere_top', 'v-component_of_wind_height_above_ground', 'v-component_of_wind_pressure_difference_layer', 'Echo_top_entire_atmosphere_single_layer', 'Medium_cloud_cover_middle_cloud', 'Moisture_Availability_depth_below_surface', 'Geopotential_height_equilibrium', 'Critical_Angle_height_above_ground_layer', 'Vertical_u-component_shear_height_above_ground_layer', 'Vertical_v-component_shear_height_above_ground_layer', 'Convective_inhibition_pressure_difference_layer', 'Composite_reflectivity_entire_atmosphere', 'Categorical_Freezing_Rain_surface', 'Low_cloud_cover_low_cloud', 'Enhanced_Stretching_Potential_height_above_ground_layer', 'Categorical_Rain_surface', 'Frozen_Rain_surface_Mixed_intervals_Accumulation', 'Convective_available_potential_energy_height_above_ground_layer', 'Pressure_surface', 'Potential_temperature_tropopause', 'v-component_of_wind_tropopause', 'Relative_humidity_highest_tropospheric_freezing', 'Categorical_Ice_Pellets_surface', 'u-component_of_wind_maximum_wind', 'Layer_Thickness_isotherm_layer', 'Precipitable_water_entire_atmosphere_single_layer', 'Geopotential_height_isobaric', 'Relative_humidity_pressure_difference_layer', 'Lightning_surface', 'Planetary_Boundary_Layer_Height_surface', 'Relative_humidity_zeroDegC_isotherm', 'Simulated_Brightness_Temperature_for_GOES_12_Channel_4_atmosphere_top', 'v-component_of_wind_isobaric', 'Total_cloud_cover_boundary_layer_cloud', 'u-component_of_wind_tropopause', 'Temperature_isobaric', 'Potential_temperature_height_above_ground', 'Geopotential_height_zeroDegC_isotherm', 'u-component_of_wind_pressure_difference_layer', 'Geopotential_height_cloud_ceiling', 'Geopotential_height_cloud_base', 'Pressure_highest_tropospheric_freezing', 'Surface_Lifted_Index_isobaric_layer', 'Temperature_pressure_difference_layer', 'Simulated_Brightness_Temperature_for_GOES_11_Channel_3_atmosphere_top', 'Geopotential_height_convective_cloud_top', 'Precipitation_rate_surface', 'Storm_relative_helicity_height_above_ground_layer', 'V-Component_Storm_Motion_height_above_ground_layer', 'Haines_index_surface', 'Pressure_maximum_wind', 'Simulated_Brightness_Temperature_for_GOES_12_Channel_3_atmosphere_top', 'Aerosol_optical_thickness_entire_atmosphere_single_layer', 'Visibility_surface', 'Relative_humidity_isobaric', 'Convective_available_potential_energy_pressure_difference_layer', 'Water_equivalent_of_accumulated_snow_depth_surface_Mixed_intervals_Accumulation', 'Geopotential_height_lowest_level_of_the_wet_bulb_zero', 'Convective_available_potential_energy_surface', 'Relative_Humidity_with_Respect_to_Precipitable_Water_entire_atmosphere', 'Categorical_Snow_surface', 'Absolute_vorticity_isobaric', 'Temperature_tropopause', 'Convective_precipitation_surface_Mixed_intervals_Accumulation', 'Effective_Storm_Relative_Helicity_surface', 'Reflectivity_height_above_ground', 'Relative_humidity_height_above_ground', 'High_cloud_cover_high_cloud', 'Pressure_of_level_from_which_parcel_was_lifted_pressure_difference_layer', 'Geopotential_height_planetary_boundary', 'Pressure_tropopause', 'Specific_humidity_height_above_ground'}\n"
     ]
    },
    {
     "name": "stderr",
     "output_type": "stream",
     "text": [
      "C:\\Users\\Tony\\anaconda3\\lib\\site-packages\\metpy\\calc\\thermo.py:1078: UserWarning: Relative humidity >120%, ensure proper units.\n",
      "  warnings.warn('Relative humidity >120%, ensure proper units.')\n",
      "C:\\Users\\Tony\\anaconda3\\lib\\site-packages\\metpy\\calc\\thermo.py:1078: UserWarning: Relative humidity >120%, ensure proper units.\n",
      "  warnings.warn('Relative humidity >120%, ensure proper units.')\n",
      "C:\\Users\\Tony\\anaconda3\\lib\\site-packages\\metpy\\calc\\thermo.py:1078: UserWarning: Relative humidity >120%, ensure proper units.\n",
      "  warnings.warn('Relative humidity >120%, ensure proper units.')\n"
     ]
    },
    {
     "name": "stdout",
     "output_type": "stream",
     "text": [
      "https://www.ncei.noaa.gov/thredds/catalog/model-rap130/202305/20230501/catalog.html?dataset=rap130/202305/20230501/rap_130_20230501_0300_036.grb2\n"
     ]
    },
    {
     "name": "stderr",
     "output_type": "stream",
     "text": [
      "C:\\Users\\Tony\\anaconda3\\lib\\site-packages\\siphon\\catalog.py:292: UserWarning: URL https://www.ncei.noaa.gov/thredds/catalog/model-rap130/202305/20230501/catalog.html?dataset=rap130/202305/20230501/rap_130_20230501_0300_036.grb2 returned HTML. Changing to: https://www.ncei.noaa.gov/thredds/catalog/model-rap130/202305/20230501/catalog.xml?dataset=rap130/202305/20230501/rap_130_20230501_0300_036.grb2\n",
      "  warnings.warn('URL {} returned HTML. Changing to: {}'.format(self.catalog_url,\n"
     ]
    },
    {
     "name": "stdout",
     "output_type": "stream",
     "text": [
      "{'Pressure_zeroDegC_isotherm', 'Geopotential_height_UnknownLevelType-14', 'Vertical_velocity_pressure_isobaric', 'Convective_inhibition_surface', 'Total_precipitation_surface_Mixed_intervals_Accumulation', 'Baseflow-groundwater_runoff_surface_1_Hour_Accumulation', 'U-Component_Storm_Motion_height_above_ground_layer', 'Temperature_surface', 'Water_equivalent_of_accumulated_snow_depth_surface', 'Dewpoint_temperature_height_above_ground', 'Mass_density_concentration_height_above_ground', 'Snow_depth_surface', 'v-component_of_wind_maximum_wind', 'Geopotential_height_isotherm', 'Pseudo-adiabatic_potential_temperature_or_equivalent_potential_temperature_surface', 'Temperature_height_above_ground', 'u-component_of_wind_height_above_ground', 'Geopotential_height_highest_tropospheric_freezing', 'MSLP_MAPS_System_Reduction_msl', 'Vertical_velocity_pressure_pressure_difference_layer', 'u-component_of_wind_isobaric', 'Geopotential_height_surface', 'Storm_surface_runoff_surface_1_Hour_Accumulation', 'Wind_speed_gust_surface', 'Dewpoint_depression_or_deficit_height_above_ground', 'Total_cloud_cover_entire_atmosphere', 'Pressure_height_above_ground', 'Geopotential_height_cloud_tops', 'Best_4_layer_Lifted_Index_pressure_difference_layer', 'Simulated_Brightness_Temperature_for_GOES_11_Channel_4_atmosphere_top', 'v-component_of_wind_height_above_ground', 'v-component_of_wind_pressure_difference_layer', 'Echo_top_entire_atmosphere_single_layer', 'Medium_cloud_cover_middle_cloud', 'Moisture_Availability_depth_below_surface', 'Geopotential_height_equilibrium', 'Critical_Angle_height_above_ground_layer', 'Vertical_u-component_shear_height_above_ground_layer', 'Vertical_v-component_shear_height_above_ground_layer', 'Convective_inhibition_pressure_difference_layer', 'Composite_reflectivity_entire_atmosphere', 'Categorical_Freezing_Rain_surface', 'Low_cloud_cover_low_cloud', 'Enhanced_Stretching_Potential_height_above_ground_layer', 'Categorical_Rain_surface', 'Frozen_Rain_surface_Mixed_intervals_Accumulation', 'Convective_available_potential_energy_height_above_ground_layer', 'Pressure_surface', 'Potential_temperature_tropopause', 'v-component_of_wind_tropopause', 'Relative_humidity_highest_tropospheric_freezing', 'Categorical_Ice_Pellets_surface', 'u-component_of_wind_maximum_wind', 'Layer_Thickness_isotherm_layer', 'Precipitable_water_entire_atmosphere_single_layer', 'Geopotential_height_isobaric', 'Relative_humidity_pressure_difference_layer', 'Lightning_surface', 'Planetary_Boundary_Layer_Height_surface', 'Relative_humidity_zeroDegC_isotherm', 'Simulated_Brightness_Temperature_for_GOES_12_Channel_4_atmosphere_top', 'v-component_of_wind_isobaric', 'Total_cloud_cover_boundary_layer_cloud', 'u-component_of_wind_tropopause', 'Temperature_isobaric', 'Potential_temperature_height_above_ground', 'Geopotential_height_zeroDegC_isotherm', 'u-component_of_wind_pressure_difference_layer', 'Geopotential_height_cloud_ceiling', 'Geopotential_height_cloud_base', 'Pressure_highest_tropospheric_freezing', 'Surface_Lifted_Index_isobaric_layer', 'Temperature_pressure_difference_layer', 'Simulated_Brightness_Temperature_for_GOES_11_Channel_3_atmosphere_top', 'Geopotential_height_convective_cloud_top', 'Precipitation_rate_surface', 'Storm_relative_helicity_height_above_ground_layer', 'V-Component_Storm_Motion_height_above_ground_layer', 'Haines_index_surface', 'Pressure_maximum_wind', 'Simulated_Brightness_Temperature_for_GOES_12_Channel_3_atmosphere_top', 'Aerosol_optical_thickness_entire_atmosphere_single_layer', 'Visibility_surface', 'Relative_humidity_isobaric', 'Convective_available_potential_energy_pressure_difference_layer', 'Total_snowfall_surface_36_Hour_Accumulation', 'Water_equivalent_of_accumulated_snow_depth_surface_Mixed_intervals_Accumulation', 'Geopotential_height_lowest_level_of_the_wet_bulb_zero', 'Convective_available_potential_energy_surface', 'Relative_Humidity_with_Respect_to_Precipitable_Water_entire_atmosphere', 'Categorical_Snow_surface', 'Absolute_vorticity_isobaric', 'Temperature_tropopause', 'Convective_precipitation_surface_Mixed_intervals_Accumulation', 'Effective_Storm_Relative_Helicity_surface', 'Reflectivity_height_above_ground', 'Relative_humidity_height_above_ground', 'High_cloud_cover_high_cloud', 'Pressure_of_level_from_which_parcel_was_lifted_pressure_difference_layer', 'Freezing_Rain_surface_36_Hour_Accumulation', 'Geopotential_height_planetary_boundary', 'Pressure_tropopause', 'Specific_humidity_height_above_ground'}\n"
     ]
    },
    {
     "name": "stderr",
     "output_type": "stream",
     "text": [
      "C:\\Users\\Tony\\anaconda3\\lib\\site-packages\\metpy\\calc\\thermo.py:1078: UserWarning: Relative humidity >120%, ensure proper units.\n",
      "  warnings.warn('Relative humidity >120%, ensure proper units.')\n",
      "C:\\Users\\Tony\\anaconda3\\lib\\site-packages\\metpy\\calc\\thermo.py:1078: UserWarning: Relative humidity >120%, ensure proper units.\n",
      "  warnings.warn('Relative humidity >120%, ensure proper units.')\n",
      "C:\\Users\\Tony\\anaconda3\\lib\\site-packages\\metpy\\calc\\thermo.py:1078: UserWarning: Relative humidity >120%, ensure proper units.\n",
      "  warnings.warn('Relative humidity >120%, ensure proper units.')\n"
     ]
    },
    {
     "name": "stdout",
     "output_type": "stream",
     "text": [
      "https://www.ncei.noaa.gov/thredds/catalog/model-rap130/202305/20230501/catalog.html?dataset=rap130/202305/20230501/rap_130_20230501_0300_037.grb2\n"
     ]
    },
    {
     "name": "stderr",
     "output_type": "stream",
     "text": [
      "C:\\Users\\Tony\\anaconda3\\lib\\site-packages\\siphon\\catalog.py:292: UserWarning: URL https://www.ncei.noaa.gov/thredds/catalog/model-rap130/202305/20230501/catalog.html?dataset=rap130/202305/20230501/rap_130_20230501_0300_037.grb2 returned HTML. Changing to: https://www.ncei.noaa.gov/thredds/catalog/model-rap130/202305/20230501/catalog.xml?dataset=rap130/202305/20230501/rap_130_20230501_0300_037.grb2\n",
      "  warnings.warn('URL {} returned HTML. Changing to: {}'.format(self.catalog_url,\n"
     ]
    },
    {
     "name": "stdout",
     "output_type": "stream",
     "text": [
      "{'Pressure_zeroDegC_isotherm', 'Geopotential_height_UnknownLevelType-14', 'Vertical_velocity_pressure_isobaric', 'Convective_inhibition_surface', 'Baseflow-groundwater_runoff_surface_1_Hour_Accumulation', 'Total_precipitation_surface_Mixed_intervals_Accumulation', 'U-Component_Storm_Motion_height_above_ground_layer', 'Temperature_surface', 'Water_equivalent_of_accumulated_snow_depth_surface', 'Dewpoint_temperature_height_above_ground', 'Mass_density_concentration_height_above_ground', 'Snow_depth_surface', 'v-component_of_wind_maximum_wind', 'Geopotential_height_isotherm', 'Pseudo-adiabatic_potential_temperature_or_equivalent_potential_temperature_surface', 'Temperature_height_above_ground', 'u-component_of_wind_height_above_ground', 'Geopotential_height_highest_tropospheric_freezing', 'MSLP_MAPS_System_Reduction_msl', 'Vertical_velocity_pressure_pressure_difference_layer', 'u-component_of_wind_isobaric', 'Geopotential_height_surface', 'Storm_surface_runoff_surface_1_Hour_Accumulation', 'Wind_speed_gust_surface', 'Dewpoint_depression_or_deficit_height_above_ground', 'Total_cloud_cover_entire_atmosphere', 'Pressure_height_above_ground', 'Geopotential_height_cloud_tops', 'Best_4_layer_Lifted_Index_pressure_difference_layer', 'Simulated_Brightness_Temperature_for_GOES_11_Channel_4_atmosphere_top', 'v-component_of_wind_height_above_ground', 'v-component_of_wind_pressure_difference_layer', 'Echo_top_entire_atmosphere_single_layer', 'Medium_cloud_cover_middle_cloud', 'Moisture_Availability_depth_below_surface', 'Geopotential_height_equilibrium', 'Critical_Angle_height_above_ground_layer', 'Vertical_u-component_shear_height_above_ground_layer', 'Vertical_v-component_shear_height_above_ground_layer', 'Convective_inhibition_pressure_difference_layer', 'Composite_reflectivity_entire_atmosphere', 'Categorical_Freezing_Rain_surface', 'Low_cloud_cover_low_cloud', 'Enhanced_Stretching_Potential_height_above_ground_layer', 'Categorical_Rain_surface', 'Frozen_Rain_surface_Mixed_intervals_Accumulation', 'Convective_available_potential_energy_height_above_ground_layer', 'Pressure_surface', 'Potential_temperature_tropopause', 'v-component_of_wind_tropopause', 'Relative_humidity_highest_tropospheric_freezing', 'Categorical_Ice_Pellets_surface', 'u-component_of_wind_maximum_wind', 'Layer_Thickness_isotherm_layer', 'Precipitable_water_entire_atmosphere_single_layer', 'Geopotential_height_isobaric', 'Total_snowfall_surface_37_Hour_Accumulation', 'Relative_humidity_pressure_difference_layer', 'Lightning_surface', 'Planetary_Boundary_Layer_Height_surface', 'Relative_humidity_zeroDegC_isotherm', 'Simulated_Brightness_Temperature_for_GOES_12_Channel_4_atmosphere_top', 'v-component_of_wind_isobaric', 'Total_cloud_cover_boundary_layer_cloud', 'u-component_of_wind_tropopause', 'Temperature_isobaric', 'Potential_temperature_height_above_ground', 'Geopotential_height_zeroDegC_isotherm', 'u-component_of_wind_pressure_difference_layer', 'Geopotential_height_cloud_ceiling', 'Geopotential_height_cloud_base', 'Pressure_highest_tropospheric_freezing', 'Surface_Lifted_Index_isobaric_layer', 'Temperature_pressure_difference_layer', 'Simulated_Brightness_Temperature_for_GOES_11_Channel_3_atmosphere_top', 'Geopotential_height_convective_cloud_top', 'Precipitation_rate_surface', 'Storm_relative_helicity_height_above_ground_layer', 'V-Component_Storm_Motion_height_above_ground_layer', 'Haines_index_surface', 'Pressure_maximum_wind', 'Simulated_Brightness_Temperature_for_GOES_12_Channel_3_atmosphere_top', 'Aerosol_optical_thickness_entire_atmosphere_single_layer', 'Visibility_surface', 'Relative_humidity_isobaric', 'Convective_available_potential_energy_pressure_difference_layer', 'Freezing_Rain_surface_37_Hour_Accumulation', 'Water_equivalent_of_accumulated_snow_depth_surface_Mixed_intervals_Accumulation', 'Geopotential_height_lowest_level_of_the_wet_bulb_zero', 'Convective_available_potential_energy_surface', 'Relative_Humidity_with_Respect_to_Precipitable_Water_entire_atmosphere', 'Categorical_Snow_surface', 'Absolute_vorticity_isobaric', 'Temperature_tropopause', 'Convective_precipitation_surface_Mixed_intervals_Accumulation', 'Effective_Storm_Relative_Helicity_surface', 'Reflectivity_height_above_ground', 'Relative_humidity_height_above_ground', 'High_cloud_cover_high_cloud', 'Pressure_of_level_from_which_parcel_was_lifted_pressure_difference_layer', 'Geopotential_height_planetary_boundary', 'Pressure_tropopause', 'Specific_humidity_height_above_ground'}\n"
     ]
    },
    {
     "name": "stderr",
     "output_type": "stream",
     "text": [
      "C:\\Users\\Tony\\anaconda3\\lib\\site-packages\\metpy\\calc\\thermo.py:1078: UserWarning: Relative humidity >120%, ensure proper units.\n",
      "  warnings.warn('Relative humidity >120%, ensure proper units.')\n",
      "C:\\Users\\Tony\\anaconda3\\lib\\site-packages\\metpy\\calc\\thermo.py:1078: UserWarning: Relative humidity >120%, ensure proper units.\n",
      "  warnings.warn('Relative humidity >120%, ensure proper units.')\n",
      "C:\\Users\\Tony\\anaconda3\\lib\\site-packages\\metpy\\calc\\thermo.py:1078: UserWarning: Relative humidity >120%, ensure proper units.\n",
      "  warnings.warn('Relative humidity >120%, ensure proper units.')\n"
     ]
    },
    {
     "name": "stdout",
     "output_type": "stream",
     "text": [
      "https://www.ncei.noaa.gov/thredds/catalog/model-rap130/202305/20230501/catalog.html?dataset=rap130/202305/20230501/rap_130_20230501_0300_038.grb2\n"
     ]
    },
    {
     "name": "stderr",
     "output_type": "stream",
     "text": [
      "C:\\Users\\Tony\\anaconda3\\lib\\site-packages\\siphon\\catalog.py:292: UserWarning: URL https://www.ncei.noaa.gov/thredds/catalog/model-rap130/202305/20230501/catalog.html?dataset=rap130/202305/20230501/rap_130_20230501_0300_038.grb2 returned HTML. Changing to: https://www.ncei.noaa.gov/thredds/catalog/model-rap130/202305/20230501/catalog.xml?dataset=rap130/202305/20230501/rap_130_20230501_0300_038.grb2\n",
      "  warnings.warn('URL {} returned HTML. Changing to: {}'.format(self.catalog_url,\n"
     ]
    },
    {
     "name": "stdout",
     "output_type": "stream",
     "text": [
      "{'Pressure_zeroDegC_isotherm', 'Geopotential_height_UnknownLevelType-14', 'Vertical_velocity_pressure_isobaric', 'Total_precipitation_surface_Mixed_intervals_Accumulation', 'Baseflow-groundwater_runoff_surface_1_Hour_Accumulation', 'Convective_inhibition_surface', 'U-Component_Storm_Motion_height_above_ground_layer', 'Temperature_surface', 'Water_equivalent_of_accumulated_snow_depth_surface', 'Dewpoint_temperature_height_above_ground', 'Mass_density_concentration_height_above_ground', 'Snow_depth_surface', 'v-component_of_wind_maximum_wind', 'Geopotential_height_isotherm', 'Pseudo-adiabatic_potential_temperature_or_equivalent_potential_temperature_surface', 'Temperature_height_above_ground', 'u-component_of_wind_height_above_ground', 'Geopotential_height_highest_tropospheric_freezing', 'MSLP_MAPS_System_Reduction_msl', 'Vertical_velocity_pressure_pressure_difference_layer', 'u-component_of_wind_isobaric', 'Geopotential_height_surface', 'Storm_surface_runoff_surface_1_Hour_Accumulation', 'Wind_speed_gust_surface', 'Dewpoint_depression_or_deficit_height_above_ground', 'Total_cloud_cover_entire_atmosphere', 'Pressure_height_above_ground', 'Geopotential_height_cloud_tops', 'Best_4_layer_Lifted_Index_pressure_difference_layer', 'Simulated_Brightness_Temperature_for_GOES_11_Channel_4_atmosphere_top', 'v-component_of_wind_height_above_ground', 'v-component_of_wind_pressure_difference_layer', 'Echo_top_entire_atmosphere_single_layer', 'Medium_cloud_cover_middle_cloud', 'Moisture_Availability_depth_below_surface', 'Geopotential_height_equilibrium', 'Critical_Angle_height_above_ground_layer', 'Vertical_u-component_shear_height_above_ground_layer', 'Vertical_v-component_shear_height_above_ground_layer', 'Convective_inhibition_pressure_difference_layer', 'Composite_reflectivity_entire_atmosphere', 'Categorical_Freezing_Rain_surface', 'Low_cloud_cover_low_cloud', 'Enhanced_Stretching_Potential_height_above_ground_layer', 'Categorical_Rain_surface', 'Total_snowfall_surface_38_Hour_Accumulation', 'Frozen_Rain_surface_Mixed_intervals_Accumulation', 'Convective_available_potential_energy_height_above_ground_layer', 'Pressure_surface', 'Potential_temperature_tropopause', 'v-component_of_wind_tropopause', 'Relative_humidity_highest_tropospheric_freezing', 'Categorical_Ice_Pellets_surface', 'Freezing_Rain_surface_38_Hour_Accumulation', 'u-component_of_wind_maximum_wind', 'Layer_Thickness_isotherm_layer', 'Precipitable_water_entire_atmosphere_single_layer', 'Geopotential_height_isobaric', 'Relative_humidity_pressure_difference_layer', 'Lightning_surface', 'Planetary_Boundary_Layer_Height_surface', 'Relative_humidity_zeroDegC_isotherm', 'Simulated_Brightness_Temperature_for_GOES_12_Channel_4_atmosphere_top', 'v-component_of_wind_isobaric', 'Total_cloud_cover_boundary_layer_cloud', 'u-component_of_wind_tropopause', 'Temperature_isobaric', 'Potential_temperature_height_above_ground', 'Geopotential_height_zeroDegC_isotherm', 'u-component_of_wind_pressure_difference_layer', 'Geopotential_height_cloud_ceiling', 'Geopotential_height_cloud_base', 'Pressure_highest_tropospheric_freezing', 'Surface_Lifted_Index_isobaric_layer', 'Temperature_pressure_difference_layer', 'Simulated_Brightness_Temperature_for_GOES_11_Channel_3_atmosphere_top', 'Geopotential_height_convective_cloud_top', 'Precipitation_rate_surface', 'Storm_relative_helicity_height_above_ground_layer', 'V-Component_Storm_Motion_height_above_ground_layer', 'Haines_index_surface', 'Pressure_maximum_wind', 'Simulated_Brightness_Temperature_for_GOES_12_Channel_3_atmosphere_top', 'Aerosol_optical_thickness_entire_atmosphere_single_layer', 'Visibility_surface', 'Relative_humidity_isobaric', 'Convective_available_potential_energy_pressure_difference_layer', 'Water_equivalent_of_accumulated_snow_depth_surface_Mixed_intervals_Accumulation', 'Geopotential_height_lowest_level_of_the_wet_bulb_zero', 'Convective_available_potential_energy_surface', 'Relative_Humidity_with_Respect_to_Precipitable_Water_entire_atmosphere', 'Categorical_Snow_surface', 'Absolute_vorticity_isobaric', 'Convective_precipitation_surface_Mixed_intervals_Accumulation', 'Temperature_tropopause', 'Effective_Storm_Relative_Helicity_surface', 'Reflectivity_height_above_ground', 'Relative_humidity_height_above_ground', 'High_cloud_cover_high_cloud', 'Pressure_of_level_from_which_parcel_was_lifted_pressure_difference_layer', 'Geopotential_height_planetary_boundary', 'Pressure_tropopause', 'Specific_humidity_height_above_ground'}\n"
     ]
    },
    {
     "name": "stderr",
     "output_type": "stream",
     "text": [
      "C:\\Users\\Tony\\anaconda3\\lib\\site-packages\\metpy\\calc\\thermo.py:1078: UserWarning: Relative humidity >120%, ensure proper units.\n",
      "  warnings.warn('Relative humidity >120%, ensure proper units.')\n",
      "C:\\Users\\Tony\\anaconda3\\lib\\site-packages\\metpy\\calc\\thermo.py:1078: UserWarning: Relative humidity >120%, ensure proper units.\n",
      "  warnings.warn('Relative humidity >120%, ensure proper units.')\n",
      "C:\\Users\\Tony\\anaconda3\\lib\\site-packages\\metpy\\calc\\thermo.py:1078: UserWarning: Relative humidity >120%, ensure proper units.\n",
      "  warnings.warn('Relative humidity >120%, ensure proper units.')\n"
     ]
    },
    {
     "name": "stdout",
     "output_type": "stream",
     "text": [
      "https://www.ncei.noaa.gov/thredds/catalog/model-rap130/202305/20230501/catalog.html?dataset=rap130/202305/20230501/rap_130_20230501_0300_039.grb2\n"
     ]
    },
    {
     "name": "stderr",
     "output_type": "stream",
     "text": [
      "C:\\Users\\Tony\\anaconda3\\lib\\site-packages\\siphon\\catalog.py:292: UserWarning: URL https://www.ncei.noaa.gov/thredds/catalog/model-rap130/202305/20230501/catalog.html?dataset=rap130/202305/20230501/rap_130_20230501_0300_039.grb2 returned HTML. Changing to: https://www.ncei.noaa.gov/thredds/catalog/model-rap130/202305/20230501/catalog.xml?dataset=rap130/202305/20230501/rap_130_20230501_0300_039.grb2\n",
      "  warnings.warn('URL {} returned HTML. Changing to: {}'.format(self.catalog_url,\n"
     ]
    },
    {
     "name": "stdout",
     "output_type": "stream",
     "text": [
      "{'Pressure_zeroDegC_isotherm', 'Geopotential_height_UnknownLevelType-14', 'Vertical_velocity_pressure_isobaric', 'Total_precipitation_surface_Mixed_intervals_Accumulation', 'Baseflow-groundwater_runoff_surface_1_Hour_Accumulation', 'Convective_inhibition_surface', 'Total_snowfall_surface_39_Hour_Accumulation', 'U-Component_Storm_Motion_height_above_ground_layer', 'Temperature_surface', 'Water_equivalent_of_accumulated_snow_depth_surface', 'Dewpoint_temperature_height_above_ground', 'Mass_density_concentration_height_above_ground', 'Snow_depth_surface', 'v-component_of_wind_maximum_wind', 'Geopotential_height_isotherm', 'Pseudo-adiabatic_potential_temperature_or_equivalent_potential_temperature_surface', 'Temperature_height_above_ground', 'u-component_of_wind_height_above_ground', 'Geopotential_height_highest_tropospheric_freezing', 'MSLP_MAPS_System_Reduction_msl', 'Vertical_velocity_pressure_pressure_difference_layer', 'u-component_of_wind_isobaric', 'Geopotential_height_surface', 'Storm_surface_runoff_surface_1_Hour_Accumulation', 'Wind_speed_gust_surface', 'Dewpoint_depression_or_deficit_height_above_ground', 'Total_cloud_cover_entire_atmosphere', 'Pressure_height_above_ground', 'Geopotential_height_cloud_tops', 'Best_4_layer_Lifted_Index_pressure_difference_layer', 'Simulated_Brightness_Temperature_for_GOES_11_Channel_4_atmosphere_top', 'v-component_of_wind_height_above_ground', 'v-component_of_wind_pressure_difference_layer', 'Echo_top_entire_atmosphere_single_layer', 'Medium_cloud_cover_middle_cloud', 'Moisture_Availability_depth_below_surface', 'Geopotential_height_equilibrium', 'Critical_Angle_height_above_ground_layer', 'Vertical_u-component_shear_height_above_ground_layer', 'Vertical_v-component_shear_height_above_ground_layer', 'Convective_inhibition_pressure_difference_layer', 'Composite_reflectivity_entire_atmosphere', 'Categorical_Freezing_Rain_surface', 'Low_cloud_cover_low_cloud', 'Enhanced_Stretching_Potential_height_above_ground_layer', 'Categorical_Rain_surface', 'Frozen_Rain_surface_Mixed_intervals_Accumulation', 'Convective_available_potential_energy_height_above_ground_layer', 'Pressure_surface', 'Potential_temperature_tropopause', 'v-component_of_wind_tropopause', 'Relative_humidity_highest_tropospheric_freezing', 'Categorical_Ice_Pellets_surface', 'u-component_of_wind_maximum_wind', 'Layer_Thickness_isotherm_layer', 'Precipitable_water_entire_atmosphere_single_layer', 'Geopotential_height_isobaric', 'Relative_humidity_pressure_difference_layer', 'Lightning_surface', 'Planetary_Boundary_Layer_Height_surface', 'Relative_humidity_zeroDegC_isotherm', 'Simulated_Brightness_Temperature_for_GOES_12_Channel_4_atmosphere_top', 'v-component_of_wind_isobaric', 'Total_cloud_cover_boundary_layer_cloud', 'u-component_of_wind_tropopause', 'Temperature_isobaric', 'Potential_temperature_height_above_ground', 'Geopotential_height_zeroDegC_isotherm', 'u-component_of_wind_pressure_difference_layer', 'Geopotential_height_cloud_ceiling', 'Geopotential_height_cloud_base', 'Pressure_highest_tropospheric_freezing', 'Surface_Lifted_Index_isobaric_layer', 'Temperature_pressure_difference_layer', 'Simulated_Brightness_Temperature_for_GOES_11_Channel_3_atmosphere_top', 'Geopotential_height_convective_cloud_top', 'Precipitation_rate_surface', 'Storm_relative_helicity_height_above_ground_layer', 'V-Component_Storm_Motion_height_above_ground_layer', 'Haines_index_surface', 'Pressure_maximum_wind', 'Simulated_Brightness_Temperature_for_GOES_12_Channel_3_atmosphere_top', 'Aerosol_optical_thickness_entire_atmosphere_single_layer', 'Visibility_surface', 'Relative_humidity_isobaric', 'Convective_available_potential_energy_pressure_difference_layer', 'Water_equivalent_of_accumulated_snow_depth_surface_Mixed_intervals_Accumulation', 'Geopotential_height_lowest_level_of_the_wet_bulb_zero', 'Convective_available_potential_energy_surface', 'Relative_Humidity_with_Respect_to_Precipitable_Water_entire_atmosphere', 'Categorical_Snow_surface', 'Absolute_vorticity_isobaric', 'Convective_precipitation_surface_Mixed_intervals_Accumulation', 'Temperature_tropopause', 'Effective_Storm_Relative_Helicity_surface', 'Reflectivity_height_above_ground', 'Relative_humidity_height_above_ground', 'Freezing_Rain_surface_39_Hour_Accumulation', 'High_cloud_cover_high_cloud', 'Pressure_of_level_from_which_parcel_was_lifted_pressure_difference_layer', 'Geopotential_height_planetary_boundary', 'Pressure_tropopause', 'Specific_humidity_height_above_ground'}\n"
     ]
    },
    {
     "name": "stderr",
     "output_type": "stream",
     "text": [
      "C:\\Users\\Tony\\anaconda3\\lib\\site-packages\\metpy\\calc\\thermo.py:1078: UserWarning: Relative humidity >120%, ensure proper units.\n",
      "  warnings.warn('Relative humidity >120%, ensure proper units.')\n",
      "C:\\Users\\Tony\\anaconda3\\lib\\site-packages\\metpy\\calc\\thermo.py:1078: UserWarning: Relative humidity >120%, ensure proper units.\n",
      "  warnings.warn('Relative humidity >120%, ensure proper units.')\n",
      "C:\\Users\\Tony\\anaconda3\\lib\\site-packages\\metpy\\calc\\thermo.py:1078: UserWarning: Relative humidity >120%, ensure proper units.\n",
      "  warnings.warn('Relative humidity >120%, ensure proper units.')\n"
     ]
    },
    {
     "name": "stdout",
     "output_type": "stream",
     "text": [
      "https://www.ncei.noaa.gov/thredds/catalog/model-rap130/202305/20230501/catalog.html?dataset=rap130/202305/20230501/rap_130_20230501_0300_040.grb2\n"
     ]
    },
    {
     "name": "stderr",
     "output_type": "stream",
     "text": [
      "C:\\Users\\Tony\\anaconda3\\lib\\site-packages\\siphon\\catalog.py:292: UserWarning: URL https://www.ncei.noaa.gov/thredds/catalog/model-rap130/202305/20230501/catalog.html?dataset=rap130/202305/20230501/rap_130_20230501_0300_040.grb2 returned HTML. Changing to: https://www.ncei.noaa.gov/thredds/catalog/model-rap130/202305/20230501/catalog.xml?dataset=rap130/202305/20230501/rap_130_20230501_0300_040.grb2\n",
      "  warnings.warn('URL {} returned HTML. Changing to: {}'.format(self.catalog_url,\n"
     ]
    },
    {
     "name": "stdout",
     "output_type": "stream",
     "text": [
      "{'Pressure_zeroDegC_isotherm', 'Geopotential_height_UnknownLevelType-14', 'Vertical_velocity_pressure_isobaric', 'Total_precipitation_surface_Mixed_intervals_Accumulation', 'Baseflow-groundwater_runoff_surface_1_Hour_Accumulation', 'Convective_inhibition_surface', 'U-Component_Storm_Motion_height_above_ground_layer', 'Temperature_surface', 'Water_equivalent_of_accumulated_snow_depth_surface', 'Dewpoint_temperature_height_above_ground', 'Mass_density_concentration_height_above_ground', 'Snow_depth_surface', 'v-component_of_wind_maximum_wind', 'Geopotential_height_isotherm', 'Pseudo-adiabatic_potential_temperature_or_equivalent_potential_temperature_surface', 'Temperature_height_above_ground', 'u-component_of_wind_height_above_ground', 'Geopotential_height_highest_tropospheric_freezing', 'MSLP_MAPS_System_Reduction_msl', 'Vertical_velocity_pressure_pressure_difference_layer', 'u-component_of_wind_isobaric', 'Geopotential_height_surface', 'Storm_surface_runoff_surface_1_Hour_Accumulation', 'Freezing_Rain_surface_40_Hour_Accumulation', 'Wind_speed_gust_surface', 'Dewpoint_depression_or_deficit_height_above_ground', 'Total_cloud_cover_entire_atmosphere', 'Pressure_height_above_ground', 'Geopotential_height_cloud_tops', 'Best_4_layer_Lifted_Index_pressure_difference_layer', 'Simulated_Brightness_Temperature_for_GOES_11_Channel_4_atmosphere_top', 'v-component_of_wind_height_above_ground', 'v-component_of_wind_pressure_difference_layer', 'Echo_top_entire_atmosphere_single_layer', 'Medium_cloud_cover_middle_cloud', 'Moisture_Availability_depth_below_surface', 'Geopotential_height_equilibrium', 'Critical_Angle_height_above_ground_layer', 'Vertical_u-component_shear_height_above_ground_layer', 'Vertical_v-component_shear_height_above_ground_layer', 'Convective_inhibition_pressure_difference_layer', 'Composite_reflectivity_entire_atmosphere', 'Categorical_Freezing_Rain_surface', 'Low_cloud_cover_low_cloud', 'Enhanced_Stretching_Potential_height_above_ground_layer', 'Categorical_Rain_surface', 'Frozen_Rain_surface_Mixed_intervals_Accumulation', 'Convective_available_potential_energy_height_above_ground_layer', 'Pressure_surface', 'Potential_temperature_tropopause', 'v-component_of_wind_tropopause', 'Relative_humidity_highest_tropospheric_freezing', 'Categorical_Ice_Pellets_surface', 'u-component_of_wind_maximum_wind', 'Layer_Thickness_isotherm_layer', 'Precipitable_water_entire_atmosphere_single_layer', 'Total_snowfall_surface_40_Hour_Accumulation', 'Geopotential_height_isobaric', 'Relative_humidity_pressure_difference_layer', 'Lightning_surface', 'Planetary_Boundary_Layer_Height_surface', 'Relative_humidity_zeroDegC_isotherm', 'Simulated_Brightness_Temperature_for_GOES_12_Channel_4_atmosphere_top', 'v-component_of_wind_isobaric', 'Total_cloud_cover_boundary_layer_cloud', 'u-component_of_wind_tropopause', 'Temperature_isobaric', 'Potential_temperature_height_above_ground', 'Geopotential_height_zeroDegC_isotherm', 'u-component_of_wind_pressure_difference_layer', 'Geopotential_height_cloud_ceiling', 'Geopotential_height_cloud_base', 'Pressure_highest_tropospheric_freezing', 'Surface_Lifted_Index_isobaric_layer', 'Temperature_pressure_difference_layer', 'Simulated_Brightness_Temperature_for_GOES_11_Channel_3_atmosphere_top', 'Geopotential_height_convective_cloud_top', 'Precipitation_rate_surface', 'Storm_relative_helicity_height_above_ground_layer', 'V-Component_Storm_Motion_height_above_ground_layer', 'Haines_index_surface', 'Pressure_maximum_wind', 'Simulated_Brightness_Temperature_for_GOES_12_Channel_3_atmosphere_top', 'Aerosol_optical_thickness_entire_atmosphere_single_layer', 'Visibility_surface', 'Relative_humidity_isobaric', 'Convective_available_potential_energy_pressure_difference_layer', 'Water_equivalent_of_accumulated_snow_depth_surface_Mixed_intervals_Accumulation', 'Geopotential_height_lowest_level_of_the_wet_bulb_zero', 'Convective_available_potential_energy_surface', 'Relative_Humidity_with_Respect_to_Precipitable_Water_entire_atmosphere', 'Categorical_Snow_surface', 'Absolute_vorticity_isobaric', 'Convective_precipitation_surface_Mixed_intervals_Accumulation', 'Temperature_tropopause', 'Effective_Storm_Relative_Helicity_surface', 'Reflectivity_height_above_ground', 'Relative_humidity_height_above_ground', 'High_cloud_cover_high_cloud', 'Pressure_of_level_from_which_parcel_was_lifted_pressure_difference_layer', 'Geopotential_height_planetary_boundary', 'Pressure_tropopause', 'Specific_humidity_height_above_ground'}\n"
     ]
    },
    {
     "name": "stderr",
     "output_type": "stream",
     "text": [
      "C:\\Users\\Tony\\anaconda3\\lib\\site-packages\\metpy\\calc\\thermo.py:1078: UserWarning: Relative humidity >120%, ensure proper units.\n",
      "  warnings.warn('Relative humidity >120%, ensure proper units.')\n",
      "C:\\Users\\Tony\\anaconda3\\lib\\site-packages\\metpy\\calc\\thermo.py:1078: UserWarning: Relative humidity >120%, ensure proper units.\n",
      "  warnings.warn('Relative humidity >120%, ensure proper units.')\n",
      "C:\\Users\\Tony\\anaconda3\\lib\\site-packages\\metpy\\calc\\thermo.py:1078: UserWarning: Relative humidity >120%, ensure proper units.\n",
      "  warnings.warn('Relative humidity >120%, ensure proper units.')\n"
     ]
    },
    {
     "name": "stdout",
     "output_type": "stream",
     "text": [
      "https://www.ncei.noaa.gov/thredds/catalog/model-rap130/202305/20230501/catalog.html?dataset=rap130/202305/20230501/rap_130_20230501_0300_041.grb2\n"
     ]
    },
    {
     "name": "stderr",
     "output_type": "stream",
     "text": [
      "C:\\Users\\Tony\\anaconda3\\lib\\site-packages\\siphon\\catalog.py:292: UserWarning: URL https://www.ncei.noaa.gov/thredds/catalog/model-rap130/202305/20230501/catalog.html?dataset=rap130/202305/20230501/rap_130_20230501_0300_041.grb2 returned HTML. Changing to: https://www.ncei.noaa.gov/thredds/catalog/model-rap130/202305/20230501/catalog.xml?dataset=rap130/202305/20230501/rap_130_20230501_0300_041.grb2\n",
      "  warnings.warn('URL {} returned HTML. Changing to: {}'.format(self.catalog_url,\n"
     ]
    },
    {
     "name": "stdout",
     "output_type": "stream",
     "text": [
      "{'Pressure_zeroDegC_isotherm', 'Geopotential_height_UnknownLevelType-14', 'Vertical_velocity_pressure_isobaric', 'Total_precipitation_surface_Mixed_intervals_Accumulation', 'Baseflow-groundwater_runoff_surface_1_Hour_Accumulation', 'Convective_inhibition_surface', 'U-Component_Storm_Motion_height_above_ground_layer', 'Temperature_surface', 'Water_equivalent_of_accumulated_snow_depth_surface', 'Dewpoint_temperature_height_above_ground', 'Mass_density_concentration_height_above_ground', 'Snow_depth_surface', 'v-component_of_wind_maximum_wind', 'Geopotential_height_isotherm', 'Pseudo-adiabatic_potential_temperature_or_equivalent_potential_temperature_surface', 'Temperature_height_above_ground', 'Freezing_Rain_surface_41_Hour_Accumulation', 'u-component_of_wind_height_above_ground', 'Geopotential_height_highest_tropospheric_freezing', 'MSLP_MAPS_System_Reduction_msl', 'Vertical_velocity_pressure_pressure_difference_layer', 'u-component_of_wind_isobaric', 'Geopotential_height_surface', 'Storm_surface_runoff_surface_1_Hour_Accumulation', 'Wind_speed_gust_surface', 'Dewpoint_depression_or_deficit_height_above_ground', 'Total_cloud_cover_entire_atmosphere', 'Pressure_height_above_ground', 'Geopotential_height_cloud_tops', 'Best_4_layer_Lifted_Index_pressure_difference_layer', 'Simulated_Brightness_Temperature_for_GOES_11_Channel_4_atmosphere_top', 'v-component_of_wind_height_above_ground', 'v-component_of_wind_pressure_difference_layer', 'Echo_top_entire_atmosphere_single_layer', 'Medium_cloud_cover_middle_cloud', 'Moisture_Availability_depth_below_surface', 'Geopotential_height_equilibrium', 'Critical_Angle_height_above_ground_layer', 'Vertical_u-component_shear_height_above_ground_layer', 'Vertical_v-component_shear_height_above_ground_layer', 'Convective_inhibition_pressure_difference_layer', 'Composite_reflectivity_entire_atmosphere', 'Categorical_Freezing_Rain_surface', 'Low_cloud_cover_low_cloud', 'Enhanced_Stretching_Potential_height_above_ground_layer', 'Categorical_Rain_surface', 'Frozen_Rain_surface_Mixed_intervals_Accumulation', 'Convective_available_potential_energy_height_above_ground_layer', 'Pressure_surface', 'Potential_temperature_tropopause', 'v-component_of_wind_tropopause', 'Relative_humidity_highest_tropospheric_freezing', 'Categorical_Ice_Pellets_surface', 'u-component_of_wind_maximum_wind', 'Layer_Thickness_isotherm_layer', 'Precipitable_water_entire_atmosphere_single_layer', 'Geopotential_height_isobaric', 'Relative_humidity_pressure_difference_layer', 'Lightning_surface', 'Planetary_Boundary_Layer_Height_surface', 'Relative_humidity_zeroDegC_isotherm', 'Simulated_Brightness_Temperature_for_GOES_12_Channel_4_atmosphere_top', 'v-component_of_wind_isobaric', 'Total_cloud_cover_boundary_layer_cloud', 'u-component_of_wind_tropopause', 'Temperature_isobaric', 'Potential_temperature_height_above_ground', 'Total_snowfall_surface_41_Hour_Accumulation', 'Geopotential_height_zeroDegC_isotherm', 'u-component_of_wind_pressure_difference_layer', 'Geopotential_height_cloud_ceiling', 'Geopotential_height_cloud_base', 'Pressure_highest_tropospheric_freezing', 'Surface_Lifted_Index_isobaric_layer', 'Temperature_pressure_difference_layer', 'Simulated_Brightness_Temperature_for_GOES_11_Channel_3_atmosphere_top', 'Geopotential_height_convective_cloud_top', 'Precipitation_rate_surface', 'Storm_relative_helicity_height_above_ground_layer', 'V-Component_Storm_Motion_height_above_ground_layer', 'Haines_index_surface', 'Pressure_maximum_wind', 'Simulated_Brightness_Temperature_for_GOES_12_Channel_3_atmosphere_top', 'Aerosol_optical_thickness_entire_atmosphere_single_layer', 'Visibility_surface', 'Relative_humidity_isobaric', 'Convective_available_potential_energy_pressure_difference_layer', 'Water_equivalent_of_accumulated_snow_depth_surface_Mixed_intervals_Accumulation', 'Geopotential_height_lowest_level_of_the_wet_bulb_zero', 'Convective_available_potential_energy_surface', 'Relative_Humidity_with_Respect_to_Precipitable_Water_entire_atmosphere', 'Categorical_Snow_surface', 'Absolute_vorticity_isobaric', 'Convective_precipitation_surface_Mixed_intervals_Accumulation', 'Temperature_tropopause', 'Effective_Storm_Relative_Helicity_surface', 'Reflectivity_height_above_ground', 'Relative_humidity_height_above_ground', 'High_cloud_cover_high_cloud', 'Pressure_of_level_from_which_parcel_was_lifted_pressure_difference_layer', 'Geopotential_height_planetary_boundary', 'Pressure_tropopause', 'Specific_humidity_height_above_ground'}\n"
     ]
    },
    {
     "name": "stderr",
     "output_type": "stream",
     "text": [
      "C:\\Users\\Tony\\anaconda3\\lib\\site-packages\\metpy\\calc\\thermo.py:1078: UserWarning: Relative humidity >120%, ensure proper units.\n",
      "  warnings.warn('Relative humidity >120%, ensure proper units.')\n",
      "C:\\Users\\Tony\\anaconda3\\lib\\site-packages\\metpy\\calc\\thermo.py:1078: UserWarning: Relative humidity >120%, ensure proper units.\n",
      "  warnings.warn('Relative humidity >120%, ensure proper units.')\n",
      "C:\\Users\\Tony\\anaconda3\\lib\\site-packages\\metpy\\calc\\thermo.py:1078: UserWarning: Relative humidity >120%, ensure proper units.\n",
      "  warnings.warn('Relative humidity >120%, ensure proper units.')\n"
     ]
    },
    {
     "name": "stdout",
     "output_type": "stream",
     "text": [
      "https://www.ncei.noaa.gov/thredds/catalog/model-rap130/202305/20230501/catalog.html?dataset=rap130/202305/20230501/rap_130_20230501_0300_042.grb2\n"
     ]
    },
    {
     "name": "stderr",
     "output_type": "stream",
     "text": [
      "C:\\Users\\Tony\\anaconda3\\lib\\site-packages\\siphon\\catalog.py:292: UserWarning: URL https://www.ncei.noaa.gov/thredds/catalog/model-rap130/202305/20230501/catalog.html?dataset=rap130/202305/20230501/rap_130_20230501_0300_042.grb2 returned HTML. Changing to: https://www.ncei.noaa.gov/thredds/catalog/model-rap130/202305/20230501/catalog.xml?dataset=rap130/202305/20230501/rap_130_20230501_0300_042.grb2\n",
      "  warnings.warn('URL {} returned HTML. Changing to: {}'.format(self.catalog_url,\n"
     ]
    },
    {
     "name": "stdout",
     "output_type": "stream",
     "text": [
      "{'Pressure_zeroDegC_isotherm', 'Geopotential_height_UnknownLevelType-14', 'Vertical_velocity_pressure_isobaric', 'Convective_inhibition_surface', 'Baseflow-groundwater_runoff_surface_1_Hour_Accumulation', 'Total_precipitation_surface_Mixed_intervals_Accumulation', 'U-Component_Storm_Motion_height_above_ground_layer', 'Temperature_surface', 'Water_equivalent_of_accumulated_snow_depth_surface', 'Dewpoint_temperature_height_above_ground', 'Mass_density_concentration_height_above_ground', 'Snow_depth_surface', 'v-component_of_wind_maximum_wind', 'Geopotential_height_isotherm', 'Pseudo-adiabatic_potential_temperature_or_equivalent_potential_temperature_surface', 'Temperature_height_above_ground', 'u-component_of_wind_height_above_ground', 'Geopotential_height_highest_tropospheric_freezing', 'MSLP_MAPS_System_Reduction_msl', 'Vertical_velocity_pressure_pressure_difference_layer', 'u-component_of_wind_isobaric', 'Geopotential_height_surface', 'Storm_surface_runoff_surface_1_Hour_Accumulation', 'Wind_speed_gust_surface', 'Dewpoint_depression_or_deficit_height_above_ground', 'Total_snowfall_surface_42_Hour_Accumulation', 'Total_cloud_cover_entire_atmosphere', 'Pressure_height_above_ground', 'Geopotential_height_cloud_tops', 'Best_4_layer_Lifted_Index_pressure_difference_layer', 'Simulated_Brightness_Temperature_for_GOES_11_Channel_4_atmosphere_top', 'v-component_of_wind_height_above_ground', 'v-component_of_wind_pressure_difference_layer', 'Echo_top_entire_atmosphere_single_layer', 'Medium_cloud_cover_middle_cloud', 'Moisture_Availability_depth_below_surface', 'Geopotential_height_equilibrium', 'Critical_Angle_height_above_ground_layer', 'Vertical_u-component_shear_height_above_ground_layer', 'Vertical_v-component_shear_height_above_ground_layer', 'Convective_inhibition_pressure_difference_layer', 'Composite_reflectivity_entire_atmosphere', 'Categorical_Freezing_Rain_surface', 'Low_cloud_cover_low_cloud', 'Enhanced_Stretching_Potential_height_above_ground_layer', 'Categorical_Rain_surface', 'Frozen_Rain_surface_Mixed_intervals_Accumulation', 'Convective_available_potential_energy_height_above_ground_layer', 'Pressure_surface', 'Potential_temperature_tropopause', 'v-component_of_wind_tropopause', 'Relative_humidity_highest_tropospheric_freezing', 'Categorical_Ice_Pellets_surface', 'u-component_of_wind_maximum_wind', 'Layer_Thickness_isotherm_layer', 'Precipitable_water_entire_atmosphere_single_layer', 'Geopotential_height_isobaric', 'Relative_humidity_pressure_difference_layer', 'Lightning_surface', 'Planetary_Boundary_Layer_Height_surface', 'Relative_humidity_zeroDegC_isotherm', 'Simulated_Brightness_Temperature_for_GOES_12_Channel_4_atmosphere_top', 'v-component_of_wind_isobaric', 'Total_cloud_cover_boundary_layer_cloud', 'u-component_of_wind_tropopause', 'Temperature_isobaric', 'Potential_temperature_height_above_ground', 'Geopotential_height_zeroDegC_isotherm', 'u-component_of_wind_pressure_difference_layer', 'Geopotential_height_cloud_ceiling', 'Geopotential_height_cloud_base', 'Freezing_Rain_surface_42_Hour_Accumulation', 'Pressure_highest_tropospheric_freezing', 'Surface_Lifted_Index_isobaric_layer', 'Temperature_pressure_difference_layer', 'Simulated_Brightness_Temperature_for_GOES_11_Channel_3_atmosphere_top', 'Geopotential_height_convective_cloud_top', 'Precipitation_rate_surface', 'Storm_relative_helicity_height_above_ground_layer', 'V-Component_Storm_Motion_height_above_ground_layer', 'Haines_index_surface', 'Pressure_maximum_wind', 'Simulated_Brightness_Temperature_for_GOES_12_Channel_3_atmosphere_top', 'Aerosol_optical_thickness_entire_atmosphere_single_layer', 'Visibility_surface', 'Relative_humidity_isobaric', 'Convective_available_potential_energy_pressure_difference_layer', 'Water_equivalent_of_accumulated_snow_depth_surface_Mixed_intervals_Accumulation', 'Geopotential_height_lowest_level_of_the_wet_bulb_zero', 'Convective_available_potential_energy_surface', 'Relative_Humidity_with_Respect_to_Precipitable_Water_entire_atmosphere', 'Categorical_Snow_surface', 'Absolute_vorticity_isobaric', 'Temperature_tropopause', 'Convective_precipitation_surface_Mixed_intervals_Accumulation', 'Effective_Storm_Relative_Helicity_surface', 'Reflectivity_height_above_ground', 'Relative_humidity_height_above_ground', 'High_cloud_cover_high_cloud', 'Pressure_of_level_from_which_parcel_was_lifted_pressure_difference_layer', 'Geopotential_height_planetary_boundary', 'Pressure_tropopause', 'Specific_humidity_height_above_ground'}\n"
     ]
    },
    {
     "name": "stderr",
     "output_type": "stream",
     "text": [
      "C:\\Users\\Tony\\anaconda3\\lib\\site-packages\\metpy\\calc\\thermo.py:1078: UserWarning: Relative humidity >120%, ensure proper units.\n",
      "  warnings.warn('Relative humidity >120%, ensure proper units.')\n",
      "C:\\Users\\Tony\\anaconda3\\lib\\site-packages\\metpy\\calc\\thermo.py:1078: UserWarning: Relative humidity >120%, ensure proper units.\n",
      "  warnings.warn('Relative humidity >120%, ensure proper units.')\n",
      "C:\\Users\\Tony\\anaconda3\\lib\\site-packages\\metpy\\calc\\thermo.py:1078: UserWarning: Relative humidity >120%, ensure proper units.\n",
      "  warnings.warn('Relative humidity >120%, ensure proper units.')\n"
     ]
    },
    {
     "name": "stdout",
     "output_type": "stream",
     "text": [
      "https://www.ncei.noaa.gov/thredds/catalog/model-rap130/202305/20230501/catalog.html?dataset=rap130/202305/20230501/rap_130_20230501_0300_043.grb2\n"
     ]
    },
    {
     "name": "stderr",
     "output_type": "stream",
     "text": [
      "C:\\Users\\Tony\\anaconda3\\lib\\site-packages\\siphon\\catalog.py:292: UserWarning: URL https://www.ncei.noaa.gov/thredds/catalog/model-rap130/202305/20230501/catalog.html?dataset=rap130/202305/20230501/rap_130_20230501_0300_043.grb2 returned HTML. Changing to: https://www.ncei.noaa.gov/thredds/catalog/model-rap130/202305/20230501/catalog.xml?dataset=rap130/202305/20230501/rap_130_20230501_0300_043.grb2\n",
      "  warnings.warn('URL {} returned HTML. Changing to: {}'.format(self.catalog_url,\n"
     ]
    },
    {
     "name": "stdout",
     "output_type": "stream",
     "text": [
      "{'Pressure_zeroDegC_isotherm', 'Geopotential_height_UnknownLevelType-14', 'Vertical_velocity_pressure_isobaric', 'Convective_inhibition_surface', 'Total_precipitation_surface_Mixed_intervals_Accumulation', 'Baseflow-groundwater_runoff_surface_1_Hour_Accumulation', 'U-Component_Storm_Motion_height_above_ground_layer', 'Temperature_surface', 'Water_equivalent_of_accumulated_snow_depth_surface', 'Dewpoint_temperature_height_above_ground', 'Mass_density_concentration_height_above_ground', 'Snow_depth_surface', 'v-component_of_wind_maximum_wind', 'Geopotential_height_isotherm', 'Pseudo-adiabatic_potential_temperature_or_equivalent_potential_temperature_surface', 'Temperature_height_above_ground', 'u-component_of_wind_height_above_ground', 'Geopotential_height_highest_tropospheric_freezing', 'MSLP_MAPS_System_Reduction_msl', 'Vertical_velocity_pressure_pressure_difference_layer', 'u-component_of_wind_isobaric', 'Geopotential_height_surface', 'Storm_surface_runoff_surface_1_Hour_Accumulation', 'Wind_speed_gust_surface', 'Dewpoint_depression_or_deficit_height_above_ground', 'Total_cloud_cover_entire_atmosphere', 'Pressure_height_above_ground', 'Geopotential_height_cloud_tops', 'Best_4_layer_Lifted_Index_pressure_difference_layer', 'Simulated_Brightness_Temperature_for_GOES_11_Channel_4_atmosphere_top', 'v-component_of_wind_height_above_ground', 'v-component_of_wind_pressure_difference_layer', 'Echo_top_entire_atmosphere_single_layer', 'Medium_cloud_cover_middle_cloud', 'Moisture_Availability_depth_below_surface', 'Geopotential_height_equilibrium', 'Critical_Angle_height_above_ground_layer', 'Vertical_u-component_shear_height_above_ground_layer', 'Vertical_v-component_shear_height_above_ground_layer', 'Convective_inhibition_pressure_difference_layer', 'Composite_reflectivity_entire_atmosphere', 'Categorical_Freezing_Rain_surface', 'Low_cloud_cover_low_cloud', 'Enhanced_Stretching_Potential_height_above_ground_layer', 'Categorical_Rain_surface', 'Frozen_Rain_surface_Mixed_intervals_Accumulation', 'Convective_available_potential_energy_height_above_ground_layer', 'Pressure_surface', 'Potential_temperature_tropopause', 'v-component_of_wind_tropopause', 'Relative_humidity_highest_tropospheric_freezing', 'Categorical_Ice_Pellets_surface', 'u-component_of_wind_maximum_wind', 'Layer_Thickness_isotherm_layer', 'Precipitable_water_entire_atmosphere_single_layer', 'Geopotential_height_isobaric', 'Relative_humidity_pressure_difference_layer', 'Lightning_surface', 'Planetary_Boundary_Layer_Height_surface', 'Relative_humidity_zeroDegC_isotherm', 'Simulated_Brightness_Temperature_for_GOES_12_Channel_4_atmosphere_top', 'v-component_of_wind_isobaric', 'Total_cloud_cover_boundary_layer_cloud', 'u-component_of_wind_tropopause', 'Temperature_isobaric', 'Potential_temperature_height_above_ground', 'Geopotential_height_zeroDegC_isotherm', 'u-component_of_wind_pressure_difference_layer', 'Geopotential_height_cloud_ceiling', 'Geopotential_height_cloud_base', 'Pressure_highest_tropospheric_freezing', 'Surface_Lifted_Index_isobaric_layer', 'Temperature_pressure_difference_layer', 'Simulated_Brightness_Temperature_for_GOES_11_Channel_3_atmosphere_top', 'Geopotential_height_convective_cloud_top', 'Precipitation_rate_surface', 'Storm_relative_helicity_height_above_ground_layer', 'V-Component_Storm_Motion_height_above_ground_layer', 'Haines_index_surface', 'Pressure_maximum_wind', 'Simulated_Brightness_Temperature_for_GOES_12_Channel_3_atmosphere_top', 'Aerosol_optical_thickness_entire_atmosphere_single_layer', 'Visibility_surface', 'Relative_humidity_isobaric', 'Convective_available_potential_energy_pressure_difference_layer', 'Water_equivalent_of_accumulated_snow_depth_surface_Mixed_intervals_Accumulation', 'Geopotential_height_lowest_level_of_the_wet_bulb_zero', 'Convective_available_potential_energy_surface', 'Relative_Humidity_with_Respect_to_Precipitable_Water_entire_atmosphere', 'Categorical_Snow_surface', 'Absolute_vorticity_isobaric', 'Temperature_tropopause', 'Convective_precipitation_surface_Mixed_intervals_Accumulation', 'Effective_Storm_Relative_Helicity_surface', 'Reflectivity_height_above_ground', 'Relative_humidity_height_above_ground', 'Freezing_Rain_surface_43_Hour_Accumulation', 'High_cloud_cover_high_cloud', 'Pressure_of_level_from_which_parcel_was_lifted_pressure_difference_layer', 'Total_snowfall_surface_43_Hour_Accumulation', 'Geopotential_height_planetary_boundary', 'Pressure_tropopause', 'Specific_humidity_height_above_ground'}\n"
     ]
    },
    {
     "name": "stderr",
     "output_type": "stream",
     "text": [
      "C:\\Users\\Tony\\anaconda3\\lib\\site-packages\\metpy\\calc\\thermo.py:1078: UserWarning: Relative humidity >120%, ensure proper units.\n",
      "  warnings.warn('Relative humidity >120%, ensure proper units.')\n",
      "C:\\Users\\Tony\\anaconda3\\lib\\site-packages\\metpy\\calc\\thermo.py:1078: UserWarning: Relative humidity >120%, ensure proper units.\n",
      "  warnings.warn('Relative humidity >120%, ensure proper units.')\n",
      "C:\\Users\\Tony\\anaconda3\\lib\\site-packages\\metpy\\calc\\thermo.py:1078: UserWarning: Relative humidity >120%, ensure proper units.\n",
      "  warnings.warn('Relative humidity >120%, ensure proper units.')\n"
     ]
    },
    {
     "name": "stdout",
     "output_type": "stream",
     "text": [
      "https://www.ncei.noaa.gov/thredds/catalog/model-rap130/202305/20230501/catalog.html?dataset=rap130/202305/20230501/rap_130_20230501_0300_044.grb2\n"
     ]
    },
    {
     "name": "stderr",
     "output_type": "stream",
     "text": [
      "C:\\Users\\Tony\\anaconda3\\lib\\site-packages\\siphon\\catalog.py:292: UserWarning: URL https://www.ncei.noaa.gov/thredds/catalog/model-rap130/202305/20230501/catalog.html?dataset=rap130/202305/20230501/rap_130_20230501_0300_044.grb2 returned HTML. Changing to: https://www.ncei.noaa.gov/thredds/catalog/model-rap130/202305/20230501/catalog.xml?dataset=rap130/202305/20230501/rap_130_20230501_0300_044.grb2\n",
      "  warnings.warn('URL {} returned HTML. Changing to: {}'.format(self.catalog_url,\n"
     ]
    },
    {
     "name": "stdout",
     "output_type": "stream",
     "text": [
      "{'Pressure_zeroDegC_isotherm', 'Geopotential_height_UnknownLevelType-14', 'Freezing_Rain_surface_44_Hour_Accumulation', 'Vertical_velocity_pressure_isobaric', 'Convective_inhibition_surface', 'Baseflow-groundwater_runoff_surface_1_Hour_Accumulation', 'Total_precipitation_surface_Mixed_intervals_Accumulation', 'U-Component_Storm_Motion_height_above_ground_layer', 'Temperature_surface', 'Water_equivalent_of_accumulated_snow_depth_surface', 'Dewpoint_temperature_height_above_ground', 'Mass_density_concentration_height_above_ground', 'Snow_depth_surface', 'v-component_of_wind_maximum_wind', 'Geopotential_height_isotherm', 'Pseudo-adiabatic_potential_temperature_or_equivalent_potential_temperature_surface', 'Temperature_height_above_ground', 'u-component_of_wind_height_above_ground', 'Geopotential_height_highest_tropospheric_freezing', 'MSLP_MAPS_System_Reduction_msl', 'Vertical_velocity_pressure_pressure_difference_layer', 'u-component_of_wind_isobaric', 'Geopotential_height_surface', 'Storm_surface_runoff_surface_1_Hour_Accumulation', 'Wind_speed_gust_surface', 'Dewpoint_depression_or_deficit_height_above_ground', 'Total_cloud_cover_entire_atmosphere', 'Pressure_height_above_ground', 'Geopotential_height_cloud_tops', 'Best_4_layer_Lifted_Index_pressure_difference_layer', 'Simulated_Brightness_Temperature_for_GOES_11_Channel_4_atmosphere_top', 'v-component_of_wind_height_above_ground', 'v-component_of_wind_pressure_difference_layer', 'Echo_top_entire_atmosphere_single_layer', 'Medium_cloud_cover_middle_cloud', 'Moisture_Availability_depth_below_surface', 'Geopotential_height_equilibrium', 'Critical_Angle_height_above_ground_layer', 'Total_snowfall_surface_44_Hour_Accumulation', 'Vertical_u-component_shear_height_above_ground_layer', 'Vertical_v-component_shear_height_above_ground_layer', 'Convective_inhibition_pressure_difference_layer', 'Composite_reflectivity_entire_atmosphere', 'Categorical_Freezing_Rain_surface', 'Low_cloud_cover_low_cloud', 'Enhanced_Stretching_Potential_height_above_ground_layer', 'Categorical_Rain_surface', 'Frozen_Rain_surface_Mixed_intervals_Accumulation', 'Convective_available_potential_energy_height_above_ground_layer', 'Pressure_surface', 'Potential_temperature_tropopause', 'v-component_of_wind_tropopause', 'Relative_humidity_highest_tropospheric_freezing', 'Categorical_Ice_Pellets_surface', 'u-component_of_wind_maximum_wind', 'Layer_Thickness_isotherm_layer', 'Precipitable_water_entire_atmosphere_single_layer', 'Geopotential_height_isobaric', 'Relative_humidity_pressure_difference_layer', 'Lightning_surface', 'Planetary_Boundary_Layer_Height_surface', 'Relative_humidity_zeroDegC_isotherm', 'Simulated_Brightness_Temperature_for_GOES_12_Channel_4_atmosphere_top', 'v-component_of_wind_isobaric', 'Total_cloud_cover_boundary_layer_cloud', 'u-component_of_wind_tropopause', 'Temperature_isobaric', 'Potential_temperature_height_above_ground', 'Geopotential_height_zeroDegC_isotherm', 'u-component_of_wind_pressure_difference_layer', 'Geopotential_height_cloud_ceiling', 'Geopotential_height_cloud_base', 'Pressure_highest_tropospheric_freezing', 'Surface_Lifted_Index_isobaric_layer', 'Temperature_pressure_difference_layer', 'Simulated_Brightness_Temperature_for_GOES_11_Channel_3_atmosphere_top', 'Geopotential_height_convective_cloud_top', 'Precipitation_rate_surface', 'Storm_relative_helicity_height_above_ground_layer', 'V-Component_Storm_Motion_height_above_ground_layer', 'Haines_index_surface', 'Pressure_maximum_wind', 'Simulated_Brightness_Temperature_for_GOES_12_Channel_3_atmosphere_top', 'Aerosol_optical_thickness_entire_atmosphere_single_layer', 'Visibility_surface', 'Relative_humidity_isobaric', 'Convective_available_potential_energy_pressure_difference_layer', 'Water_equivalent_of_accumulated_snow_depth_surface_Mixed_intervals_Accumulation', 'Geopotential_height_lowest_level_of_the_wet_bulb_zero', 'Convective_available_potential_energy_surface', 'Relative_Humidity_with_Respect_to_Precipitable_Water_entire_atmosphere', 'Categorical_Snow_surface', 'Absolute_vorticity_isobaric', 'Temperature_tropopause', 'Convective_precipitation_surface_Mixed_intervals_Accumulation', 'Effective_Storm_Relative_Helicity_surface', 'Reflectivity_height_above_ground', 'Relative_humidity_height_above_ground', 'High_cloud_cover_high_cloud', 'Pressure_of_level_from_which_parcel_was_lifted_pressure_difference_layer', 'Geopotential_height_planetary_boundary', 'Pressure_tropopause', 'Specific_humidity_height_above_ground'}\n"
     ]
    },
    {
     "name": "stderr",
     "output_type": "stream",
     "text": [
      "C:\\Users\\Tony\\anaconda3\\lib\\site-packages\\metpy\\calc\\thermo.py:1078: UserWarning: Relative humidity >120%, ensure proper units.\n",
      "  warnings.warn('Relative humidity >120%, ensure proper units.')\n",
      "C:\\Users\\Tony\\anaconda3\\lib\\site-packages\\metpy\\calc\\thermo.py:1078: UserWarning: Relative humidity >120%, ensure proper units.\n",
      "  warnings.warn('Relative humidity >120%, ensure proper units.')\n",
      "C:\\Users\\Tony\\anaconda3\\lib\\site-packages\\metpy\\calc\\thermo.py:1078: UserWarning: Relative humidity >120%, ensure proper units.\n",
      "  warnings.warn('Relative humidity >120%, ensure proper units.')\n"
     ]
    },
    {
     "name": "stdout",
     "output_type": "stream",
     "text": [
      "https://www.ncei.noaa.gov/thredds/catalog/model-rap130/202305/20230501/catalog.html?dataset=rap130/202305/20230501/rap_130_20230501_0300_045.grb2\n"
     ]
    },
    {
     "name": "stderr",
     "output_type": "stream",
     "text": [
      "C:\\Users\\Tony\\anaconda3\\lib\\site-packages\\siphon\\catalog.py:292: UserWarning: URL https://www.ncei.noaa.gov/thredds/catalog/model-rap130/202305/20230501/catalog.html?dataset=rap130/202305/20230501/rap_130_20230501_0300_045.grb2 returned HTML. Changing to: https://www.ncei.noaa.gov/thredds/catalog/model-rap130/202305/20230501/catalog.xml?dataset=rap130/202305/20230501/rap_130_20230501_0300_045.grb2\n",
      "  warnings.warn('URL {} returned HTML. Changing to: {}'.format(self.catalog_url,\n"
     ]
    },
    {
     "name": "stdout",
     "output_type": "stream",
     "text": [
      "{'Pressure_zeroDegC_isotherm', 'Geopotential_height_UnknownLevelType-14', 'Vertical_velocity_pressure_isobaric', 'Convective_inhibition_surface', 'Baseflow-groundwater_runoff_surface_1_Hour_Accumulation', 'Total_precipitation_surface_Mixed_intervals_Accumulation', 'U-Component_Storm_Motion_height_above_ground_layer', 'Temperature_surface', 'Water_equivalent_of_accumulated_snow_depth_surface', 'Dewpoint_temperature_height_above_ground', 'Mass_density_concentration_height_above_ground', 'Snow_depth_surface', 'v-component_of_wind_maximum_wind', 'Geopotential_height_isotherm', 'Pseudo-adiabatic_potential_temperature_or_equivalent_potential_temperature_surface', 'Temperature_height_above_ground', 'u-component_of_wind_height_above_ground', 'Geopotential_height_highest_tropospheric_freezing', 'MSLP_MAPS_System_Reduction_msl', 'Vertical_velocity_pressure_pressure_difference_layer', 'u-component_of_wind_isobaric', 'Geopotential_height_surface', 'Storm_surface_runoff_surface_1_Hour_Accumulation', 'Wind_speed_gust_surface', 'Dewpoint_depression_or_deficit_height_above_ground', 'Total_cloud_cover_entire_atmosphere', 'Pressure_height_above_ground', 'Geopotential_height_cloud_tops', 'Best_4_layer_Lifted_Index_pressure_difference_layer', 'Simulated_Brightness_Temperature_for_GOES_11_Channel_4_atmosphere_top', 'v-component_of_wind_height_above_ground', 'v-component_of_wind_pressure_difference_layer', 'Echo_top_entire_atmosphere_single_layer', 'Medium_cloud_cover_middle_cloud', 'Moisture_Availability_depth_below_surface', 'Geopotential_height_equilibrium', 'Critical_Angle_height_above_ground_layer', 'Vertical_u-component_shear_height_above_ground_layer', 'Vertical_v-component_shear_height_above_ground_layer', 'Convective_inhibition_pressure_difference_layer', 'Composite_reflectivity_entire_atmosphere', 'Categorical_Freezing_Rain_surface', 'Low_cloud_cover_low_cloud', 'Enhanced_Stretching_Potential_height_above_ground_layer', 'Categorical_Rain_surface', 'Frozen_Rain_surface_Mixed_intervals_Accumulation', 'Convective_available_potential_energy_height_above_ground_layer', 'Pressure_surface', 'Potential_temperature_tropopause', 'v-component_of_wind_tropopause', 'Relative_humidity_highest_tropospheric_freezing', 'Categorical_Ice_Pellets_surface', 'u-component_of_wind_maximum_wind', 'Layer_Thickness_isotherm_layer', 'Precipitable_water_entire_atmosphere_single_layer', 'Geopotential_height_isobaric', 'Relative_humidity_pressure_difference_layer', 'Lightning_surface', 'Planetary_Boundary_Layer_Height_surface', 'Relative_humidity_zeroDegC_isotherm', 'Simulated_Brightness_Temperature_for_GOES_12_Channel_4_atmosphere_top', 'Freezing_Rain_surface_45_Hour_Accumulation', 'Total_snowfall_surface_45_Hour_Accumulation', 'Total_cloud_cover_boundary_layer_cloud', 'v-component_of_wind_isobaric', 'u-component_of_wind_tropopause', 'Temperature_isobaric', 'Potential_temperature_height_above_ground', 'Geopotential_height_zeroDegC_isotherm', 'u-component_of_wind_pressure_difference_layer', 'Geopotential_height_cloud_ceiling', 'Geopotential_height_cloud_base', 'Pressure_highest_tropospheric_freezing', 'Surface_Lifted_Index_isobaric_layer', 'Temperature_pressure_difference_layer', 'Simulated_Brightness_Temperature_for_GOES_11_Channel_3_atmosphere_top', 'Geopotential_height_convective_cloud_top', 'Precipitation_rate_surface', 'Storm_relative_helicity_height_above_ground_layer', 'V-Component_Storm_Motion_height_above_ground_layer', 'Haines_index_surface', 'Pressure_maximum_wind', 'Simulated_Brightness_Temperature_for_GOES_12_Channel_3_atmosphere_top', 'Aerosol_optical_thickness_entire_atmosphere_single_layer', 'Visibility_surface', 'Relative_humidity_isobaric', 'Convective_available_potential_energy_pressure_difference_layer', 'Water_equivalent_of_accumulated_snow_depth_surface_Mixed_intervals_Accumulation', 'Geopotential_height_lowest_level_of_the_wet_bulb_zero', 'Convective_available_potential_energy_surface', 'Relative_Humidity_with_Respect_to_Precipitable_Water_entire_atmosphere', 'Categorical_Snow_surface', 'Absolute_vorticity_isobaric', 'Temperature_tropopause', 'Convective_precipitation_surface_Mixed_intervals_Accumulation', 'Effective_Storm_Relative_Helicity_surface', 'Reflectivity_height_above_ground', 'Relative_humidity_height_above_ground', 'High_cloud_cover_high_cloud', 'Pressure_of_level_from_which_parcel_was_lifted_pressure_difference_layer', 'Geopotential_height_planetary_boundary', 'Pressure_tropopause', 'Specific_humidity_height_above_ground'}\n"
     ]
    },
    {
     "name": "stderr",
     "output_type": "stream",
     "text": [
      "C:\\Users\\Tony\\anaconda3\\lib\\site-packages\\metpy\\calc\\thermo.py:1078: UserWarning: Relative humidity >120%, ensure proper units.\n",
      "  warnings.warn('Relative humidity >120%, ensure proper units.')\n",
      "C:\\Users\\Tony\\anaconda3\\lib\\site-packages\\metpy\\calc\\thermo.py:1078: UserWarning: Relative humidity >120%, ensure proper units.\n",
      "  warnings.warn('Relative humidity >120%, ensure proper units.')\n",
      "C:\\Users\\Tony\\anaconda3\\lib\\site-packages\\metpy\\calc\\thermo.py:1078: UserWarning: Relative humidity >120%, ensure proper units.\n",
      "  warnings.warn('Relative humidity >120%, ensure proper units.')\n"
     ]
    },
    {
     "name": "stdout",
     "output_type": "stream",
     "text": [
      "https://www.ncei.noaa.gov/thredds/catalog/model-rap130/202305/20230501/catalog.html?dataset=rap130/202305/20230501/rap_130_20230501_0300_046.grb2\n"
     ]
    },
    {
     "name": "stderr",
     "output_type": "stream",
     "text": [
      "C:\\Users\\Tony\\anaconda3\\lib\\site-packages\\siphon\\catalog.py:292: UserWarning: URL https://www.ncei.noaa.gov/thredds/catalog/model-rap130/202305/20230501/catalog.html?dataset=rap130/202305/20230501/rap_130_20230501_0300_046.grb2 returned HTML. Changing to: https://www.ncei.noaa.gov/thredds/catalog/model-rap130/202305/20230501/catalog.xml?dataset=rap130/202305/20230501/rap_130_20230501_0300_046.grb2\n",
      "  warnings.warn('URL {} returned HTML. Changing to: {}'.format(self.catalog_url,\n"
     ]
    },
    {
     "name": "stdout",
     "output_type": "stream",
     "text": [
      "{'Pressure_zeroDegC_isotherm', 'Geopotential_height_UnknownLevelType-14', 'Vertical_velocity_pressure_isobaric', 'Convective_inhibition_surface', 'Total_precipitation_surface_Mixed_intervals_Accumulation', 'Baseflow-groundwater_runoff_surface_1_Hour_Accumulation', 'U-Component_Storm_Motion_height_above_ground_layer', 'Temperature_surface', 'Water_equivalent_of_accumulated_snow_depth_surface', 'Dewpoint_temperature_height_above_ground', 'Mass_density_concentration_height_above_ground', 'Snow_depth_surface', 'v-component_of_wind_maximum_wind', 'Total_snowfall_surface_46_Hour_Accumulation', 'Geopotential_height_isotherm', 'Pseudo-adiabatic_potential_temperature_or_equivalent_potential_temperature_surface', 'Temperature_height_above_ground', 'u-component_of_wind_height_above_ground', 'Geopotential_height_highest_tropospheric_freezing', 'MSLP_MAPS_System_Reduction_msl', 'Vertical_velocity_pressure_pressure_difference_layer', 'u-component_of_wind_isobaric', 'Geopotential_height_surface', 'Storm_surface_runoff_surface_1_Hour_Accumulation', 'Wind_speed_gust_surface', 'Dewpoint_depression_or_deficit_height_above_ground', 'Total_cloud_cover_entire_atmosphere', 'Pressure_height_above_ground', 'Geopotential_height_cloud_tops', 'Best_4_layer_Lifted_Index_pressure_difference_layer', 'Simulated_Brightness_Temperature_for_GOES_11_Channel_4_atmosphere_top', 'v-component_of_wind_height_above_ground', 'v-component_of_wind_pressure_difference_layer', 'Echo_top_entire_atmosphere_single_layer', 'Medium_cloud_cover_middle_cloud', 'Moisture_Availability_depth_below_surface', 'Geopotential_height_equilibrium', 'Critical_Angle_height_above_ground_layer', 'Vertical_u-component_shear_height_above_ground_layer', 'Vertical_v-component_shear_height_above_ground_layer', 'Convective_inhibition_pressure_difference_layer', 'Composite_reflectivity_entire_atmosphere', 'Categorical_Freezing_Rain_surface', 'Low_cloud_cover_low_cloud', 'Enhanced_Stretching_Potential_height_above_ground_layer', 'Categorical_Rain_surface', 'Frozen_Rain_surface_Mixed_intervals_Accumulation', 'Convective_available_potential_energy_height_above_ground_layer', 'Pressure_surface', 'Potential_temperature_tropopause', 'v-component_of_wind_tropopause', 'Relative_humidity_highest_tropospheric_freezing', 'Categorical_Ice_Pellets_surface', 'u-component_of_wind_maximum_wind', 'Layer_Thickness_isotherm_layer', 'Precipitable_water_entire_atmosphere_single_layer', 'Geopotential_height_isobaric', 'Relative_humidity_pressure_difference_layer', 'Lightning_surface', 'Planetary_Boundary_Layer_Height_surface', 'Relative_humidity_zeroDegC_isotherm', 'Simulated_Brightness_Temperature_for_GOES_12_Channel_4_atmosphere_top', 'v-component_of_wind_isobaric', 'Total_cloud_cover_boundary_layer_cloud', 'u-component_of_wind_tropopause', 'Temperature_isobaric', 'Potential_temperature_height_above_ground', 'Geopotential_height_zeroDegC_isotherm', 'u-component_of_wind_pressure_difference_layer', 'Geopotential_height_cloud_ceiling', 'Geopotential_height_cloud_base', 'Pressure_highest_tropospheric_freezing', 'Surface_Lifted_Index_isobaric_layer', 'Temperature_pressure_difference_layer', 'Simulated_Brightness_Temperature_for_GOES_11_Channel_3_atmosphere_top', 'Geopotential_height_convective_cloud_top', 'Precipitation_rate_surface', 'Storm_relative_helicity_height_above_ground_layer', 'V-Component_Storm_Motion_height_above_ground_layer', 'Haines_index_surface', 'Pressure_maximum_wind', 'Simulated_Brightness_Temperature_for_GOES_12_Channel_3_atmosphere_top', 'Aerosol_optical_thickness_entire_atmosphere_single_layer', 'Visibility_surface', 'Relative_humidity_isobaric', 'Convective_available_potential_energy_pressure_difference_layer', 'Water_equivalent_of_accumulated_snow_depth_surface_Mixed_intervals_Accumulation', 'Geopotential_height_lowest_level_of_the_wet_bulb_zero', 'Convective_available_potential_energy_surface', 'Relative_Humidity_with_Respect_to_Precipitable_Water_entire_atmosphere', 'Categorical_Snow_surface', 'Absolute_vorticity_isobaric', 'Freezing_Rain_surface_46_Hour_Accumulation', 'Temperature_tropopause', 'Convective_precipitation_surface_Mixed_intervals_Accumulation', 'Effective_Storm_Relative_Helicity_surface', 'Reflectivity_height_above_ground', 'Relative_humidity_height_above_ground', 'High_cloud_cover_high_cloud', 'Pressure_of_level_from_which_parcel_was_lifted_pressure_difference_layer', 'Geopotential_height_planetary_boundary', 'Pressure_tropopause', 'Specific_humidity_height_above_ground'}\n"
     ]
    },
    {
     "name": "stderr",
     "output_type": "stream",
     "text": [
      "C:\\Users\\Tony\\anaconda3\\lib\\site-packages\\metpy\\calc\\thermo.py:1078: UserWarning: Relative humidity >120%, ensure proper units.\n",
      "  warnings.warn('Relative humidity >120%, ensure proper units.')\n",
      "C:\\Users\\Tony\\anaconda3\\lib\\site-packages\\metpy\\calc\\thermo.py:1078: UserWarning: Relative humidity >120%, ensure proper units.\n",
      "  warnings.warn('Relative humidity >120%, ensure proper units.')\n",
      "C:\\Users\\Tony\\anaconda3\\lib\\site-packages\\metpy\\calc\\thermo.py:1078: UserWarning: Relative humidity >120%, ensure proper units.\n",
      "  warnings.warn('Relative humidity >120%, ensure proper units.')\n"
     ]
    },
    {
     "name": "stdout",
     "output_type": "stream",
     "text": [
      "https://www.ncei.noaa.gov/thredds/catalog/model-rap130/202305/20230501/catalog.html?dataset=rap130/202305/20230501/rap_130_20230501_0300_047.grb2\n"
     ]
    },
    {
     "name": "stderr",
     "output_type": "stream",
     "text": [
      "C:\\Users\\Tony\\anaconda3\\lib\\site-packages\\siphon\\catalog.py:292: UserWarning: URL https://www.ncei.noaa.gov/thredds/catalog/model-rap130/202305/20230501/catalog.html?dataset=rap130/202305/20230501/rap_130_20230501_0300_047.grb2 returned HTML. Changing to: https://www.ncei.noaa.gov/thredds/catalog/model-rap130/202305/20230501/catalog.xml?dataset=rap130/202305/20230501/rap_130_20230501_0300_047.grb2\n",
      "  warnings.warn('URL {} returned HTML. Changing to: {}'.format(self.catalog_url,\n"
     ]
    },
    {
     "name": "stdout",
     "output_type": "stream",
     "text": [
      "{'Pressure_zeroDegC_isotherm', 'Geopotential_height_UnknownLevelType-14', 'Vertical_velocity_pressure_isobaric', 'Total_precipitation_surface_Mixed_intervals_Accumulation', 'Convective_inhibition_surface', 'Baseflow-groundwater_runoff_surface_1_Hour_Accumulation', 'U-Component_Storm_Motion_height_above_ground_layer', 'Temperature_surface', 'Water_equivalent_of_accumulated_snow_depth_surface', 'Dewpoint_temperature_height_above_ground', 'Mass_density_concentration_height_above_ground', 'Snow_depth_surface', 'v-component_of_wind_maximum_wind', 'Geopotential_height_isotherm', 'Pseudo-adiabatic_potential_temperature_or_equivalent_potential_temperature_surface', 'Temperature_height_above_ground', 'Freezing_Rain_surface_47_Hour_Accumulation', 'u-component_of_wind_height_above_ground', 'Geopotential_height_highest_tropospheric_freezing', 'MSLP_MAPS_System_Reduction_msl', 'Vertical_velocity_pressure_pressure_difference_layer', 'u-component_of_wind_isobaric', 'Geopotential_height_surface', 'Storm_surface_runoff_surface_1_Hour_Accumulation', 'Wind_speed_gust_surface', 'Dewpoint_depression_or_deficit_height_above_ground', 'Total_cloud_cover_entire_atmosphere', 'Pressure_height_above_ground', 'Geopotential_height_cloud_tops', 'Best_4_layer_Lifted_Index_pressure_difference_layer', 'Simulated_Brightness_Temperature_for_GOES_11_Channel_4_atmosphere_top', 'v-component_of_wind_height_above_ground', 'v-component_of_wind_pressure_difference_layer', 'Echo_top_entire_atmosphere_single_layer', 'Medium_cloud_cover_middle_cloud', 'Moisture_Availability_depth_below_surface', 'Geopotential_height_equilibrium', 'Total_snowfall_surface_47_Hour_Accumulation', 'Critical_Angle_height_above_ground_layer', 'Vertical_u-component_shear_height_above_ground_layer', 'Vertical_v-component_shear_height_above_ground_layer', 'Convective_inhibition_pressure_difference_layer', 'Composite_reflectivity_entire_atmosphere', 'Categorical_Freezing_Rain_surface', 'Low_cloud_cover_low_cloud', 'Enhanced_Stretching_Potential_height_above_ground_layer', 'Categorical_Rain_surface', 'Frozen_Rain_surface_Mixed_intervals_Accumulation', 'Convective_available_potential_energy_height_above_ground_layer', 'Pressure_surface', 'Potential_temperature_tropopause', 'v-component_of_wind_tropopause', 'Relative_humidity_highest_tropospheric_freezing', 'Categorical_Ice_Pellets_surface', 'u-component_of_wind_maximum_wind', 'Layer_Thickness_isotherm_layer', 'Precipitable_water_entire_atmosphere_single_layer', 'Geopotential_height_isobaric', 'Relative_humidity_pressure_difference_layer', 'Lightning_surface', 'Planetary_Boundary_Layer_Height_surface', 'Relative_humidity_zeroDegC_isotherm', 'Simulated_Brightness_Temperature_for_GOES_12_Channel_4_atmosphere_top', 'v-component_of_wind_isobaric', 'Total_cloud_cover_boundary_layer_cloud', 'u-component_of_wind_tropopause', 'Temperature_isobaric', 'Potential_temperature_height_above_ground', 'Geopotential_height_zeroDegC_isotherm', 'u-component_of_wind_pressure_difference_layer', 'Geopotential_height_cloud_ceiling', 'Geopotential_height_cloud_base', 'Pressure_highest_tropospheric_freezing', 'Surface_Lifted_Index_isobaric_layer', 'Temperature_pressure_difference_layer', 'Simulated_Brightness_Temperature_for_GOES_11_Channel_3_atmosphere_top', 'Geopotential_height_convective_cloud_top', 'Precipitation_rate_surface', 'Storm_relative_helicity_height_above_ground_layer', 'V-Component_Storm_Motion_height_above_ground_layer', 'Haines_index_surface', 'Pressure_maximum_wind', 'Simulated_Brightness_Temperature_for_GOES_12_Channel_3_atmosphere_top', 'Aerosol_optical_thickness_entire_atmosphere_single_layer', 'Visibility_surface', 'Relative_humidity_isobaric', 'Convective_available_potential_energy_pressure_difference_layer', 'Water_equivalent_of_accumulated_snow_depth_surface_Mixed_intervals_Accumulation', 'Geopotential_height_lowest_level_of_the_wet_bulb_zero', 'Convective_available_potential_energy_surface', 'Relative_Humidity_with_Respect_to_Precipitable_Water_entire_atmosphere', 'Categorical_Snow_surface', 'Absolute_vorticity_isobaric', 'Convective_precipitation_surface_Mixed_intervals_Accumulation', 'Temperature_tropopause', 'Effective_Storm_Relative_Helicity_surface', 'Reflectivity_height_above_ground', 'Relative_humidity_height_above_ground', 'High_cloud_cover_high_cloud', 'Pressure_of_level_from_which_parcel_was_lifted_pressure_difference_layer', 'Geopotential_height_planetary_boundary', 'Pressure_tropopause', 'Specific_humidity_height_above_ground'}\n"
     ]
    },
    {
     "name": "stderr",
     "output_type": "stream",
     "text": [
      "C:\\Users\\Tony\\anaconda3\\lib\\site-packages\\metpy\\calc\\thermo.py:1078: UserWarning: Relative humidity >120%, ensure proper units.\n",
      "  warnings.warn('Relative humidity >120%, ensure proper units.')\n",
      "C:\\Users\\Tony\\anaconda3\\lib\\site-packages\\metpy\\calc\\thermo.py:1078: UserWarning: Relative humidity >120%, ensure proper units.\n",
      "  warnings.warn('Relative humidity >120%, ensure proper units.')\n",
      "C:\\Users\\Tony\\anaconda3\\lib\\site-packages\\metpy\\calc\\thermo.py:1078: UserWarning: Relative humidity >120%, ensure proper units.\n",
      "  warnings.warn('Relative humidity >120%, ensure proper units.')\n"
     ]
    },
    {
     "name": "stdout",
     "output_type": "stream",
     "text": [
      "https://www.ncei.noaa.gov/thredds/catalog/model-rap130/202305/20230501/catalog.html?dataset=rap130/202305/20230501/rap_130_20230501_0300_048.grb2\n"
     ]
    },
    {
     "name": "stderr",
     "output_type": "stream",
     "text": [
      "C:\\Users\\Tony\\anaconda3\\lib\\site-packages\\siphon\\catalog.py:292: UserWarning: URL https://www.ncei.noaa.gov/thredds/catalog/model-rap130/202305/20230501/catalog.html?dataset=rap130/202305/20230501/rap_130_20230501_0300_048.grb2 returned HTML. Changing to: https://www.ncei.noaa.gov/thredds/catalog/model-rap130/202305/20230501/catalog.xml?dataset=rap130/202305/20230501/rap_130_20230501_0300_048.grb2\n",
      "  warnings.warn('URL {} returned HTML. Changing to: {}'.format(self.catalog_url,\n"
     ]
    },
    {
     "name": "stdout",
     "output_type": "stream",
     "text": [
      "{'Pressure_zeroDegC_isotherm', 'Geopotential_height_UnknownLevelType-14', 'Vertical_velocity_pressure_isobaric', 'Total_precipitation_surface_Mixed_intervals_Accumulation', 'Baseflow-groundwater_runoff_surface_1_Hour_Accumulation', 'Convective_inhibition_surface', 'U-Component_Storm_Motion_height_above_ground_layer', 'Temperature_surface', 'Water_equivalent_of_accumulated_snow_depth_surface', 'Dewpoint_temperature_height_above_ground', 'Mass_density_concentration_height_above_ground', 'Snow_depth_surface', 'v-component_of_wind_maximum_wind', 'Geopotential_height_isotherm', 'Pseudo-adiabatic_potential_temperature_or_equivalent_potential_temperature_surface', 'Temperature_height_above_ground', 'u-component_of_wind_height_above_ground', 'Geopotential_height_highest_tropospheric_freezing', 'MSLP_MAPS_System_Reduction_msl', 'Vertical_velocity_pressure_pressure_difference_layer', 'u-component_of_wind_isobaric', 'Geopotential_height_surface', 'Storm_surface_runoff_surface_1_Hour_Accumulation', 'Wind_speed_gust_surface', 'Dewpoint_depression_or_deficit_height_above_ground', 'Total_cloud_cover_entire_atmosphere', 'Pressure_height_above_ground', 'Geopotential_height_cloud_tops', 'Best_4_layer_Lifted_Index_pressure_difference_layer', 'Simulated_Brightness_Temperature_for_GOES_11_Channel_4_atmosphere_top', 'v-component_of_wind_height_above_ground', 'v-component_of_wind_pressure_difference_layer', 'Echo_top_entire_atmosphere_single_layer', 'Medium_cloud_cover_middle_cloud', 'Moisture_Availability_depth_below_surface', 'Geopotential_height_equilibrium', 'Critical_Angle_height_above_ground_layer', 'Vertical_u-component_shear_height_above_ground_layer', 'Vertical_v-component_shear_height_above_ground_layer', 'Convective_inhibition_pressure_difference_layer', 'Composite_reflectivity_entire_atmosphere', 'Categorical_Freezing_Rain_surface', 'Low_cloud_cover_low_cloud', 'Enhanced_Stretching_Potential_height_above_ground_layer', 'Categorical_Rain_surface', 'Frozen_Rain_surface_Mixed_intervals_Accumulation', 'Convective_available_potential_energy_height_above_ground_layer', 'Pressure_surface', 'Potential_temperature_tropopause', 'v-component_of_wind_tropopause', 'Relative_humidity_highest_tropospheric_freezing', 'Categorical_Ice_Pellets_surface', 'u-component_of_wind_maximum_wind', 'Layer_Thickness_isotherm_layer', 'Precipitable_water_entire_atmosphere_single_layer', 'Geopotential_height_isobaric', 'Relative_humidity_pressure_difference_layer', 'Lightning_surface', 'Planetary_Boundary_Layer_Height_surface', 'Relative_humidity_zeroDegC_isotherm', 'Simulated_Brightness_Temperature_for_GOES_12_Channel_4_atmosphere_top', 'v-component_of_wind_isobaric', 'Total_cloud_cover_boundary_layer_cloud', 'u-component_of_wind_tropopause', 'Temperature_isobaric', 'Potential_temperature_height_above_ground', 'Geopotential_height_zeroDegC_isotherm', 'u-component_of_wind_pressure_difference_layer', 'Geopotential_height_cloud_ceiling', 'Geopotential_height_cloud_base', 'Pressure_highest_tropospheric_freezing', 'Total_snowfall_surface_48_Hour_Accumulation', 'Surface_Lifted_Index_isobaric_layer', 'Temperature_pressure_difference_layer', 'Simulated_Brightness_Temperature_for_GOES_11_Channel_3_atmosphere_top', 'Geopotential_height_convective_cloud_top', 'Precipitation_rate_surface', 'Storm_relative_helicity_height_above_ground_layer', 'V-Component_Storm_Motion_height_above_ground_layer', 'Haines_index_surface', 'Pressure_maximum_wind', 'Simulated_Brightness_Temperature_for_GOES_12_Channel_3_atmosphere_top', 'Aerosol_optical_thickness_entire_atmosphere_single_layer', 'Visibility_surface', 'Freezing_Rain_surface_48_Hour_Accumulation', 'Relative_humidity_isobaric', 'Convective_available_potential_energy_pressure_difference_layer', 'Water_equivalent_of_accumulated_snow_depth_surface_Mixed_intervals_Accumulation', 'Geopotential_height_lowest_level_of_the_wet_bulb_zero', 'Convective_available_potential_energy_surface', 'Relative_Humidity_with_Respect_to_Precipitable_Water_entire_atmosphere', 'Categorical_Snow_surface', 'Absolute_vorticity_isobaric', 'Convective_precipitation_surface_Mixed_intervals_Accumulation', 'Temperature_tropopause', 'Effective_Storm_Relative_Helicity_surface', 'Reflectivity_height_above_ground', 'Relative_humidity_height_above_ground', 'High_cloud_cover_high_cloud', 'Pressure_of_level_from_which_parcel_was_lifted_pressure_difference_layer', 'Geopotential_height_planetary_boundary', 'Pressure_tropopause', 'Specific_humidity_height_above_ground'}\n"
     ]
    },
    {
     "name": "stderr",
     "output_type": "stream",
     "text": [
      "C:\\Users\\Tony\\anaconda3\\lib\\site-packages\\metpy\\calc\\thermo.py:1078: UserWarning: Relative humidity >120%, ensure proper units.\n",
      "  warnings.warn('Relative humidity >120%, ensure proper units.')\n",
      "C:\\Users\\Tony\\anaconda3\\lib\\site-packages\\metpy\\calc\\thermo.py:1078: UserWarning: Relative humidity >120%, ensure proper units.\n",
      "  warnings.warn('Relative humidity >120%, ensure proper units.')\n",
      "C:\\Users\\Tony\\anaconda3\\lib\\site-packages\\metpy\\calc\\thermo.py:1078: UserWarning: Relative humidity >120%, ensure proper units.\n",
      "  warnings.warn('Relative humidity >120%, ensure proper units.')\n"
     ]
    },
    {
     "name": "stdout",
     "output_type": "stream",
     "text": [
      "https://www.ncei.noaa.gov/thredds/catalog/model-rap130/202305/20230501/catalog.html?dataset=rap130/202305/20230501/rap_130_20230501_0300_049.grb2\n"
     ]
    },
    {
     "name": "stderr",
     "output_type": "stream",
     "text": [
      "C:\\Users\\Tony\\anaconda3\\lib\\site-packages\\siphon\\catalog.py:292: UserWarning: URL https://www.ncei.noaa.gov/thredds/catalog/model-rap130/202305/20230501/catalog.html?dataset=rap130/202305/20230501/rap_130_20230501_0300_049.grb2 returned HTML. Changing to: https://www.ncei.noaa.gov/thredds/catalog/model-rap130/202305/20230501/catalog.xml?dataset=rap130/202305/20230501/rap_130_20230501_0300_049.grb2\n",
      "  warnings.warn('URL {} returned HTML. Changing to: {}'.format(self.catalog_url,\n"
     ]
    },
    {
     "name": "stdout",
     "output_type": "stream",
     "text": [
      "{'Pressure_zeroDegC_isotherm', 'Geopotential_height_UnknownLevelType-14', 'Vertical_velocity_pressure_isobaric', 'Total_precipitation_surface_Mixed_intervals_Accumulation', 'Convective_inhibition_surface', 'Baseflow-groundwater_runoff_surface_1_Hour_Accumulation', 'U-Component_Storm_Motion_height_above_ground_layer', 'Temperature_surface', 'Water_equivalent_of_accumulated_snow_depth_surface', 'Dewpoint_temperature_height_above_ground', 'Mass_density_concentration_height_above_ground', 'Snow_depth_surface', 'v-component_of_wind_maximum_wind', 'Geopotential_height_isotherm', 'Pseudo-adiabatic_potential_temperature_or_equivalent_potential_temperature_surface', 'Temperature_height_above_ground', 'u-component_of_wind_height_above_ground', 'Geopotential_height_highest_tropospheric_freezing', 'MSLP_MAPS_System_Reduction_msl', 'Vertical_velocity_pressure_pressure_difference_layer', 'u-component_of_wind_isobaric', 'Freezing_Rain_surface_49_Hour_Accumulation', 'Geopotential_height_surface', 'Storm_surface_runoff_surface_1_Hour_Accumulation', 'Wind_speed_gust_surface', 'Dewpoint_depression_or_deficit_height_above_ground', 'Total_cloud_cover_entire_atmosphere', 'Pressure_height_above_ground', 'Geopotential_height_cloud_tops', 'Best_4_layer_Lifted_Index_pressure_difference_layer', 'Simulated_Brightness_Temperature_for_GOES_11_Channel_4_atmosphere_top', 'v-component_of_wind_height_above_ground', 'v-component_of_wind_pressure_difference_layer', 'Echo_top_entire_atmosphere_single_layer', 'Medium_cloud_cover_middle_cloud', 'Moisture_Availability_depth_below_surface', 'Geopotential_height_equilibrium', 'Critical_Angle_height_above_ground_layer', 'Vertical_u-component_shear_height_above_ground_layer', 'Vertical_v-component_shear_height_above_ground_layer', 'Convective_inhibition_pressure_difference_layer', 'Composite_reflectivity_entire_atmosphere', 'Categorical_Freezing_Rain_surface', 'Low_cloud_cover_low_cloud', 'Enhanced_Stretching_Potential_height_above_ground_layer', 'Categorical_Rain_surface', 'Frozen_Rain_surface_Mixed_intervals_Accumulation', 'Convective_available_potential_energy_height_above_ground_layer', 'Pressure_surface', 'Potential_temperature_tropopause', 'v-component_of_wind_tropopause', 'Relative_humidity_highest_tropospheric_freezing', 'Categorical_Ice_Pellets_surface', 'u-component_of_wind_maximum_wind', 'Layer_Thickness_isotherm_layer', 'Precipitable_water_entire_atmosphere_single_layer', 'Geopotential_height_isobaric', 'Relative_humidity_pressure_difference_layer', 'Lightning_surface', 'Planetary_Boundary_Layer_Height_surface', 'Relative_humidity_zeroDegC_isotherm', 'Simulated_Brightness_Temperature_for_GOES_12_Channel_4_atmosphere_top', 'v-component_of_wind_isobaric', 'Total_cloud_cover_boundary_layer_cloud', 'u-component_of_wind_tropopause', 'Temperature_isobaric', 'Potential_temperature_height_above_ground', 'Geopotential_height_zeroDegC_isotherm', 'u-component_of_wind_pressure_difference_layer', 'Geopotential_height_cloud_ceiling', 'Geopotential_height_cloud_base', 'Pressure_highest_tropospheric_freezing', 'Surface_Lifted_Index_isobaric_layer', 'Temperature_pressure_difference_layer', 'Simulated_Brightness_Temperature_for_GOES_11_Channel_3_atmosphere_top', 'Geopotential_height_convective_cloud_top', 'Precipitation_rate_surface', 'Storm_relative_helicity_height_above_ground_layer', 'V-Component_Storm_Motion_height_above_ground_layer', 'Haines_index_surface', 'Pressure_maximum_wind', 'Simulated_Brightness_Temperature_for_GOES_12_Channel_3_atmosphere_top', 'Aerosol_optical_thickness_entire_atmosphere_single_layer', 'Total_snowfall_surface_49_Hour_Accumulation', 'Visibility_surface', 'Relative_humidity_isobaric', 'Convective_available_potential_energy_pressure_difference_layer', 'Water_equivalent_of_accumulated_snow_depth_surface_Mixed_intervals_Accumulation', 'Geopotential_height_lowest_level_of_the_wet_bulb_zero', 'Convective_available_potential_energy_surface', 'Relative_Humidity_with_Respect_to_Precipitable_Water_entire_atmosphere', 'Categorical_Snow_surface', 'Absolute_vorticity_isobaric', 'Convective_precipitation_surface_Mixed_intervals_Accumulation', 'Temperature_tropopause', 'Effective_Storm_Relative_Helicity_surface', 'Reflectivity_height_above_ground', 'Relative_humidity_height_above_ground', 'High_cloud_cover_high_cloud', 'Pressure_of_level_from_which_parcel_was_lifted_pressure_difference_layer', 'Geopotential_height_planetary_boundary', 'Pressure_tropopause', 'Specific_humidity_height_above_ground'}\n"
     ]
    },
    {
     "name": "stderr",
     "output_type": "stream",
     "text": [
      "C:\\Users\\Tony\\anaconda3\\lib\\site-packages\\metpy\\calc\\thermo.py:1078: UserWarning: Relative humidity >120%, ensure proper units.\n",
      "  warnings.warn('Relative humidity >120%, ensure proper units.')\n",
      "C:\\Users\\Tony\\anaconda3\\lib\\site-packages\\metpy\\calc\\thermo.py:1078: UserWarning: Relative humidity >120%, ensure proper units.\n",
      "  warnings.warn('Relative humidity >120%, ensure proper units.')\n",
      "C:\\Users\\Tony\\anaconda3\\lib\\site-packages\\metpy\\calc\\thermo.py:1078: UserWarning: Relative humidity >120%, ensure proper units.\n",
      "  warnings.warn('Relative humidity >120%, ensure proper units.')\n"
     ]
    },
    {
     "name": "stdout",
     "output_type": "stream",
     "text": [
      "https://www.ncei.noaa.gov/thredds/catalog/model-rap130/202305/20230501/catalog.html?dataset=rap130/202305/20230501/rap_130_20230501_0300_050.grb2\n"
     ]
    },
    {
     "name": "stderr",
     "output_type": "stream",
     "text": [
      "C:\\Users\\Tony\\anaconda3\\lib\\site-packages\\siphon\\catalog.py:292: UserWarning: URL https://www.ncei.noaa.gov/thredds/catalog/model-rap130/202305/20230501/catalog.html?dataset=rap130/202305/20230501/rap_130_20230501_0300_050.grb2 returned HTML. Changing to: https://www.ncei.noaa.gov/thredds/catalog/model-rap130/202305/20230501/catalog.xml?dataset=rap130/202305/20230501/rap_130_20230501_0300_050.grb2\n",
      "  warnings.warn('URL {} returned HTML. Changing to: {}'.format(self.catalog_url,\n"
     ]
    },
    {
     "name": "stdout",
     "output_type": "stream",
     "text": [
      "{'Pressure_zeroDegC_isotherm', 'Geopotential_height_UnknownLevelType-14', 'Vertical_velocity_pressure_isobaric', 'Convective_inhibition_surface', 'Baseflow-groundwater_runoff_surface_1_Hour_Accumulation', 'Total_precipitation_surface_Mixed_intervals_Accumulation', 'U-Component_Storm_Motion_height_above_ground_layer', 'Temperature_surface', 'Water_equivalent_of_accumulated_snow_depth_surface', 'Dewpoint_temperature_height_above_ground', 'Mass_density_concentration_height_above_ground', 'Snow_depth_surface', 'v-component_of_wind_maximum_wind', 'Geopotential_height_isotherm', 'Pseudo-adiabatic_potential_temperature_or_equivalent_potential_temperature_surface', 'Temperature_height_above_ground', 'u-component_of_wind_height_above_ground', 'Geopotential_height_highest_tropospheric_freezing', 'MSLP_MAPS_System_Reduction_msl', 'Vertical_velocity_pressure_pressure_difference_layer', 'u-component_of_wind_isobaric', 'Geopotential_height_surface', 'Storm_surface_runoff_surface_1_Hour_Accumulation', 'Wind_speed_gust_surface', 'Freezing_Rain_surface_50_Hour_Accumulation', 'Dewpoint_depression_or_deficit_height_above_ground', 'Total_cloud_cover_entire_atmosphere', 'Pressure_height_above_ground', 'Geopotential_height_cloud_tops', 'Best_4_layer_Lifted_Index_pressure_difference_layer', 'Simulated_Brightness_Temperature_for_GOES_11_Channel_4_atmosphere_top', 'v-component_of_wind_height_above_ground', 'v-component_of_wind_pressure_difference_layer', 'Echo_top_entire_atmosphere_single_layer', 'Medium_cloud_cover_middle_cloud', 'Moisture_Availability_depth_below_surface', 'Geopotential_height_equilibrium', 'Critical_Angle_height_above_ground_layer', 'Vertical_u-component_shear_height_above_ground_layer', 'Vertical_v-component_shear_height_above_ground_layer', 'Convective_inhibition_pressure_difference_layer', 'Composite_reflectivity_entire_atmosphere', 'Categorical_Freezing_Rain_surface', 'Low_cloud_cover_low_cloud', 'Enhanced_Stretching_Potential_height_above_ground_layer', 'Categorical_Rain_surface', 'Frozen_Rain_surface_Mixed_intervals_Accumulation', 'Convective_available_potential_energy_height_above_ground_layer', 'Pressure_surface', 'Potential_temperature_tropopause', 'v-component_of_wind_tropopause', 'Relative_humidity_highest_tropospheric_freezing', 'Categorical_Ice_Pellets_surface', 'u-component_of_wind_maximum_wind', 'Layer_Thickness_isotherm_layer', 'Precipitable_water_entire_atmosphere_single_layer', 'Geopotential_height_isobaric', 'Relative_humidity_pressure_difference_layer', 'Total_snowfall_surface_50_Hour_Accumulation', 'Lightning_surface', 'Planetary_Boundary_Layer_Height_surface', 'Relative_humidity_zeroDegC_isotherm', 'Simulated_Brightness_Temperature_for_GOES_12_Channel_4_atmosphere_top', 'v-component_of_wind_isobaric', 'Total_cloud_cover_boundary_layer_cloud', 'u-component_of_wind_tropopause', 'Temperature_isobaric', 'Potential_temperature_height_above_ground', 'Geopotential_height_zeroDegC_isotherm', 'u-component_of_wind_pressure_difference_layer', 'Geopotential_height_cloud_ceiling', 'Geopotential_height_cloud_base', 'Pressure_highest_tropospheric_freezing', 'Surface_Lifted_Index_isobaric_layer', 'Temperature_pressure_difference_layer', 'Simulated_Brightness_Temperature_for_GOES_11_Channel_3_atmosphere_top', 'Geopotential_height_convective_cloud_top', 'Precipitation_rate_surface', 'Storm_relative_helicity_height_above_ground_layer', 'V-Component_Storm_Motion_height_above_ground_layer', 'Haines_index_surface', 'Pressure_maximum_wind', 'Simulated_Brightness_Temperature_for_GOES_12_Channel_3_atmosphere_top', 'Aerosol_optical_thickness_entire_atmosphere_single_layer', 'Visibility_surface', 'Relative_humidity_isobaric', 'Convective_available_potential_energy_pressure_difference_layer', 'Water_equivalent_of_accumulated_snow_depth_surface_Mixed_intervals_Accumulation', 'Geopotential_height_lowest_level_of_the_wet_bulb_zero', 'Convective_available_potential_energy_surface', 'Relative_Humidity_with_Respect_to_Precipitable_Water_entire_atmosphere', 'Categorical_Snow_surface', 'Absolute_vorticity_isobaric', 'Temperature_tropopause', 'Convective_precipitation_surface_Mixed_intervals_Accumulation', 'Effective_Storm_Relative_Helicity_surface', 'Reflectivity_height_above_ground', 'Relative_humidity_height_above_ground', 'High_cloud_cover_high_cloud', 'Pressure_of_level_from_which_parcel_was_lifted_pressure_difference_layer', 'Geopotential_height_planetary_boundary', 'Pressure_tropopause', 'Specific_humidity_height_above_ground'}\n"
     ]
    },
    {
     "name": "stderr",
     "output_type": "stream",
     "text": [
      "C:\\Users\\Tony\\anaconda3\\lib\\site-packages\\metpy\\calc\\thermo.py:1078: UserWarning: Relative humidity >120%, ensure proper units.\n",
      "  warnings.warn('Relative humidity >120%, ensure proper units.')\n",
      "C:\\Users\\Tony\\anaconda3\\lib\\site-packages\\metpy\\calc\\thermo.py:1078: UserWarning: Relative humidity >120%, ensure proper units.\n",
      "  warnings.warn('Relative humidity >120%, ensure proper units.')\n",
      "C:\\Users\\Tony\\anaconda3\\lib\\site-packages\\metpy\\calc\\thermo.py:1078: UserWarning: Relative humidity >120%, ensure proper units.\n",
      "  warnings.warn('Relative humidity >120%, ensure proper units.')\n"
     ]
    }
   ],
   "source": [
    "catalog_url_base = 'https://www.ncei.noaa.gov/thredds/catalog/model-rap130/202305/20230501/catalog.html'\n",
    "forecast_hours = [str(i).zfill(3) for i in range(31, 51, 1)]  # Forecast hours 0, 3, 6, ..., 21\n",
    "\n",
    "for forecast_hour in forecast_hours:\n",
    "    catalog_url = f'{catalog_url_base}?dataset=rap130/202305/20230501/rap_130_20230501_0300_{forecast_hour}.grb2'\n",
    "    print(catalog_url)\n",
    "    cat = TDSCatalog(catalog_url)\n",
    "    ncss = cat.datasets[0].subset()\n",
    "    print(ncss.variables)\n",
    "\n",
    "    query = ncss.query()\n",
    "    query.lonlat_box(north=65, south=15, east=310, west=220)\n",
    "    query.accept('netcdf')\n",
    "\n",
    "    query.variables('Temperature_isobaric', 'Relative_humidity_isobaric', 'u-component_of_wind_isobaric', 'v-component_of_wind_isobaric')\n",
    "\n",
    "    data = ncss.get_data(query)\n",
    "\n",
    "    temp_var = data.variables['Temperature_isobaric']\n",
    "    rh_var = data.variables['Relative_humidity_isobaric']\n",
    "    u_wind_var850 = data.variables['u-component_of_wind_isobaric'][:] * units('m/s')\n",
    "    v_wind_var850 = data.variables['v-component_of_wind_isobaric'][:] * units('m/s')\n",
    "    time_var = data.variables[find_time_var(rh_var)]\n",
    "\n",
    "    temp = temp_var[:].squeeze()\n",
    "    rh_var = rh_var[:].squeeze()\n",
    "    u_wind850 = u_wind_var850[:].squeeze()\n",
    "    v_wind850 = v_wind_var850[:].squeeze()\n",
    "\n",
    "    temp = units.Quantity(temp, 'kelvin')\n",
    "    temp = temp.to('degC')\n",
    "\n",
    "    u_wind850 = units.Quantity(u_wind850, 'm/s')\n",
    "    v_wind850 = units.Quantity(v_wind850, 'm/s')\n",
    "\n",
    "    wnd = mpcalc.wind_speed(u_wind850, v_wind850)\n",
    "    wnd = wnd.to('kt')\n",
    "\n",
    "    time = num2date(time_var[:].squeeze(), time_var.units)\n",
    "\n",
    "    nc = xr.open_dataset(xr.backends.NetCDF4DataStore(data)).metpy.parse_cf()\n",
    "    uvar_name = 'Temperature_isobaric'\n",
    "    uvar = nc[uvar_name]\n",
    "    ref_name = 'Relative_humidity_isobaric'\n",
    "    ref = nc[ref_name]\n",
    "    grid = nc[uvar.grid_mapping]\n",
    "    uwnd = nc['u-component_of_wind_isobaric']\n",
    "    vwnd = nc['v-component_of_wind_isobaric']\n",
    "\n",
    "    plot_data(data, time)\n"
   ]
  }
 ],
 "metadata": {
  "kernelspec": {
   "display_name": "base",
   "language": "python",
   "name": "python3"
  },
  "language_info": {
   "codemirror_mode": {
    "name": "ipython",
    "version": 3
   },
   "file_extension": ".py",
   "mimetype": "text/x-python",
   "name": "python",
   "nbconvert_exporter": "python",
   "pygments_lexer": "ipython3",
   "version": "3.9.16"
  },
  "orig_nbformat": 4
 },
 "nbformat": 4,
 "nbformat_minor": 2
}
