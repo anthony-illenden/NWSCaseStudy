{
 "cells": [
  {
   "cell_type": "code",
   "execution_count": 42,
   "metadata": {},
   "outputs": [],
   "source": [
    "from datetime import datetime\n",
    "import cartopy.crs as ccrs\n",
    "import cartopy.feature as cfeature\n",
    "import matplotlib.pyplot as plt\n",
    "from metpy.units import units\n",
    "from netCDF4 import num2date\n",
    "import numpy as np\n",
    "import scipy.ndimage as ndimage\n",
    "from siphon.catalog import TDSCatalog\n",
    "from siphon.ncss import NCSS\n",
    "import metpy.calc as mpcalc\n",
    "import xarray as xr\n",
    "from metpy.plots import USCOUNTIES"
   ]
  },
  {
   "cell_type": "code",
   "execution_count": 43,
   "metadata": {},
   "outputs": [],
   "source": [
    "# Helper function for finding proper time variable\n",
    "def find_time_var(var, time_basename='time'):\n",
    "    for coord_name in var.coordinates.split():\n",
    "        if coord_name.startswith(time_basename):\n",
    "            return coord_name\n",
    "    raise ValueError('No time variable found for ' + var.name)\n",
    "def calculate_dewpoint(temperature, relative_humidity):\n",
    "    a = 17.27\n",
    "    b = 237.7\n",
    "    # Convert relative humidity from percentage to fraction\n",
    "    relative_humidity = relative_humidity / 100.0\n",
    "    alpha = ((a * temperature) / (b + temperature)) + np.log(relative_humidity)\n",
    "    dewpoint = (b * alpha) / (a - alpha)\n",
    "    return dewpoint\n",
    "\n",
    "def calculate_theta_e(temperature, pressure, relative_humidity):\n",
    "    # Convert relative humidity from percentage to fraction\n",
    "    relative_humidity = relative_humidity / 100.0\n",
    "\n",
    "    # Calculate dew point temperature\n",
    "    dewpoint = calculate_dewpoint(temperature, relative_humidity)\n",
    "\n",
    "    # Calculate virtual temperature\n",
    "    virtual_temperature = temperature * (1 + 0.61 * relative_humidity)\n",
    "\n",
    "    # Calculate the ratio of potential temperatures\n",
    "    theta_ratio = 373.15 / (dewpoint + 273.15)  # 373.15 K is the reference temperature\n",
    "\n",
    "    # Calculate the equivalent potential temperature (theta-e)\n",
    "    theta_e = virtual_temperature * theta_ratio ** 0.2854\n",
    "\n",
    "    return theta_e\n",
    "\n",
    "def calc_thetae(temperature, pressure, mixing_ratio):\n",
    "    theta = temperature * (1000.0 / pressure) ** 0.286 + 3 * mixing_ratio\n",
    "    return theta\n",
    "\n",
    "def plot_data(data, time):\n",
    "    istep = 0\n",
    "    level = 850000\n",
    "    h1000 = 1000\n",
    "    h900 = 900\n",
    "    h850 = 850\n",
    "    h700 = 700\n",
    "    time_dim_name = list(uvar.dims)[0]\n",
    "\n",
    "    tempk_h1000 = uvar.sel(isobaric=1000*100, method='nearest').isel(**{time_dim_name: istep}).data\n",
    "    temp_h1000 = tempk_h1000 \n",
    "    temp_h1000 = units.Quantity(temp_h1000, 'K')\n",
    "    rh_h1000 = ref.sel(isobaric=1000*100, method='nearest').isel(**{time_dim_name: istep}).data\n",
    "    td_h1000 = mpcalc.dewpoint_from_relative_humidity(temp_h1000, rh_h1000)\n",
    "    uwnd_h1000 = uwnd.sel(isobaric=1000*100, method='nearest').isel(**{time_dim_name: istep}).data\n",
    "    vwnd_h1000 = vwnd.sel(isobaric=1000*100, method='nearest').isel(**{time_dim_name: istep}).data\n",
    "\n",
    "\n",
    "    tempk_h850 = uvar.sel(isobaric=h850*100, method='nearest').isel(**{time_dim_name: istep}).data\n",
    "    temp_h850 = tempk_h850 \n",
    "    temp_h850 = units.Quantity(temp_h850, 'K')\n",
    "    rh_h850 = ref.sel(isobaric=h850*100, method='nearest').isel(**{time_dim_name: istep}).data\n",
    "    td_h850 = mpcalc.dewpoint_from_relative_humidity(temp_h850, rh_h850)\n",
    "\n",
    "    tempk_h700 = uvar.sel(isobaric=h700*100, method='nearest').isel(**{time_dim_name: istep}).data\n",
    "    temp_h700 = tempk_h700 \n",
    "    temp_h700 = units.Quantity(temp_h700, 'K')\n",
    "    rh_h700 = ref.sel(isobaric=h700*100, method='nearest').isel(**{time_dim_name: istep}).data\n",
    "    td_h700 = mpcalc.dewpoint_from_relative_humidity(temp_h700, rh_h700)\n",
    "\n",
    "    mixingratio_h1000 = mpcalc.mixing_ratio_from_relative_humidity(h1000*units.hPa, (tempk_h1000 - 273.15) * units.degC, rh_h1000 / 100).to('g/kg')\n",
    "    mixingratio_h850 = mpcalc.mixing_ratio_from_relative_humidity(h850*units.hPa, (tempk_h850 - 273.15) * units.degC, rh_h850 / 100).to('g/kg')\n",
    "    mixingratio_h700 = mpcalc.mixing_ratio_from_relative_humidity(h700*units.hPa, (tempk_h700 - 273.15) * units.degC, rh_h700 / 100).to('g/kg')\n",
    "\n",
    "    new_thetah1000 = calc_thetae(tempk_h1000, h1000, mixingratio_h1000.magnitude)\n",
    "    new_thetah850 = calc_thetae(tempk_h850, h850, mixingratio_h850.magnitude)\n",
    "    new_thetah700 = calc_thetae(tempk_h700, h1000, mixingratio_h700.magnitude)\n",
    "    \n",
    "    thetae_h1000 = calculate_theta_e(tempk_h1000, h1000*100, rh_h1000)\n",
    "    thetae_h850 = calculate_theta_e(tempk_h850, h850*100, rh_h850)\n",
    "    thetae_h700 = calculate_theta_e(tempk_h700, h700*100, rh_h700)\n",
    "\n",
    "    lon = np.linspace(-92, -80, tempk_h850.shape[1])\n",
    "    lat = np.linspace(40, 49, tempk_h850.shape[0])\n",
    "\n",
    "    thetae_h1000_da = xr.DataArray(thetae_h1000, dims=('lat', 'lon'), coords={'lat': lat, 'lon': lon})\n",
    "    thetae_h850_da = xr.DataArray(thetae_h850, dims=('lat', 'lon'), coords={'lat': lat, 'lon': lon})\n",
    "    thetae_h700_da = xr.DataArray(thetae_h700, dims=('lat', 'lon'), coords={'lat': lat, 'lon': lon})\n",
    "    new_thetae_h1000_da = xr.DataArray(new_thetah1000, dims=('lat', 'lon'), coords={'lat': lat, 'lon': lon})\n",
    "    new_thetae_h850_da = xr.DataArray(new_thetah850, dims=('lat', 'lon'), coords={'lat': lat, 'lon': lon})\n",
    "    new_thetae_h700_da = xr.DataArray(new_thetah700, dims=('lat', 'lon'), coords={'lat': lat, 'lon': lon})\n",
    "\n",
    "    new_theta_lapserate_1500 = (new_thetah850 - new_thetah1000) / 1.5\n",
    "    new_theta_lapserate_3000 = (new_thetah700 - new_thetah1000) / 3\n",
    "\n",
    "    lapse_rate_1500 = (tempk_h850 - tempk_h1000) / 1.5\n",
    "    lapse_rate_3000 = (tempk_h700 - tempk_h1000) / 3.0\n",
    "\n",
    "    lon = np.linspace(-92, -80, tempk_h850.shape[1])\n",
    "    lat = np.linspace(40, 49, tempk_h850.shape[0])\n",
    "    orig_map=plt.cm.get_cmap('Reds')\n",
    "  \n",
    "    cmap = orig_map.reversed()\n",
    "    under_color = cmap(cmap.N - 1)\n",
    "\n",
    "    lon0 = grid.longitude_of_central_meridian\n",
    "    lat0 = grid.latitude_of_projection_origin\n",
    "    lat1 = grid.standard_parallel\n",
    "    earth_radius = grid.earth_radius\n",
    "\n",
    "    globe = ccrs.Globe(ellipse='sphere', semimajor_axis=grid.earth_radius)\n",
    "    datacrs = ccrs.PlateCarree() \n",
    "    crs = ccrs.LambertConformal(central_longitude=lon0, central_latitude=lat0, \n",
    "                            standard_parallels=(lat0, lat1), globe=globe)\n",
    "    \n",
    "    fig = plt.figure(figsize=(18, 12)) \n",
    "    ax = fig.add_subplot(1, 1, 1, projection=crs) \n",
    "    \n",
    "    ax.set_extent([-90.5, -84.0, 45.5, 48], datacrs) \n",
    "\n",
    "    ax.add_feature(cfeature.STATES, edgecolor='black', linewidth=2)\n",
    "    ax.add_feature(USCOUNTIES.with_scale('5m'), linewidth=0.25, alpha = 0.5)\n",
    "\n",
    "    cf = ax.contourf(thetae_h850_da.metpy.x, thetae_h850_da.metpy.y, ndimage.gaussian_filter(lapse_rate_1500, sigma=3, order=0),\n",
    "                    levels=range(-11, 1, 1), transform=ccrs.PlateCarree(), cmap=cmap, extend='min', under=under_color)\n",
    "    plt.colorbar(cf, orientation='horizontal', aspect=65, pad=0, label = 'Lapse Rate (C/KM)', shrink=.94)\n",
    "\n",
    "    c = ax.contour(thetae_h850_da.metpy.x, thetae_h850_da.metpy.y, ndimage.gaussian_filter(lapse_rate_1500, sigma=3, order=0), levels=range(-11, 1, 1), colors='black', transform=datacrs)\n",
    "    ax.clabel(c, fontsize=12, inline=1, inline_spacing=4, fmt='%i')\n",
    "\n",
    "    plt.title('RAP 0-1.5KM Lapse Rate')\n",
    "    plt.title('VALID: {:s}z'.format(str(time)), loc='right')\n",
    "    plt.savefig(r\"C:\\Users\\Tony\\Desktop\\test\\new_RAP\\15\\RAP_Reanalysis_LR15{:s}z.png\".format(str(time).replace(':', '_')), bbox_inches='tight')\n",
    "    plt.show()\n",
    "    plt.close()"
   ]
  },
  {
   "cell_type": "code",
   "execution_count": 44,
   "metadata": {},
   "outputs": [
    {
     "name": "stdout",
     "output_type": "stream",
     "text": [
      "https://www.ncei.noaa.gov/thredds/catalog/model-rap130/202305/20230501/catalog.html?dataset=rap130/202305/20230501/rap_130_20230501_0300_000.grb2\n"
     ]
    },
    {
     "name": "stderr",
     "output_type": "stream",
     "text": [
      "C:\\Users\\Tony\\anaconda3\\lib\\site-packages\\siphon\\catalog.py:292: UserWarning: URL https://www.ncei.noaa.gov/thredds/catalog/model-rap130/202305/20230501/catalog.html?dataset=rap130/202305/20230501/rap_130_20230501_0300_000.grb2 returned HTML. Changing to: https://www.ncei.noaa.gov/thredds/catalog/model-rap130/202305/20230501/catalog.xml?dataset=rap130/202305/20230501/rap_130_20230501_0300_000.grb2\n",
      "  warnings.warn('URL {} returned HTML. Changing to: {}'.format(self.catalog_url,\n"
     ]
    },
    {
     "name": "stdout",
     "output_type": "stream",
     "text": [
      "{'High_cloud_cover_high_cloud', 'Best_4_layer_Lifted_Index_pressure_difference_layer', 'U-Component_Storm_Motion_height_above_ground_layer', 'Convective_inhibition_pressure_difference_layer', 'Geopotential_height_UnknownLevelType-14', 'Simulated_Brightness_Temperature_for_GOES_11_Channel_4_atmosphere_top', 'Moisture_Availability_depth_below_surface', 'Geopotential_height_lowest_level_of_the_wet_bulb_zero', 'v-component_of_wind_isobaric', 'u-component_of_wind_pressure_difference_layer', 'Relative_humidity_pressure_difference_layer', 'Enhanced_Stretching_Potential_height_above_ground_layer', 'Vertical_velocity_pressure_isobaric', 'Effective_Storm_Relative_Helicity_surface', 'Temperature_pressure_difference_layer', 'Categorical_Ice_Pellets_surface', 'Categorical_Snow_surface', 'Haines_index_surface', 'Composite_reflectivity_entire_atmosphere', 'Pressure_maximum_wind', 'Vertical_velocity_pressure_pressure_difference_layer', 'Relative_humidity_zeroDegC_isotherm', 'Water_equivalent_of_accumulated_snow_depth_surface', 'Wind_speed_gust_surface', 'Aerosol_optical_thickness_entire_atmosphere_single_layer', 'u-component_of_wind_height_above_ground', 'Dewpoint_temperature_height_above_ground', 'Geopotential_height_equilibrium', 'Pressure_tropopause', 'Pressure_of_level_from_which_parcel_was_lifted_pressure_difference_layer', 'Medium_cloud_cover_middle_cloud', 'Snow_depth_surface', 'Pseudo-adiabatic_potential_temperature_or_equivalent_potential_temperature_surface', 'Temperature_height_above_ground', 'Categorical_Rain_surface', 'V-Component_Storm_Motion_height_above_ground_layer', 'Precipitation_rate_surface', 'Simulated_Brightness_Temperature_for_GOES_12_Channel_3_atmosphere_top', 'Reflectivity_height_above_ground', 'Critical_Angle_height_above_ground_layer', 'v-component_of_wind_maximum_wind', 'Potential_temperature_height_above_ground', 'Surface_Lifted_Index_isobaric_layer', 'Temperature_tropopause', 'Convective_available_potential_energy_pressure_difference_layer', 'Simulated_Brightness_Temperature_for_GOES_12_Channel_4_atmosphere_top', 'u-component_of_wind_maximum_wind', 'Geopotential_height_cloud_ceiling', 'Relative_humidity_isobaric', 'v-component_of_wind_height_above_ground', 'Geopotential_height_highest_tropospheric_freezing', 'Potential_temperature_tropopause', 'Visibility_surface', 'Total_cloud_cover_boundary_layer_cloud', 'MSLP_MAPS_System_Reduction_msl', 'Convective_available_potential_energy_surface', 'Geopotential_height_isotherm', 'Specific_humidity_height_above_ground', 'Mass_density_concentration_height_above_ground', 'Geopotential_height_cloud_base', 'Storm_relative_helicity_height_above_ground_layer', 'Convective_available_potential_energy_height_above_ground_layer', 'Temperature_surface', 'Geopotential_height_zeroDegC_isotherm', 'Pressure_zeroDegC_isotherm', 'v-component_of_wind_pressure_difference_layer', 'Geopotential_height_cloud_tops', 'Geopotential_height_convective_cloud_top', 'Pressure_highest_tropospheric_freezing', 'Vertical_u-component_shear_height_above_ground_layer', 'Vertical_v-component_shear_height_above_ground_layer', 'Convective_inhibition_surface', 'Dewpoint_depression_or_deficit_height_above_ground', 'Total_cloud_cover_entire_atmosphere', 'Relative_humidity_height_above_ground', 'u-component_of_wind_tropopause', 'Absolute_vorticity_isobaric', 'Pressure_surface', 'v-component_of_wind_tropopause', 'Planetary_Boundary_Layer_Height_surface', 'Geopotential_height_isobaric', 'Precipitable_water_entire_atmosphere_single_layer', 'Lightning_surface', 'Layer_Thickness_isotherm_layer', 'Relative_humidity_highest_tropospheric_freezing', 'Relative_Humidity_with_Respect_to_Precipitable_Water_entire_atmosphere', 'Simulated_Brightness_Temperature_for_GOES_11_Channel_3_atmosphere_top', 'Low_cloud_cover_low_cloud', 'Pressure_height_above_ground', 'Echo_top_entire_atmosphere_single_layer', 'u-component_of_wind_isobaric', 'Geopotential_height_planetary_boundary', 'Geopotential_height_surface', 'Categorical_Freezing_Rain_surface', 'Temperature_isobaric'}\n"
     ]
    },
    {
     "name": "stderr",
     "output_type": "stream",
     "text": [
      "C:\\Users\\Tony\\anaconda3\\lib\\site-packages\\metpy\\calc\\thermo.py:1078: UserWarning: Relative humidity >120%, ensure proper units.\n",
      "  warnings.warn('Relative humidity >120%, ensure proper units.')\n",
      "C:\\Users\\Tony\\anaconda3\\lib\\site-packages\\metpy\\calc\\thermo.py:1078: UserWarning: Relative humidity >120%, ensure proper units.\n",
      "  warnings.warn('Relative humidity >120%, ensure proper units.')\n",
      "C:\\Users\\Tony\\anaconda3\\lib\\site-packages\\metpy\\calc\\thermo.py:1078: UserWarning: Relative humidity >120%, ensure proper units.\n",
      "  warnings.warn('Relative humidity >120%, ensure proper units.')\n",
      "C:\\Users\\Tony\\anaconda3\\lib\\site-packages\\cartopy\\mpl\\geoaxes.py:1662: UserWarning: The following kwargs were not used by contour: 'under'\n",
      "  result = super().contourf(*args, **kwargs)\n"
     ]
    },
    {
     "name": "stdout",
     "output_type": "stream",
     "text": [
      "https://www.ncei.noaa.gov/thredds/catalog/model-rap130/202305/20230501/catalog.html?dataset=rap130/202305/20230501/rap_130_20230501_0300_001.grb2\n"
     ]
    },
    {
     "name": "stderr",
     "output_type": "stream",
     "text": [
      "C:\\Users\\Tony\\anaconda3\\lib\\site-packages\\siphon\\catalog.py:292: UserWarning: URL https://www.ncei.noaa.gov/thredds/catalog/model-rap130/202305/20230501/catalog.html?dataset=rap130/202305/20230501/rap_130_20230501_0300_001.grb2 returned HTML. Changing to: https://www.ncei.noaa.gov/thredds/catalog/model-rap130/202305/20230501/catalog.xml?dataset=rap130/202305/20230501/rap_130_20230501_0300_001.grb2\n",
      "  warnings.warn('URL {} returned HTML. Changing to: {}'.format(self.catalog_url,\n"
     ]
    },
    {
     "name": "stdout",
     "output_type": "stream",
     "text": [
      "{'High_cloud_cover_high_cloud', 'Best_4_layer_Lifted_Index_pressure_difference_layer', 'U-Component_Storm_Motion_height_above_ground_layer', 'Convective_inhibition_pressure_difference_layer', 'Geopotential_height_UnknownLevelType-14', 'Simulated_Brightness_Temperature_for_GOES_11_Channel_4_atmosphere_top', 'Moisture_Availability_depth_below_surface', 'Geopotential_height_lowest_level_of_the_wet_bulb_zero', 'v-component_of_wind_isobaric', 'u-component_of_wind_pressure_difference_layer', 'Water_equivalent_of_accumulated_snow_depth_surface_1_Hour_Accumulation', 'Relative_humidity_pressure_difference_layer', 'Enhanced_Stretching_Potential_height_above_ground_layer', 'Vertical_velocity_pressure_isobaric', 'Effective_Storm_Relative_Helicity_surface', 'Temperature_pressure_difference_layer', 'Categorical_Ice_Pellets_surface', 'Categorical_Snow_surface', 'Haines_index_surface', 'Composite_reflectivity_entire_atmosphere', 'Pressure_maximum_wind', 'Vertical_velocity_pressure_pressure_difference_layer', 'Relative_humidity_zeroDegC_isotherm', 'Water_equivalent_of_accumulated_snow_depth_surface', 'Wind_speed_gust_surface', 'Aerosol_optical_thickness_entire_atmosphere_single_layer', 'u-component_of_wind_height_above_ground', 'Dewpoint_temperature_height_above_ground', 'Geopotential_height_equilibrium', 'Pressure_tropopause', 'Pressure_of_level_from_which_parcel_was_lifted_pressure_difference_layer', 'Medium_cloud_cover_middle_cloud', 'Snow_depth_surface', 'Pseudo-adiabatic_potential_temperature_or_equivalent_potential_temperature_surface', 'Temperature_height_above_ground', 'Categorical_Rain_surface', 'V-Component_Storm_Motion_height_above_ground_layer', 'Precipitation_rate_surface', 'Simulated_Brightness_Temperature_for_GOES_12_Channel_3_atmosphere_top', 'Reflectivity_height_above_ground', 'Critical_Angle_height_above_ground_layer', 'v-component_of_wind_maximum_wind', 'Potential_temperature_height_above_ground', 'Freezing_Rain_surface_1_Hour_Accumulation', 'Surface_Lifted_Index_isobaric_layer', 'Temperature_tropopause', 'Convective_available_potential_energy_pressure_difference_layer', 'Simulated_Brightness_Temperature_for_GOES_12_Channel_4_atmosphere_top', 'u-component_of_wind_maximum_wind', 'Frozen_Rain_surface_1_Hour_Accumulation', 'Geopotential_height_cloud_ceiling', 'Relative_humidity_isobaric', 'Total_precipitation_surface_1_Hour_Accumulation', 'v-component_of_wind_height_above_ground', 'Geopotential_height_highest_tropospheric_freezing', 'Potential_temperature_tropopause', 'Total_snowfall_surface_1_Hour_Accumulation', 'Visibility_surface', 'Total_cloud_cover_boundary_layer_cloud', 'MSLP_MAPS_System_Reduction_msl', 'Convective_available_potential_energy_surface', 'Geopotential_height_isotherm', 'Specific_humidity_height_above_ground', 'Mass_density_concentration_height_above_ground', 'Geopotential_height_cloud_base', 'Storm_relative_helicity_height_above_ground_layer', 'Convective_available_potential_energy_height_above_ground_layer', 'Temperature_surface', 'Geopotential_height_zeroDegC_isotherm', 'Pressure_zeroDegC_isotherm', 'v-component_of_wind_pressure_difference_layer', 'Geopotential_height_cloud_tops', 'Geopotential_height_convective_cloud_top', 'Pressure_highest_tropospheric_freezing', 'Storm_surface_runoff_surface_1_Hour_Accumulation', 'Vertical_u-component_shear_height_above_ground_layer', 'Vertical_v-component_shear_height_above_ground_layer', 'Convective_precipitation_surface_1_Hour_Accumulation', 'Convective_inhibition_surface', 'Dewpoint_depression_or_deficit_height_above_ground', 'Total_cloud_cover_entire_atmosphere', 'Relative_humidity_height_above_ground', 'u-component_of_wind_tropopause', 'Absolute_vorticity_isobaric', 'Pressure_surface', 'v-component_of_wind_tropopause', 'Planetary_Boundary_Layer_Height_surface', 'Geopotential_height_isobaric', 'Precipitable_water_entire_atmosphere_single_layer', 'Lightning_surface', 'Layer_Thickness_isotherm_layer', 'Relative_humidity_highest_tropospheric_freezing', 'Relative_Humidity_with_Respect_to_Precipitable_Water_entire_atmosphere', 'Simulated_Brightness_Temperature_for_GOES_11_Channel_3_atmosphere_top', 'Baseflow-groundwater_runoff_surface_1_Hour_Accumulation', 'Low_cloud_cover_low_cloud', 'Pressure_height_above_ground', 'Echo_top_entire_atmosphere_single_layer', 'u-component_of_wind_isobaric', 'Geopotential_height_planetary_boundary', 'Geopotential_height_surface', 'Categorical_Freezing_Rain_surface', 'Temperature_isobaric'}\n"
     ]
    },
    {
     "name": "stderr",
     "output_type": "stream",
     "text": [
      "C:\\Users\\Tony\\anaconda3\\lib\\site-packages\\metpy\\calc\\thermo.py:1078: UserWarning: Relative humidity >120%, ensure proper units.\n",
      "  warnings.warn('Relative humidity >120%, ensure proper units.')\n",
      "C:\\Users\\Tony\\anaconda3\\lib\\site-packages\\metpy\\calc\\thermo.py:1078: UserWarning: Relative humidity >120%, ensure proper units.\n",
      "  warnings.warn('Relative humidity >120%, ensure proper units.')\n",
      "C:\\Users\\Tony\\anaconda3\\lib\\site-packages\\metpy\\calc\\thermo.py:1078: UserWarning: Relative humidity >120%, ensure proper units.\n",
      "  warnings.warn('Relative humidity >120%, ensure proper units.')\n",
      "C:\\Users\\Tony\\anaconda3\\lib\\site-packages\\cartopy\\mpl\\geoaxes.py:1662: UserWarning: The following kwargs were not used by contour: 'under'\n",
      "  result = super().contourf(*args, **kwargs)\n"
     ]
    },
    {
     "name": "stdout",
     "output_type": "stream",
     "text": [
      "https://www.ncei.noaa.gov/thredds/catalog/model-rap130/202305/20230501/catalog.html?dataset=rap130/202305/20230501/rap_130_20230501_0300_002.grb2\n"
     ]
    },
    {
     "name": "stderr",
     "output_type": "stream",
     "text": [
      "C:\\Users\\Tony\\anaconda3\\lib\\site-packages\\siphon\\catalog.py:292: UserWarning: URL https://www.ncei.noaa.gov/thredds/catalog/model-rap130/202305/20230501/catalog.html?dataset=rap130/202305/20230501/rap_130_20230501_0300_002.grb2 returned HTML. Changing to: https://www.ncei.noaa.gov/thredds/catalog/model-rap130/202305/20230501/catalog.xml?dataset=rap130/202305/20230501/rap_130_20230501_0300_002.grb2\n",
      "  warnings.warn('URL {} returned HTML. Changing to: {}'.format(self.catalog_url,\n"
     ]
    },
    {
     "name": "stdout",
     "output_type": "stream",
     "text": [
      "{'High_cloud_cover_high_cloud', 'Best_4_layer_Lifted_Index_pressure_difference_layer', 'U-Component_Storm_Motion_height_above_ground_layer', 'Convective_inhibition_pressure_difference_layer', 'Geopotential_height_UnknownLevelType-14', 'Simulated_Brightness_Temperature_for_GOES_11_Channel_4_atmosphere_top', 'Moisture_Availability_depth_below_surface', 'Geopotential_height_lowest_level_of_the_wet_bulb_zero', 'v-component_of_wind_isobaric', 'u-component_of_wind_pressure_difference_layer', 'Relative_humidity_pressure_difference_layer', 'Enhanced_Stretching_Potential_height_above_ground_layer', 'Vertical_velocity_pressure_isobaric', 'Effective_Storm_Relative_Helicity_surface', 'Freezing_Rain_surface_2_Hour_Accumulation', 'Temperature_pressure_difference_layer', 'Categorical_Ice_Pellets_surface', 'Categorical_Snow_surface', 'Haines_index_surface', 'Composite_reflectivity_entire_atmosphere', 'Pressure_maximum_wind', 'Vertical_velocity_pressure_pressure_difference_layer', 'Relative_humidity_zeroDegC_isotherm', 'Water_equivalent_of_accumulated_snow_depth_surface', 'Wind_speed_gust_surface', 'Aerosol_optical_thickness_entire_atmosphere_single_layer', 'u-component_of_wind_height_above_ground', 'Dewpoint_temperature_height_above_ground', 'Geopotential_height_equilibrium', 'Pressure_tropopause', 'Pressure_of_level_from_which_parcel_was_lifted_pressure_difference_layer', 'Medium_cloud_cover_middle_cloud', 'Snow_depth_surface', 'Pseudo-adiabatic_potential_temperature_or_equivalent_potential_temperature_surface', 'Frozen_Rain_surface_Mixed_intervals_Accumulation', 'Temperature_height_above_ground', 'Categorical_Rain_surface', 'V-Component_Storm_Motion_height_above_ground_layer', 'Precipitation_rate_surface', 'Simulated_Brightness_Temperature_for_GOES_12_Channel_3_atmosphere_top', 'Reflectivity_height_above_ground', 'Critical_Angle_height_above_ground_layer', 'v-component_of_wind_maximum_wind', 'Water_equivalent_of_accumulated_snow_depth_surface_Mixed_intervals_Accumulation', 'Potential_temperature_height_above_ground', 'Surface_Lifted_Index_isobaric_layer', 'Temperature_tropopause', 'Convective_available_potential_energy_pressure_difference_layer', 'Simulated_Brightness_Temperature_for_GOES_12_Channel_4_atmosphere_top', 'u-component_of_wind_maximum_wind', 'Geopotential_height_cloud_ceiling', 'Relative_humidity_isobaric', 'Total_snowfall_surface_2_Hour_Accumulation', 'v-component_of_wind_height_above_ground', 'Geopotential_height_highest_tropospheric_freezing', 'Potential_temperature_tropopause', 'Visibility_surface', 'Total_cloud_cover_boundary_layer_cloud', 'MSLP_MAPS_System_Reduction_msl', 'Convective_available_potential_energy_surface', 'Geopotential_height_isotherm', 'Specific_humidity_height_above_ground', 'Mass_density_concentration_height_above_ground', 'Geopotential_height_cloud_base', 'Storm_relative_helicity_height_above_ground_layer', 'Convective_available_potential_energy_height_above_ground_layer', 'Temperature_surface', 'Geopotential_height_zeroDegC_isotherm', 'Pressure_zeroDegC_isotherm', 'v-component_of_wind_pressure_difference_layer', 'Geopotential_height_cloud_tops', 'Geopotential_height_convective_cloud_top', 'Pressure_highest_tropospheric_freezing', 'Storm_surface_runoff_surface_1_Hour_Accumulation', 'Total_precipitation_surface_Mixed_intervals_Accumulation', 'Vertical_u-component_shear_height_above_ground_layer', 'Vertical_v-component_shear_height_above_ground_layer', 'Convective_inhibition_surface', 'Dewpoint_depression_or_deficit_height_above_ground', 'Total_cloud_cover_entire_atmosphere', 'Relative_humidity_height_above_ground', 'u-component_of_wind_tropopause', 'Absolute_vorticity_isobaric', 'Pressure_surface', 'v-component_of_wind_tropopause', 'Planetary_Boundary_Layer_Height_surface', 'Geopotential_height_isobaric', 'Precipitable_water_entire_atmosphere_single_layer', 'Lightning_surface', 'Convective_precipitation_surface_Mixed_intervals_Accumulation', 'Layer_Thickness_isotherm_layer', 'Relative_humidity_highest_tropospheric_freezing', 'Relative_Humidity_with_Respect_to_Precipitable_Water_entire_atmosphere', 'Simulated_Brightness_Temperature_for_GOES_11_Channel_3_atmosphere_top', 'Baseflow-groundwater_runoff_surface_1_Hour_Accumulation', 'Low_cloud_cover_low_cloud', 'Pressure_height_above_ground', 'Echo_top_entire_atmosphere_single_layer', 'u-component_of_wind_isobaric', 'Geopotential_height_planetary_boundary', 'Geopotential_height_surface', 'Categorical_Freezing_Rain_surface', 'Temperature_isobaric'}\n"
     ]
    },
    {
     "name": "stderr",
     "output_type": "stream",
     "text": [
      "C:\\Users\\Tony\\anaconda3\\lib\\site-packages\\metpy\\calc\\thermo.py:1078: UserWarning: Relative humidity >120%, ensure proper units.\n",
      "  warnings.warn('Relative humidity >120%, ensure proper units.')\n",
      "C:\\Users\\Tony\\anaconda3\\lib\\site-packages\\metpy\\calc\\thermo.py:1078: UserWarning: Relative humidity >120%, ensure proper units.\n",
      "  warnings.warn('Relative humidity >120%, ensure proper units.')\n",
      "C:\\Users\\Tony\\anaconda3\\lib\\site-packages\\metpy\\calc\\thermo.py:1078: UserWarning: Relative humidity >120%, ensure proper units.\n",
      "  warnings.warn('Relative humidity >120%, ensure proper units.')\n",
      "C:\\Users\\Tony\\anaconda3\\lib\\site-packages\\cartopy\\mpl\\geoaxes.py:1662: UserWarning: The following kwargs were not used by contour: 'under'\n",
      "  result = super().contourf(*args, **kwargs)\n"
     ]
    },
    {
     "name": "stdout",
     "output_type": "stream",
     "text": [
      "https://www.ncei.noaa.gov/thredds/catalog/model-rap130/202305/20230501/catalog.html?dataset=rap130/202305/20230501/rap_130_20230501_0300_003.grb2\n"
     ]
    },
    {
     "name": "stderr",
     "output_type": "stream",
     "text": [
      "C:\\Users\\Tony\\anaconda3\\lib\\site-packages\\siphon\\catalog.py:292: UserWarning: URL https://www.ncei.noaa.gov/thredds/catalog/model-rap130/202305/20230501/catalog.html?dataset=rap130/202305/20230501/rap_130_20230501_0300_003.grb2 returned HTML. Changing to: https://www.ncei.noaa.gov/thredds/catalog/model-rap130/202305/20230501/catalog.xml?dataset=rap130/202305/20230501/rap_130_20230501_0300_003.grb2\n",
      "  warnings.warn('URL {} returned HTML. Changing to: {}'.format(self.catalog_url,\n"
     ]
    },
    {
     "name": "stdout",
     "output_type": "stream",
     "text": [
      "{'High_cloud_cover_high_cloud', 'Best_4_layer_Lifted_Index_pressure_difference_layer', 'U-Component_Storm_Motion_height_above_ground_layer', 'Convective_inhibition_pressure_difference_layer', 'Geopotential_height_UnknownLevelType-14', 'Simulated_Brightness_Temperature_for_GOES_11_Channel_4_atmosphere_top', 'Moisture_Availability_depth_below_surface', 'Geopotential_height_lowest_level_of_the_wet_bulb_zero', 'v-component_of_wind_isobaric', 'u-component_of_wind_pressure_difference_layer', 'Relative_humidity_pressure_difference_layer', 'Enhanced_Stretching_Potential_height_above_ground_layer', 'Vertical_velocity_pressure_isobaric', 'Effective_Storm_Relative_Helicity_surface', 'Temperature_pressure_difference_layer', 'Categorical_Ice_Pellets_surface', 'Categorical_Snow_surface', 'Haines_index_surface', 'Composite_reflectivity_entire_atmosphere', 'Pressure_maximum_wind', 'Vertical_velocity_pressure_pressure_difference_layer', 'Relative_humidity_zeroDegC_isotherm', 'Water_equivalent_of_accumulated_snow_depth_surface', 'Wind_speed_gust_surface', 'Aerosol_optical_thickness_entire_atmosphere_single_layer', 'u-component_of_wind_height_above_ground', 'Dewpoint_temperature_height_above_ground', 'Geopotential_height_equilibrium', 'Pressure_tropopause', 'Pressure_of_level_from_which_parcel_was_lifted_pressure_difference_layer', 'Medium_cloud_cover_middle_cloud', 'Snow_depth_surface', 'Pseudo-adiabatic_potential_temperature_or_equivalent_potential_temperature_surface', 'Frozen_Rain_surface_Mixed_intervals_Accumulation', 'Temperature_height_above_ground', 'Categorical_Rain_surface', 'V-Component_Storm_Motion_height_above_ground_layer', 'Precipitation_rate_surface', 'Simulated_Brightness_Temperature_for_GOES_12_Channel_3_atmosphere_top', 'Reflectivity_height_above_ground', 'Critical_Angle_height_above_ground_layer', 'v-component_of_wind_maximum_wind', 'Water_equivalent_of_accumulated_snow_depth_surface_Mixed_intervals_Accumulation', 'Potential_temperature_height_above_ground', 'Surface_Lifted_Index_isobaric_layer', 'Temperature_tropopause', 'Convective_available_potential_energy_pressure_difference_layer', 'Freezing_Rain_surface_3_Hour_Accumulation', 'Simulated_Brightness_Temperature_for_GOES_12_Channel_4_atmosphere_top', 'u-component_of_wind_maximum_wind', 'Geopotential_height_cloud_ceiling', 'Relative_humidity_isobaric', 'v-component_of_wind_height_above_ground', 'Geopotential_height_highest_tropospheric_freezing', 'Potential_temperature_tropopause', 'Visibility_surface', 'Total_cloud_cover_boundary_layer_cloud', 'MSLP_MAPS_System_Reduction_msl', 'Convective_available_potential_energy_surface', 'Geopotential_height_isotherm', 'Total_snowfall_surface_3_Hour_Accumulation', 'Specific_humidity_height_above_ground', 'Mass_density_concentration_height_above_ground', 'Geopotential_height_cloud_base', 'Storm_relative_helicity_height_above_ground_layer', 'Convective_available_potential_energy_height_above_ground_layer', 'Temperature_surface', 'Geopotential_height_zeroDegC_isotherm', 'Pressure_zeroDegC_isotherm', 'v-component_of_wind_pressure_difference_layer', 'Storm_surface_runoff_surface_1_Hour_Accumulation', 'Geopotential_height_cloud_tops', 'Geopotential_height_convective_cloud_top', 'Pressure_highest_tropospheric_freezing', 'Total_precipitation_surface_Mixed_intervals_Accumulation', 'Vertical_u-component_shear_height_above_ground_layer', 'Vertical_v-component_shear_height_above_ground_layer', 'Convective_inhibition_surface', 'Dewpoint_depression_or_deficit_height_above_ground', 'Total_cloud_cover_entire_atmosphere', 'Relative_humidity_height_above_ground', 'u-component_of_wind_tropopause', 'Absolute_vorticity_isobaric', 'Pressure_surface', 'v-component_of_wind_tropopause', 'Planetary_Boundary_Layer_Height_surface', 'Geopotential_height_isobaric', 'Precipitable_water_entire_atmosphere_single_layer', 'Lightning_surface', 'Convective_precipitation_surface_Mixed_intervals_Accumulation', 'Layer_Thickness_isotherm_layer', 'Relative_humidity_highest_tropospheric_freezing', 'Relative_Humidity_with_Respect_to_Precipitable_Water_entire_atmosphere', 'Simulated_Brightness_Temperature_for_GOES_11_Channel_3_atmosphere_top', 'Baseflow-groundwater_runoff_surface_1_Hour_Accumulation', 'Low_cloud_cover_low_cloud', 'Pressure_height_above_ground', 'Echo_top_entire_atmosphere_single_layer', 'u-component_of_wind_isobaric', 'Geopotential_height_planetary_boundary', 'Geopotential_height_surface', 'Categorical_Freezing_Rain_surface', 'Temperature_isobaric'}\n"
     ]
    },
    {
     "name": "stderr",
     "output_type": "stream",
     "text": [
      "C:\\Users\\Tony\\anaconda3\\lib\\site-packages\\metpy\\calc\\thermo.py:1078: UserWarning: Relative humidity >120%, ensure proper units.\n",
      "  warnings.warn('Relative humidity >120%, ensure proper units.')\n",
      "C:\\Users\\Tony\\anaconda3\\lib\\site-packages\\metpy\\calc\\thermo.py:1078: UserWarning: Relative humidity >120%, ensure proper units.\n",
      "  warnings.warn('Relative humidity >120%, ensure proper units.')\n",
      "C:\\Users\\Tony\\anaconda3\\lib\\site-packages\\metpy\\calc\\thermo.py:1078: UserWarning: Relative humidity >120%, ensure proper units.\n",
      "  warnings.warn('Relative humidity >120%, ensure proper units.')\n",
      "C:\\Users\\Tony\\anaconda3\\lib\\site-packages\\cartopy\\mpl\\geoaxes.py:1662: UserWarning: The following kwargs were not used by contour: 'under'\n",
      "  result = super().contourf(*args, **kwargs)\n"
     ]
    },
    {
     "name": "stdout",
     "output_type": "stream",
     "text": [
      "https://www.ncei.noaa.gov/thredds/catalog/model-rap130/202305/20230501/catalog.html?dataset=rap130/202305/20230501/rap_130_20230501_0300_004.grb2\n"
     ]
    },
    {
     "name": "stderr",
     "output_type": "stream",
     "text": [
      "C:\\Users\\Tony\\anaconda3\\lib\\site-packages\\siphon\\catalog.py:292: UserWarning: URL https://www.ncei.noaa.gov/thredds/catalog/model-rap130/202305/20230501/catalog.html?dataset=rap130/202305/20230501/rap_130_20230501_0300_004.grb2 returned HTML. Changing to: https://www.ncei.noaa.gov/thredds/catalog/model-rap130/202305/20230501/catalog.xml?dataset=rap130/202305/20230501/rap_130_20230501_0300_004.grb2\n",
      "  warnings.warn('URL {} returned HTML. Changing to: {}'.format(self.catalog_url,\n"
     ]
    },
    {
     "name": "stdout",
     "output_type": "stream",
     "text": [
      "{'Total_snowfall_surface_4_Hour_Accumulation', 'High_cloud_cover_high_cloud', 'Best_4_layer_Lifted_Index_pressure_difference_layer', 'U-Component_Storm_Motion_height_above_ground_layer', 'Convective_inhibition_pressure_difference_layer', 'Geopotential_height_UnknownLevelType-14', 'Simulated_Brightness_Temperature_for_GOES_11_Channel_4_atmosphere_top', 'Moisture_Availability_depth_below_surface', 'Geopotential_height_lowest_level_of_the_wet_bulb_zero', 'v-component_of_wind_isobaric', 'u-component_of_wind_pressure_difference_layer', 'Relative_humidity_pressure_difference_layer', 'Enhanced_Stretching_Potential_height_above_ground_layer', 'Vertical_velocity_pressure_isobaric', 'Effective_Storm_Relative_Helicity_surface', 'Temperature_pressure_difference_layer', 'Categorical_Ice_Pellets_surface', 'Categorical_Snow_surface', 'Haines_index_surface', 'Composite_reflectivity_entire_atmosphere', 'Pressure_maximum_wind', 'Vertical_velocity_pressure_pressure_difference_layer', 'Relative_humidity_zeroDegC_isotherm', 'Water_equivalent_of_accumulated_snow_depth_surface', 'Wind_speed_gust_surface', 'Aerosol_optical_thickness_entire_atmosphere_single_layer', 'u-component_of_wind_height_above_ground', 'Dewpoint_temperature_height_above_ground', 'Geopotential_height_equilibrium', 'Pressure_tropopause', 'Pressure_of_level_from_which_parcel_was_lifted_pressure_difference_layer', 'Medium_cloud_cover_middle_cloud', 'Snow_depth_surface', 'Pseudo-adiabatic_potential_temperature_or_equivalent_potential_temperature_surface', 'Frozen_Rain_surface_Mixed_intervals_Accumulation', 'Temperature_height_above_ground', 'Categorical_Rain_surface', 'V-Component_Storm_Motion_height_above_ground_layer', 'Precipitation_rate_surface', 'Simulated_Brightness_Temperature_for_GOES_12_Channel_3_atmosphere_top', 'Reflectivity_height_above_ground', 'Critical_Angle_height_above_ground_layer', 'v-component_of_wind_maximum_wind', 'Water_equivalent_of_accumulated_snow_depth_surface_Mixed_intervals_Accumulation', 'Potential_temperature_height_above_ground', 'Surface_Lifted_Index_isobaric_layer', 'Temperature_tropopause', 'Convective_available_potential_energy_pressure_difference_layer', 'Simulated_Brightness_Temperature_for_GOES_12_Channel_4_atmosphere_top', 'u-component_of_wind_maximum_wind', 'Geopotential_height_cloud_ceiling', 'Relative_humidity_isobaric', 'v-component_of_wind_height_above_ground', 'Geopotential_height_highest_tropospheric_freezing', 'Potential_temperature_tropopause', 'Visibility_surface', 'Total_cloud_cover_boundary_layer_cloud', 'MSLP_MAPS_System_Reduction_msl', 'Convective_available_potential_energy_surface', 'Geopotential_height_isotherm', 'Specific_humidity_height_above_ground', 'Mass_density_concentration_height_above_ground', 'Geopotential_height_cloud_base', 'Storm_relative_helicity_height_above_ground_layer', 'Convective_available_potential_energy_height_above_ground_layer', 'Temperature_surface', 'Geopotential_height_zeroDegC_isotherm', 'Pressure_zeroDegC_isotherm', 'v-component_of_wind_pressure_difference_layer', 'Geopotential_height_cloud_tops', 'Total_precipitation_surface_Mixed_intervals_Accumulation', 'Geopotential_height_convective_cloud_top', 'Pressure_highest_tropospheric_freezing', 'Storm_surface_runoff_surface_1_Hour_Accumulation', 'Vertical_u-component_shear_height_above_ground_layer', 'Vertical_v-component_shear_height_above_ground_layer', 'Convective_inhibition_surface', 'Dewpoint_depression_or_deficit_height_above_ground', 'Total_cloud_cover_entire_atmosphere', 'Relative_humidity_height_above_ground', 'u-component_of_wind_tropopause', 'Absolute_vorticity_isobaric', 'Pressure_surface', 'v-component_of_wind_tropopause', 'Freezing_Rain_surface_4_Hour_Accumulation', 'Planetary_Boundary_Layer_Height_surface', 'Geopotential_height_isobaric', 'Precipitable_water_entire_atmosphere_single_layer', 'Convective_precipitation_surface_Mixed_intervals_Accumulation', 'Lightning_surface', 'Layer_Thickness_isotherm_layer', 'Relative_humidity_highest_tropospheric_freezing', 'Relative_Humidity_with_Respect_to_Precipitable_Water_entire_atmosphere', 'Simulated_Brightness_Temperature_for_GOES_11_Channel_3_atmosphere_top', 'Baseflow-groundwater_runoff_surface_1_Hour_Accumulation', 'Low_cloud_cover_low_cloud', 'Pressure_height_above_ground', 'Echo_top_entire_atmosphere_single_layer', 'u-component_of_wind_isobaric', 'Geopotential_height_planetary_boundary', 'Geopotential_height_surface', 'Categorical_Freezing_Rain_surface', 'Temperature_isobaric'}\n"
     ]
    },
    {
     "name": "stderr",
     "output_type": "stream",
     "text": [
      "C:\\Users\\Tony\\anaconda3\\lib\\site-packages\\metpy\\calc\\thermo.py:1078: UserWarning: Relative humidity >120%, ensure proper units.\n",
      "  warnings.warn('Relative humidity >120%, ensure proper units.')\n",
      "C:\\Users\\Tony\\anaconda3\\lib\\site-packages\\metpy\\calc\\thermo.py:1078: UserWarning: Relative humidity >120%, ensure proper units.\n",
      "  warnings.warn('Relative humidity >120%, ensure proper units.')\n",
      "C:\\Users\\Tony\\anaconda3\\lib\\site-packages\\metpy\\calc\\thermo.py:1078: UserWarning: Relative humidity >120%, ensure proper units.\n",
      "  warnings.warn('Relative humidity >120%, ensure proper units.')\n",
      "C:\\Users\\Tony\\anaconda3\\lib\\site-packages\\cartopy\\mpl\\geoaxes.py:1662: UserWarning: The following kwargs were not used by contour: 'under'\n",
      "  result = super().contourf(*args, **kwargs)\n"
     ]
    },
    {
     "name": "stdout",
     "output_type": "stream",
     "text": [
      "https://www.ncei.noaa.gov/thredds/catalog/model-rap130/202305/20230501/catalog.html?dataset=rap130/202305/20230501/rap_130_20230501_0300_005.grb2\n"
     ]
    },
    {
     "name": "stderr",
     "output_type": "stream",
     "text": [
      "C:\\Users\\Tony\\anaconda3\\lib\\site-packages\\siphon\\catalog.py:292: UserWarning: URL https://www.ncei.noaa.gov/thredds/catalog/model-rap130/202305/20230501/catalog.html?dataset=rap130/202305/20230501/rap_130_20230501_0300_005.grb2 returned HTML. Changing to: https://www.ncei.noaa.gov/thredds/catalog/model-rap130/202305/20230501/catalog.xml?dataset=rap130/202305/20230501/rap_130_20230501_0300_005.grb2\n",
      "  warnings.warn('URL {} returned HTML. Changing to: {}'.format(self.catalog_url,\n"
     ]
    },
    {
     "name": "stdout",
     "output_type": "stream",
     "text": [
      "{'High_cloud_cover_high_cloud', 'Best_4_layer_Lifted_Index_pressure_difference_layer', 'U-Component_Storm_Motion_height_above_ground_layer', 'Convective_inhibition_pressure_difference_layer', 'Geopotential_height_UnknownLevelType-14', 'Simulated_Brightness_Temperature_for_GOES_11_Channel_4_atmosphere_top', 'Moisture_Availability_depth_below_surface', 'Geopotential_height_lowest_level_of_the_wet_bulb_zero', 'v-component_of_wind_isobaric', 'u-component_of_wind_pressure_difference_layer', 'Relative_humidity_pressure_difference_layer', 'Enhanced_Stretching_Potential_height_above_ground_layer', 'Vertical_velocity_pressure_isobaric', 'Effective_Storm_Relative_Helicity_surface', 'Temperature_pressure_difference_layer', 'Categorical_Ice_Pellets_surface', 'Categorical_Snow_surface', 'Haines_index_surface', 'Composite_reflectivity_entire_atmosphere', 'Pressure_maximum_wind', 'Vertical_velocity_pressure_pressure_difference_layer', 'Relative_humidity_zeroDegC_isotherm', 'Water_equivalent_of_accumulated_snow_depth_surface', 'Wind_speed_gust_surface', 'Aerosol_optical_thickness_entire_atmosphere_single_layer', 'u-component_of_wind_height_above_ground', 'Dewpoint_temperature_height_above_ground', 'Geopotential_height_equilibrium', 'Pressure_tropopause', 'Pressure_of_level_from_which_parcel_was_lifted_pressure_difference_layer', 'Medium_cloud_cover_middle_cloud', 'Snow_depth_surface', 'Pseudo-adiabatic_potential_temperature_or_equivalent_potential_temperature_surface', 'Frozen_Rain_surface_Mixed_intervals_Accumulation', 'Temperature_height_above_ground', 'Categorical_Rain_surface', 'V-Component_Storm_Motion_height_above_ground_layer', 'Precipitation_rate_surface', 'Simulated_Brightness_Temperature_for_GOES_12_Channel_3_atmosphere_top', 'Reflectivity_height_above_ground', 'Critical_Angle_height_above_ground_layer', 'v-component_of_wind_maximum_wind', 'Water_equivalent_of_accumulated_snow_depth_surface_Mixed_intervals_Accumulation', 'Potential_temperature_height_above_ground', 'Surface_Lifted_Index_isobaric_layer', 'Temperature_tropopause', 'Convective_available_potential_energy_pressure_difference_layer', 'Simulated_Brightness_Temperature_for_GOES_12_Channel_4_atmosphere_top', 'u-component_of_wind_maximum_wind', 'Geopotential_height_cloud_ceiling', 'Relative_humidity_isobaric', 'v-component_of_wind_height_above_ground', 'Geopotential_height_highest_tropospheric_freezing', 'Potential_temperature_tropopause', 'Visibility_surface', 'Total_cloud_cover_boundary_layer_cloud', 'MSLP_MAPS_System_Reduction_msl', 'Convective_available_potential_energy_surface', 'Geopotential_height_isotherm', 'Freezing_Rain_surface_5_Hour_Accumulation', 'Mass_density_concentration_height_above_ground', 'Geopotential_height_cloud_base', 'Specific_humidity_height_above_ground', 'Convective_available_potential_energy_height_above_ground_layer', 'Temperature_surface', 'Storm_relative_helicity_height_above_ground_layer', 'Geopotential_height_zeroDegC_isotherm', 'Pressure_zeroDegC_isotherm', 'v-component_of_wind_pressure_difference_layer', 'Storm_surface_runoff_surface_1_Hour_Accumulation', 'Total_precipitation_surface_Mixed_intervals_Accumulation', 'Geopotential_height_cloud_tops', 'Geopotential_height_convective_cloud_top', 'Pressure_highest_tropospheric_freezing', 'Vertical_u-component_shear_height_above_ground_layer', 'Vertical_v-component_shear_height_above_ground_layer', 'Convective_inhibition_surface', 'Dewpoint_depression_or_deficit_height_above_ground', 'Total_cloud_cover_entire_atmosphere', 'Relative_humidity_height_above_ground', 'u-component_of_wind_tropopause', 'Absolute_vorticity_isobaric', 'Pressure_surface', 'v-component_of_wind_tropopause', 'Planetary_Boundary_Layer_Height_surface', 'Geopotential_height_isobaric', 'Precipitable_water_entire_atmosphere_single_layer', 'Convective_precipitation_surface_Mixed_intervals_Accumulation', 'Lightning_surface', 'Layer_Thickness_isotherm_layer', 'Relative_humidity_highest_tropospheric_freezing', 'Relative_Humidity_with_Respect_to_Precipitable_Water_entire_atmosphere', 'Simulated_Brightness_Temperature_for_GOES_11_Channel_3_atmosphere_top', 'Total_snowfall_surface_5_Hour_Accumulation', 'Baseflow-groundwater_runoff_surface_1_Hour_Accumulation', 'Low_cloud_cover_low_cloud', 'Pressure_height_above_ground', 'Echo_top_entire_atmosphere_single_layer', 'u-component_of_wind_isobaric', 'Geopotential_height_planetary_boundary', 'Geopotential_height_surface', 'Categorical_Freezing_Rain_surface', 'Temperature_isobaric'}\n"
     ]
    },
    {
     "name": "stderr",
     "output_type": "stream",
     "text": [
      "C:\\Users\\Tony\\anaconda3\\lib\\site-packages\\metpy\\calc\\thermo.py:1078: UserWarning: Relative humidity >120%, ensure proper units.\n",
      "  warnings.warn('Relative humidity >120%, ensure proper units.')\n",
      "C:\\Users\\Tony\\anaconda3\\lib\\site-packages\\metpy\\calc\\thermo.py:1078: UserWarning: Relative humidity >120%, ensure proper units.\n",
      "  warnings.warn('Relative humidity >120%, ensure proper units.')\n",
      "C:\\Users\\Tony\\anaconda3\\lib\\site-packages\\metpy\\calc\\thermo.py:1078: UserWarning: Relative humidity >120%, ensure proper units.\n",
      "  warnings.warn('Relative humidity >120%, ensure proper units.')\n",
      "C:\\Users\\Tony\\anaconda3\\lib\\site-packages\\cartopy\\mpl\\geoaxes.py:1662: UserWarning: The following kwargs were not used by contour: 'under'\n",
      "  result = super().contourf(*args, **kwargs)\n"
     ]
    },
    {
     "name": "stdout",
     "output_type": "stream",
     "text": [
      "https://www.ncei.noaa.gov/thredds/catalog/model-rap130/202305/20230501/catalog.html?dataset=rap130/202305/20230501/rap_130_20230501_0300_006.grb2\n"
     ]
    },
    {
     "name": "stderr",
     "output_type": "stream",
     "text": [
      "C:\\Users\\Tony\\anaconda3\\lib\\site-packages\\siphon\\catalog.py:292: UserWarning: URL https://www.ncei.noaa.gov/thredds/catalog/model-rap130/202305/20230501/catalog.html?dataset=rap130/202305/20230501/rap_130_20230501_0300_006.grb2 returned HTML. Changing to: https://www.ncei.noaa.gov/thredds/catalog/model-rap130/202305/20230501/catalog.xml?dataset=rap130/202305/20230501/rap_130_20230501_0300_006.grb2\n",
      "  warnings.warn('URL {} returned HTML. Changing to: {}'.format(self.catalog_url,\n"
     ]
    },
    {
     "name": "stdout",
     "output_type": "stream",
     "text": [
      "{'High_cloud_cover_high_cloud', 'Best_4_layer_Lifted_Index_pressure_difference_layer', 'U-Component_Storm_Motion_height_above_ground_layer', 'Convective_inhibition_pressure_difference_layer', 'Geopotential_height_UnknownLevelType-14', 'Simulated_Brightness_Temperature_for_GOES_11_Channel_4_atmosphere_top', 'Moisture_Availability_depth_below_surface', 'Geopotential_height_lowest_level_of_the_wet_bulb_zero', 'v-component_of_wind_isobaric', 'u-component_of_wind_pressure_difference_layer', 'Relative_humidity_pressure_difference_layer', 'Enhanced_Stretching_Potential_height_above_ground_layer', 'Vertical_velocity_pressure_isobaric', 'Effective_Storm_Relative_Helicity_surface', 'Temperature_pressure_difference_layer', 'Categorical_Ice_Pellets_surface', 'Categorical_Snow_surface', 'Haines_index_surface', 'Composite_reflectivity_entire_atmosphere', 'Pressure_maximum_wind', 'Vertical_velocity_pressure_pressure_difference_layer', 'Relative_humidity_zeroDegC_isotherm', 'Water_equivalent_of_accumulated_snow_depth_surface', 'Wind_speed_gust_surface', 'Aerosol_optical_thickness_entire_atmosphere_single_layer', 'u-component_of_wind_height_above_ground', 'Dewpoint_temperature_height_above_ground', 'Geopotential_height_equilibrium', 'Pressure_tropopause', 'Pressure_of_level_from_which_parcel_was_lifted_pressure_difference_layer', 'Medium_cloud_cover_middle_cloud', 'Snow_depth_surface', 'Pseudo-adiabatic_potential_temperature_or_equivalent_potential_temperature_surface', 'Frozen_Rain_surface_Mixed_intervals_Accumulation', 'Temperature_height_above_ground', 'Categorical_Rain_surface', 'V-Component_Storm_Motion_height_above_ground_layer', 'Precipitation_rate_surface', 'Simulated_Brightness_Temperature_for_GOES_12_Channel_3_atmosphere_top', 'Reflectivity_height_above_ground', 'Critical_Angle_height_above_ground_layer', 'v-component_of_wind_maximum_wind', 'Water_equivalent_of_accumulated_snow_depth_surface_Mixed_intervals_Accumulation', 'Potential_temperature_height_above_ground', 'Surface_Lifted_Index_isobaric_layer', 'Temperature_tropopause', 'Convective_available_potential_energy_pressure_difference_layer', 'Simulated_Brightness_Temperature_for_GOES_12_Channel_4_atmosphere_top', 'u-component_of_wind_maximum_wind', 'Geopotential_height_cloud_ceiling', 'Relative_humidity_isobaric', 'v-component_of_wind_height_above_ground', 'Geopotential_height_highest_tropospheric_freezing', 'Potential_temperature_tropopause', 'Visibility_surface', 'Total_cloud_cover_boundary_layer_cloud', 'MSLP_MAPS_System_Reduction_msl', 'Convective_available_potential_energy_surface', 'Geopotential_height_isotherm', 'Specific_humidity_height_above_ground', 'Mass_density_concentration_height_above_ground', 'Geopotential_height_cloud_base', 'Storm_relative_helicity_height_above_ground_layer', 'Convective_available_potential_energy_height_above_ground_layer', 'Temperature_surface', 'Freezing_Rain_surface_6_Hour_Accumulation', 'Geopotential_height_zeroDegC_isotherm', 'Pressure_zeroDegC_isotherm', 'v-component_of_wind_pressure_difference_layer', 'Storm_surface_runoff_surface_1_Hour_Accumulation', 'Geopotential_height_cloud_tops', 'Geopotential_height_convective_cloud_top', 'Pressure_highest_tropospheric_freezing', 'Total_precipitation_surface_Mixed_intervals_Accumulation', 'Vertical_u-component_shear_height_above_ground_layer', 'Vertical_v-component_shear_height_above_ground_layer', 'Convective_inhibition_surface', 'Dewpoint_depression_or_deficit_height_above_ground', 'Total_cloud_cover_entire_atmosphere', 'Relative_humidity_height_above_ground', 'u-component_of_wind_tropopause', 'Absolute_vorticity_isobaric', 'Pressure_surface', 'v-component_of_wind_tropopause', 'Planetary_Boundary_Layer_Height_surface', 'Geopotential_height_isobaric', 'Precipitable_water_entire_atmosphere_single_layer', 'Lightning_surface', 'Convective_precipitation_surface_Mixed_intervals_Accumulation', 'Layer_Thickness_isotherm_layer', 'Relative_humidity_highest_tropospheric_freezing', 'Relative_Humidity_with_Respect_to_Precipitable_Water_entire_atmosphere', 'Simulated_Brightness_Temperature_for_GOES_11_Channel_3_atmosphere_top', 'Baseflow-groundwater_runoff_surface_1_Hour_Accumulation', 'Low_cloud_cover_low_cloud', 'Pressure_height_above_ground', 'Echo_top_entire_atmosphere_single_layer', 'Total_snowfall_surface_6_Hour_Accumulation', 'u-component_of_wind_isobaric', 'Geopotential_height_planetary_boundary', 'Geopotential_height_surface', 'Categorical_Freezing_Rain_surface', 'Temperature_isobaric'}\n"
     ]
    },
    {
     "name": "stderr",
     "output_type": "stream",
     "text": [
      "C:\\Users\\Tony\\anaconda3\\lib\\site-packages\\metpy\\calc\\thermo.py:1078: UserWarning: Relative humidity >120%, ensure proper units.\n",
      "  warnings.warn('Relative humidity >120%, ensure proper units.')\n",
      "C:\\Users\\Tony\\anaconda3\\lib\\site-packages\\metpy\\calc\\thermo.py:1078: UserWarning: Relative humidity >120%, ensure proper units.\n",
      "  warnings.warn('Relative humidity >120%, ensure proper units.')\n",
      "C:\\Users\\Tony\\anaconda3\\lib\\site-packages\\metpy\\calc\\thermo.py:1078: UserWarning: Relative humidity >120%, ensure proper units.\n",
      "  warnings.warn('Relative humidity >120%, ensure proper units.')\n",
      "C:\\Users\\Tony\\anaconda3\\lib\\site-packages\\cartopy\\mpl\\geoaxes.py:1662: UserWarning: The following kwargs were not used by contour: 'under'\n",
      "  result = super().contourf(*args, **kwargs)\n"
     ]
    },
    {
     "name": "stdout",
     "output_type": "stream",
     "text": [
      "https://www.ncei.noaa.gov/thredds/catalog/model-rap130/202305/20230501/catalog.html?dataset=rap130/202305/20230501/rap_130_20230501_0300_007.grb2\n"
     ]
    },
    {
     "name": "stderr",
     "output_type": "stream",
     "text": [
      "C:\\Users\\Tony\\anaconda3\\lib\\site-packages\\siphon\\catalog.py:292: UserWarning: URL https://www.ncei.noaa.gov/thredds/catalog/model-rap130/202305/20230501/catalog.html?dataset=rap130/202305/20230501/rap_130_20230501_0300_007.grb2 returned HTML. Changing to: https://www.ncei.noaa.gov/thredds/catalog/model-rap130/202305/20230501/catalog.xml?dataset=rap130/202305/20230501/rap_130_20230501_0300_007.grb2\n",
      "  warnings.warn('URL {} returned HTML. Changing to: {}'.format(self.catalog_url,\n"
     ]
    },
    {
     "name": "stdout",
     "output_type": "stream",
     "text": [
      "{'High_cloud_cover_high_cloud', 'Best_4_layer_Lifted_Index_pressure_difference_layer', 'U-Component_Storm_Motion_height_above_ground_layer', 'Convective_inhibition_pressure_difference_layer', 'Geopotential_height_UnknownLevelType-14', 'Simulated_Brightness_Temperature_for_GOES_11_Channel_4_atmosphere_top', 'Moisture_Availability_depth_below_surface', 'Geopotential_height_lowest_level_of_the_wet_bulb_zero', 'v-component_of_wind_isobaric', 'u-component_of_wind_pressure_difference_layer', 'Relative_humidity_pressure_difference_layer', 'Enhanced_Stretching_Potential_height_above_ground_layer', 'Vertical_velocity_pressure_isobaric', 'Effective_Storm_Relative_Helicity_surface', 'Temperature_pressure_difference_layer', 'Categorical_Ice_Pellets_surface', 'Categorical_Snow_surface', 'Haines_index_surface', 'Composite_reflectivity_entire_atmosphere', 'Pressure_maximum_wind', 'Vertical_velocity_pressure_pressure_difference_layer', 'Relative_humidity_zeroDegC_isotherm', 'Water_equivalent_of_accumulated_snow_depth_surface', 'Wind_speed_gust_surface', 'Aerosol_optical_thickness_entire_atmosphere_single_layer', 'u-component_of_wind_height_above_ground', 'Dewpoint_temperature_height_above_ground', 'Geopotential_height_equilibrium', 'Pressure_tropopause', 'Pressure_of_level_from_which_parcel_was_lifted_pressure_difference_layer', 'Medium_cloud_cover_middle_cloud', 'Snow_depth_surface', 'Pseudo-adiabatic_potential_temperature_or_equivalent_potential_temperature_surface', 'Frozen_Rain_surface_Mixed_intervals_Accumulation', 'Temperature_height_above_ground', 'Categorical_Rain_surface', 'V-Component_Storm_Motion_height_above_ground_layer', 'Precipitation_rate_surface', 'Simulated_Brightness_Temperature_for_GOES_12_Channel_3_atmosphere_top', 'Reflectivity_height_above_ground', 'Critical_Angle_height_above_ground_layer', 'v-component_of_wind_maximum_wind', 'Water_equivalent_of_accumulated_snow_depth_surface_Mixed_intervals_Accumulation', 'Potential_temperature_height_above_ground', 'Surface_Lifted_Index_isobaric_layer', 'Temperature_tropopause', 'Convective_available_potential_energy_pressure_difference_layer', 'Simulated_Brightness_Temperature_for_GOES_12_Channel_4_atmosphere_top', 'u-component_of_wind_maximum_wind', 'Geopotential_height_cloud_ceiling', 'Relative_humidity_isobaric', 'v-component_of_wind_height_above_ground', 'Geopotential_height_highest_tropospheric_freezing', 'Potential_temperature_tropopause', 'Visibility_surface', 'Total_cloud_cover_boundary_layer_cloud', 'MSLP_MAPS_System_Reduction_msl', 'Convective_available_potential_energy_surface', 'Geopotential_height_isotherm', 'Specific_humidity_height_above_ground', 'Mass_density_concentration_height_above_ground', 'Geopotential_height_cloud_base', 'Storm_relative_helicity_height_above_ground_layer', 'Convective_available_potential_energy_height_above_ground_layer', 'Temperature_surface', 'Geopotential_height_zeroDegC_isotherm', 'Pressure_zeroDegC_isotherm', 'Freezing_Rain_surface_7_Hour_Accumulation', 'Storm_surface_runoff_surface_1_Hour_Accumulation', 'Total_precipitation_surface_Mixed_intervals_Accumulation', 'Geopotential_height_cloud_tops', 'Geopotential_height_convective_cloud_top', 'Pressure_highest_tropospheric_freezing', 'Vertical_u-component_shear_height_above_ground_layer', 'Vertical_v-component_shear_height_above_ground_layer', 'v-component_of_wind_pressure_difference_layer', 'Convective_inhibition_surface', 'Dewpoint_depression_or_deficit_height_above_ground', 'Total_cloud_cover_entire_atmosphere', 'Relative_humidity_height_above_ground', 'u-component_of_wind_tropopause', 'Absolute_vorticity_isobaric', 'Total_snowfall_surface_7_Hour_Accumulation', 'Pressure_surface', 'v-component_of_wind_tropopause', 'Planetary_Boundary_Layer_Height_surface', 'Geopotential_height_isobaric', 'Precipitable_water_entire_atmosphere_single_layer', 'Convective_precipitation_surface_Mixed_intervals_Accumulation', 'Lightning_surface', 'Layer_Thickness_isotherm_layer', 'Relative_humidity_highest_tropospheric_freezing', 'Relative_Humidity_with_Respect_to_Precipitable_Water_entire_atmosphere', 'Simulated_Brightness_Temperature_for_GOES_11_Channel_3_atmosphere_top', 'Baseflow-groundwater_runoff_surface_1_Hour_Accumulation', 'Low_cloud_cover_low_cloud', 'Pressure_height_above_ground', 'Echo_top_entire_atmosphere_single_layer', 'u-component_of_wind_isobaric', 'Geopotential_height_planetary_boundary', 'Geopotential_height_surface', 'Categorical_Freezing_Rain_surface', 'Temperature_isobaric'}\n"
     ]
    },
    {
     "name": "stderr",
     "output_type": "stream",
     "text": [
      "C:\\Users\\Tony\\anaconda3\\lib\\site-packages\\metpy\\calc\\thermo.py:1078: UserWarning: Relative humidity >120%, ensure proper units.\n",
      "  warnings.warn('Relative humidity >120%, ensure proper units.')\n",
      "C:\\Users\\Tony\\anaconda3\\lib\\site-packages\\metpy\\calc\\thermo.py:1078: UserWarning: Relative humidity >120%, ensure proper units.\n",
      "  warnings.warn('Relative humidity >120%, ensure proper units.')\n",
      "C:\\Users\\Tony\\anaconda3\\lib\\site-packages\\metpy\\calc\\thermo.py:1078: UserWarning: Relative humidity >120%, ensure proper units.\n",
      "  warnings.warn('Relative humidity >120%, ensure proper units.')\n",
      "C:\\Users\\Tony\\anaconda3\\lib\\site-packages\\cartopy\\mpl\\geoaxes.py:1662: UserWarning: The following kwargs were not used by contour: 'under'\n",
      "  result = super().contourf(*args, **kwargs)\n"
     ]
    },
    {
     "name": "stdout",
     "output_type": "stream",
     "text": [
      "https://www.ncei.noaa.gov/thredds/catalog/model-rap130/202305/20230501/catalog.html?dataset=rap130/202305/20230501/rap_130_20230501_0300_008.grb2\n"
     ]
    },
    {
     "name": "stderr",
     "output_type": "stream",
     "text": [
      "C:\\Users\\Tony\\anaconda3\\lib\\site-packages\\siphon\\catalog.py:292: UserWarning: URL https://www.ncei.noaa.gov/thredds/catalog/model-rap130/202305/20230501/catalog.html?dataset=rap130/202305/20230501/rap_130_20230501_0300_008.grb2 returned HTML. Changing to: https://www.ncei.noaa.gov/thredds/catalog/model-rap130/202305/20230501/catalog.xml?dataset=rap130/202305/20230501/rap_130_20230501_0300_008.grb2\n",
      "  warnings.warn('URL {} returned HTML. Changing to: {}'.format(self.catalog_url,\n"
     ]
    },
    {
     "name": "stdout",
     "output_type": "stream",
     "text": [
      "{'High_cloud_cover_high_cloud', 'Best_4_layer_Lifted_Index_pressure_difference_layer', 'U-Component_Storm_Motion_height_above_ground_layer', 'Convective_inhibition_pressure_difference_layer', 'Geopotential_height_UnknownLevelType-14', 'Simulated_Brightness_Temperature_for_GOES_11_Channel_4_atmosphere_top', 'Moisture_Availability_depth_below_surface', 'Geopotential_height_lowest_level_of_the_wet_bulb_zero', 'v-component_of_wind_isobaric', 'u-component_of_wind_pressure_difference_layer', 'Relative_humidity_pressure_difference_layer', 'Enhanced_Stretching_Potential_height_above_ground_layer', 'Vertical_velocity_pressure_isobaric', 'Effective_Storm_Relative_Helicity_surface', 'Temperature_pressure_difference_layer', 'Categorical_Ice_Pellets_surface', 'Categorical_Snow_surface', 'Haines_index_surface', 'Composite_reflectivity_entire_atmosphere', 'Pressure_maximum_wind', 'Vertical_velocity_pressure_pressure_difference_layer', 'Relative_humidity_zeroDegC_isotherm', 'Water_equivalent_of_accumulated_snow_depth_surface', 'Wind_speed_gust_surface', 'Aerosol_optical_thickness_entire_atmosphere_single_layer', 'u-component_of_wind_height_above_ground', 'Dewpoint_temperature_height_above_ground', 'Geopotential_height_equilibrium', 'Pressure_tropopause', 'Pressure_of_level_from_which_parcel_was_lifted_pressure_difference_layer', 'Medium_cloud_cover_middle_cloud', 'Snow_depth_surface', 'Pseudo-adiabatic_potential_temperature_or_equivalent_potential_temperature_surface', 'Frozen_Rain_surface_Mixed_intervals_Accumulation', 'Temperature_height_above_ground', 'Categorical_Rain_surface', 'V-Component_Storm_Motion_height_above_ground_layer', 'Precipitation_rate_surface', 'Simulated_Brightness_Temperature_for_GOES_12_Channel_3_atmosphere_top', 'Reflectivity_height_above_ground', 'Critical_Angle_height_above_ground_layer', 'v-component_of_wind_maximum_wind', 'Water_equivalent_of_accumulated_snow_depth_surface_Mixed_intervals_Accumulation', 'Potential_temperature_height_above_ground', 'Surface_Lifted_Index_isobaric_layer', 'Temperature_tropopause', 'Convective_available_potential_energy_pressure_difference_layer', 'Simulated_Brightness_Temperature_for_GOES_12_Channel_4_atmosphere_top', 'u-component_of_wind_maximum_wind', 'Geopotential_height_cloud_ceiling', 'Relative_humidity_isobaric', 'v-component_of_wind_height_above_ground', 'Geopotential_height_highest_tropospheric_freezing', 'Potential_temperature_tropopause', 'Visibility_surface', 'Total_cloud_cover_boundary_layer_cloud', 'MSLP_MAPS_System_Reduction_msl', 'Convective_available_potential_energy_surface', 'Geopotential_height_isotherm', 'Specific_humidity_height_above_ground', 'Mass_density_concentration_height_above_ground', 'Geopotential_height_cloud_base', 'Storm_relative_helicity_height_above_ground_layer', 'Convective_available_potential_energy_height_above_ground_layer', 'Temperature_surface', 'Geopotential_height_zeroDegC_isotherm', 'Pressure_zeroDegC_isotherm', 'v-component_of_wind_pressure_difference_layer', 'Geopotential_height_cloud_tops', 'Total_precipitation_surface_Mixed_intervals_Accumulation', 'Geopotential_height_convective_cloud_top', 'Pressure_highest_tropospheric_freezing', 'Storm_surface_runoff_surface_1_Hour_Accumulation', 'Vertical_u-component_shear_height_above_ground_layer', 'Vertical_v-component_shear_height_above_ground_layer', 'Convective_inhibition_surface', 'Dewpoint_depression_or_deficit_height_above_ground', 'Total_cloud_cover_entire_atmosphere', 'Relative_humidity_height_above_ground', 'u-component_of_wind_tropopause', 'Absolute_vorticity_isobaric', 'Pressure_surface', 'v-component_of_wind_tropopause', 'Planetary_Boundary_Layer_Height_surface', 'Geopotential_height_isobaric', 'Precipitable_water_entire_atmosphere_single_layer', 'Convective_precipitation_surface_Mixed_intervals_Accumulation', 'Lightning_surface', 'Freezing_Rain_surface_8_Hour_Accumulation', 'Layer_Thickness_isotherm_layer', 'Relative_humidity_highest_tropospheric_freezing', 'Relative_Humidity_with_Respect_to_Precipitable_Water_entire_atmosphere', 'Simulated_Brightness_Temperature_for_GOES_11_Channel_3_atmosphere_top', 'Total_snowfall_surface_8_Hour_Accumulation', 'Baseflow-groundwater_runoff_surface_1_Hour_Accumulation', 'Low_cloud_cover_low_cloud', 'Pressure_height_above_ground', 'Echo_top_entire_atmosphere_single_layer', 'u-component_of_wind_isobaric', 'Geopotential_height_planetary_boundary', 'Geopotential_height_surface', 'Categorical_Freezing_Rain_surface', 'Temperature_isobaric'}\n"
     ]
    },
    {
     "name": "stderr",
     "output_type": "stream",
     "text": [
      "C:\\Users\\Tony\\anaconda3\\lib\\site-packages\\metpy\\calc\\thermo.py:1078: UserWarning: Relative humidity >120%, ensure proper units.\n",
      "  warnings.warn('Relative humidity >120%, ensure proper units.')\n",
      "C:\\Users\\Tony\\anaconda3\\lib\\site-packages\\metpy\\calc\\thermo.py:1078: UserWarning: Relative humidity >120%, ensure proper units.\n",
      "  warnings.warn('Relative humidity >120%, ensure proper units.')\n",
      "C:\\Users\\Tony\\anaconda3\\lib\\site-packages\\metpy\\calc\\thermo.py:1078: UserWarning: Relative humidity >120%, ensure proper units.\n",
      "  warnings.warn('Relative humidity >120%, ensure proper units.')\n",
      "C:\\Users\\Tony\\anaconda3\\lib\\site-packages\\cartopy\\mpl\\geoaxes.py:1662: UserWarning: The following kwargs were not used by contour: 'under'\n",
      "  result = super().contourf(*args, **kwargs)\n"
     ]
    },
    {
     "name": "stdout",
     "output_type": "stream",
     "text": [
      "https://www.ncei.noaa.gov/thredds/catalog/model-rap130/202305/20230501/catalog.html?dataset=rap130/202305/20230501/rap_130_20230501_0300_009.grb2\n"
     ]
    },
    {
     "name": "stderr",
     "output_type": "stream",
     "text": [
      "C:\\Users\\Tony\\anaconda3\\lib\\site-packages\\siphon\\catalog.py:292: UserWarning: URL https://www.ncei.noaa.gov/thredds/catalog/model-rap130/202305/20230501/catalog.html?dataset=rap130/202305/20230501/rap_130_20230501_0300_009.grb2 returned HTML. Changing to: https://www.ncei.noaa.gov/thredds/catalog/model-rap130/202305/20230501/catalog.xml?dataset=rap130/202305/20230501/rap_130_20230501_0300_009.grb2\n",
      "  warnings.warn('URL {} returned HTML. Changing to: {}'.format(self.catalog_url,\n"
     ]
    },
    {
     "name": "stdout",
     "output_type": "stream",
     "text": [
      "{'High_cloud_cover_high_cloud', 'Best_4_layer_Lifted_Index_pressure_difference_layer', 'U-Component_Storm_Motion_height_above_ground_layer', 'Convective_inhibition_pressure_difference_layer', 'Geopotential_height_UnknownLevelType-14', 'Simulated_Brightness_Temperature_for_GOES_11_Channel_4_atmosphere_top', 'Moisture_Availability_depth_below_surface', 'Geopotential_height_lowest_level_of_the_wet_bulb_zero', 'v-component_of_wind_isobaric', 'u-component_of_wind_pressure_difference_layer', 'Relative_humidity_pressure_difference_layer', 'Enhanced_Stretching_Potential_height_above_ground_layer', 'Vertical_velocity_pressure_isobaric', 'Effective_Storm_Relative_Helicity_surface', 'Temperature_pressure_difference_layer', 'Categorical_Ice_Pellets_surface', 'Categorical_Snow_surface', 'Haines_index_surface', 'Composite_reflectivity_entire_atmosphere', 'Pressure_maximum_wind', 'Vertical_velocity_pressure_pressure_difference_layer', 'Relative_humidity_zeroDegC_isotherm', 'Water_equivalent_of_accumulated_snow_depth_surface', 'Wind_speed_gust_surface', 'Aerosol_optical_thickness_entire_atmosphere_single_layer', 'u-component_of_wind_height_above_ground', 'Dewpoint_temperature_height_above_ground', 'Geopotential_height_equilibrium', 'Pressure_tropopause', 'Pressure_of_level_from_which_parcel_was_lifted_pressure_difference_layer', 'Medium_cloud_cover_middle_cloud', 'Snow_depth_surface', 'Pseudo-adiabatic_potential_temperature_or_equivalent_potential_temperature_surface', 'Frozen_Rain_surface_Mixed_intervals_Accumulation', 'Temperature_height_above_ground', 'Categorical_Rain_surface', 'V-Component_Storm_Motion_height_above_ground_layer', 'Precipitation_rate_surface', 'Simulated_Brightness_Temperature_for_GOES_12_Channel_3_atmosphere_top', 'Reflectivity_height_above_ground', 'Critical_Angle_height_above_ground_layer', 'v-component_of_wind_maximum_wind', 'Total_snowfall_surface_9_Hour_Accumulation', 'Water_equivalent_of_accumulated_snow_depth_surface_Mixed_intervals_Accumulation', 'Potential_temperature_height_above_ground', 'Surface_Lifted_Index_isobaric_layer', 'Temperature_tropopause', 'Convective_available_potential_energy_pressure_difference_layer', 'Simulated_Brightness_Temperature_for_GOES_12_Channel_4_atmosphere_top', 'u-component_of_wind_maximum_wind', 'Geopotential_height_cloud_ceiling', 'Relative_humidity_isobaric', 'v-component_of_wind_height_above_ground', 'Geopotential_height_highest_tropospheric_freezing', 'Potential_temperature_tropopause', 'Visibility_surface', 'Total_cloud_cover_boundary_layer_cloud', 'MSLP_MAPS_System_Reduction_msl', 'Convective_available_potential_energy_surface', 'Geopotential_height_isotherm', 'Specific_humidity_height_above_ground', 'Mass_density_concentration_height_above_ground', 'Geopotential_height_cloud_base', 'Storm_relative_helicity_height_above_ground_layer', 'Convective_available_potential_energy_height_above_ground_layer', 'Temperature_surface', 'Geopotential_height_zeroDegC_isotherm', 'Pressure_zeroDegC_isotherm', 'v-component_of_wind_pressure_difference_layer', 'Geopotential_height_cloud_tops', 'Total_precipitation_surface_Mixed_intervals_Accumulation', 'Geopotential_height_convective_cloud_top', 'Pressure_highest_tropospheric_freezing', 'Storm_surface_runoff_surface_1_Hour_Accumulation', 'Vertical_u-component_shear_height_above_ground_layer', 'Vertical_v-component_shear_height_above_ground_layer', 'Convective_inhibition_surface', 'Dewpoint_depression_or_deficit_height_above_ground', 'Total_cloud_cover_entire_atmosphere', 'Freezing_Rain_surface_9_Hour_Accumulation', 'Relative_humidity_height_above_ground', 'u-component_of_wind_tropopause', 'Absolute_vorticity_isobaric', 'Pressure_surface', 'v-component_of_wind_tropopause', 'Planetary_Boundary_Layer_Height_surface', 'Geopotential_height_isobaric', 'Precipitable_water_entire_atmosphere_single_layer', 'Convective_precipitation_surface_Mixed_intervals_Accumulation', 'Lightning_surface', 'Layer_Thickness_isotherm_layer', 'Relative_humidity_highest_tropospheric_freezing', 'Relative_Humidity_with_Respect_to_Precipitable_Water_entire_atmosphere', 'Simulated_Brightness_Temperature_for_GOES_11_Channel_3_atmosphere_top', 'Baseflow-groundwater_runoff_surface_1_Hour_Accumulation', 'Low_cloud_cover_low_cloud', 'Pressure_height_above_ground', 'Echo_top_entire_atmosphere_single_layer', 'u-component_of_wind_isobaric', 'Geopotential_height_planetary_boundary', 'Geopotential_height_surface', 'Categorical_Freezing_Rain_surface', 'Temperature_isobaric'}\n"
     ]
    },
    {
     "name": "stderr",
     "output_type": "stream",
     "text": [
      "C:\\Users\\Tony\\anaconda3\\lib\\site-packages\\metpy\\calc\\thermo.py:1078: UserWarning: Relative humidity >120%, ensure proper units.\n",
      "  warnings.warn('Relative humidity >120%, ensure proper units.')\n",
      "C:\\Users\\Tony\\anaconda3\\lib\\site-packages\\metpy\\calc\\thermo.py:1078: UserWarning: Relative humidity >120%, ensure proper units.\n",
      "  warnings.warn('Relative humidity >120%, ensure proper units.')\n",
      "C:\\Users\\Tony\\anaconda3\\lib\\site-packages\\metpy\\calc\\thermo.py:1078: UserWarning: Relative humidity >120%, ensure proper units.\n",
      "  warnings.warn('Relative humidity >120%, ensure proper units.')\n",
      "C:\\Users\\Tony\\anaconda3\\lib\\site-packages\\cartopy\\mpl\\geoaxes.py:1662: UserWarning: The following kwargs were not used by contour: 'under'\n",
      "  result = super().contourf(*args, **kwargs)\n"
     ]
    },
    {
     "name": "stdout",
     "output_type": "stream",
     "text": [
      "https://www.ncei.noaa.gov/thredds/catalog/model-rap130/202305/20230501/catalog.html?dataset=rap130/202305/20230501/rap_130_20230501_0300_010.grb2\n"
     ]
    },
    {
     "name": "stderr",
     "output_type": "stream",
     "text": [
      "C:\\Users\\Tony\\anaconda3\\lib\\site-packages\\siphon\\catalog.py:292: UserWarning: URL https://www.ncei.noaa.gov/thredds/catalog/model-rap130/202305/20230501/catalog.html?dataset=rap130/202305/20230501/rap_130_20230501_0300_010.grb2 returned HTML. Changing to: https://www.ncei.noaa.gov/thredds/catalog/model-rap130/202305/20230501/catalog.xml?dataset=rap130/202305/20230501/rap_130_20230501_0300_010.grb2\n",
      "  warnings.warn('URL {} returned HTML. Changing to: {}'.format(self.catalog_url,\n"
     ]
    },
    {
     "name": "stdout",
     "output_type": "stream",
     "text": [
      "{'High_cloud_cover_high_cloud', 'Best_4_layer_Lifted_Index_pressure_difference_layer', 'Total_snowfall_surface_10_Hour_Accumulation', 'U-Component_Storm_Motion_height_above_ground_layer', 'Convective_inhibition_pressure_difference_layer', 'Geopotential_height_UnknownLevelType-14', 'Simulated_Brightness_Temperature_for_GOES_11_Channel_4_atmosphere_top', 'Moisture_Availability_depth_below_surface', 'Geopotential_height_lowest_level_of_the_wet_bulb_zero', 'v-component_of_wind_isobaric', 'u-component_of_wind_pressure_difference_layer', 'Relative_humidity_pressure_difference_layer', 'Enhanced_Stretching_Potential_height_above_ground_layer', 'Vertical_velocity_pressure_isobaric', 'Effective_Storm_Relative_Helicity_surface', 'Temperature_pressure_difference_layer', 'Categorical_Ice_Pellets_surface', 'Categorical_Snow_surface', 'Haines_index_surface', 'Composite_reflectivity_entire_atmosphere', 'Pressure_maximum_wind', 'Vertical_velocity_pressure_pressure_difference_layer', 'Relative_humidity_zeroDegC_isotherm', 'Water_equivalent_of_accumulated_snow_depth_surface', 'Wind_speed_gust_surface', 'Aerosol_optical_thickness_entire_atmosphere_single_layer', 'u-component_of_wind_height_above_ground', 'Dewpoint_temperature_height_above_ground', 'Geopotential_height_equilibrium', 'Pressure_tropopause', 'Pressure_of_level_from_which_parcel_was_lifted_pressure_difference_layer', 'Medium_cloud_cover_middle_cloud', 'Snow_depth_surface', 'Pseudo-adiabatic_potential_temperature_or_equivalent_potential_temperature_surface', 'Frozen_Rain_surface_Mixed_intervals_Accumulation', 'Temperature_height_above_ground', 'Categorical_Rain_surface', 'V-Component_Storm_Motion_height_above_ground_layer', 'Precipitation_rate_surface', 'Simulated_Brightness_Temperature_for_GOES_12_Channel_3_atmosphere_top', 'Reflectivity_height_above_ground', 'Critical_Angle_height_above_ground_layer', 'v-component_of_wind_maximum_wind', 'Water_equivalent_of_accumulated_snow_depth_surface_Mixed_intervals_Accumulation', 'Potential_temperature_height_above_ground', 'Surface_Lifted_Index_isobaric_layer', 'Temperature_tropopause', 'Convective_available_potential_energy_pressure_difference_layer', 'Freezing_Rain_surface_10_Hour_Accumulation', 'Simulated_Brightness_Temperature_for_GOES_12_Channel_4_atmosphere_top', 'u-component_of_wind_maximum_wind', 'Geopotential_height_cloud_ceiling', 'Relative_humidity_isobaric', 'v-component_of_wind_height_above_ground', 'Geopotential_height_highest_tropospheric_freezing', 'Potential_temperature_tropopause', 'Visibility_surface', 'Total_cloud_cover_boundary_layer_cloud', 'MSLP_MAPS_System_Reduction_msl', 'Convective_available_potential_energy_surface', 'Geopotential_height_isotherm', 'Specific_humidity_height_above_ground', 'Mass_density_concentration_height_above_ground', 'Geopotential_height_cloud_base', 'Storm_relative_helicity_height_above_ground_layer', 'Convective_available_potential_energy_height_above_ground_layer', 'Temperature_surface', 'Geopotential_height_zeroDegC_isotherm', 'Pressure_zeroDegC_isotherm', 'v-component_of_wind_pressure_difference_layer', 'Geopotential_height_cloud_tops', 'Total_precipitation_surface_Mixed_intervals_Accumulation', 'Geopotential_height_convective_cloud_top', 'Pressure_highest_tropospheric_freezing', 'Storm_surface_runoff_surface_1_Hour_Accumulation', 'Vertical_u-component_shear_height_above_ground_layer', 'Vertical_v-component_shear_height_above_ground_layer', 'Convective_inhibition_surface', 'Dewpoint_depression_or_deficit_height_above_ground', 'Total_cloud_cover_entire_atmosphere', 'Relative_humidity_height_above_ground', 'u-component_of_wind_tropopause', 'Absolute_vorticity_isobaric', 'Pressure_surface', 'v-component_of_wind_tropopause', 'Planetary_Boundary_Layer_Height_surface', 'Geopotential_height_isobaric', 'Precipitable_water_entire_atmosphere_single_layer', 'Convective_precipitation_surface_Mixed_intervals_Accumulation', 'Lightning_surface', 'Layer_Thickness_isotherm_layer', 'Relative_humidity_highest_tropospheric_freezing', 'Relative_Humidity_with_Respect_to_Precipitable_Water_entire_atmosphere', 'Simulated_Brightness_Temperature_for_GOES_11_Channel_3_atmosphere_top', 'Baseflow-groundwater_runoff_surface_1_Hour_Accumulation', 'Low_cloud_cover_low_cloud', 'Pressure_height_above_ground', 'Echo_top_entire_atmosphere_single_layer', 'u-component_of_wind_isobaric', 'Geopotential_height_planetary_boundary', 'Geopotential_height_surface', 'Categorical_Freezing_Rain_surface', 'Temperature_isobaric'}\n"
     ]
    },
    {
     "name": "stderr",
     "output_type": "stream",
     "text": [
      "C:\\Users\\Tony\\anaconda3\\lib\\site-packages\\metpy\\calc\\thermo.py:1078: UserWarning: Relative humidity >120%, ensure proper units.\n",
      "  warnings.warn('Relative humidity >120%, ensure proper units.')\n",
      "C:\\Users\\Tony\\anaconda3\\lib\\site-packages\\metpy\\calc\\thermo.py:1078: UserWarning: Relative humidity >120%, ensure proper units.\n",
      "  warnings.warn('Relative humidity >120%, ensure proper units.')\n",
      "C:\\Users\\Tony\\anaconda3\\lib\\site-packages\\metpy\\calc\\thermo.py:1078: UserWarning: Relative humidity >120%, ensure proper units.\n",
      "  warnings.warn('Relative humidity >120%, ensure proper units.')\n",
      "C:\\Users\\Tony\\anaconda3\\lib\\site-packages\\cartopy\\mpl\\geoaxes.py:1662: UserWarning: The following kwargs were not used by contour: 'under'\n",
      "  result = super().contourf(*args, **kwargs)\n"
     ]
    },
    {
     "name": "stdout",
     "output_type": "stream",
     "text": [
      "https://www.ncei.noaa.gov/thredds/catalog/model-rap130/202305/20230501/catalog.html?dataset=rap130/202305/20230501/rap_130_20230501_0300_011.grb2\n"
     ]
    },
    {
     "name": "stderr",
     "output_type": "stream",
     "text": [
      "C:\\Users\\Tony\\anaconda3\\lib\\site-packages\\siphon\\catalog.py:292: UserWarning: URL https://www.ncei.noaa.gov/thredds/catalog/model-rap130/202305/20230501/catalog.html?dataset=rap130/202305/20230501/rap_130_20230501_0300_011.grb2 returned HTML. Changing to: https://www.ncei.noaa.gov/thredds/catalog/model-rap130/202305/20230501/catalog.xml?dataset=rap130/202305/20230501/rap_130_20230501_0300_011.grb2\n",
      "  warnings.warn('URL {} returned HTML. Changing to: {}'.format(self.catalog_url,\n"
     ]
    },
    {
     "name": "stdout",
     "output_type": "stream",
     "text": [
      "{'High_cloud_cover_high_cloud', 'Best_4_layer_Lifted_Index_pressure_difference_layer', 'U-Component_Storm_Motion_height_above_ground_layer', 'Convective_inhibition_pressure_difference_layer', 'Geopotential_height_UnknownLevelType-14', 'Simulated_Brightness_Temperature_for_GOES_11_Channel_4_atmosphere_top', 'Moisture_Availability_depth_below_surface', 'Geopotential_height_lowest_level_of_the_wet_bulb_zero', 'Total_snowfall_surface_11_Hour_Accumulation', 'v-component_of_wind_isobaric', 'u-component_of_wind_pressure_difference_layer', 'Relative_humidity_pressure_difference_layer', 'Enhanced_Stretching_Potential_height_above_ground_layer', 'Vertical_velocity_pressure_isobaric', 'Effective_Storm_Relative_Helicity_surface', 'Temperature_pressure_difference_layer', 'Categorical_Ice_Pellets_surface', 'Categorical_Snow_surface', 'Haines_index_surface', 'Composite_reflectivity_entire_atmosphere', 'Pressure_maximum_wind', 'Vertical_velocity_pressure_pressure_difference_layer', 'Relative_humidity_zeroDegC_isotherm', 'Water_equivalent_of_accumulated_snow_depth_surface', 'Wind_speed_gust_surface', 'Aerosol_optical_thickness_entire_atmosphere_single_layer', 'u-component_of_wind_height_above_ground', 'Dewpoint_temperature_height_above_ground', 'Geopotential_height_equilibrium', 'Pressure_tropopause', 'Freezing_Rain_surface_11_Hour_Accumulation', 'Medium_cloud_cover_middle_cloud', 'Pressure_of_level_from_which_parcel_was_lifted_pressure_difference_layer', 'Snow_depth_surface', 'Pseudo-adiabatic_potential_temperature_or_equivalent_potential_temperature_surface', 'Frozen_Rain_surface_Mixed_intervals_Accumulation', 'Temperature_height_above_ground', 'Categorical_Rain_surface', 'V-Component_Storm_Motion_height_above_ground_layer', 'Precipitation_rate_surface', 'Simulated_Brightness_Temperature_for_GOES_12_Channel_3_atmosphere_top', 'Reflectivity_height_above_ground', 'Critical_Angle_height_above_ground_layer', 'v-component_of_wind_maximum_wind', 'Water_equivalent_of_accumulated_snow_depth_surface_Mixed_intervals_Accumulation', 'Potential_temperature_height_above_ground', 'Surface_Lifted_Index_isobaric_layer', 'Temperature_tropopause', 'Convective_available_potential_energy_pressure_difference_layer', 'Simulated_Brightness_Temperature_for_GOES_12_Channel_4_atmosphere_top', 'u-component_of_wind_maximum_wind', 'Geopotential_height_cloud_ceiling', 'Relative_humidity_isobaric', 'v-component_of_wind_height_above_ground', 'Geopotential_height_highest_tropospheric_freezing', 'Potential_temperature_tropopause', 'Visibility_surface', 'Total_cloud_cover_boundary_layer_cloud', 'MSLP_MAPS_System_Reduction_msl', 'Convective_available_potential_energy_surface', 'Geopotential_height_isotherm', 'Specific_humidity_height_above_ground', 'Mass_density_concentration_height_above_ground', 'Geopotential_height_cloud_base', 'Storm_relative_helicity_height_above_ground_layer', 'Convective_available_potential_energy_height_above_ground_layer', 'Temperature_surface', 'Geopotential_height_zeroDegC_isotherm', 'Pressure_zeroDegC_isotherm', 'v-component_of_wind_pressure_difference_layer', 'Storm_surface_runoff_surface_1_Hour_Accumulation', 'Total_precipitation_surface_Mixed_intervals_Accumulation', 'Geopotential_height_cloud_tops', 'Geopotential_height_convective_cloud_top', 'Pressure_highest_tropospheric_freezing', 'Vertical_u-component_shear_height_above_ground_layer', 'Vertical_v-component_shear_height_above_ground_layer', 'Convective_inhibition_surface', 'Dewpoint_depression_or_deficit_height_above_ground', 'Total_cloud_cover_entire_atmosphere', 'Relative_humidity_height_above_ground', 'u-component_of_wind_tropopause', 'Absolute_vorticity_isobaric', 'Pressure_surface', 'v-component_of_wind_tropopause', 'Planetary_Boundary_Layer_Height_surface', 'Geopotential_height_isobaric', 'Precipitable_water_entire_atmosphere_single_layer', 'Convective_precipitation_surface_Mixed_intervals_Accumulation', 'Lightning_surface', 'Layer_Thickness_isotherm_layer', 'Relative_humidity_highest_tropospheric_freezing', 'Relative_Humidity_with_Respect_to_Precipitable_Water_entire_atmosphere', 'Simulated_Brightness_Temperature_for_GOES_11_Channel_3_atmosphere_top', 'Baseflow-groundwater_runoff_surface_1_Hour_Accumulation', 'Low_cloud_cover_low_cloud', 'Pressure_height_above_ground', 'Echo_top_entire_atmosphere_single_layer', 'u-component_of_wind_isobaric', 'Geopotential_height_planetary_boundary', 'Geopotential_height_surface', 'Categorical_Freezing_Rain_surface', 'Temperature_isobaric'}\n"
     ]
    },
    {
     "name": "stderr",
     "output_type": "stream",
     "text": [
      "C:\\Users\\Tony\\anaconda3\\lib\\site-packages\\metpy\\calc\\thermo.py:1078: UserWarning: Relative humidity >120%, ensure proper units.\n",
      "  warnings.warn('Relative humidity >120%, ensure proper units.')\n",
      "C:\\Users\\Tony\\anaconda3\\lib\\site-packages\\metpy\\calc\\thermo.py:1078: UserWarning: Relative humidity >120%, ensure proper units.\n",
      "  warnings.warn('Relative humidity >120%, ensure proper units.')\n",
      "C:\\Users\\Tony\\anaconda3\\lib\\site-packages\\metpy\\calc\\thermo.py:1078: UserWarning: Relative humidity >120%, ensure proper units.\n",
      "  warnings.warn('Relative humidity >120%, ensure proper units.')\n",
      "C:\\Users\\Tony\\anaconda3\\lib\\site-packages\\cartopy\\mpl\\geoaxes.py:1662: UserWarning: The following kwargs were not used by contour: 'under'\n",
      "  result = super().contourf(*args, **kwargs)\n"
     ]
    },
    {
     "name": "stdout",
     "output_type": "stream",
     "text": [
      "https://www.ncei.noaa.gov/thredds/catalog/model-rap130/202305/20230501/catalog.html?dataset=rap130/202305/20230501/rap_130_20230501_0300_012.grb2\n"
     ]
    },
    {
     "name": "stderr",
     "output_type": "stream",
     "text": [
      "C:\\Users\\Tony\\anaconda3\\lib\\site-packages\\siphon\\catalog.py:292: UserWarning: URL https://www.ncei.noaa.gov/thredds/catalog/model-rap130/202305/20230501/catalog.html?dataset=rap130/202305/20230501/rap_130_20230501_0300_012.grb2 returned HTML. Changing to: https://www.ncei.noaa.gov/thredds/catalog/model-rap130/202305/20230501/catalog.xml?dataset=rap130/202305/20230501/rap_130_20230501_0300_012.grb2\n",
      "  warnings.warn('URL {} returned HTML. Changing to: {}'.format(self.catalog_url,\n"
     ]
    },
    {
     "name": "stdout",
     "output_type": "stream",
     "text": [
      "{'High_cloud_cover_high_cloud', 'Best_4_layer_Lifted_Index_pressure_difference_layer', 'U-Component_Storm_Motion_height_above_ground_layer', 'Convective_inhibition_pressure_difference_layer', 'Geopotential_height_UnknownLevelType-14', 'Simulated_Brightness_Temperature_for_GOES_11_Channel_4_atmosphere_top', 'Moisture_Availability_depth_below_surface', 'Geopotential_height_lowest_level_of_the_wet_bulb_zero', 'v-component_of_wind_isobaric', 'u-component_of_wind_pressure_difference_layer', 'Relative_humidity_pressure_difference_layer', 'Enhanced_Stretching_Potential_height_above_ground_layer', 'Vertical_velocity_pressure_isobaric', 'Effective_Storm_Relative_Helicity_surface', 'Temperature_pressure_difference_layer', 'Categorical_Ice_Pellets_surface', 'Categorical_Snow_surface', 'Haines_index_surface', 'Composite_reflectivity_entire_atmosphere', 'Pressure_maximum_wind', 'Vertical_velocity_pressure_pressure_difference_layer', 'Relative_humidity_zeroDegC_isotherm', 'Water_equivalent_of_accumulated_snow_depth_surface', 'Wind_speed_gust_surface', 'Aerosol_optical_thickness_entire_atmosphere_single_layer', 'u-component_of_wind_height_above_ground', 'Dewpoint_temperature_height_above_ground', 'Geopotential_height_equilibrium', 'Pressure_tropopause', 'Pressure_of_level_from_which_parcel_was_lifted_pressure_difference_layer', 'Medium_cloud_cover_middle_cloud', 'Snow_depth_surface', 'Pseudo-adiabatic_potential_temperature_or_equivalent_potential_temperature_surface', 'Frozen_Rain_surface_Mixed_intervals_Accumulation', 'Temperature_height_above_ground', 'Categorical_Rain_surface', 'V-Component_Storm_Motion_height_above_ground_layer', 'Precipitation_rate_surface', 'Simulated_Brightness_Temperature_for_GOES_12_Channel_3_atmosphere_top', 'Reflectivity_height_above_ground', 'Critical_Angle_height_above_ground_layer', 'v-component_of_wind_maximum_wind', 'Water_equivalent_of_accumulated_snow_depth_surface_Mixed_intervals_Accumulation', 'Potential_temperature_height_above_ground', 'Surface_Lifted_Index_isobaric_layer', 'Temperature_tropopause', 'Convective_available_potential_energy_pressure_difference_layer', 'Simulated_Brightness_Temperature_for_GOES_12_Channel_4_atmosphere_top', 'u-component_of_wind_maximum_wind', 'Geopotential_height_cloud_ceiling', 'Relative_humidity_isobaric', 'v-component_of_wind_height_above_ground', 'Geopotential_height_highest_tropospheric_freezing', 'Potential_temperature_tropopause', 'Visibility_surface', 'Total_cloud_cover_boundary_layer_cloud', 'MSLP_MAPS_System_Reduction_msl', 'Convective_available_potential_energy_surface', 'Geopotential_height_isotherm', 'Freezing_Rain_surface_12_Hour_Accumulation', 'Specific_humidity_height_above_ground', 'Mass_density_concentration_height_above_ground', 'Geopotential_height_cloud_base', 'Storm_relative_helicity_height_above_ground_layer', 'Convective_available_potential_energy_height_above_ground_layer', 'Temperature_surface', 'Geopotential_height_zeroDegC_isotherm', 'Pressure_zeroDegC_isotherm', 'v-component_of_wind_pressure_difference_layer', 'Geopotential_height_cloud_tops', 'Geopotential_height_convective_cloud_top', 'Pressure_highest_tropospheric_freezing', 'Storm_surface_runoff_surface_1_Hour_Accumulation', 'Total_precipitation_surface_Mixed_intervals_Accumulation', 'Vertical_u-component_shear_height_above_ground_layer', 'Vertical_v-component_shear_height_above_ground_layer', 'Convective_inhibition_surface', 'Dewpoint_depression_or_deficit_height_above_ground', 'Total_cloud_cover_entire_atmosphere', 'Relative_humidity_height_above_ground', 'u-component_of_wind_tropopause', 'Absolute_vorticity_isobaric', 'Pressure_surface', 'v-component_of_wind_tropopause', 'Planetary_Boundary_Layer_Height_surface', 'Geopotential_height_isobaric', 'Precipitable_water_entire_atmosphere_single_layer', 'Lightning_surface', 'Convective_precipitation_surface_Mixed_intervals_Accumulation', 'Layer_Thickness_isotherm_layer', 'Relative_humidity_highest_tropospheric_freezing', 'Relative_Humidity_with_Respect_to_Precipitable_Water_entire_atmosphere', 'Simulated_Brightness_Temperature_for_GOES_11_Channel_3_atmosphere_top', 'Baseflow-groundwater_runoff_surface_1_Hour_Accumulation', 'Low_cloud_cover_low_cloud', 'Total_snowfall_surface_12_Hour_Accumulation', 'Pressure_height_above_ground', 'Echo_top_entire_atmosphere_single_layer', 'u-component_of_wind_isobaric', 'Geopotential_height_planetary_boundary', 'Geopotential_height_surface', 'Categorical_Freezing_Rain_surface', 'Temperature_isobaric'}\n"
     ]
    },
    {
     "name": "stderr",
     "output_type": "stream",
     "text": [
      "C:\\Users\\Tony\\anaconda3\\lib\\site-packages\\metpy\\calc\\thermo.py:1078: UserWarning: Relative humidity >120%, ensure proper units.\n",
      "  warnings.warn('Relative humidity >120%, ensure proper units.')\n",
      "C:\\Users\\Tony\\anaconda3\\lib\\site-packages\\metpy\\calc\\thermo.py:1078: UserWarning: Relative humidity >120%, ensure proper units.\n",
      "  warnings.warn('Relative humidity >120%, ensure proper units.')\n",
      "C:\\Users\\Tony\\anaconda3\\lib\\site-packages\\metpy\\calc\\thermo.py:1078: UserWarning: Relative humidity >120%, ensure proper units.\n",
      "  warnings.warn('Relative humidity >120%, ensure proper units.')\n",
      "C:\\Users\\Tony\\anaconda3\\lib\\site-packages\\cartopy\\mpl\\geoaxes.py:1662: UserWarning: The following kwargs were not used by contour: 'under'\n",
      "  result = super().contourf(*args, **kwargs)\n"
     ]
    },
    {
     "name": "stdout",
     "output_type": "stream",
     "text": [
      "https://www.ncei.noaa.gov/thredds/catalog/model-rap130/202305/20230501/catalog.html?dataset=rap130/202305/20230501/rap_130_20230501_0300_013.grb2\n"
     ]
    },
    {
     "name": "stderr",
     "output_type": "stream",
     "text": [
      "C:\\Users\\Tony\\anaconda3\\lib\\site-packages\\siphon\\catalog.py:292: UserWarning: URL https://www.ncei.noaa.gov/thredds/catalog/model-rap130/202305/20230501/catalog.html?dataset=rap130/202305/20230501/rap_130_20230501_0300_013.grb2 returned HTML. Changing to: https://www.ncei.noaa.gov/thredds/catalog/model-rap130/202305/20230501/catalog.xml?dataset=rap130/202305/20230501/rap_130_20230501_0300_013.grb2\n",
      "  warnings.warn('URL {} returned HTML. Changing to: {}'.format(self.catalog_url,\n"
     ]
    },
    {
     "name": "stdout",
     "output_type": "stream",
     "text": [
      "{'High_cloud_cover_high_cloud', 'Best_4_layer_Lifted_Index_pressure_difference_layer', 'U-Component_Storm_Motion_height_above_ground_layer', 'Total_snowfall_surface_13_Hour_Accumulation', 'Convective_inhibition_pressure_difference_layer', 'Geopotential_height_UnknownLevelType-14', 'Simulated_Brightness_Temperature_for_GOES_11_Channel_4_atmosphere_top', 'Moisture_Availability_depth_below_surface', 'Geopotential_height_lowest_level_of_the_wet_bulb_zero', 'v-component_of_wind_isobaric', 'u-component_of_wind_pressure_difference_layer', 'Relative_humidity_pressure_difference_layer', 'Enhanced_Stretching_Potential_height_above_ground_layer', 'Vertical_velocity_pressure_isobaric', 'Effective_Storm_Relative_Helicity_surface', 'Temperature_pressure_difference_layer', 'Categorical_Ice_Pellets_surface', 'Categorical_Snow_surface', 'Haines_index_surface', 'Composite_reflectivity_entire_atmosphere', 'Pressure_maximum_wind', 'Vertical_velocity_pressure_pressure_difference_layer', 'Relative_humidity_zeroDegC_isotherm', 'Water_equivalent_of_accumulated_snow_depth_surface', 'Wind_speed_gust_surface', 'Aerosol_optical_thickness_entire_atmosphere_single_layer', 'u-component_of_wind_height_above_ground', 'Dewpoint_temperature_height_above_ground', 'Geopotential_height_equilibrium', 'Pressure_tropopause', 'Pressure_of_level_from_which_parcel_was_lifted_pressure_difference_layer', 'Medium_cloud_cover_middle_cloud', 'Snow_depth_surface', 'Pseudo-adiabatic_potential_temperature_or_equivalent_potential_temperature_surface', 'Frozen_Rain_surface_Mixed_intervals_Accumulation', 'Temperature_height_above_ground', 'Categorical_Rain_surface', 'V-Component_Storm_Motion_height_above_ground_layer', 'Precipitation_rate_surface', 'Simulated_Brightness_Temperature_for_GOES_12_Channel_3_atmosphere_top', 'Reflectivity_height_above_ground', 'Critical_Angle_height_above_ground_layer', 'v-component_of_wind_maximum_wind', 'Water_equivalent_of_accumulated_snow_depth_surface_Mixed_intervals_Accumulation', 'Potential_temperature_height_above_ground', 'Surface_Lifted_Index_isobaric_layer', 'Temperature_tropopause', 'Convective_available_potential_energy_pressure_difference_layer', 'Simulated_Brightness_Temperature_for_GOES_12_Channel_4_atmosphere_top', 'u-component_of_wind_maximum_wind', 'Geopotential_height_cloud_ceiling', 'Relative_humidity_isobaric', 'v-component_of_wind_height_above_ground', 'Geopotential_height_highest_tropospheric_freezing', 'Potential_temperature_tropopause', 'Visibility_surface', 'Total_cloud_cover_boundary_layer_cloud', 'MSLP_MAPS_System_Reduction_msl', 'Convective_available_potential_energy_surface', 'Geopotential_height_isotherm', 'Specific_humidity_height_above_ground', 'Mass_density_concentration_height_above_ground', 'Geopotential_height_cloud_base', 'Storm_relative_helicity_height_above_ground_layer', 'Convective_available_potential_energy_height_above_ground_layer', 'Temperature_surface', 'Freezing_Rain_surface_13_Hour_Accumulation', 'Geopotential_height_zeroDegC_isotherm', 'Pressure_zeroDegC_isotherm', 'v-component_of_wind_pressure_difference_layer', 'Storm_surface_runoff_surface_1_Hour_Accumulation', 'Total_precipitation_surface_Mixed_intervals_Accumulation', 'Geopotential_height_cloud_tops', 'Geopotential_height_convective_cloud_top', 'Pressure_highest_tropospheric_freezing', 'Vertical_u-component_shear_height_above_ground_layer', 'Vertical_v-component_shear_height_above_ground_layer', 'Convective_inhibition_surface', 'Dewpoint_depression_or_deficit_height_above_ground', 'Total_cloud_cover_entire_atmosphere', 'Relative_humidity_height_above_ground', 'u-component_of_wind_tropopause', 'Absolute_vorticity_isobaric', 'Pressure_surface', 'v-component_of_wind_tropopause', 'Planetary_Boundary_Layer_Height_surface', 'Geopotential_height_isobaric', 'Precipitable_water_entire_atmosphere_single_layer', 'Convective_precipitation_surface_Mixed_intervals_Accumulation', 'Lightning_surface', 'Layer_Thickness_isotherm_layer', 'Relative_humidity_highest_tropospheric_freezing', 'Relative_Humidity_with_Respect_to_Precipitable_Water_entire_atmosphere', 'Simulated_Brightness_Temperature_for_GOES_11_Channel_3_atmosphere_top', 'Baseflow-groundwater_runoff_surface_1_Hour_Accumulation', 'Low_cloud_cover_low_cloud', 'Pressure_height_above_ground', 'Echo_top_entire_atmosphere_single_layer', 'u-component_of_wind_isobaric', 'Geopotential_height_planetary_boundary', 'Geopotential_height_surface', 'Categorical_Freezing_Rain_surface', 'Temperature_isobaric'}\n"
     ]
    },
    {
     "name": "stderr",
     "output_type": "stream",
     "text": [
      "C:\\Users\\Tony\\anaconda3\\lib\\site-packages\\metpy\\calc\\thermo.py:1078: UserWarning: Relative humidity >120%, ensure proper units.\n",
      "  warnings.warn('Relative humidity >120%, ensure proper units.')\n",
      "C:\\Users\\Tony\\anaconda3\\lib\\site-packages\\metpy\\calc\\thermo.py:1078: UserWarning: Relative humidity >120%, ensure proper units.\n",
      "  warnings.warn('Relative humidity >120%, ensure proper units.')\n",
      "C:\\Users\\Tony\\anaconda3\\lib\\site-packages\\metpy\\calc\\thermo.py:1078: UserWarning: Relative humidity >120%, ensure proper units.\n",
      "  warnings.warn('Relative humidity >120%, ensure proper units.')\n",
      "C:\\Users\\Tony\\anaconda3\\lib\\site-packages\\cartopy\\mpl\\geoaxes.py:1662: UserWarning: The following kwargs were not used by contour: 'under'\n",
      "  result = super().contourf(*args, **kwargs)\n"
     ]
    },
    {
     "name": "stdout",
     "output_type": "stream",
     "text": [
      "https://www.ncei.noaa.gov/thredds/catalog/model-rap130/202305/20230501/catalog.html?dataset=rap130/202305/20230501/rap_130_20230501_0300_014.grb2\n"
     ]
    },
    {
     "name": "stderr",
     "output_type": "stream",
     "text": [
      "C:\\Users\\Tony\\anaconda3\\lib\\site-packages\\siphon\\catalog.py:292: UserWarning: URL https://www.ncei.noaa.gov/thredds/catalog/model-rap130/202305/20230501/catalog.html?dataset=rap130/202305/20230501/rap_130_20230501_0300_014.grb2 returned HTML. Changing to: https://www.ncei.noaa.gov/thredds/catalog/model-rap130/202305/20230501/catalog.xml?dataset=rap130/202305/20230501/rap_130_20230501_0300_014.grb2\n",
      "  warnings.warn('URL {} returned HTML. Changing to: {}'.format(self.catalog_url,\n"
     ]
    },
    {
     "name": "stdout",
     "output_type": "stream",
     "text": [
      "{'High_cloud_cover_high_cloud', 'Best_4_layer_Lifted_Index_pressure_difference_layer', 'U-Component_Storm_Motion_height_above_ground_layer', 'Convective_inhibition_pressure_difference_layer', 'Geopotential_height_UnknownLevelType-14', 'Simulated_Brightness_Temperature_for_GOES_11_Channel_4_atmosphere_top', 'Moisture_Availability_depth_below_surface', 'Geopotential_height_lowest_level_of_the_wet_bulb_zero', 'v-component_of_wind_isobaric', 'u-component_of_wind_pressure_difference_layer', 'Relative_humidity_pressure_difference_layer', 'Enhanced_Stretching_Potential_height_above_ground_layer', 'Vertical_velocity_pressure_isobaric', 'Effective_Storm_Relative_Helicity_surface', 'Temperature_pressure_difference_layer', 'Categorical_Ice_Pellets_surface', 'Categorical_Snow_surface', 'Haines_index_surface', 'Composite_reflectivity_entire_atmosphere', 'Pressure_maximum_wind', 'Vertical_velocity_pressure_pressure_difference_layer', 'Relative_humidity_zeroDegC_isotherm', 'Water_equivalent_of_accumulated_snow_depth_surface', 'Wind_speed_gust_surface', 'Aerosol_optical_thickness_entire_atmosphere_single_layer', 'u-component_of_wind_height_above_ground', 'Dewpoint_temperature_height_above_ground', 'Geopotential_height_equilibrium', 'Pressure_tropopause', 'Pressure_of_level_from_which_parcel_was_lifted_pressure_difference_layer', 'Medium_cloud_cover_middle_cloud', 'Snow_depth_surface', 'Pseudo-adiabatic_potential_temperature_or_equivalent_potential_temperature_surface', 'Frozen_Rain_surface_Mixed_intervals_Accumulation', 'Temperature_height_above_ground', 'Categorical_Rain_surface', 'V-Component_Storm_Motion_height_above_ground_layer', 'Precipitation_rate_surface', 'Simulated_Brightness_Temperature_for_GOES_12_Channel_3_atmosphere_top', 'Reflectivity_height_above_ground', 'Critical_Angle_height_above_ground_layer', 'v-component_of_wind_maximum_wind', 'Water_equivalent_of_accumulated_snow_depth_surface_Mixed_intervals_Accumulation', 'Potential_temperature_height_above_ground', 'Surface_Lifted_Index_isobaric_layer', 'Temperature_tropopause', 'Convective_available_potential_energy_pressure_difference_layer', 'Freezing_Rain_surface_14_Hour_Accumulation', 'Simulated_Brightness_Temperature_for_GOES_12_Channel_4_atmosphere_top', 'u-component_of_wind_maximum_wind', 'Geopotential_height_cloud_ceiling', 'Relative_humidity_isobaric', 'v-component_of_wind_height_above_ground', 'Geopotential_height_highest_tropospheric_freezing', 'Potential_temperature_tropopause', 'Visibility_surface', 'Total_cloud_cover_boundary_layer_cloud', 'MSLP_MAPS_System_Reduction_msl', 'Convective_available_potential_energy_surface', 'Geopotential_height_isotherm', 'Specific_humidity_height_above_ground', 'Mass_density_concentration_height_above_ground', 'Geopotential_height_cloud_base', 'Storm_relative_helicity_height_above_ground_layer', 'Convective_available_potential_energy_height_above_ground_layer', 'Temperature_surface', 'Geopotential_height_zeroDegC_isotherm', 'Pressure_zeroDegC_isotherm', 'v-component_of_wind_pressure_difference_layer', 'Storm_surface_runoff_surface_1_Hour_Accumulation', 'Total_precipitation_surface_Mixed_intervals_Accumulation', 'Geopotential_height_cloud_tops', 'Geopotential_height_convective_cloud_top', 'Pressure_highest_tropospheric_freezing', 'Vertical_u-component_shear_height_above_ground_layer', 'Total_snowfall_surface_14_Hour_Accumulation', 'Vertical_v-component_shear_height_above_ground_layer', 'Convective_inhibition_surface', 'Dewpoint_depression_or_deficit_height_above_ground', 'Total_cloud_cover_entire_atmosphere', 'Relative_humidity_height_above_ground', 'u-component_of_wind_tropopause', 'Absolute_vorticity_isobaric', 'Pressure_surface', 'v-component_of_wind_tropopause', 'Planetary_Boundary_Layer_Height_surface', 'Geopotential_height_isobaric', 'Precipitable_water_entire_atmosphere_single_layer', 'Convective_precipitation_surface_Mixed_intervals_Accumulation', 'Lightning_surface', 'Layer_Thickness_isotherm_layer', 'Relative_humidity_highest_tropospheric_freezing', 'Relative_Humidity_with_Respect_to_Precipitable_Water_entire_atmosphere', 'Simulated_Brightness_Temperature_for_GOES_11_Channel_3_atmosphere_top', 'Baseflow-groundwater_runoff_surface_1_Hour_Accumulation', 'Low_cloud_cover_low_cloud', 'Pressure_height_above_ground', 'Echo_top_entire_atmosphere_single_layer', 'u-component_of_wind_isobaric', 'Geopotential_height_planetary_boundary', 'Geopotential_height_surface', 'Categorical_Freezing_Rain_surface', 'Temperature_isobaric'}\n"
     ]
    },
    {
     "name": "stderr",
     "output_type": "stream",
     "text": [
      "C:\\Users\\Tony\\anaconda3\\lib\\site-packages\\metpy\\calc\\thermo.py:1078: UserWarning: Relative humidity >120%, ensure proper units.\n",
      "  warnings.warn('Relative humidity >120%, ensure proper units.')\n",
      "C:\\Users\\Tony\\anaconda3\\lib\\site-packages\\metpy\\calc\\thermo.py:1078: UserWarning: Relative humidity >120%, ensure proper units.\n",
      "  warnings.warn('Relative humidity >120%, ensure proper units.')\n",
      "C:\\Users\\Tony\\anaconda3\\lib\\site-packages\\metpy\\calc\\thermo.py:1078: UserWarning: Relative humidity >120%, ensure proper units.\n",
      "  warnings.warn('Relative humidity >120%, ensure proper units.')\n",
      "C:\\Users\\Tony\\anaconda3\\lib\\site-packages\\cartopy\\mpl\\geoaxes.py:1662: UserWarning: The following kwargs were not used by contour: 'under'\n",
      "  result = super().contourf(*args, **kwargs)\n"
     ]
    },
    {
     "name": "stdout",
     "output_type": "stream",
     "text": [
      "https://www.ncei.noaa.gov/thredds/catalog/model-rap130/202305/20230501/catalog.html?dataset=rap130/202305/20230501/rap_130_20230501_0300_015.grb2\n"
     ]
    },
    {
     "name": "stderr",
     "output_type": "stream",
     "text": [
      "C:\\Users\\Tony\\anaconda3\\lib\\site-packages\\siphon\\catalog.py:292: UserWarning: URL https://www.ncei.noaa.gov/thredds/catalog/model-rap130/202305/20230501/catalog.html?dataset=rap130/202305/20230501/rap_130_20230501_0300_015.grb2 returned HTML. Changing to: https://www.ncei.noaa.gov/thredds/catalog/model-rap130/202305/20230501/catalog.xml?dataset=rap130/202305/20230501/rap_130_20230501_0300_015.grb2\n",
      "  warnings.warn('URL {} returned HTML. Changing to: {}'.format(self.catalog_url,\n"
     ]
    },
    {
     "name": "stdout",
     "output_type": "stream",
     "text": [
      "{'High_cloud_cover_high_cloud', 'Best_4_layer_Lifted_Index_pressure_difference_layer', 'Freezing_Rain_surface_15_Hour_Accumulation', 'U-Component_Storm_Motion_height_above_ground_layer', 'Convective_inhibition_pressure_difference_layer', 'Geopotential_height_UnknownLevelType-14', 'Simulated_Brightness_Temperature_for_GOES_11_Channel_4_atmosphere_top', 'Moisture_Availability_depth_below_surface', 'Geopotential_height_lowest_level_of_the_wet_bulb_zero', 'v-component_of_wind_isobaric', 'u-component_of_wind_pressure_difference_layer', 'Relative_humidity_pressure_difference_layer', 'Enhanced_Stretching_Potential_height_above_ground_layer', 'Vertical_velocity_pressure_isobaric', 'Effective_Storm_Relative_Helicity_surface', 'Temperature_pressure_difference_layer', 'Categorical_Ice_Pellets_surface', 'Categorical_Snow_surface', 'Haines_index_surface', 'Composite_reflectivity_entire_atmosphere', 'Pressure_maximum_wind', 'Vertical_velocity_pressure_pressure_difference_layer', 'Relative_humidity_zeroDegC_isotherm', 'Water_equivalent_of_accumulated_snow_depth_surface', 'Wind_speed_gust_surface', 'Aerosol_optical_thickness_entire_atmosphere_single_layer', 'u-component_of_wind_height_above_ground', 'Dewpoint_temperature_height_above_ground', 'Geopotential_height_equilibrium', 'Pressure_tropopause', 'Pressure_of_level_from_which_parcel_was_lifted_pressure_difference_layer', 'Medium_cloud_cover_middle_cloud', 'Snow_depth_surface', 'Pseudo-adiabatic_potential_temperature_or_equivalent_potential_temperature_surface', 'Frozen_Rain_surface_Mixed_intervals_Accumulation', 'Temperature_height_above_ground', 'Categorical_Rain_surface', 'V-Component_Storm_Motion_height_above_ground_layer', 'Precipitation_rate_surface', 'Simulated_Brightness_Temperature_for_GOES_12_Channel_3_atmosphere_top', 'Total_snowfall_surface_15_Hour_Accumulation', 'Reflectivity_height_above_ground', 'Critical_Angle_height_above_ground_layer', 'v-component_of_wind_maximum_wind', 'Water_equivalent_of_accumulated_snow_depth_surface_Mixed_intervals_Accumulation', 'Potential_temperature_height_above_ground', 'Surface_Lifted_Index_isobaric_layer', 'Temperature_tropopause', 'Convective_available_potential_energy_pressure_difference_layer', 'Simulated_Brightness_Temperature_for_GOES_12_Channel_4_atmosphere_top', 'u-component_of_wind_maximum_wind', 'Geopotential_height_cloud_ceiling', 'Relative_humidity_isobaric', 'v-component_of_wind_height_above_ground', 'Geopotential_height_highest_tropospheric_freezing', 'Potential_temperature_tropopause', 'Visibility_surface', 'Total_cloud_cover_boundary_layer_cloud', 'MSLP_MAPS_System_Reduction_msl', 'Convective_available_potential_energy_surface', 'Geopotential_height_isotherm', 'Specific_humidity_height_above_ground', 'Mass_density_concentration_height_above_ground', 'Geopotential_height_cloud_base', 'Storm_relative_helicity_height_above_ground_layer', 'Convective_available_potential_energy_height_above_ground_layer', 'Temperature_surface', 'Geopotential_height_zeroDegC_isotherm', 'Pressure_zeroDegC_isotherm', 'v-component_of_wind_pressure_difference_layer', 'Geopotential_height_cloud_tops', 'Geopotential_height_convective_cloud_top', 'Pressure_highest_tropospheric_freezing', 'Total_precipitation_surface_Mixed_intervals_Accumulation', 'Storm_surface_runoff_surface_1_Hour_Accumulation', 'Vertical_u-component_shear_height_above_ground_layer', 'Vertical_v-component_shear_height_above_ground_layer', 'Convective_inhibition_surface', 'Dewpoint_depression_or_deficit_height_above_ground', 'Total_cloud_cover_entire_atmosphere', 'Relative_humidity_height_above_ground', 'u-component_of_wind_tropopause', 'Absolute_vorticity_isobaric', 'Pressure_surface', 'v-component_of_wind_tropopause', 'Planetary_Boundary_Layer_Height_surface', 'Geopotential_height_isobaric', 'Precipitable_water_entire_atmosphere_single_layer', 'Lightning_surface', 'Convective_precipitation_surface_Mixed_intervals_Accumulation', 'Layer_Thickness_isotherm_layer', 'Relative_humidity_highest_tropospheric_freezing', 'Relative_Humidity_with_Respect_to_Precipitable_Water_entire_atmosphere', 'Simulated_Brightness_Temperature_for_GOES_11_Channel_3_atmosphere_top', 'Baseflow-groundwater_runoff_surface_1_Hour_Accumulation', 'Low_cloud_cover_low_cloud', 'Pressure_height_above_ground', 'Echo_top_entire_atmosphere_single_layer', 'u-component_of_wind_isobaric', 'Geopotential_height_planetary_boundary', 'Geopotential_height_surface', 'Categorical_Freezing_Rain_surface', 'Temperature_isobaric'}\n"
     ]
    },
    {
     "name": "stderr",
     "output_type": "stream",
     "text": [
      "C:\\Users\\Tony\\anaconda3\\lib\\site-packages\\metpy\\calc\\thermo.py:1078: UserWarning: Relative humidity >120%, ensure proper units.\n",
      "  warnings.warn('Relative humidity >120%, ensure proper units.')\n",
      "C:\\Users\\Tony\\anaconda3\\lib\\site-packages\\metpy\\calc\\thermo.py:1078: UserWarning: Relative humidity >120%, ensure proper units.\n",
      "  warnings.warn('Relative humidity >120%, ensure proper units.')\n",
      "C:\\Users\\Tony\\anaconda3\\lib\\site-packages\\metpy\\calc\\thermo.py:1078: UserWarning: Relative humidity >120%, ensure proper units.\n",
      "  warnings.warn('Relative humidity >120%, ensure proper units.')\n",
      "C:\\Users\\Tony\\anaconda3\\lib\\site-packages\\cartopy\\mpl\\geoaxes.py:1662: UserWarning: The following kwargs were not used by contour: 'under'\n",
      "  result = super().contourf(*args, **kwargs)\n"
     ]
    },
    {
     "name": "stdout",
     "output_type": "stream",
     "text": [
      "https://www.ncei.noaa.gov/thredds/catalog/model-rap130/202305/20230501/catalog.html?dataset=rap130/202305/20230501/rap_130_20230501_0300_016.grb2\n"
     ]
    },
    {
     "name": "stderr",
     "output_type": "stream",
     "text": [
      "C:\\Users\\Tony\\anaconda3\\lib\\site-packages\\siphon\\catalog.py:292: UserWarning: URL https://www.ncei.noaa.gov/thredds/catalog/model-rap130/202305/20230501/catalog.html?dataset=rap130/202305/20230501/rap_130_20230501_0300_016.grb2 returned HTML. Changing to: https://www.ncei.noaa.gov/thredds/catalog/model-rap130/202305/20230501/catalog.xml?dataset=rap130/202305/20230501/rap_130_20230501_0300_016.grb2\n",
      "  warnings.warn('URL {} returned HTML. Changing to: {}'.format(self.catalog_url,\n"
     ]
    },
    {
     "name": "stdout",
     "output_type": "stream",
     "text": [
      "{'High_cloud_cover_high_cloud', 'Best_4_layer_Lifted_Index_pressure_difference_layer', 'U-Component_Storm_Motion_height_above_ground_layer', 'Convective_inhibition_pressure_difference_layer', 'Geopotential_height_UnknownLevelType-14', 'Simulated_Brightness_Temperature_for_GOES_11_Channel_4_atmosphere_top', 'Moisture_Availability_depth_below_surface', 'Geopotential_height_lowest_level_of_the_wet_bulb_zero', 'v-component_of_wind_isobaric', 'u-component_of_wind_pressure_difference_layer', 'Relative_humidity_pressure_difference_layer', 'Enhanced_Stretching_Potential_height_above_ground_layer', 'Vertical_velocity_pressure_isobaric', 'Effective_Storm_Relative_Helicity_surface', 'Temperature_pressure_difference_layer', 'Categorical_Ice_Pellets_surface', 'Categorical_Snow_surface', 'Haines_index_surface', 'Composite_reflectivity_entire_atmosphere', 'Pressure_maximum_wind', 'Vertical_velocity_pressure_pressure_difference_layer', 'Relative_humidity_zeroDegC_isotherm', 'Water_equivalent_of_accumulated_snow_depth_surface', 'Wind_speed_gust_surface', 'Aerosol_optical_thickness_entire_atmosphere_single_layer', 'u-component_of_wind_height_above_ground', 'Dewpoint_temperature_height_above_ground', 'Geopotential_height_equilibrium', 'Pressure_tropopause', 'Pressure_of_level_from_which_parcel_was_lifted_pressure_difference_layer', 'Medium_cloud_cover_middle_cloud', 'Snow_depth_surface', 'Pseudo-adiabatic_potential_temperature_or_equivalent_potential_temperature_surface', 'Frozen_Rain_surface_Mixed_intervals_Accumulation', 'Temperature_height_above_ground', 'Categorical_Rain_surface', 'V-Component_Storm_Motion_height_above_ground_layer', 'Precipitation_rate_surface', 'Freezing_Rain_surface_16_Hour_Accumulation', 'Simulated_Brightness_Temperature_for_GOES_12_Channel_3_atmosphere_top', 'Reflectivity_height_above_ground', 'Critical_Angle_height_above_ground_layer', 'v-component_of_wind_maximum_wind', 'Water_equivalent_of_accumulated_snow_depth_surface_Mixed_intervals_Accumulation', 'Potential_temperature_height_above_ground', 'Surface_Lifted_Index_isobaric_layer', 'Temperature_tropopause', 'Convective_available_potential_energy_pressure_difference_layer', 'Simulated_Brightness_Temperature_for_GOES_12_Channel_4_atmosphere_top', 'u-component_of_wind_maximum_wind', 'Geopotential_height_cloud_ceiling', 'Relative_humidity_isobaric', 'v-component_of_wind_height_above_ground', 'Geopotential_height_highest_tropospheric_freezing', 'Potential_temperature_tropopause', 'Visibility_surface', 'Total_cloud_cover_boundary_layer_cloud', 'MSLP_MAPS_System_Reduction_msl', 'Convective_available_potential_energy_surface', 'Geopotential_height_isotherm', 'Specific_humidity_height_above_ground', 'Mass_density_concentration_height_above_ground', 'Geopotential_height_cloud_base', 'Storm_relative_helicity_height_above_ground_layer', 'Convective_available_potential_energy_height_above_ground_layer', 'Temperature_surface', 'Geopotential_height_zeroDegC_isotherm', 'Pressure_zeroDegC_isotherm', 'v-component_of_wind_pressure_difference_layer', 'Storm_surface_runoff_surface_1_Hour_Accumulation', 'Total_precipitation_surface_Mixed_intervals_Accumulation', 'Geopotential_height_cloud_tops', 'Geopotential_height_convective_cloud_top', 'Pressure_highest_tropospheric_freezing', 'Vertical_u-component_shear_height_above_ground_layer', 'Vertical_v-component_shear_height_above_ground_layer', 'Convective_inhibition_surface', 'Dewpoint_depression_or_deficit_height_above_ground', 'Total_cloud_cover_entire_atmosphere', 'Relative_humidity_height_above_ground', 'u-component_of_wind_tropopause', 'Absolute_vorticity_isobaric', 'Pressure_surface', 'v-component_of_wind_tropopause', 'Planetary_Boundary_Layer_Height_surface', 'Geopotential_height_isobaric', 'Precipitable_water_entire_atmosphere_single_layer', 'Convective_precipitation_surface_Mixed_intervals_Accumulation', 'Lightning_surface', 'Layer_Thickness_isotherm_layer', 'Relative_humidity_highest_tropospheric_freezing', 'Relative_Humidity_with_Respect_to_Precipitable_Water_entire_atmosphere', 'Simulated_Brightness_Temperature_for_GOES_11_Channel_3_atmosphere_top', 'Baseflow-groundwater_runoff_surface_1_Hour_Accumulation', 'Low_cloud_cover_low_cloud', 'Pressure_height_above_ground', 'Total_snowfall_surface_16_Hour_Accumulation', 'Echo_top_entire_atmosphere_single_layer', 'u-component_of_wind_isobaric', 'Geopotential_height_planetary_boundary', 'Geopotential_height_surface', 'Categorical_Freezing_Rain_surface', 'Temperature_isobaric'}\n"
     ]
    },
    {
     "name": "stderr",
     "output_type": "stream",
     "text": [
      "C:\\Users\\Tony\\anaconda3\\lib\\site-packages\\metpy\\calc\\thermo.py:1078: UserWarning: Relative humidity >120%, ensure proper units.\n",
      "  warnings.warn('Relative humidity >120%, ensure proper units.')\n",
      "C:\\Users\\Tony\\anaconda3\\lib\\site-packages\\metpy\\calc\\thermo.py:1078: UserWarning: Relative humidity >120%, ensure proper units.\n",
      "  warnings.warn('Relative humidity >120%, ensure proper units.')\n",
      "C:\\Users\\Tony\\anaconda3\\lib\\site-packages\\metpy\\calc\\thermo.py:1078: UserWarning: Relative humidity >120%, ensure proper units.\n",
      "  warnings.warn('Relative humidity >120%, ensure proper units.')\n",
      "C:\\Users\\Tony\\anaconda3\\lib\\site-packages\\cartopy\\mpl\\geoaxes.py:1662: UserWarning: The following kwargs were not used by contour: 'under'\n",
      "  result = super().contourf(*args, **kwargs)\n"
     ]
    },
    {
     "name": "stdout",
     "output_type": "stream",
     "text": [
      "https://www.ncei.noaa.gov/thredds/catalog/model-rap130/202305/20230501/catalog.html?dataset=rap130/202305/20230501/rap_130_20230501_0300_017.grb2\n"
     ]
    },
    {
     "name": "stderr",
     "output_type": "stream",
     "text": [
      "C:\\Users\\Tony\\anaconda3\\lib\\site-packages\\siphon\\catalog.py:292: UserWarning: URL https://www.ncei.noaa.gov/thredds/catalog/model-rap130/202305/20230501/catalog.html?dataset=rap130/202305/20230501/rap_130_20230501_0300_017.grb2 returned HTML. Changing to: https://www.ncei.noaa.gov/thredds/catalog/model-rap130/202305/20230501/catalog.xml?dataset=rap130/202305/20230501/rap_130_20230501_0300_017.grb2\n",
      "  warnings.warn('URL {} returned HTML. Changing to: {}'.format(self.catalog_url,\n"
     ]
    },
    {
     "name": "stdout",
     "output_type": "stream",
     "text": [
      "{'High_cloud_cover_high_cloud', 'Best_4_layer_Lifted_Index_pressure_difference_layer', 'U-Component_Storm_Motion_height_above_ground_layer', 'Convective_inhibition_pressure_difference_layer', 'Geopotential_height_UnknownLevelType-14', 'Simulated_Brightness_Temperature_for_GOES_11_Channel_4_atmosphere_top', 'Moisture_Availability_depth_below_surface', 'Geopotential_height_lowest_level_of_the_wet_bulb_zero', 'v-component_of_wind_isobaric', 'u-component_of_wind_pressure_difference_layer', 'Relative_humidity_pressure_difference_layer', 'Enhanced_Stretching_Potential_height_above_ground_layer', 'Vertical_velocity_pressure_isobaric', 'Effective_Storm_Relative_Helicity_surface', 'Temperature_pressure_difference_layer', 'Categorical_Ice_Pellets_surface', 'Categorical_Snow_surface', 'Haines_index_surface', 'Composite_reflectivity_entire_atmosphere', 'Pressure_maximum_wind', 'Vertical_velocity_pressure_pressure_difference_layer', 'Relative_humidity_zeroDegC_isotherm', 'Water_equivalent_of_accumulated_snow_depth_surface', 'Wind_speed_gust_surface', 'Aerosol_optical_thickness_entire_atmosphere_single_layer', 'u-component_of_wind_height_above_ground', 'Dewpoint_temperature_height_above_ground', 'Geopotential_height_equilibrium', 'Pressure_tropopause', 'Pressure_of_level_from_which_parcel_was_lifted_pressure_difference_layer', 'Medium_cloud_cover_middle_cloud', 'Snow_depth_surface', 'Pseudo-adiabatic_potential_temperature_or_equivalent_potential_temperature_surface', 'Frozen_Rain_surface_Mixed_intervals_Accumulation', 'Temperature_height_above_ground', 'Categorical_Rain_surface', 'V-Component_Storm_Motion_height_above_ground_layer', 'Precipitation_rate_surface', 'Simulated_Brightness_Temperature_for_GOES_12_Channel_3_atmosphere_top', 'Reflectivity_height_above_ground', 'Critical_Angle_height_above_ground_layer', 'v-component_of_wind_maximum_wind', 'Water_equivalent_of_accumulated_snow_depth_surface_Mixed_intervals_Accumulation', 'Potential_temperature_height_above_ground', 'Surface_Lifted_Index_isobaric_layer', 'Temperature_tropopause', 'Convective_available_potential_energy_pressure_difference_layer', 'Simulated_Brightness_Temperature_for_GOES_12_Channel_4_atmosphere_top', 'u-component_of_wind_maximum_wind', 'Geopotential_height_cloud_ceiling', 'Relative_humidity_isobaric', 'v-component_of_wind_height_above_ground', 'Geopotential_height_highest_tropospheric_freezing', 'Potential_temperature_tropopause', 'Visibility_surface', 'Total_cloud_cover_boundary_layer_cloud', 'MSLP_MAPS_System_Reduction_msl', 'Convective_available_potential_energy_surface', 'Geopotential_height_isotherm', 'Specific_humidity_height_above_ground', 'Mass_density_concentration_height_above_ground', 'Geopotential_height_cloud_base', 'Storm_relative_helicity_height_above_ground_layer', 'Freezing_Rain_surface_17_Hour_Accumulation', 'Temperature_surface', 'Convective_available_potential_energy_height_above_ground_layer', 'Geopotential_height_zeroDegC_isotherm', 'Pressure_zeroDegC_isotherm', 'v-component_of_wind_pressure_difference_layer', 'Geopotential_height_cloud_tops', 'Total_precipitation_surface_Mixed_intervals_Accumulation', 'Geopotential_height_convective_cloud_top', 'Pressure_highest_tropospheric_freezing', 'Storm_surface_runoff_surface_1_Hour_Accumulation', 'Vertical_u-component_shear_height_above_ground_layer', 'Vertical_v-component_shear_height_above_ground_layer', 'Convective_inhibition_surface', 'Dewpoint_depression_or_deficit_height_above_ground', 'Total_cloud_cover_entire_atmosphere', 'Relative_humidity_height_above_ground', 'u-component_of_wind_tropopause', 'Absolute_vorticity_isobaric', 'Pressure_surface', 'v-component_of_wind_tropopause', 'Planetary_Boundary_Layer_Height_surface', 'Total_snowfall_surface_17_Hour_Accumulation', 'Geopotential_height_isobaric', 'Precipitable_water_entire_atmosphere_single_layer', 'Convective_precipitation_surface_Mixed_intervals_Accumulation', 'Lightning_surface', 'Layer_Thickness_isotherm_layer', 'Relative_humidity_highest_tropospheric_freezing', 'Relative_Humidity_with_Respect_to_Precipitable_Water_entire_atmosphere', 'Simulated_Brightness_Temperature_for_GOES_11_Channel_3_atmosphere_top', 'Baseflow-groundwater_runoff_surface_1_Hour_Accumulation', 'Low_cloud_cover_low_cloud', 'Pressure_height_above_ground', 'Echo_top_entire_atmosphere_single_layer', 'u-component_of_wind_isobaric', 'Geopotential_height_planetary_boundary', 'Geopotential_height_surface', 'Categorical_Freezing_Rain_surface', 'Temperature_isobaric'}\n"
     ]
    },
    {
     "name": "stderr",
     "output_type": "stream",
     "text": [
      "C:\\Users\\Tony\\anaconda3\\lib\\site-packages\\metpy\\calc\\thermo.py:1078: UserWarning: Relative humidity >120%, ensure proper units.\n",
      "  warnings.warn('Relative humidity >120%, ensure proper units.')\n",
      "C:\\Users\\Tony\\anaconda3\\lib\\site-packages\\metpy\\calc\\thermo.py:1078: UserWarning: Relative humidity >120%, ensure proper units.\n",
      "  warnings.warn('Relative humidity >120%, ensure proper units.')\n",
      "C:\\Users\\Tony\\anaconda3\\lib\\site-packages\\metpy\\calc\\thermo.py:1078: UserWarning: Relative humidity >120%, ensure proper units.\n",
      "  warnings.warn('Relative humidity >120%, ensure proper units.')\n",
      "C:\\Users\\Tony\\anaconda3\\lib\\site-packages\\cartopy\\mpl\\geoaxes.py:1662: UserWarning: The following kwargs were not used by contour: 'under'\n",
      "  result = super().contourf(*args, **kwargs)\n"
     ]
    },
    {
     "name": "stdout",
     "output_type": "stream",
     "text": [
      "https://www.ncei.noaa.gov/thredds/catalog/model-rap130/202305/20230501/catalog.html?dataset=rap130/202305/20230501/rap_130_20230501_0300_018.grb2\n"
     ]
    },
    {
     "name": "stderr",
     "output_type": "stream",
     "text": [
      "C:\\Users\\Tony\\anaconda3\\lib\\site-packages\\siphon\\catalog.py:292: UserWarning: URL https://www.ncei.noaa.gov/thredds/catalog/model-rap130/202305/20230501/catalog.html?dataset=rap130/202305/20230501/rap_130_20230501_0300_018.grb2 returned HTML. Changing to: https://www.ncei.noaa.gov/thredds/catalog/model-rap130/202305/20230501/catalog.xml?dataset=rap130/202305/20230501/rap_130_20230501_0300_018.grb2\n",
      "  warnings.warn('URL {} returned HTML. Changing to: {}'.format(self.catalog_url,\n"
     ]
    },
    {
     "name": "stdout",
     "output_type": "stream",
     "text": [
      "{'High_cloud_cover_high_cloud', 'Best_4_layer_Lifted_Index_pressure_difference_layer', 'U-Component_Storm_Motion_height_above_ground_layer', 'Total_snowfall_surface_18_Hour_Accumulation', 'Convective_inhibition_pressure_difference_layer', 'Geopotential_height_UnknownLevelType-14', 'Simulated_Brightness_Temperature_for_GOES_11_Channel_4_atmosphere_top', 'Moisture_Availability_depth_below_surface', 'Geopotential_height_lowest_level_of_the_wet_bulb_zero', 'v-component_of_wind_isobaric', 'u-component_of_wind_pressure_difference_layer', 'Relative_humidity_pressure_difference_layer', 'Enhanced_Stretching_Potential_height_above_ground_layer', 'Vertical_velocity_pressure_isobaric', 'Effective_Storm_Relative_Helicity_surface', 'Temperature_pressure_difference_layer', 'Categorical_Ice_Pellets_surface', 'Categorical_Snow_surface', 'Haines_index_surface', 'Composite_reflectivity_entire_atmosphere', 'Pressure_maximum_wind', 'Vertical_velocity_pressure_pressure_difference_layer', 'Relative_humidity_zeroDegC_isotherm', 'Water_equivalent_of_accumulated_snow_depth_surface', 'Wind_speed_gust_surface', 'Aerosol_optical_thickness_entire_atmosphere_single_layer', 'u-component_of_wind_height_above_ground', 'Dewpoint_temperature_height_above_ground', 'Geopotential_height_equilibrium', 'Pressure_tropopause', 'Pressure_of_level_from_which_parcel_was_lifted_pressure_difference_layer', 'Medium_cloud_cover_middle_cloud', 'Snow_depth_surface', 'Pseudo-adiabatic_potential_temperature_or_equivalent_potential_temperature_surface', 'Frozen_Rain_surface_Mixed_intervals_Accumulation', 'Temperature_height_above_ground', 'Categorical_Rain_surface', 'V-Component_Storm_Motion_height_above_ground_layer', 'Freezing_Rain_surface_18_Hour_Accumulation', 'Precipitation_rate_surface', 'Simulated_Brightness_Temperature_for_GOES_12_Channel_3_atmosphere_top', 'Reflectivity_height_above_ground', 'Critical_Angle_height_above_ground_layer', 'v-component_of_wind_maximum_wind', 'Water_equivalent_of_accumulated_snow_depth_surface_Mixed_intervals_Accumulation', 'Potential_temperature_height_above_ground', 'Surface_Lifted_Index_isobaric_layer', 'Temperature_tropopause', 'Convective_available_potential_energy_pressure_difference_layer', 'Simulated_Brightness_Temperature_for_GOES_12_Channel_4_atmosphere_top', 'u-component_of_wind_maximum_wind', 'Geopotential_height_cloud_ceiling', 'Relative_humidity_isobaric', 'v-component_of_wind_height_above_ground', 'Geopotential_height_highest_tropospheric_freezing', 'Potential_temperature_tropopause', 'Visibility_surface', 'Total_cloud_cover_boundary_layer_cloud', 'MSLP_MAPS_System_Reduction_msl', 'Convective_available_potential_energy_surface', 'Geopotential_height_isotherm', 'Specific_humidity_height_above_ground', 'Mass_density_concentration_height_above_ground', 'Geopotential_height_cloud_base', 'Storm_relative_helicity_height_above_ground_layer', 'Convective_available_potential_energy_height_above_ground_layer', 'Temperature_surface', 'Geopotential_height_zeroDegC_isotherm', 'Pressure_zeroDegC_isotherm', 'v-component_of_wind_pressure_difference_layer', 'Geopotential_height_cloud_tops', 'Geopotential_height_convective_cloud_top', 'Pressure_highest_tropospheric_freezing', 'Storm_surface_runoff_surface_1_Hour_Accumulation', 'Total_precipitation_surface_Mixed_intervals_Accumulation', 'Vertical_u-component_shear_height_above_ground_layer', 'Vertical_v-component_shear_height_above_ground_layer', 'Convective_inhibition_surface', 'Dewpoint_depression_or_deficit_height_above_ground', 'Total_cloud_cover_entire_atmosphere', 'Relative_humidity_height_above_ground', 'u-component_of_wind_tropopause', 'Absolute_vorticity_isobaric', 'Pressure_surface', 'v-component_of_wind_tropopause', 'Planetary_Boundary_Layer_Height_surface', 'Geopotential_height_isobaric', 'Precipitable_water_entire_atmosphere_single_layer', 'Lightning_surface', 'Convective_precipitation_surface_Mixed_intervals_Accumulation', 'Layer_Thickness_isotherm_layer', 'Relative_humidity_highest_tropospheric_freezing', 'Relative_Humidity_with_Respect_to_Precipitable_Water_entire_atmosphere', 'Simulated_Brightness_Temperature_for_GOES_11_Channel_3_atmosphere_top', 'Baseflow-groundwater_runoff_surface_1_Hour_Accumulation', 'Low_cloud_cover_low_cloud', 'Pressure_height_above_ground', 'Echo_top_entire_atmosphere_single_layer', 'u-component_of_wind_isobaric', 'Geopotential_height_planetary_boundary', 'Geopotential_height_surface', 'Categorical_Freezing_Rain_surface', 'Temperature_isobaric'}\n"
     ]
    },
    {
     "name": "stderr",
     "output_type": "stream",
     "text": [
      "C:\\Users\\Tony\\anaconda3\\lib\\site-packages\\metpy\\calc\\thermo.py:1078: UserWarning: Relative humidity >120%, ensure proper units.\n",
      "  warnings.warn('Relative humidity >120%, ensure proper units.')\n",
      "C:\\Users\\Tony\\anaconda3\\lib\\site-packages\\metpy\\calc\\thermo.py:1078: UserWarning: Relative humidity >120%, ensure proper units.\n",
      "  warnings.warn('Relative humidity >120%, ensure proper units.')\n",
      "C:\\Users\\Tony\\anaconda3\\lib\\site-packages\\metpy\\calc\\thermo.py:1078: UserWarning: Relative humidity >120%, ensure proper units.\n",
      "  warnings.warn('Relative humidity >120%, ensure proper units.')\n",
      "C:\\Users\\Tony\\anaconda3\\lib\\site-packages\\cartopy\\mpl\\geoaxes.py:1662: UserWarning: The following kwargs were not used by contour: 'under'\n",
      "  result = super().contourf(*args, **kwargs)\n"
     ]
    },
    {
     "name": "stdout",
     "output_type": "stream",
     "text": [
      "https://www.ncei.noaa.gov/thredds/catalog/model-rap130/202305/20230501/catalog.html?dataset=rap130/202305/20230501/rap_130_20230501_0300_019.grb2\n"
     ]
    },
    {
     "name": "stderr",
     "output_type": "stream",
     "text": [
      "C:\\Users\\Tony\\anaconda3\\lib\\site-packages\\siphon\\catalog.py:292: UserWarning: URL https://www.ncei.noaa.gov/thredds/catalog/model-rap130/202305/20230501/catalog.html?dataset=rap130/202305/20230501/rap_130_20230501_0300_019.grb2 returned HTML. Changing to: https://www.ncei.noaa.gov/thredds/catalog/model-rap130/202305/20230501/catalog.xml?dataset=rap130/202305/20230501/rap_130_20230501_0300_019.grb2\n",
      "  warnings.warn('URL {} returned HTML. Changing to: {}'.format(self.catalog_url,\n"
     ]
    },
    {
     "name": "stdout",
     "output_type": "stream",
     "text": [
      "{'High_cloud_cover_high_cloud', 'Best_4_layer_Lifted_Index_pressure_difference_layer', 'U-Component_Storm_Motion_height_above_ground_layer', 'Convective_inhibition_pressure_difference_layer', 'Geopotential_height_UnknownLevelType-14', 'Simulated_Brightness_Temperature_for_GOES_11_Channel_4_atmosphere_top', 'Moisture_Availability_depth_below_surface', 'Geopotential_height_lowest_level_of_the_wet_bulb_zero', 'v-component_of_wind_isobaric', 'u-component_of_wind_pressure_difference_layer', 'Relative_humidity_pressure_difference_layer', 'Enhanced_Stretching_Potential_height_above_ground_layer', 'Vertical_velocity_pressure_isobaric', 'Effective_Storm_Relative_Helicity_surface', 'Temperature_pressure_difference_layer', 'Categorical_Ice_Pellets_surface', 'Categorical_Snow_surface', 'Haines_index_surface', 'Composite_reflectivity_entire_atmosphere', 'Pressure_maximum_wind', 'Vertical_velocity_pressure_pressure_difference_layer', 'Relative_humidity_zeroDegC_isotherm', 'Water_equivalent_of_accumulated_snow_depth_surface', 'Wind_speed_gust_surface', 'Aerosol_optical_thickness_entire_atmosphere_single_layer', 'u-component_of_wind_height_above_ground', 'Dewpoint_temperature_height_above_ground', 'Geopotential_height_equilibrium', 'Pressure_tropopause', 'Pressure_of_level_from_which_parcel_was_lifted_pressure_difference_layer', 'Medium_cloud_cover_middle_cloud', 'Snow_depth_surface', 'Pseudo-adiabatic_potential_temperature_or_equivalent_potential_temperature_surface', 'Frozen_Rain_surface_Mixed_intervals_Accumulation', 'Temperature_height_above_ground', 'Categorical_Rain_surface', 'V-Component_Storm_Motion_height_above_ground_layer', 'Precipitation_rate_surface', 'Simulated_Brightness_Temperature_for_GOES_12_Channel_3_atmosphere_top', 'Reflectivity_height_above_ground', 'Critical_Angle_height_above_ground_layer', 'v-component_of_wind_maximum_wind', 'Water_equivalent_of_accumulated_snow_depth_surface_Mixed_intervals_Accumulation', 'Potential_temperature_height_above_ground', 'Surface_Lifted_Index_isobaric_layer', 'Temperature_tropopause', 'Convective_available_potential_energy_pressure_difference_layer', 'Simulated_Brightness_Temperature_for_GOES_12_Channel_4_atmosphere_top', 'u-component_of_wind_maximum_wind', 'Geopotential_height_cloud_ceiling', 'Relative_humidity_isobaric', 'v-component_of_wind_height_above_ground', 'Geopotential_height_highest_tropospheric_freezing', 'Potential_temperature_tropopause', 'Visibility_surface', 'Total_cloud_cover_boundary_layer_cloud', 'MSLP_MAPS_System_Reduction_msl', 'Convective_available_potential_energy_surface', 'Geopotential_height_isotherm', 'Specific_humidity_height_above_ground', 'Mass_density_concentration_height_above_ground', 'Geopotential_height_cloud_base', 'Storm_relative_helicity_height_above_ground_layer', 'Convective_available_potential_energy_height_above_ground_layer', 'Temperature_surface', 'Geopotential_height_zeroDegC_isotherm', 'Pressure_zeroDegC_isotherm', 'v-component_of_wind_pressure_difference_layer', 'Storm_surface_runoff_surface_1_Hour_Accumulation', 'Total_precipitation_surface_Mixed_intervals_Accumulation', 'Geopotential_height_cloud_tops', 'Geopotential_height_convective_cloud_top', 'Pressure_highest_tropospheric_freezing', 'Vertical_u-component_shear_height_above_ground_layer', 'Vertical_v-component_shear_height_above_ground_layer', 'Convective_inhibition_surface', 'Dewpoint_depression_or_deficit_height_above_ground', 'Total_cloud_cover_entire_atmosphere', 'Relative_humidity_height_above_ground', 'u-component_of_wind_tropopause', 'Absolute_vorticity_isobaric', 'Pressure_surface', 'v-component_of_wind_tropopause', 'Planetary_Boundary_Layer_Height_surface', 'Geopotential_height_isobaric', 'Precipitable_water_entire_atmosphere_single_layer', 'Convective_precipitation_surface_Mixed_intervals_Accumulation', 'Lightning_surface', 'Layer_Thickness_isotherm_layer', 'Relative_humidity_highest_tropospheric_freezing', 'Relative_Humidity_with_Respect_to_Precipitable_Water_entire_atmosphere', 'Simulated_Brightness_Temperature_for_GOES_11_Channel_3_atmosphere_top', 'Freezing_Rain_surface_19_Hour_Accumulation', 'Baseflow-groundwater_runoff_surface_1_Hour_Accumulation', 'Low_cloud_cover_low_cloud', 'Pressure_height_above_ground', 'Total_snowfall_surface_19_Hour_Accumulation', 'Echo_top_entire_atmosphere_single_layer', 'u-component_of_wind_isobaric', 'Geopotential_height_planetary_boundary', 'Geopotential_height_surface', 'Categorical_Freezing_Rain_surface', 'Temperature_isobaric'}\n"
     ]
    },
    {
     "name": "stderr",
     "output_type": "stream",
     "text": [
      "C:\\Users\\Tony\\anaconda3\\lib\\site-packages\\metpy\\calc\\thermo.py:1078: UserWarning: Relative humidity >120%, ensure proper units.\n",
      "  warnings.warn('Relative humidity >120%, ensure proper units.')\n",
      "C:\\Users\\Tony\\anaconda3\\lib\\site-packages\\metpy\\calc\\thermo.py:1078: UserWarning: Relative humidity >120%, ensure proper units.\n",
      "  warnings.warn('Relative humidity >120%, ensure proper units.')\n",
      "C:\\Users\\Tony\\anaconda3\\lib\\site-packages\\metpy\\calc\\thermo.py:1078: UserWarning: Relative humidity >120%, ensure proper units.\n",
      "  warnings.warn('Relative humidity >120%, ensure proper units.')\n",
      "C:\\Users\\Tony\\anaconda3\\lib\\site-packages\\cartopy\\mpl\\geoaxes.py:1662: UserWarning: The following kwargs were not used by contour: 'under'\n",
      "  result = super().contourf(*args, **kwargs)\n"
     ]
    },
    {
     "name": "stdout",
     "output_type": "stream",
     "text": [
      "https://www.ncei.noaa.gov/thredds/catalog/model-rap130/202305/20230501/catalog.html?dataset=rap130/202305/20230501/rap_130_20230501_0300_020.grb2\n"
     ]
    },
    {
     "name": "stderr",
     "output_type": "stream",
     "text": [
      "C:\\Users\\Tony\\anaconda3\\lib\\site-packages\\siphon\\catalog.py:292: UserWarning: URL https://www.ncei.noaa.gov/thredds/catalog/model-rap130/202305/20230501/catalog.html?dataset=rap130/202305/20230501/rap_130_20230501_0300_020.grb2 returned HTML. Changing to: https://www.ncei.noaa.gov/thredds/catalog/model-rap130/202305/20230501/catalog.xml?dataset=rap130/202305/20230501/rap_130_20230501_0300_020.grb2\n",
      "  warnings.warn('URL {} returned HTML. Changing to: {}'.format(self.catalog_url,\n"
     ]
    },
    {
     "name": "stdout",
     "output_type": "stream",
     "text": [
      "{'High_cloud_cover_high_cloud', 'Best_4_layer_Lifted_Index_pressure_difference_layer', 'U-Component_Storm_Motion_height_above_ground_layer', 'Convective_inhibition_pressure_difference_layer', 'Geopotential_height_UnknownLevelType-14', 'Simulated_Brightness_Temperature_for_GOES_11_Channel_4_atmosphere_top', 'Moisture_Availability_depth_below_surface', 'Geopotential_height_lowest_level_of_the_wet_bulb_zero', 'v-component_of_wind_isobaric', 'u-component_of_wind_pressure_difference_layer', 'Relative_humidity_pressure_difference_layer', 'Enhanced_Stretching_Potential_height_above_ground_layer', 'Vertical_velocity_pressure_isobaric', 'Effective_Storm_Relative_Helicity_surface', 'Temperature_pressure_difference_layer', 'Categorical_Ice_Pellets_surface', 'Categorical_Snow_surface', 'Haines_index_surface', 'Composite_reflectivity_entire_atmosphere', 'Pressure_maximum_wind', 'Vertical_velocity_pressure_pressure_difference_layer', 'Relative_humidity_zeroDegC_isotherm', 'Water_equivalent_of_accumulated_snow_depth_surface', 'Wind_speed_gust_surface', 'Aerosol_optical_thickness_entire_atmosphere_single_layer', 'u-component_of_wind_height_above_ground', 'Dewpoint_temperature_height_above_ground', 'Geopotential_height_equilibrium', 'Pressure_tropopause', 'Pressure_of_level_from_which_parcel_was_lifted_pressure_difference_layer', 'Medium_cloud_cover_middle_cloud', 'Snow_depth_surface', 'Pseudo-adiabatic_potential_temperature_or_equivalent_potential_temperature_surface', 'Frozen_Rain_surface_Mixed_intervals_Accumulation', 'Temperature_height_above_ground', 'Categorical_Rain_surface', 'V-Component_Storm_Motion_height_above_ground_layer', 'Precipitation_rate_surface', 'Simulated_Brightness_Temperature_for_GOES_12_Channel_3_atmosphere_top', 'Reflectivity_height_above_ground', 'Critical_Angle_height_above_ground_layer', 'v-component_of_wind_maximum_wind', 'Water_equivalent_of_accumulated_snow_depth_surface_Mixed_intervals_Accumulation', 'Potential_temperature_height_above_ground', 'Surface_Lifted_Index_isobaric_layer', 'Temperature_tropopause', 'Convective_available_potential_energy_pressure_difference_layer', 'Simulated_Brightness_Temperature_for_GOES_12_Channel_4_atmosphere_top', 'Freezing_Rain_surface_20_Hour_Accumulation', 'u-component_of_wind_maximum_wind', 'Geopotential_height_cloud_ceiling', 'Relative_humidity_isobaric', 'v-component_of_wind_height_above_ground', 'Geopotential_height_highest_tropospheric_freezing', 'Potential_temperature_tropopause', 'Visibility_surface', 'Total_cloud_cover_boundary_layer_cloud', 'MSLP_MAPS_System_Reduction_msl', 'Convective_available_potential_energy_surface', 'Geopotential_height_isotherm', 'Specific_humidity_height_above_ground', 'Mass_density_concentration_height_above_ground', 'Geopotential_height_cloud_base', 'Storm_relative_helicity_height_above_ground_layer', 'Convective_available_potential_energy_height_above_ground_layer', 'Temperature_surface', 'Geopotential_height_zeroDegC_isotherm', 'Pressure_zeroDegC_isotherm', 'v-component_of_wind_pressure_difference_layer', 'Storm_surface_runoff_surface_1_Hour_Accumulation', 'Total_precipitation_surface_Mixed_intervals_Accumulation', 'Geopotential_height_cloud_tops', 'Geopotential_height_convective_cloud_top', 'Pressure_highest_tropospheric_freezing', 'Vertical_u-component_shear_height_above_ground_layer', 'Vertical_v-component_shear_height_above_ground_layer', 'Convective_inhibition_surface', 'Dewpoint_depression_or_deficit_height_above_ground', 'Total_cloud_cover_entire_atmosphere', 'Relative_humidity_height_above_ground', 'u-component_of_wind_tropopause', 'Absolute_vorticity_isobaric', 'Pressure_surface', 'v-component_of_wind_tropopause', 'Planetary_Boundary_Layer_Height_surface', 'Geopotential_height_isobaric', 'Precipitable_water_entire_atmosphere_single_layer', 'Convective_precipitation_surface_Mixed_intervals_Accumulation', 'Lightning_surface', 'Layer_Thickness_isotherm_layer', 'Relative_humidity_highest_tropospheric_freezing', 'Relative_Humidity_with_Respect_to_Precipitable_Water_entire_atmosphere', 'Simulated_Brightness_Temperature_for_GOES_11_Channel_3_atmosphere_top', 'Baseflow-groundwater_runoff_surface_1_Hour_Accumulation', 'Total_snowfall_surface_20_Hour_Accumulation', 'Low_cloud_cover_low_cloud', 'Pressure_height_above_ground', 'Echo_top_entire_atmosphere_single_layer', 'u-component_of_wind_isobaric', 'Geopotential_height_planetary_boundary', 'Geopotential_height_surface', 'Categorical_Freezing_Rain_surface', 'Temperature_isobaric'}\n"
     ]
    },
    {
     "name": "stderr",
     "output_type": "stream",
     "text": [
      "C:\\Users\\Tony\\anaconda3\\lib\\site-packages\\metpy\\calc\\thermo.py:1078: UserWarning: Relative humidity >120%, ensure proper units.\n",
      "  warnings.warn('Relative humidity >120%, ensure proper units.')\n",
      "C:\\Users\\Tony\\anaconda3\\lib\\site-packages\\metpy\\calc\\thermo.py:1078: UserWarning: Relative humidity >120%, ensure proper units.\n",
      "  warnings.warn('Relative humidity >120%, ensure proper units.')\n",
      "C:\\Users\\Tony\\anaconda3\\lib\\site-packages\\metpy\\calc\\thermo.py:1078: UserWarning: Relative humidity >120%, ensure proper units.\n",
      "  warnings.warn('Relative humidity >120%, ensure proper units.')\n",
      "C:\\Users\\Tony\\anaconda3\\lib\\site-packages\\cartopy\\mpl\\geoaxes.py:1662: UserWarning: The following kwargs were not used by contour: 'under'\n",
      "  result = super().contourf(*args, **kwargs)\n"
     ]
    },
    {
     "name": "stdout",
     "output_type": "stream",
     "text": [
      "https://www.ncei.noaa.gov/thredds/catalog/model-rap130/202305/20230501/catalog.html?dataset=rap130/202305/20230501/rap_130_20230501_0300_021.grb2\n"
     ]
    },
    {
     "name": "stderr",
     "output_type": "stream",
     "text": [
      "C:\\Users\\Tony\\anaconda3\\lib\\site-packages\\siphon\\catalog.py:292: UserWarning: URL https://www.ncei.noaa.gov/thredds/catalog/model-rap130/202305/20230501/catalog.html?dataset=rap130/202305/20230501/rap_130_20230501_0300_021.grb2 returned HTML. Changing to: https://www.ncei.noaa.gov/thredds/catalog/model-rap130/202305/20230501/catalog.xml?dataset=rap130/202305/20230501/rap_130_20230501_0300_021.grb2\n",
      "  warnings.warn('URL {} returned HTML. Changing to: {}'.format(self.catalog_url,\n"
     ]
    },
    {
     "name": "stdout",
     "output_type": "stream",
     "text": [
      "{'High_cloud_cover_high_cloud', 'Best_4_layer_Lifted_Index_pressure_difference_layer', 'U-Component_Storm_Motion_height_above_ground_layer', 'Convective_inhibition_pressure_difference_layer', 'Geopotential_height_UnknownLevelType-14', 'Simulated_Brightness_Temperature_for_GOES_11_Channel_4_atmosphere_top', 'Moisture_Availability_depth_below_surface', 'Geopotential_height_lowest_level_of_the_wet_bulb_zero', 'v-component_of_wind_isobaric', 'Total_snowfall_surface_21_Hour_Accumulation', 'u-component_of_wind_pressure_difference_layer', 'Relative_humidity_pressure_difference_layer', 'Enhanced_Stretching_Potential_height_above_ground_layer', 'Vertical_velocity_pressure_isobaric', 'Effective_Storm_Relative_Helicity_surface', 'Temperature_pressure_difference_layer', 'Categorical_Ice_Pellets_surface', 'Categorical_Snow_surface', 'Haines_index_surface', 'Composite_reflectivity_entire_atmosphere', 'Pressure_maximum_wind', 'Vertical_velocity_pressure_pressure_difference_layer', 'Relative_humidity_zeroDegC_isotherm', 'Water_equivalent_of_accumulated_snow_depth_surface', 'Wind_speed_gust_surface', 'Aerosol_optical_thickness_entire_atmosphere_single_layer', 'u-component_of_wind_height_above_ground', 'Dewpoint_temperature_height_above_ground', 'Geopotential_height_equilibrium', 'Pressure_tropopause', 'Pressure_of_level_from_which_parcel_was_lifted_pressure_difference_layer', 'Medium_cloud_cover_middle_cloud', 'Snow_depth_surface', 'Pseudo-adiabatic_potential_temperature_or_equivalent_potential_temperature_surface', 'Frozen_Rain_surface_Mixed_intervals_Accumulation', 'Temperature_height_above_ground', 'Categorical_Rain_surface', 'V-Component_Storm_Motion_height_above_ground_layer', 'Precipitation_rate_surface', 'Simulated_Brightness_Temperature_for_GOES_12_Channel_3_atmosphere_top', 'Reflectivity_height_above_ground', 'Critical_Angle_height_above_ground_layer', 'v-component_of_wind_maximum_wind', 'Water_equivalent_of_accumulated_snow_depth_surface_Mixed_intervals_Accumulation', 'Potential_temperature_height_above_ground', 'Surface_Lifted_Index_isobaric_layer', 'Temperature_tropopause', 'Convective_available_potential_energy_pressure_difference_layer', 'Simulated_Brightness_Temperature_for_GOES_12_Channel_4_atmosphere_top', 'u-component_of_wind_maximum_wind', 'Geopotential_height_cloud_ceiling', 'Relative_humidity_isobaric', 'v-component_of_wind_height_above_ground', 'Geopotential_height_highest_tropospheric_freezing', 'Potential_temperature_tropopause', 'Freezing_Rain_surface_21_Hour_Accumulation', 'Visibility_surface', 'Total_cloud_cover_boundary_layer_cloud', 'MSLP_MAPS_System_Reduction_msl', 'Convective_available_potential_energy_surface', 'Geopotential_height_isotherm', 'Specific_humidity_height_above_ground', 'Mass_density_concentration_height_above_ground', 'Geopotential_height_cloud_base', 'Storm_relative_helicity_height_above_ground_layer', 'Convective_available_potential_energy_height_above_ground_layer', 'Temperature_surface', 'Geopotential_height_zeroDegC_isotherm', 'Pressure_zeroDegC_isotherm', 'v-component_of_wind_pressure_difference_layer', 'Geopotential_height_cloud_tops', 'Geopotential_height_convective_cloud_top', 'Pressure_highest_tropospheric_freezing', 'Total_precipitation_surface_Mixed_intervals_Accumulation', 'Storm_surface_runoff_surface_1_Hour_Accumulation', 'Vertical_u-component_shear_height_above_ground_layer', 'Vertical_v-component_shear_height_above_ground_layer', 'Convective_inhibition_surface', 'Dewpoint_depression_or_deficit_height_above_ground', 'Total_cloud_cover_entire_atmosphere', 'Relative_humidity_height_above_ground', 'u-component_of_wind_tropopause', 'Absolute_vorticity_isobaric', 'Pressure_surface', 'v-component_of_wind_tropopause', 'Planetary_Boundary_Layer_Height_surface', 'Geopotential_height_isobaric', 'Precipitable_water_entire_atmosphere_single_layer', 'Lightning_surface', 'Convective_precipitation_surface_Mixed_intervals_Accumulation', 'Layer_Thickness_isotherm_layer', 'Relative_humidity_highest_tropospheric_freezing', 'Relative_Humidity_with_Respect_to_Precipitable_Water_entire_atmosphere', 'Simulated_Brightness_Temperature_for_GOES_11_Channel_3_atmosphere_top', 'Baseflow-groundwater_runoff_surface_1_Hour_Accumulation', 'Low_cloud_cover_low_cloud', 'Pressure_height_above_ground', 'Echo_top_entire_atmosphere_single_layer', 'u-component_of_wind_isobaric', 'Geopotential_height_planetary_boundary', 'Geopotential_height_surface', 'Categorical_Freezing_Rain_surface', 'Temperature_isobaric'}\n"
     ]
    },
    {
     "name": "stderr",
     "output_type": "stream",
     "text": [
      "C:\\Users\\Tony\\anaconda3\\lib\\site-packages\\metpy\\calc\\thermo.py:1078: UserWarning: Relative humidity >120%, ensure proper units.\n",
      "  warnings.warn('Relative humidity >120%, ensure proper units.')\n",
      "C:\\Users\\Tony\\anaconda3\\lib\\site-packages\\metpy\\calc\\thermo.py:1078: UserWarning: Relative humidity >120%, ensure proper units.\n",
      "  warnings.warn('Relative humidity >120%, ensure proper units.')\n",
      "C:\\Users\\Tony\\anaconda3\\lib\\site-packages\\metpy\\calc\\thermo.py:1078: UserWarning: Relative humidity >120%, ensure proper units.\n",
      "  warnings.warn('Relative humidity >120%, ensure proper units.')\n",
      "C:\\Users\\Tony\\anaconda3\\lib\\site-packages\\cartopy\\mpl\\geoaxes.py:1662: UserWarning: The following kwargs were not used by contour: 'under'\n",
      "  result = super().contourf(*args, **kwargs)\n"
     ]
    },
    {
     "name": "stdout",
     "output_type": "stream",
     "text": [
      "https://www.ncei.noaa.gov/thredds/catalog/model-rap130/202305/20230501/catalog.html?dataset=rap130/202305/20230501/rap_130_20230501_0300_022.grb2\n"
     ]
    },
    {
     "name": "stderr",
     "output_type": "stream",
     "text": [
      "C:\\Users\\Tony\\anaconda3\\lib\\site-packages\\siphon\\catalog.py:292: UserWarning: URL https://www.ncei.noaa.gov/thredds/catalog/model-rap130/202305/20230501/catalog.html?dataset=rap130/202305/20230501/rap_130_20230501_0300_022.grb2 returned HTML. Changing to: https://www.ncei.noaa.gov/thredds/catalog/model-rap130/202305/20230501/catalog.xml?dataset=rap130/202305/20230501/rap_130_20230501_0300_022.grb2\n",
      "  warnings.warn('URL {} returned HTML. Changing to: {}'.format(self.catalog_url,\n"
     ]
    },
    {
     "name": "stdout",
     "output_type": "stream",
     "text": [
      "{'High_cloud_cover_high_cloud', 'Best_4_layer_Lifted_Index_pressure_difference_layer', 'U-Component_Storm_Motion_height_above_ground_layer', 'Convective_inhibition_pressure_difference_layer', 'Geopotential_height_UnknownLevelType-14', 'Simulated_Brightness_Temperature_for_GOES_11_Channel_4_atmosphere_top', 'Moisture_Availability_depth_below_surface', 'Geopotential_height_lowest_level_of_the_wet_bulb_zero', 'v-component_of_wind_isobaric', 'u-component_of_wind_pressure_difference_layer', 'Relative_humidity_pressure_difference_layer', 'Enhanced_Stretching_Potential_height_above_ground_layer', 'Vertical_velocity_pressure_isobaric', 'Effective_Storm_Relative_Helicity_surface', 'Temperature_pressure_difference_layer', 'Categorical_Ice_Pellets_surface', 'Categorical_Snow_surface', 'Haines_index_surface', 'Composite_reflectivity_entire_atmosphere', 'Pressure_maximum_wind', 'Vertical_velocity_pressure_pressure_difference_layer', 'Relative_humidity_zeroDegC_isotherm', 'Water_equivalent_of_accumulated_snow_depth_surface', 'Wind_speed_gust_surface', 'Aerosol_optical_thickness_entire_atmosphere_single_layer', 'u-component_of_wind_height_above_ground', 'Dewpoint_temperature_height_above_ground', 'Geopotential_height_equilibrium', 'Pressure_tropopause', 'Pressure_of_level_from_which_parcel_was_lifted_pressure_difference_layer', 'Medium_cloud_cover_middle_cloud', 'Snow_depth_surface', 'Pseudo-adiabatic_potential_temperature_or_equivalent_potential_temperature_surface', 'Frozen_Rain_surface_Mixed_intervals_Accumulation', 'Temperature_height_above_ground', 'Categorical_Rain_surface', 'V-Component_Storm_Motion_height_above_ground_layer', 'Precipitation_rate_surface', 'Simulated_Brightness_Temperature_for_GOES_12_Channel_3_atmosphere_top', 'Reflectivity_height_above_ground', 'Critical_Angle_height_above_ground_layer', 'v-component_of_wind_maximum_wind', 'Water_equivalent_of_accumulated_snow_depth_surface_Mixed_intervals_Accumulation', 'Potential_temperature_height_above_ground', 'Surface_Lifted_Index_isobaric_layer', 'Temperature_tropopause', 'Convective_available_potential_energy_pressure_difference_layer', 'Simulated_Brightness_Temperature_for_GOES_12_Channel_4_atmosphere_top', 'u-component_of_wind_maximum_wind', 'Geopotential_height_cloud_ceiling', 'Relative_humidity_isobaric', 'v-component_of_wind_height_above_ground', 'Geopotential_height_highest_tropospheric_freezing', 'Potential_temperature_tropopause', 'Visibility_surface', 'Total_cloud_cover_boundary_layer_cloud', 'MSLP_MAPS_System_Reduction_msl', 'Convective_available_potential_energy_surface', 'Total_snowfall_surface_22_Hour_Accumulation', 'Geopotential_height_isotherm', 'Specific_humidity_height_above_ground', 'Mass_density_concentration_height_above_ground', 'Geopotential_height_cloud_base', 'Storm_relative_helicity_height_above_ground_layer', 'Convective_available_potential_energy_height_above_ground_layer', 'Temperature_surface', 'Geopotential_height_zeroDegC_isotherm', 'Pressure_zeroDegC_isotherm', 'v-component_of_wind_pressure_difference_layer', 'Storm_surface_runoff_surface_1_Hour_Accumulation', 'Total_precipitation_surface_Mixed_intervals_Accumulation', 'Geopotential_height_cloud_tops', 'Geopotential_height_convective_cloud_top', 'Pressure_highest_tropospheric_freezing', 'Vertical_u-component_shear_height_above_ground_layer', 'Vertical_v-component_shear_height_above_ground_layer', 'Convective_inhibition_surface', 'Dewpoint_depression_or_deficit_height_above_ground', 'Total_cloud_cover_entire_atmosphere', 'Relative_humidity_height_above_ground', 'u-component_of_wind_tropopause', 'Absolute_vorticity_isobaric', 'Pressure_surface', 'v-component_of_wind_tropopause', 'Planetary_Boundary_Layer_Height_surface', 'Geopotential_height_isobaric', 'Precipitable_water_entire_atmosphere_single_layer', 'Convective_precipitation_surface_Mixed_intervals_Accumulation', 'Lightning_surface', 'Freezing_Rain_surface_22_Hour_Accumulation', 'Layer_Thickness_isotherm_layer', 'Relative_humidity_highest_tropospheric_freezing', 'Relative_Humidity_with_Respect_to_Precipitable_Water_entire_atmosphere', 'Simulated_Brightness_Temperature_for_GOES_11_Channel_3_atmosphere_top', 'Baseflow-groundwater_runoff_surface_1_Hour_Accumulation', 'Low_cloud_cover_low_cloud', 'Pressure_height_above_ground', 'Echo_top_entire_atmosphere_single_layer', 'u-component_of_wind_isobaric', 'Geopotential_height_planetary_boundary', 'Geopotential_height_surface', 'Categorical_Freezing_Rain_surface', 'Temperature_isobaric'}\n"
     ]
    },
    {
     "name": "stderr",
     "output_type": "stream",
     "text": [
      "C:\\Users\\Tony\\anaconda3\\lib\\site-packages\\metpy\\calc\\thermo.py:1078: UserWarning: Relative humidity >120%, ensure proper units.\n",
      "  warnings.warn('Relative humidity >120%, ensure proper units.')\n",
      "C:\\Users\\Tony\\anaconda3\\lib\\site-packages\\metpy\\calc\\thermo.py:1078: UserWarning: Relative humidity >120%, ensure proper units.\n",
      "  warnings.warn('Relative humidity >120%, ensure proper units.')\n",
      "C:\\Users\\Tony\\anaconda3\\lib\\site-packages\\metpy\\calc\\thermo.py:1078: UserWarning: Relative humidity >120%, ensure proper units.\n",
      "  warnings.warn('Relative humidity >120%, ensure proper units.')\n",
      "C:\\Users\\Tony\\anaconda3\\lib\\site-packages\\cartopy\\mpl\\geoaxes.py:1662: UserWarning: The following kwargs were not used by contour: 'under'\n",
      "  result = super().contourf(*args, **kwargs)\n"
     ]
    },
    {
     "name": "stdout",
     "output_type": "stream",
     "text": [
      "https://www.ncei.noaa.gov/thredds/catalog/model-rap130/202305/20230501/catalog.html?dataset=rap130/202305/20230501/rap_130_20230501_0300_023.grb2\n"
     ]
    },
    {
     "name": "stderr",
     "output_type": "stream",
     "text": [
      "C:\\Users\\Tony\\anaconda3\\lib\\site-packages\\siphon\\catalog.py:292: UserWarning: URL https://www.ncei.noaa.gov/thredds/catalog/model-rap130/202305/20230501/catalog.html?dataset=rap130/202305/20230501/rap_130_20230501_0300_023.grb2 returned HTML. Changing to: https://www.ncei.noaa.gov/thredds/catalog/model-rap130/202305/20230501/catalog.xml?dataset=rap130/202305/20230501/rap_130_20230501_0300_023.grb2\n",
      "  warnings.warn('URL {} returned HTML. Changing to: {}'.format(self.catalog_url,\n"
     ]
    },
    {
     "name": "stdout",
     "output_type": "stream",
     "text": [
      "{'High_cloud_cover_high_cloud', 'Best_4_layer_Lifted_Index_pressure_difference_layer', 'U-Component_Storm_Motion_height_above_ground_layer', 'Convective_inhibition_pressure_difference_layer', 'Geopotential_height_UnknownLevelType-14', 'Simulated_Brightness_Temperature_for_GOES_11_Channel_4_atmosphere_top', 'Moisture_Availability_depth_below_surface', 'Geopotential_height_lowest_level_of_the_wet_bulb_zero', 'v-component_of_wind_isobaric', 'u-component_of_wind_pressure_difference_layer', 'Relative_humidity_pressure_difference_layer', 'Enhanced_Stretching_Potential_height_above_ground_layer', 'Vertical_velocity_pressure_isobaric', 'Effective_Storm_Relative_Helicity_surface', 'Temperature_pressure_difference_layer', 'Categorical_Ice_Pellets_surface', 'Categorical_Snow_surface', 'Haines_index_surface', 'Composite_reflectivity_entire_atmosphere', 'Pressure_maximum_wind', 'Vertical_velocity_pressure_pressure_difference_layer', 'Relative_humidity_zeroDegC_isotherm', 'Water_equivalent_of_accumulated_snow_depth_surface', 'Wind_speed_gust_surface', 'Aerosol_optical_thickness_entire_atmosphere_single_layer', 'u-component_of_wind_height_above_ground', 'Dewpoint_temperature_height_above_ground', 'Geopotential_height_equilibrium', 'Pressure_tropopause', 'Pressure_of_level_from_which_parcel_was_lifted_pressure_difference_layer', 'Medium_cloud_cover_middle_cloud', 'Snow_depth_surface', 'Pseudo-adiabatic_potential_temperature_or_equivalent_potential_temperature_surface', 'Frozen_Rain_surface_Mixed_intervals_Accumulation', 'Temperature_height_above_ground', 'Categorical_Rain_surface', 'V-Component_Storm_Motion_height_above_ground_layer', 'Precipitation_rate_surface', 'Simulated_Brightness_Temperature_for_GOES_12_Channel_3_atmosphere_top', 'Reflectivity_height_above_ground', 'Critical_Angle_height_above_ground_layer', 'v-component_of_wind_maximum_wind', 'Freezing_Rain_surface_23_Hour_Accumulation', 'Water_equivalent_of_accumulated_snow_depth_surface_Mixed_intervals_Accumulation', 'Potential_temperature_height_above_ground', 'Surface_Lifted_Index_isobaric_layer', 'Temperature_tropopause', 'Convective_available_potential_energy_pressure_difference_layer', 'Simulated_Brightness_Temperature_for_GOES_12_Channel_4_atmosphere_top', 'u-component_of_wind_maximum_wind', 'Geopotential_height_cloud_ceiling', 'Relative_humidity_isobaric', 'v-component_of_wind_height_above_ground', 'Geopotential_height_highest_tropospheric_freezing', 'Potential_temperature_tropopause', 'Visibility_surface', 'Total_cloud_cover_boundary_layer_cloud', 'MSLP_MAPS_System_Reduction_msl', 'Convective_available_potential_energy_surface', 'Geopotential_height_isotherm', 'Specific_humidity_height_above_ground', 'Mass_density_concentration_height_above_ground', 'Geopotential_height_cloud_base', 'Storm_relative_helicity_height_above_ground_layer', 'Convective_available_potential_energy_height_above_ground_layer', 'Temperature_surface', 'Geopotential_height_zeroDegC_isotherm', 'Pressure_zeroDegC_isotherm', 'v-component_of_wind_pressure_difference_layer', 'Geopotential_height_cloud_tops', 'Geopotential_height_convective_cloud_top', 'Pressure_highest_tropospheric_freezing', 'Storm_surface_runoff_surface_1_Hour_Accumulation', 'Total_precipitation_surface_Mixed_intervals_Accumulation', 'Vertical_u-component_shear_height_above_ground_layer', 'Vertical_v-component_shear_height_above_ground_layer', 'Convective_inhibition_surface', 'Dewpoint_depression_or_deficit_height_above_ground', 'Total_cloud_cover_entire_atmosphere', 'Relative_humidity_height_above_ground', 'u-component_of_wind_tropopause', 'Absolute_vorticity_isobaric', 'Pressure_surface', 'v-component_of_wind_tropopause', 'Planetary_Boundary_Layer_Height_surface', 'Geopotential_height_isobaric', 'Precipitable_water_entire_atmosphere_single_layer', 'Lightning_surface', 'Convective_precipitation_surface_Mixed_intervals_Accumulation', 'Layer_Thickness_isotherm_layer', 'Relative_humidity_highest_tropospheric_freezing', 'Relative_Humidity_with_Respect_to_Precipitable_Water_entire_atmosphere', 'Simulated_Brightness_Temperature_for_GOES_11_Channel_3_atmosphere_top', 'Baseflow-groundwater_runoff_surface_1_Hour_Accumulation', 'Low_cloud_cover_low_cloud', 'Pressure_height_above_ground', 'Echo_top_entire_atmosphere_single_layer', 'u-component_of_wind_isobaric', 'Geopotential_height_planetary_boundary', 'Geopotential_height_surface', 'Total_snowfall_surface_23_Hour_Accumulation', 'Categorical_Freezing_Rain_surface', 'Temperature_isobaric'}\n"
     ]
    },
    {
     "name": "stderr",
     "output_type": "stream",
     "text": [
      "C:\\Users\\Tony\\anaconda3\\lib\\site-packages\\metpy\\calc\\thermo.py:1078: UserWarning: Relative humidity >120%, ensure proper units.\n",
      "  warnings.warn('Relative humidity >120%, ensure proper units.')\n",
      "C:\\Users\\Tony\\anaconda3\\lib\\site-packages\\metpy\\calc\\thermo.py:1078: UserWarning: Relative humidity >120%, ensure proper units.\n",
      "  warnings.warn('Relative humidity >120%, ensure proper units.')\n",
      "C:\\Users\\Tony\\anaconda3\\lib\\site-packages\\metpy\\calc\\thermo.py:1078: UserWarning: Relative humidity >120%, ensure proper units.\n",
      "  warnings.warn('Relative humidity >120%, ensure proper units.')\n",
      "C:\\Users\\Tony\\anaconda3\\lib\\site-packages\\cartopy\\mpl\\geoaxes.py:1662: UserWarning: The following kwargs were not used by contour: 'under'\n",
      "  result = super().contourf(*args, **kwargs)\n"
     ]
    },
    {
     "name": "stdout",
     "output_type": "stream",
     "text": [
      "https://www.ncei.noaa.gov/thredds/catalog/model-rap130/202305/20230501/catalog.html?dataset=rap130/202305/20230501/rap_130_20230501_0300_024.grb2\n"
     ]
    },
    {
     "name": "stderr",
     "output_type": "stream",
     "text": [
      "C:\\Users\\Tony\\anaconda3\\lib\\site-packages\\siphon\\catalog.py:292: UserWarning: URL https://www.ncei.noaa.gov/thredds/catalog/model-rap130/202305/20230501/catalog.html?dataset=rap130/202305/20230501/rap_130_20230501_0300_024.grb2 returned HTML. Changing to: https://www.ncei.noaa.gov/thredds/catalog/model-rap130/202305/20230501/catalog.xml?dataset=rap130/202305/20230501/rap_130_20230501_0300_024.grb2\n",
      "  warnings.warn('URL {} returned HTML. Changing to: {}'.format(self.catalog_url,\n"
     ]
    },
    {
     "name": "stdout",
     "output_type": "stream",
     "text": [
      "{'High_cloud_cover_high_cloud', 'Best_4_layer_Lifted_Index_pressure_difference_layer', 'U-Component_Storm_Motion_height_above_ground_layer', 'Convective_inhibition_pressure_difference_layer', 'Geopotential_height_UnknownLevelType-14', 'Simulated_Brightness_Temperature_for_GOES_11_Channel_4_atmosphere_top', 'Moisture_Availability_depth_below_surface', 'Geopotential_height_lowest_level_of_the_wet_bulb_zero', 'v-component_of_wind_isobaric', 'u-component_of_wind_pressure_difference_layer', 'Relative_humidity_pressure_difference_layer', 'Enhanced_Stretching_Potential_height_above_ground_layer', 'Vertical_velocity_pressure_isobaric', 'Effective_Storm_Relative_Helicity_surface', 'Temperature_pressure_difference_layer', 'Categorical_Ice_Pellets_surface', 'Categorical_Snow_surface', 'Haines_index_surface', 'Composite_reflectivity_entire_atmosphere', 'Pressure_maximum_wind', 'Vertical_velocity_pressure_pressure_difference_layer', 'Relative_humidity_zeroDegC_isotherm', 'Water_equivalent_of_accumulated_snow_depth_surface', 'Wind_speed_gust_surface', 'Aerosol_optical_thickness_entire_atmosphere_single_layer', 'u-component_of_wind_height_above_ground', 'Dewpoint_temperature_height_above_ground', 'Geopotential_height_equilibrium', 'Pressure_tropopause', 'Pressure_of_level_from_which_parcel_was_lifted_pressure_difference_layer', 'Medium_cloud_cover_middle_cloud', 'Snow_depth_surface', 'Pseudo-adiabatic_potential_temperature_or_equivalent_potential_temperature_surface', 'Frozen_Rain_surface_Mixed_intervals_Accumulation', 'Temperature_height_above_ground', 'Categorical_Rain_surface', 'V-Component_Storm_Motion_height_above_ground_layer', 'Temperature_isobaric', 'Precipitation_rate_surface', 'Simulated_Brightness_Temperature_for_GOES_12_Channel_3_atmosphere_top', 'Reflectivity_height_above_ground', 'Critical_Angle_height_above_ground_layer', 'v-component_of_wind_maximum_wind', 'Water_equivalent_of_accumulated_snow_depth_surface_Mixed_intervals_Accumulation', 'Potential_temperature_height_above_ground', 'Surface_Lifted_Index_isobaric_layer', 'Temperature_tropopause', 'Convective_available_potential_energy_pressure_difference_layer', 'Simulated_Brightness_Temperature_for_GOES_12_Channel_4_atmosphere_top', 'u-component_of_wind_maximum_wind', 'Geopotential_height_cloud_ceiling', 'Relative_humidity_isobaric', 'v-component_of_wind_height_above_ground', 'Geopotential_height_highest_tropospheric_freezing', 'Potential_temperature_tropopause', 'Visibility_surface', 'Total_cloud_cover_boundary_layer_cloud', 'MSLP_MAPS_System_Reduction_msl', 'Convective_available_potential_energy_surface', 'Geopotential_height_isotherm', 'Specific_humidity_height_above_ground', 'Mass_density_concentration_height_above_ground', 'Geopotential_height_cloud_base', 'Storm_relative_helicity_height_above_ground_layer', 'Convective_available_potential_energy_height_above_ground_layer', 'Temperature_surface', 'Geopotential_height_zeroDegC_isotherm', 'Pressure_zeroDegC_isotherm', 'v-component_of_wind_pressure_difference_layer', 'Geopotential_height_cloud_tops', 'Geopotential_height_convective_cloud_top', 'Pressure_highest_tropospheric_freezing', 'Storm_surface_runoff_surface_1_Hour_Accumulation', 'Total_precipitation_surface_Mixed_intervals_Accumulation', 'Vertical_u-component_shear_height_above_ground_layer', 'Vertical_v-component_shear_height_above_ground_layer', 'Convective_inhibition_surface', 'Dewpoint_depression_or_deficit_height_above_ground', 'Total_cloud_cover_entire_atmosphere', 'Relative_humidity_height_above_ground', 'u-component_of_wind_tropopause', 'Absolute_vorticity_isobaric', 'Pressure_surface', 'v-component_of_wind_tropopause', 'Planetary_Boundary_Layer_Height_surface', 'Geopotential_height_isobaric', 'Precipitable_water_entire_atmosphere_single_layer', 'Lightning_surface', 'Convective_precipitation_surface_Mixed_intervals_Accumulation', 'Total_snowfall_surface_24_Hour_Accumulation', 'Layer_Thickness_isotherm_layer', 'Relative_humidity_highest_tropospheric_freezing', 'Relative_Humidity_with_Respect_to_Precipitable_Water_entire_atmosphere', 'Simulated_Brightness_Temperature_for_GOES_11_Channel_3_atmosphere_top', 'Baseflow-groundwater_runoff_surface_1_Hour_Accumulation', 'Low_cloud_cover_low_cloud', 'Pressure_height_above_ground', 'Echo_top_entire_atmosphere_single_layer', 'u-component_of_wind_isobaric', 'Geopotential_height_planetary_boundary', 'Geopotential_height_surface', 'Categorical_Freezing_Rain_surface', 'Freezing_Rain_surface_24_Hour_Accumulation'}\n"
     ]
    },
    {
     "name": "stderr",
     "output_type": "stream",
     "text": [
      "C:\\Users\\Tony\\anaconda3\\lib\\site-packages\\metpy\\calc\\thermo.py:1078: UserWarning: Relative humidity >120%, ensure proper units.\n",
      "  warnings.warn('Relative humidity >120%, ensure proper units.')\n",
      "C:\\Users\\Tony\\anaconda3\\lib\\site-packages\\metpy\\calc\\thermo.py:1078: UserWarning: Relative humidity >120%, ensure proper units.\n",
      "  warnings.warn('Relative humidity >120%, ensure proper units.')\n",
      "C:\\Users\\Tony\\anaconda3\\lib\\site-packages\\metpy\\calc\\thermo.py:1078: UserWarning: Relative humidity >120%, ensure proper units.\n",
      "  warnings.warn('Relative humidity >120%, ensure proper units.')\n",
      "C:\\Users\\Tony\\anaconda3\\lib\\site-packages\\cartopy\\mpl\\geoaxes.py:1662: UserWarning: The following kwargs were not used by contour: 'under'\n",
      "  result = super().contourf(*args, **kwargs)\n"
     ]
    },
    {
     "name": "stdout",
     "output_type": "stream",
     "text": [
      "https://www.ncei.noaa.gov/thredds/catalog/model-rap130/202305/20230501/catalog.html?dataset=rap130/202305/20230501/rap_130_20230501_0300_025.grb2\n"
     ]
    },
    {
     "name": "stderr",
     "output_type": "stream",
     "text": [
      "C:\\Users\\Tony\\anaconda3\\lib\\site-packages\\siphon\\catalog.py:292: UserWarning: URL https://www.ncei.noaa.gov/thredds/catalog/model-rap130/202305/20230501/catalog.html?dataset=rap130/202305/20230501/rap_130_20230501_0300_025.grb2 returned HTML. Changing to: https://www.ncei.noaa.gov/thredds/catalog/model-rap130/202305/20230501/catalog.xml?dataset=rap130/202305/20230501/rap_130_20230501_0300_025.grb2\n",
      "  warnings.warn('URL {} returned HTML. Changing to: {}'.format(self.catalog_url,\n"
     ]
    },
    {
     "name": "stdout",
     "output_type": "stream",
     "text": [
      "{'High_cloud_cover_high_cloud', 'Best_4_layer_Lifted_Index_pressure_difference_layer', 'U-Component_Storm_Motion_height_above_ground_layer', 'Convective_inhibition_pressure_difference_layer', 'Geopotential_height_UnknownLevelType-14', 'Simulated_Brightness_Temperature_for_GOES_11_Channel_4_atmosphere_top', 'Moisture_Availability_depth_below_surface', 'Geopotential_height_lowest_level_of_the_wet_bulb_zero', 'v-component_of_wind_isobaric', 'u-component_of_wind_pressure_difference_layer', 'Relative_humidity_pressure_difference_layer', 'Enhanced_Stretching_Potential_height_above_ground_layer', 'Vertical_velocity_pressure_isobaric', 'Effective_Storm_Relative_Helicity_surface', 'Temperature_pressure_difference_layer', 'Categorical_Ice_Pellets_surface', 'Categorical_Snow_surface', 'Haines_index_surface', 'Composite_reflectivity_entire_atmosphere', 'Pressure_maximum_wind', 'Vertical_velocity_pressure_pressure_difference_layer', 'Relative_humidity_zeroDegC_isotherm', 'Water_equivalent_of_accumulated_snow_depth_surface', 'Wind_speed_gust_surface', 'Aerosol_optical_thickness_entire_atmosphere_single_layer', 'u-component_of_wind_height_above_ground', 'Dewpoint_temperature_height_above_ground', 'Geopotential_height_equilibrium', 'Pressure_tropopause', 'Pressure_of_level_from_which_parcel_was_lifted_pressure_difference_layer', 'Medium_cloud_cover_middle_cloud', 'Snow_depth_surface', 'Pseudo-adiabatic_potential_temperature_or_equivalent_potential_temperature_surface', 'Frozen_Rain_surface_Mixed_intervals_Accumulation', 'Temperature_height_above_ground', 'Categorical_Rain_surface', 'V-Component_Storm_Motion_height_above_ground_layer', 'Precipitation_rate_surface', 'Simulated_Brightness_Temperature_for_GOES_12_Channel_3_atmosphere_top', 'Reflectivity_height_above_ground', 'Critical_Angle_height_above_ground_layer', 'v-component_of_wind_maximum_wind', 'Water_equivalent_of_accumulated_snow_depth_surface_Mixed_intervals_Accumulation', 'Potential_temperature_height_above_ground', 'Surface_Lifted_Index_isobaric_layer', 'Temperature_tropopause', 'Convective_available_potential_energy_pressure_difference_layer', 'Simulated_Brightness_Temperature_for_GOES_12_Channel_4_atmosphere_top', 'u-component_of_wind_maximum_wind', 'Geopotential_height_cloud_ceiling', 'Relative_humidity_isobaric', 'v-component_of_wind_height_above_ground', 'Geopotential_height_highest_tropospheric_freezing', 'Potential_temperature_tropopause', 'Visibility_surface', 'Total_cloud_cover_boundary_layer_cloud', 'MSLP_MAPS_System_Reduction_msl', 'Convective_available_potential_energy_surface', 'Geopotential_height_isotherm', 'Specific_humidity_height_above_ground', 'Mass_density_concentration_height_above_ground', 'Geopotential_height_cloud_base', 'Storm_relative_helicity_height_above_ground_layer', 'Convective_available_potential_energy_height_above_ground_layer', 'Temperature_surface', 'Total_snowfall_surface_25_Hour_Accumulation', 'Geopotential_height_zeroDegC_isotherm', 'Pressure_zeroDegC_isotherm', 'v-component_of_wind_pressure_difference_layer', 'Storm_surface_runoff_surface_1_Hour_Accumulation', 'Total_precipitation_surface_Mixed_intervals_Accumulation', 'Geopotential_height_cloud_tops', 'Geopotential_height_convective_cloud_top', 'Pressure_highest_tropospheric_freezing', 'Vertical_u-component_shear_height_above_ground_layer', 'Vertical_v-component_shear_height_above_ground_layer', 'Convective_inhibition_surface', 'Dewpoint_depression_or_deficit_height_above_ground', 'Total_cloud_cover_entire_atmosphere', 'Relative_humidity_height_above_ground', 'u-component_of_wind_tropopause', 'Absolute_vorticity_isobaric', 'Pressure_surface', 'v-component_of_wind_tropopause', 'Planetary_Boundary_Layer_Height_surface', 'Geopotential_height_isobaric', 'Precipitable_water_entire_atmosphere_single_layer', 'Convective_precipitation_surface_Mixed_intervals_Accumulation', 'Lightning_surface', 'Layer_Thickness_isotherm_layer', 'Relative_humidity_highest_tropospheric_freezing', 'Relative_Humidity_with_Respect_to_Precipitable_Water_entire_atmosphere', 'Simulated_Brightness_Temperature_for_GOES_11_Channel_3_atmosphere_top', 'Baseflow-groundwater_runoff_surface_1_Hour_Accumulation', 'Low_cloud_cover_low_cloud', 'Freezing_Rain_surface_25_Hour_Accumulation', 'Pressure_height_above_ground', 'Echo_top_entire_atmosphere_single_layer', 'u-component_of_wind_isobaric', 'Geopotential_height_planetary_boundary', 'Geopotential_height_surface', 'Categorical_Freezing_Rain_surface', 'Temperature_isobaric'}\n"
     ]
    },
    {
     "name": "stderr",
     "output_type": "stream",
     "text": [
      "C:\\Users\\Tony\\anaconda3\\lib\\site-packages\\metpy\\calc\\thermo.py:1078: UserWarning: Relative humidity >120%, ensure proper units.\n",
      "  warnings.warn('Relative humidity >120%, ensure proper units.')\n",
      "C:\\Users\\Tony\\anaconda3\\lib\\site-packages\\metpy\\calc\\thermo.py:1078: UserWarning: Relative humidity >120%, ensure proper units.\n",
      "  warnings.warn('Relative humidity >120%, ensure proper units.')\n",
      "C:\\Users\\Tony\\anaconda3\\lib\\site-packages\\metpy\\calc\\thermo.py:1078: UserWarning: Relative humidity >120%, ensure proper units.\n",
      "  warnings.warn('Relative humidity >120%, ensure proper units.')\n",
      "C:\\Users\\Tony\\anaconda3\\lib\\site-packages\\cartopy\\mpl\\geoaxes.py:1662: UserWarning: The following kwargs were not used by contour: 'under'\n",
      "  result = super().contourf(*args, **kwargs)\n"
     ]
    },
    {
     "name": "stdout",
     "output_type": "stream",
     "text": [
      "https://www.ncei.noaa.gov/thredds/catalog/model-rap130/202305/20230501/catalog.html?dataset=rap130/202305/20230501/rap_130_20230501_0300_026.grb2\n"
     ]
    },
    {
     "name": "stderr",
     "output_type": "stream",
     "text": [
      "C:\\Users\\Tony\\anaconda3\\lib\\site-packages\\siphon\\catalog.py:292: UserWarning: URL https://www.ncei.noaa.gov/thredds/catalog/model-rap130/202305/20230501/catalog.html?dataset=rap130/202305/20230501/rap_130_20230501_0300_026.grb2 returned HTML. Changing to: https://www.ncei.noaa.gov/thredds/catalog/model-rap130/202305/20230501/catalog.xml?dataset=rap130/202305/20230501/rap_130_20230501_0300_026.grb2\n",
      "  warnings.warn('URL {} returned HTML. Changing to: {}'.format(self.catalog_url,\n"
     ]
    },
    {
     "name": "stdout",
     "output_type": "stream",
     "text": [
      "{'High_cloud_cover_high_cloud', 'Best_4_layer_Lifted_Index_pressure_difference_layer', 'U-Component_Storm_Motion_height_above_ground_layer', 'Convective_inhibition_pressure_difference_layer', 'Geopotential_height_UnknownLevelType-14', 'Simulated_Brightness_Temperature_for_GOES_11_Channel_4_atmosphere_top', 'Moisture_Availability_depth_below_surface', 'Geopotential_height_lowest_level_of_the_wet_bulb_zero', 'v-component_of_wind_isobaric', 'u-component_of_wind_pressure_difference_layer', 'Relative_humidity_pressure_difference_layer', 'Enhanced_Stretching_Potential_height_above_ground_layer', 'Vertical_velocity_pressure_isobaric', 'Effective_Storm_Relative_Helicity_surface', 'Temperature_pressure_difference_layer', 'Categorical_Ice_Pellets_surface', 'Categorical_Snow_surface', 'Haines_index_surface', 'Composite_reflectivity_entire_atmosphere', 'Pressure_maximum_wind', 'Vertical_velocity_pressure_pressure_difference_layer', 'Relative_humidity_zeroDegC_isotherm', 'Water_equivalent_of_accumulated_snow_depth_surface', 'Wind_speed_gust_surface', 'Aerosol_optical_thickness_entire_atmosphere_single_layer', 'u-component_of_wind_height_above_ground', 'Dewpoint_temperature_height_above_ground', 'Geopotential_height_equilibrium', 'Pressure_tropopause', 'Pressure_of_level_from_which_parcel_was_lifted_pressure_difference_layer', 'Medium_cloud_cover_middle_cloud', 'Snow_depth_surface', 'Pseudo-adiabatic_potential_temperature_or_equivalent_potential_temperature_surface', 'Frozen_Rain_surface_Mixed_intervals_Accumulation', 'Temperature_height_above_ground', 'Categorical_Rain_surface', 'V-Component_Storm_Motion_height_above_ground_layer', 'Precipitation_rate_surface', 'Simulated_Brightness_Temperature_for_GOES_12_Channel_3_atmosphere_top', 'Reflectivity_height_above_ground', 'Critical_Angle_height_above_ground_layer', 'v-component_of_wind_maximum_wind', 'Water_equivalent_of_accumulated_snow_depth_surface_Mixed_intervals_Accumulation', 'Total_snowfall_surface_26_Hour_Accumulation', 'Potential_temperature_height_above_ground', 'Surface_Lifted_Index_isobaric_layer', 'Temperature_tropopause', 'Convective_available_potential_energy_pressure_difference_layer', 'Simulated_Brightness_Temperature_for_GOES_12_Channel_4_atmosphere_top', 'u-component_of_wind_maximum_wind', 'Geopotential_height_cloud_ceiling', 'Relative_humidity_isobaric', 'v-component_of_wind_height_above_ground', 'Geopotential_height_highest_tropospheric_freezing', 'Potential_temperature_tropopause', 'Visibility_surface', 'Total_cloud_cover_boundary_layer_cloud', 'MSLP_MAPS_System_Reduction_msl', 'Convective_available_potential_energy_surface', 'Geopotential_height_isotherm', 'Specific_humidity_height_above_ground', 'Mass_density_concentration_height_above_ground', 'Geopotential_height_cloud_base', 'Storm_relative_helicity_height_above_ground_layer', 'Convective_available_potential_energy_height_above_ground_layer', 'Temperature_surface', 'Geopotential_height_zeroDegC_isotherm', 'Pressure_zeroDegC_isotherm', 'v-component_of_wind_pressure_difference_layer', 'Storm_surface_runoff_surface_1_Hour_Accumulation', 'Total_precipitation_surface_Mixed_intervals_Accumulation', 'Geopotential_height_cloud_tops', 'Geopotential_height_convective_cloud_top', 'Pressure_highest_tropospheric_freezing', 'Vertical_u-component_shear_height_above_ground_layer', 'Vertical_v-component_shear_height_above_ground_layer', 'Convective_inhibition_surface', 'Dewpoint_depression_or_deficit_height_above_ground', 'Total_cloud_cover_entire_atmosphere', 'Relative_humidity_height_above_ground', 'u-component_of_wind_tropopause', 'Absolute_vorticity_isobaric', 'Pressure_surface', 'v-component_of_wind_tropopause', 'Planetary_Boundary_Layer_Height_surface', 'Geopotential_height_isobaric', 'Precipitable_water_entire_atmosphere_single_layer', 'Convective_precipitation_surface_Mixed_intervals_Accumulation', 'Lightning_surface', 'Layer_Thickness_isotherm_layer', 'Relative_humidity_highest_tropospheric_freezing', 'Relative_Humidity_with_Respect_to_Precipitable_Water_entire_atmosphere', 'Simulated_Brightness_Temperature_for_GOES_11_Channel_3_atmosphere_top', 'Baseflow-groundwater_runoff_surface_1_Hour_Accumulation', 'Low_cloud_cover_low_cloud', 'Pressure_height_above_ground', 'Echo_top_entire_atmosphere_single_layer', 'Freezing_Rain_surface_26_Hour_Accumulation', 'Geopotential_height_planetary_boundary', 'Geopotential_height_surface', 'u-component_of_wind_isobaric', 'Categorical_Freezing_Rain_surface', 'Temperature_isobaric'}\n"
     ]
    },
    {
     "name": "stderr",
     "output_type": "stream",
     "text": [
      "C:\\Users\\Tony\\anaconda3\\lib\\site-packages\\metpy\\calc\\thermo.py:1078: UserWarning: Relative humidity >120%, ensure proper units.\n",
      "  warnings.warn('Relative humidity >120%, ensure proper units.')\n",
      "C:\\Users\\Tony\\anaconda3\\lib\\site-packages\\metpy\\calc\\thermo.py:1078: UserWarning: Relative humidity >120%, ensure proper units.\n",
      "  warnings.warn('Relative humidity >120%, ensure proper units.')\n",
      "C:\\Users\\Tony\\anaconda3\\lib\\site-packages\\metpy\\calc\\thermo.py:1078: UserWarning: Relative humidity >120%, ensure proper units.\n",
      "  warnings.warn('Relative humidity >120%, ensure proper units.')\n",
      "C:\\Users\\Tony\\anaconda3\\lib\\site-packages\\cartopy\\mpl\\geoaxes.py:1662: UserWarning: The following kwargs were not used by contour: 'under'\n",
      "  result = super().contourf(*args, **kwargs)\n"
     ]
    },
    {
     "name": "stdout",
     "output_type": "stream",
     "text": [
      "https://www.ncei.noaa.gov/thredds/catalog/model-rap130/202305/20230501/catalog.html?dataset=rap130/202305/20230501/rap_130_20230501_0300_027.grb2\n"
     ]
    },
    {
     "name": "stderr",
     "output_type": "stream",
     "text": [
      "C:\\Users\\Tony\\anaconda3\\lib\\site-packages\\siphon\\catalog.py:292: UserWarning: URL https://www.ncei.noaa.gov/thredds/catalog/model-rap130/202305/20230501/catalog.html?dataset=rap130/202305/20230501/rap_130_20230501_0300_027.grb2 returned HTML. Changing to: https://www.ncei.noaa.gov/thredds/catalog/model-rap130/202305/20230501/catalog.xml?dataset=rap130/202305/20230501/rap_130_20230501_0300_027.grb2\n",
      "  warnings.warn('URL {} returned HTML. Changing to: {}'.format(self.catalog_url,\n"
     ]
    },
    {
     "name": "stdout",
     "output_type": "stream",
     "text": [
      "{'High_cloud_cover_high_cloud', 'Best_4_layer_Lifted_Index_pressure_difference_layer', 'U-Component_Storm_Motion_height_above_ground_layer', 'Total_snowfall_surface_27_Hour_Accumulation', 'Convective_inhibition_pressure_difference_layer', 'Geopotential_height_UnknownLevelType-14', 'Simulated_Brightness_Temperature_for_GOES_11_Channel_4_atmosphere_top', 'Moisture_Availability_depth_below_surface', 'Geopotential_height_lowest_level_of_the_wet_bulb_zero', 'v-component_of_wind_isobaric', 'u-component_of_wind_pressure_difference_layer', 'Relative_humidity_pressure_difference_layer', 'Enhanced_Stretching_Potential_height_above_ground_layer', 'Vertical_velocity_pressure_isobaric', 'Effective_Storm_Relative_Helicity_surface', 'Temperature_pressure_difference_layer', 'Categorical_Ice_Pellets_surface', 'Categorical_Snow_surface', 'Haines_index_surface', 'Composite_reflectivity_entire_atmosphere', 'Pressure_maximum_wind', 'Vertical_velocity_pressure_pressure_difference_layer', 'Relative_humidity_zeroDegC_isotherm', 'Water_equivalent_of_accumulated_snow_depth_surface', 'Wind_speed_gust_surface', 'Aerosol_optical_thickness_entire_atmosphere_single_layer', 'u-component_of_wind_height_above_ground', 'Dewpoint_temperature_height_above_ground', 'Geopotential_height_equilibrium', 'Pressure_tropopause', 'Pressure_of_level_from_which_parcel_was_lifted_pressure_difference_layer', 'Medium_cloud_cover_middle_cloud', 'Snow_depth_surface', 'Pseudo-adiabatic_potential_temperature_or_equivalent_potential_temperature_surface', 'Frozen_Rain_surface_Mixed_intervals_Accumulation', 'Temperature_height_above_ground', 'Categorical_Rain_surface', 'V-Component_Storm_Motion_height_above_ground_layer', 'Precipitation_rate_surface', 'Simulated_Brightness_Temperature_for_GOES_12_Channel_3_atmosphere_top', 'Reflectivity_height_above_ground', 'Critical_Angle_height_above_ground_layer', 'v-component_of_wind_maximum_wind', 'Water_equivalent_of_accumulated_snow_depth_surface_Mixed_intervals_Accumulation', 'Potential_temperature_height_above_ground', 'Surface_Lifted_Index_isobaric_layer', 'Temperature_tropopause', 'Convective_available_potential_energy_pressure_difference_layer', 'Simulated_Brightness_Temperature_for_GOES_12_Channel_4_atmosphere_top', 'u-component_of_wind_maximum_wind', 'Geopotential_height_cloud_ceiling', 'Relative_humidity_isobaric', 'v-component_of_wind_height_above_ground', 'Geopotential_height_highest_tropospheric_freezing', 'Potential_temperature_tropopause', 'Visibility_surface', 'Total_cloud_cover_boundary_layer_cloud', 'MSLP_MAPS_System_Reduction_msl', 'Convective_available_potential_energy_surface', 'Geopotential_height_isotherm', 'Specific_humidity_height_above_ground', 'Mass_density_concentration_height_above_ground', 'Geopotential_height_cloud_base', 'Freezing_Rain_surface_27_Hour_Accumulation', 'Convective_available_potential_energy_height_above_ground_layer', 'Temperature_surface', 'Storm_relative_helicity_height_above_ground_layer', 'Geopotential_height_zeroDegC_isotherm', 'Pressure_zeroDegC_isotherm', 'v-component_of_wind_pressure_difference_layer', 'Geopotential_height_cloud_tops', 'Geopotential_height_convective_cloud_top', 'Pressure_highest_tropospheric_freezing', 'Total_precipitation_surface_Mixed_intervals_Accumulation', 'Storm_surface_runoff_surface_1_Hour_Accumulation', 'Vertical_u-component_shear_height_above_ground_layer', 'Vertical_v-component_shear_height_above_ground_layer', 'Convective_inhibition_surface', 'Dewpoint_depression_or_deficit_height_above_ground', 'Total_cloud_cover_entire_atmosphere', 'Relative_humidity_height_above_ground', 'u-component_of_wind_tropopause', 'Absolute_vorticity_isobaric', 'Pressure_surface', 'v-component_of_wind_tropopause', 'Planetary_Boundary_Layer_Height_surface', 'Geopotential_height_isobaric', 'Precipitable_water_entire_atmosphere_single_layer', 'Lightning_surface', 'Convective_precipitation_surface_Mixed_intervals_Accumulation', 'Layer_Thickness_isotherm_layer', 'Relative_humidity_highest_tropospheric_freezing', 'Relative_Humidity_with_Respect_to_Precipitable_Water_entire_atmosphere', 'Simulated_Brightness_Temperature_for_GOES_11_Channel_3_atmosphere_top', 'Baseflow-groundwater_runoff_surface_1_Hour_Accumulation', 'Low_cloud_cover_low_cloud', 'Pressure_height_above_ground', 'Echo_top_entire_atmosphere_single_layer', 'u-component_of_wind_isobaric', 'Geopotential_height_planetary_boundary', 'Geopotential_height_surface', 'Categorical_Freezing_Rain_surface', 'Temperature_isobaric'}\n"
     ]
    },
    {
     "name": "stderr",
     "output_type": "stream",
     "text": [
      "C:\\Users\\Tony\\anaconda3\\lib\\site-packages\\metpy\\calc\\thermo.py:1078: UserWarning: Relative humidity >120%, ensure proper units.\n",
      "  warnings.warn('Relative humidity >120%, ensure proper units.')\n",
      "C:\\Users\\Tony\\anaconda3\\lib\\site-packages\\metpy\\calc\\thermo.py:1078: UserWarning: Relative humidity >120%, ensure proper units.\n",
      "  warnings.warn('Relative humidity >120%, ensure proper units.')\n",
      "C:\\Users\\Tony\\anaconda3\\lib\\site-packages\\metpy\\calc\\thermo.py:1078: UserWarning: Relative humidity >120%, ensure proper units.\n",
      "  warnings.warn('Relative humidity >120%, ensure proper units.')\n",
      "C:\\Users\\Tony\\anaconda3\\lib\\site-packages\\cartopy\\mpl\\geoaxes.py:1662: UserWarning: The following kwargs were not used by contour: 'under'\n",
      "  result = super().contourf(*args, **kwargs)\n"
     ]
    },
    {
     "name": "stdout",
     "output_type": "stream",
     "text": [
      "https://www.ncei.noaa.gov/thredds/catalog/model-rap130/202305/20230501/catalog.html?dataset=rap130/202305/20230501/rap_130_20230501_0300_028.grb2\n"
     ]
    },
    {
     "name": "stderr",
     "output_type": "stream",
     "text": [
      "C:\\Users\\Tony\\anaconda3\\lib\\site-packages\\siphon\\catalog.py:292: UserWarning: URL https://www.ncei.noaa.gov/thredds/catalog/model-rap130/202305/20230501/catalog.html?dataset=rap130/202305/20230501/rap_130_20230501_0300_028.grb2 returned HTML. Changing to: https://www.ncei.noaa.gov/thredds/catalog/model-rap130/202305/20230501/catalog.xml?dataset=rap130/202305/20230501/rap_130_20230501_0300_028.grb2\n",
      "  warnings.warn('URL {} returned HTML. Changing to: {}'.format(self.catalog_url,\n"
     ]
    },
    {
     "name": "stdout",
     "output_type": "stream",
     "text": [
      "{'High_cloud_cover_high_cloud', 'Best_4_layer_Lifted_Index_pressure_difference_layer', 'U-Component_Storm_Motion_height_above_ground_layer', 'Convective_inhibition_pressure_difference_layer', 'Geopotential_height_UnknownLevelType-14', 'Simulated_Brightness_Temperature_for_GOES_11_Channel_4_atmosphere_top', 'Moisture_Availability_depth_below_surface', 'Geopotential_height_lowest_level_of_the_wet_bulb_zero', 'v-component_of_wind_isobaric', 'u-component_of_wind_pressure_difference_layer', 'Relative_humidity_pressure_difference_layer', 'Enhanced_Stretching_Potential_height_above_ground_layer', 'Vertical_velocity_pressure_isobaric', 'Effective_Storm_Relative_Helicity_surface', 'Temperature_pressure_difference_layer', 'Categorical_Ice_Pellets_surface', 'Categorical_Snow_surface', 'Haines_index_surface', 'Composite_reflectivity_entire_atmosphere', 'Pressure_maximum_wind', 'Vertical_velocity_pressure_pressure_difference_layer', 'Relative_humidity_zeroDegC_isotherm', 'Water_equivalent_of_accumulated_snow_depth_surface', 'Wind_speed_gust_surface', 'Aerosol_optical_thickness_entire_atmosphere_single_layer', 'u-component_of_wind_height_above_ground', 'Dewpoint_temperature_height_above_ground', 'Geopotential_height_equilibrium', 'Pressure_tropopause', 'Pressure_of_level_from_which_parcel_was_lifted_pressure_difference_layer', 'Medium_cloud_cover_middle_cloud', 'Snow_depth_surface', 'Pseudo-adiabatic_potential_temperature_or_equivalent_potential_temperature_surface', 'Frozen_Rain_surface_Mixed_intervals_Accumulation', 'Temperature_height_above_ground', 'Categorical_Rain_surface', 'V-Component_Storm_Motion_height_above_ground_layer', 'Precipitation_rate_surface', 'Simulated_Brightness_Temperature_for_GOES_12_Channel_3_atmosphere_top', 'Reflectivity_height_above_ground', 'Critical_Angle_height_above_ground_layer', 'v-component_of_wind_maximum_wind', 'Water_equivalent_of_accumulated_snow_depth_surface_Mixed_intervals_Accumulation', 'Potential_temperature_height_above_ground', 'Surface_Lifted_Index_isobaric_layer', 'Temperature_tropopause', 'Convective_available_potential_energy_pressure_difference_layer', 'Simulated_Brightness_Temperature_for_GOES_12_Channel_4_atmosphere_top', 'u-component_of_wind_maximum_wind', 'Geopotential_height_cloud_ceiling', 'Relative_humidity_isobaric', 'v-component_of_wind_height_above_ground', 'Geopotential_height_highest_tropospheric_freezing', 'Potential_temperature_tropopause', 'Total_snowfall_surface_28_Hour_Accumulation', 'Visibility_surface', 'Total_cloud_cover_boundary_layer_cloud', 'MSLP_MAPS_System_Reduction_msl', 'Convective_available_potential_energy_surface', 'Geopotential_height_isotherm', 'Specific_humidity_height_above_ground', 'Mass_density_concentration_height_above_ground', 'Geopotential_height_cloud_base', 'Storm_relative_helicity_height_above_ground_layer', 'Convective_available_potential_energy_height_above_ground_layer', 'Temperature_surface', 'Geopotential_height_zeroDegC_isotherm', 'Pressure_zeroDegC_isotherm', 'v-component_of_wind_pressure_difference_layer', 'Geopotential_height_cloud_tops', 'Total_precipitation_surface_Mixed_intervals_Accumulation', 'Geopotential_height_convective_cloud_top', 'Pressure_highest_tropospheric_freezing', 'Storm_surface_runoff_surface_1_Hour_Accumulation', 'Vertical_u-component_shear_height_above_ground_layer', 'Vertical_v-component_shear_height_above_ground_layer', 'Freezing_Rain_surface_28_Hour_Accumulation', 'Convective_inhibition_surface', 'Dewpoint_depression_or_deficit_height_above_ground', 'Total_cloud_cover_entire_atmosphere', 'Relative_humidity_height_above_ground', 'u-component_of_wind_tropopause', 'Absolute_vorticity_isobaric', 'Pressure_surface', 'v-component_of_wind_tropopause', 'Planetary_Boundary_Layer_Height_surface', 'Geopotential_height_isobaric', 'Precipitable_water_entire_atmosphere_single_layer', 'Convective_precipitation_surface_Mixed_intervals_Accumulation', 'Lightning_surface', 'Layer_Thickness_isotherm_layer', 'Relative_humidity_highest_tropospheric_freezing', 'Relative_Humidity_with_Respect_to_Precipitable_Water_entire_atmosphere', 'Simulated_Brightness_Temperature_for_GOES_11_Channel_3_atmosphere_top', 'Baseflow-groundwater_runoff_surface_1_Hour_Accumulation', 'Low_cloud_cover_low_cloud', 'Pressure_height_above_ground', 'Echo_top_entire_atmosphere_single_layer', 'u-component_of_wind_isobaric', 'Geopotential_height_planetary_boundary', 'Geopotential_height_surface', 'Categorical_Freezing_Rain_surface', 'Temperature_isobaric'}\n"
     ]
    },
    {
     "name": "stderr",
     "output_type": "stream",
     "text": [
      "C:\\Users\\Tony\\anaconda3\\lib\\site-packages\\metpy\\calc\\thermo.py:1078: UserWarning: Relative humidity >120%, ensure proper units.\n",
      "  warnings.warn('Relative humidity >120%, ensure proper units.')\n",
      "C:\\Users\\Tony\\anaconda3\\lib\\site-packages\\metpy\\calc\\thermo.py:1078: UserWarning: Relative humidity >120%, ensure proper units.\n",
      "  warnings.warn('Relative humidity >120%, ensure proper units.')\n",
      "C:\\Users\\Tony\\anaconda3\\lib\\site-packages\\metpy\\calc\\thermo.py:1078: UserWarning: Relative humidity >120%, ensure proper units.\n",
      "  warnings.warn('Relative humidity >120%, ensure proper units.')\n",
      "C:\\Users\\Tony\\anaconda3\\lib\\site-packages\\cartopy\\mpl\\geoaxes.py:1662: UserWarning: The following kwargs were not used by contour: 'under'\n",
      "  result = super().contourf(*args, **kwargs)\n"
     ]
    },
    {
     "name": "stdout",
     "output_type": "stream",
     "text": [
      "https://www.ncei.noaa.gov/thredds/catalog/model-rap130/202305/20230501/catalog.html?dataset=rap130/202305/20230501/rap_130_20230501_0300_029.grb2\n"
     ]
    },
    {
     "name": "stderr",
     "output_type": "stream",
     "text": [
      "C:\\Users\\Tony\\anaconda3\\lib\\site-packages\\siphon\\catalog.py:292: UserWarning: URL https://www.ncei.noaa.gov/thredds/catalog/model-rap130/202305/20230501/catalog.html?dataset=rap130/202305/20230501/rap_130_20230501_0300_029.grb2 returned HTML. Changing to: https://www.ncei.noaa.gov/thredds/catalog/model-rap130/202305/20230501/catalog.xml?dataset=rap130/202305/20230501/rap_130_20230501_0300_029.grb2\n",
      "  warnings.warn('URL {} returned HTML. Changing to: {}'.format(self.catalog_url,\n"
     ]
    },
    {
     "name": "stdout",
     "output_type": "stream",
     "text": [
      "{'High_cloud_cover_high_cloud', 'Best_4_layer_Lifted_Index_pressure_difference_layer', 'U-Component_Storm_Motion_height_above_ground_layer', 'Convective_inhibition_pressure_difference_layer', 'Geopotential_height_UnknownLevelType-14', 'Simulated_Brightness_Temperature_for_GOES_11_Channel_4_atmosphere_top', 'Moisture_Availability_depth_below_surface', 'Geopotential_height_lowest_level_of_the_wet_bulb_zero', 'v-component_of_wind_isobaric', 'u-component_of_wind_pressure_difference_layer', 'Relative_humidity_pressure_difference_layer', 'Enhanced_Stretching_Potential_height_above_ground_layer', 'Vertical_velocity_pressure_isobaric', 'Effective_Storm_Relative_Helicity_surface', 'Freezing_Rain_surface_29_Hour_Accumulation', 'Temperature_pressure_difference_layer', 'Categorical_Ice_Pellets_surface', 'Categorical_Snow_surface', 'Haines_index_surface', 'Composite_reflectivity_entire_atmosphere', 'Pressure_maximum_wind', 'Vertical_velocity_pressure_pressure_difference_layer', 'Relative_humidity_zeroDegC_isotherm', 'Water_equivalent_of_accumulated_snow_depth_surface', 'Wind_speed_gust_surface', 'Aerosol_optical_thickness_entire_atmosphere_single_layer', 'u-component_of_wind_height_above_ground', 'Dewpoint_temperature_height_above_ground', 'Geopotential_height_equilibrium', 'Pressure_tropopause', 'Pressure_of_level_from_which_parcel_was_lifted_pressure_difference_layer', 'Medium_cloud_cover_middle_cloud', 'Snow_depth_surface', 'Pseudo-adiabatic_potential_temperature_or_equivalent_potential_temperature_surface', 'Frozen_Rain_surface_Mixed_intervals_Accumulation', 'Temperature_height_above_ground', 'Categorical_Rain_surface', 'V-Component_Storm_Motion_height_above_ground_layer', 'Total_snowfall_surface_29_Hour_Accumulation', 'Precipitation_rate_surface', 'Simulated_Brightness_Temperature_for_GOES_12_Channel_3_atmosphere_top', 'Reflectivity_height_above_ground', 'Critical_Angle_height_above_ground_layer', 'v-component_of_wind_maximum_wind', 'Water_equivalent_of_accumulated_snow_depth_surface_Mixed_intervals_Accumulation', 'Potential_temperature_height_above_ground', 'Surface_Lifted_Index_isobaric_layer', 'Temperature_tropopause', 'Convective_available_potential_energy_pressure_difference_layer', 'Simulated_Brightness_Temperature_for_GOES_12_Channel_4_atmosphere_top', 'u-component_of_wind_maximum_wind', 'Geopotential_height_cloud_ceiling', 'Relative_humidity_isobaric', 'v-component_of_wind_height_above_ground', 'Geopotential_height_highest_tropospheric_freezing', 'Potential_temperature_tropopause', 'Visibility_surface', 'Total_cloud_cover_boundary_layer_cloud', 'MSLP_MAPS_System_Reduction_msl', 'Convective_available_potential_energy_surface', 'Geopotential_height_isotherm', 'Specific_humidity_height_above_ground', 'Mass_density_concentration_height_above_ground', 'Geopotential_height_cloud_base', 'Storm_relative_helicity_height_above_ground_layer', 'Convective_available_potential_energy_height_above_ground_layer', 'Temperature_surface', 'Geopotential_height_zeroDegC_isotherm', 'Pressure_zeroDegC_isotherm', 'v-component_of_wind_pressure_difference_layer', 'Storm_surface_runoff_surface_1_Hour_Accumulation', 'Total_precipitation_surface_Mixed_intervals_Accumulation', 'Geopotential_height_cloud_tops', 'Geopotential_height_convective_cloud_top', 'Pressure_highest_tropospheric_freezing', 'Vertical_u-component_shear_height_above_ground_layer', 'Vertical_v-component_shear_height_above_ground_layer', 'Convective_inhibition_surface', 'Dewpoint_depression_or_deficit_height_above_ground', 'Total_cloud_cover_entire_atmosphere', 'Relative_humidity_height_above_ground', 'u-component_of_wind_tropopause', 'Absolute_vorticity_isobaric', 'Pressure_surface', 'v-component_of_wind_tropopause', 'Planetary_Boundary_Layer_Height_surface', 'Geopotential_height_isobaric', 'Precipitable_water_entire_atmosphere_single_layer', 'Convective_precipitation_surface_Mixed_intervals_Accumulation', 'Lightning_surface', 'Layer_Thickness_isotherm_layer', 'Relative_humidity_highest_tropospheric_freezing', 'Relative_Humidity_with_Respect_to_Precipitable_Water_entire_atmosphere', 'Simulated_Brightness_Temperature_for_GOES_11_Channel_3_atmosphere_top', 'Baseflow-groundwater_runoff_surface_1_Hour_Accumulation', 'Low_cloud_cover_low_cloud', 'Pressure_height_above_ground', 'Echo_top_entire_atmosphere_single_layer', 'u-component_of_wind_isobaric', 'Geopotential_height_planetary_boundary', 'Geopotential_height_surface', 'Categorical_Freezing_Rain_surface', 'Temperature_isobaric'}\n"
     ]
    },
    {
     "name": "stderr",
     "output_type": "stream",
     "text": [
      "C:\\Users\\Tony\\anaconda3\\lib\\site-packages\\metpy\\calc\\thermo.py:1078: UserWarning: Relative humidity >120%, ensure proper units.\n",
      "  warnings.warn('Relative humidity >120%, ensure proper units.')\n",
      "C:\\Users\\Tony\\anaconda3\\lib\\site-packages\\metpy\\calc\\thermo.py:1078: UserWarning: Relative humidity >120%, ensure proper units.\n",
      "  warnings.warn('Relative humidity >120%, ensure proper units.')\n",
      "C:\\Users\\Tony\\anaconda3\\lib\\site-packages\\metpy\\calc\\thermo.py:1078: UserWarning: Relative humidity >120%, ensure proper units.\n",
      "  warnings.warn('Relative humidity >120%, ensure proper units.')\n",
      "C:\\Users\\Tony\\anaconda3\\lib\\site-packages\\cartopy\\mpl\\geoaxes.py:1662: UserWarning: The following kwargs were not used by contour: 'under'\n",
      "  result = super().contourf(*args, **kwargs)\n"
     ]
    },
    {
     "name": "stdout",
     "output_type": "stream",
     "text": [
      "https://www.ncei.noaa.gov/thredds/catalog/model-rap130/202305/20230501/catalog.html?dataset=rap130/202305/20230501/rap_130_20230501_0300_030.grb2\n"
     ]
    },
    {
     "name": "stderr",
     "output_type": "stream",
     "text": [
      "C:\\Users\\Tony\\anaconda3\\lib\\site-packages\\siphon\\catalog.py:292: UserWarning: URL https://www.ncei.noaa.gov/thredds/catalog/model-rap130/202305/20230501/catalog.html?dataset=rap130/202305/20230501/rap_130_20230501_0300_030.grb2 returned HTML. Changing to: https://www.ncei.noaa.gov/thredds/catalog/model-rap130/202305/20230501/catalog.xml?dataset=rap130/202305/20230501/rap_130_20230501_0300_030.grb2\n",
      "  warnings.warn('URL {} returned HTML. Changing to: {}'.format(self.catalog_url,\n"
     ]
    },
    {
     "name": "stdout",
     "output_type": "stream",
     "text": [
      "{'High_cloud_cover_high_cloud', 'Best_4_layer_Lifted_Index_pressure_difference_layer', 'U-Component_Storm_Motion_height_above_ground_layer', 'Convective_inhibition_pressure_difference_layer', 'Geopotential_height_UnknownLevelType-14', 'Simulated_Brightness_Temperature_for_GOES_11_Channel_4_atmosphere_top', 'Moisture_Availability_depth_below_surface', 'Geopotential_height_lowest_level_of_the_wet_bulb_zero', 'v-component_of_wind_isobaric', 'u-component_of_wind_pressure_difference_layer', 'Relative_humidity_pressure_difference_layer', 'Enhanced_Stretching_Potential_height_above_ground_layer', 'Vertical_velocity_pressure_isobaric', 'Effective_Storm_Relative_Helicity_surface', 'Temperature_pressure_difference_layer', 'Categorical_Ice_Pellets_surface', 'Categorical_Snow_surface', 'Haines_index_surface', 'Composite_reflectivity_entire_atmosphere', 'Pressure_maximum_wind', 'Vertical_velocity_pressure_pressure_difference_layer', 'Relative_humidity_zeroDegC_isotherm', 'Water_equivalent_of_accumulated_snow_depth_surface', 'Wind_speed_gust_surface', 'Aerosol_optical_thickness_entire_atmosphere_single_layer', 'u-component_of_wind_height_above_ground', 'Dewpoint_temperature_height_above_ground', 'Geopotential_height_equilibrium', 'Pressure_tropopause', 'Pressure_of_level_from_which_parcel_was_lifted_pressure_difference_layer', 'Medium_cloud_cover_middle_cloud', 'Snow_depth_surface', 'Pseudo-adiabatic_potential_temperature_or_equivalent_potential_temperature_surface', 'Frozen_Rain_surface_Mixed_intervals_Accumulation', 'Temperature_height_above_ground', 'Categorical_Rain_surface', 'V-Component_Storm_Motion_height_above_ground_layer', 'Precipitation_rate_surface', 'Simulated_Brightness_Temperature_for_GOES_12_Channel_3_atmosphere_top', 'Total_snowfall_surface_30_Hour_Accumulation', 'Reflectivity_height_above_ground', 'Critical_Angle_height_above_ground_layer', 'v-component_of_wind_maximum_wind', 'Water_equivalent_of_accumulated_snow_depth_surface_Mixed_intervals_Accumulation', 'Potential_temperature_height_above_ground', 'Surface_Lifted_Index_isobaric_layer', 'Temperature_tropopause', 'Convective_available_potential_energy_pressure_difference_layer', 'Simulated_Brightness_Temperature_for_GOES_12_Channel_4_atmosphere_top', 'u-component_of_wind_maximum_wind', 'Geopotential_height_cloud_ceiling', 'Relative_humidity_isobaric', 'v-component_of_wind_height_above_ground', 'Geopotential_height_highest_tropospheric_freezing', 'Potential_temperature_tropopause', 'Visibility_surface', 'Total_cloud_cover_boundary_layer_cloud', 'MSLP_MAPS_System_Reduction_msl', 'Convective_available_potential_energy_surface', 'Geopotential_height_isotherm', 'Specific_humidity_height_above_ground', 'Mass_density_concentration_height_above_ground', 'Geopotential_height_cloud_base', 'Storm_relative_helicity_height_above_ground_layer', 'Convective_available_potential_energy_height_above_ground_layer', 'Temperature_surface', 'Geopotential_height_zeroDegC_isotherm', 'Pressure_zeroDegC_isotherm', 'v-component_of_wind_pressure_difference_layer', 'Geopotential_height_cloud_tops', 'Geopotential_height_convective_cloud_top', 'Pressure_highest_tropospheric_freezing', 'Storm_surface_runoff_surface_1_Hour_Accumulation', 'Total_precipitation_surface_Mixed_intervals_Accumulation', 'Vertical_u-component_shear_height_above_ground_layer', 'Vertical_v-component_shear_height_above_ground_layer', 'Convective_inhibition_surface', 'Dewpoint_depression_or_deficit_height_above_ground', 'Total_cloud_cover_entire_atmosphere', 'Relative_humidity_height_above_ground', 'u-component_of_wind_tropopause', 'Absolute_vorticity_isobaric', 'Pressure_surface', 'v-component_of_wind_tropopause', 'Planetary_Boundary_Layer_Height_surface', 'Geopotential_height_isobaric', 'Precipitable_water_entire_atmosphere_single_layer', 'Lightning_surface', 'Convective_precipitation_surface_Mixed_intervals_Accumulation', 'Layer_Thickness_isotherm_layer', 'Relative_humidity_highest_tropospheric_freezing', 'Relative_Humidity_with_Respect_to_Precipitable_Water_entire_atmosphere', 'Simulated_Brightness_Temperature_for_GOES_11_Channel_3_atmosphere_top', 'Baseflow-groundwater_runoff_surface_1_Hour_Accumulation', 'Low_cloud_cover_low_cloud', 'Pressure_height_above_ground', 'Echo_top_entire_atmosphere_single_layer', 'u-component_of_wind_isobaric', 'Geopotential_height_planetary_boundary', 'Geopotential_height_surface', 'Freezing_Rain_surface_30_Hour_Accumulation', 'Categorical_Freezing_Rain_surface', 'Temperature_isobaric'}\n"
     ]
    },
    {
     "name": "stderr",
     "output_type": "stream",
     "text": [
      "C:\\Users\\Tony\\anaconda3\\lib\\site-packages\\metpy\\calc\\thermo.py:1078: UserWarning: Relative humidity >120%, ensure proper units.\n",
      "  warnings.warn('Relative humidity >120%, ensure proper units.')\n",
      "C:\\Users\\Tony\\anaconda3\\lib\\site-packages\\metpy\\calc\\thermo.py:1078: UserWarning: Relative humidity >120%, ensure proper units.\n",
      "  warnings.warn('Relative humidity >120%, ensure proper units.')\n",
      "C:\\Users\\Tony\\anaconda3\\lib\\site-packages\\metpy\\calc\\thermo.py:1078: UserWarning: Relative humidity >120%, ensure proper units.\n",
      "  warnings.warn('Relative humidity >120%, ensure proper units.')\n",
      "C:\\Users\\Tony\\anaconda3\\lib\\site-packages\\cartopy\\mpl\\geoaxes.py:1662: UserWarning: The following kwargs were not used by contour: 'under'\n",
      "  result = super().contourf(*args, **kwargs)\n"
     ]
    },
    {
     "name": "stdout",
     "output_type": "stream",
     "text": [
      "https://www.ncei.noaa.gov/thredds/catalog/model-rap130/202305/20230501/catalog.html?dataset=rap130/202305/20230501/rap_130_20230501_0300_031.grb2\n"
     ]
    },
    {
     "name": "stderr",
     "output_type": "stream",
     "text": [
      "C:\\Users\\Tony\\anaconda3\\lib\\site-packages\\siphon\\catalog.py:292: UserWarning: URL https://www.ncei.noaa.gov/thredds/catalog/model-rap130/202305/20230501/catalog.html?dataset=rap130/202305/20230501/rap_130_20230501_0300_031.grb2 returned HTML. Changing to: https://www.ncei.noaa.gov/thredds/catalog/model-rap130/202305/20230501/catalog.xml?dataset=rap130/202305/20230501/rap_130_20230501_0300_031.grb2\n",
      "  warnings.warn('URL {} returned HTML. Changing to: {}'.format(self.catalog_url,\n"
     ]
    },
    {
     "name": "stdout",
     "output_type": "stream",
     "text": [
      "{'High_cloud_cover_high_cloud', 'Best_4_layer_Lifted_Index_pressure_difference_layer', 'U-Component_Storm_Motion_height_above_ground_layer', 'Freezing_Rain_surface_31_Hour_Accumulation', 'Convective_inhibition_pressure_difference_layer', 'Geopotential_height_UnknownLevelType-14', 'Simulated_Brightness_Temperature_for_GOES_11_Channel_4_atmosphere_top', 'Moisture_Availability_depth_below_surface', 'Geopotential_height_lowest_level_of_the_wet_bulb_zero', 'v-component_of_wind_isobaric', 'u-component_of_wind_pressure_difference_layer', 'Relative_humidity_pressure_difference_layer', 'Enhanced_Stretching_Potential_height_above_ground_layer', 'Vertical_velocity_pressure_isobaric', 'Effective_Storm_Relative_Helicity_surface', 'Temperature_pressure_difference_layer', 'Categorical_Ice_Pellets_surface', 'Categorical_Snow_surface', 'Haines_index_surface', 'Composite_reflectivity_entire_atmosphere', 'Pressure_maximum_wind', 'Vertical_velocity_pressure_pressure_difference_layer', 'Relative_humidity_zeroDegC_isotherm', 'Water_equivalent_of_accumulated_snow_depth_surface', 'Wind_speed_gust_surface', 'Aerosol_optical_thickness_entire_atmosphere_single_layer', 'u-component_of_wind_height_above_ground', 'Dewpoint_temperature_height_above_ground', 'Geopotential_height_equilibrium', 'Pressure_tropopause', 'Pressure_of_level_from_which_parcel_was_lifted_pressure_difference_layer', 'Medium_cloud_cover_middle_cloud', 'Snow_depth_surface', 'Pseudo-adiabatic_potential_temperature_or_equivalent_potential_temperature_surface', 'Frozen_Rain_surface_Mixed_intervals_Accumulation', 'Temperature_height_above_ground', 'Categorical_Rain_surface', 'V-Component_Storm_Motion_height_above_ground_layer', 'Precipitation_rate_surface', 'Simulated_Brightness_Temperature_for_GOES_12_Channel_3_atmosphere_top', 'Reflectivity_height_above_ground', 'Critical_Angle_height_above_ground_layer', 'v-component_of_wind_maximum_wind', 'Water_equivalent_of_accumulated_snow_depth_surface_Mixed_intervals_Accumulation', 'Potential_temperature_height_above_ground', 'Surface_Lifted_Index_isobaric_layer', 'Temperature_tropopause', 'Convective_available_potential_energy_pressure_difference_layer', 'Simulated_Brightness_Temperature_for_GOES_12_Channel_4_atmosphere_top', 'u-component_of_wind_maximum_wind', 'Geopotential_height_cloud_ceiling', 'Relative_humidity_isobaric', 'v-component_of_wind_height_above_ground', 'Geopotential_height_highest_tropospheric_freezing', 'Potential_temperature_tropopause', 'Visibility_surface', 'Total_cloud_cover_boundary_layer_cloud', 'MSLP_MAPS_System_Reduction_msl', 'Convective_available_potential_energy_surface', 'Geopotential_height_isotherm', 'Specific_humidity_height_above_ground', 'Mass_density_concentration_height_above_ground', 'Geopotential_height_cloud_base', 'Storm_relative_helicity_height_above_ground_layer', 'Convective_available_potential_energy_height_above_ground_layer', 'Temperature_surface', 'Geopotential_height_zeroDegC_isotherm', 'Pressure_zeroDegC_isotherm', 'v-component_of_wind_pressure_difference_layer', 'Storm_surface_runoff_surface_1_Hour_Accumulation', 'Geopotential_height_cloud_tops', 'Geopotential_height_convective_cloud_top', 'Pressure_highest_tropospheric_freezing', 'Total_precipitation_surface_Mixed_intervals_Accumulation', 'Vertical_u-component_shear_height_above_ground_layer', 'Vertical_v-component_shear_height_above_ground_layer', 'Total_snowfall_surface_31_Hour_Accumulation', 'Convective_inhibition_surface', 'Dewpoint_depression_or_deficit_height_above_ground', 'Total_cloud_cover_entire_atmosphere', 'Relative_humidity_height_above_ground', 'u-component_of_wind_tropopause', 'Absolute_vorticity_isobaric', 'Pressure_surface', 'v-component_of_wind_tropopause', 'Planetary_Boundary_Layer_Height_surface', 'Geopotential_height_isobaric', 'Precipitable_water_entire_atmosphere_single_layer', 'Lightning_surface', 'Convective_precipitation_surface_Mixed_intervals_Accumulation', 'Layer_Thickness_isotherm_layer', 'Relative_humidity_highest_tropospheric_freezing', 'Relative_Humidity_with_Respect_to_Precipitable_Water_entire_atmosphere', 'Simulated_Brightness_Temperature_for_GOES_11_Channel_3_atmosphere_top', 'Baseflow-groundwater_runoff_surface_1_Hour_Accumulation', 'Low_cloud_cover_low_cloud', 'Pressure_height_above_ground', 'Echo_top_entire_atmosphere_single_layer', 'u-component_of_wind_isobaric', 'Geopotential_height_planetary_boundary', 'Geopotential_height_surface', 'Categorical_Freezing_Rain_surface', 'Temperature_isobaric'}\n"
     ]
    },
    {
     "name": "stderr",
     "output_type": "stream",
     "text": [
      "C:\\Users\\Tony\\anaconda3\\lib\\site-packages\\metpy\\calc\\thermo.py:1078: UserWarning: Relative humidity >120%, ensure proper units.\n",
      "  warnings.warn('Relative humidity >120%, ensure proper units.')\n",
      "C:\\Users\\Tony\\anaconda3\\lib\\site-packages\\metpy\\calc\\thermo.py:1078: UserWarning: Relative humidity >120%, ensure proper units.\n",
      "  warnings.warn('Relative humidity >120%, ensure proper units.')\n",
      "C:\\Users\\Tony\\anaconda3\\lib\\site-packages\\metpy\\calc\\thermo.py:1078: UserWarning: Relative humidity >120%, ensure proper units.\n",
      "  warnings.warn('Relative humidity >120%, ensure proper units.')\n",
      "C:\\Users\\Tony\\anaconda3\\lib\\site-packages\\cartopy\\mpl\\geoaxes.py:1662: UserWarning: The following kwargs were not used by contour: 'under'\n",
      "  result = super().contourf(*args, **kwargs)\n"
     ]
    },
    {
     "name": "stdout",
     "output_type": "stream",
     "text": [
      "https://www.ncei.noaa.gov/thredds/catalog/model-rap130/202305/20230501/catalog.html?dataset=rap130/202305/20230501/rap_130_20230501_0300_032.grb2\n"
     ]
    },
    {
     "name": "stderr",
     "output_type": "stream",
     "text": [
      "C:\\Users\\Tony\\anaconda3\\lib\\site-packages\\siphon\\catalog.py:292: UserWarning: URL https://www.ncei.noaa.gov/thredds/catalog/model-rap130/202305/20230501/catalog.html?dataset=rap130/202305/20230501/rap_130_20230501_0300_032.grb2 returned HTML. Changing to: https://www.ncei.noaa.gov/thredds/catalog/model-rap130/202305/20230501/catalog.xml?dataset=rap130/202305/20230501/rap_130_20230501_0300_032.grb2\n",
      "  warnings.warn('URL {} returned HTML. Changing to: {}'.format(self.catalog_url,\n"
     ]
    },
    {
     "name": "stdout",
     "output_type": "stream",
     "text": [
      "{'High_cloud_cover_high_cloud', 'Best_4_layer_Lifted_Index_pressure_difference_layer', 'U-Component_Storm_Motion_height_above_ground_layer', 'Convective_inhibition_pressure_difference_layer', 'Geopotential_height_UnknownLevelType-14', 'Simulated_Brightness_Temperature_for_GOES_11_Channel_4_atmosphere_top', 'Moisture_Availability_depth_below_surface', 'Geopotential_height_lowest_level_of_the_wet_bulb_zero', 'v-component_of_wind_isobaric', 'u-component_of_wind_pressure_difference_layer', 'Relative_humidity_pressure_difference_layer', 'Enhanced_Stretching_Potential_height_above_ground_layer', 'Vertical_velocity_pressure_isobaric', 'Effective_Storm_Relative_Helicity_surface', 'Temperature_pressure_difference_layer', 'Categorical_Ice_Pellets_surface', 'Categorical_Snow_surface', 'Haines_index_surface', 'Composite_reflectivity_entire_atmosphere', 'Pressure_maximum_wind', 'Vertical_velocity_pressure_pressure_difference_layer', 'Relative_humidity_zeroDegC_isotherm', 'Freezing_Rain_surface_32_Hour_Accumulation', 'Water_equivalent_of_accumulated_snow_depth_surface', 'Wind_speed_gust_surface', 'Aerosol_optical_thickness_entire_atmosphere_single_layer', 'u-component_of_wind_height_above_ground', 'Dewpoint_temperature_height_above_ground', 'Geopotential_height_equilibrium', 'Pressure_tropopause', 'Pressure_of_level_from_which_parcel_was_lifted_pressure_difference_layer', 'Medium_cloud_cover_middle_cloud', 'Snow_depth_surface', 'Pseudo-adiabatic_potential_temperature_or_equivalent_potential_temperature_surface', 'Frozen_Rain_surface_Mixed_intervals_Accumulation', 'Temperature_height_above_ground', 'Categorical_Rain_surface', 'V-Component_Storm_Motion_height_above_ground_layer', 'Precipitation_rate_surface', 'Simulated_Brightness_Temperature_for_GOES_12_Channel_3_atmosphere_top', 'Reflectivity_height_above_ground', 'Critical_Angle_height_above_ground_layer', 'v-component_of_wind_maximum_wind', 'Water_equivalent_of_accumulated_snow_depth_surface_Mixed_intervals_Accumulation', 'Potential_temperature_height_above_ground', 'Surface_Lifted_Index_isobaric_layer', 'Temperature_tropopause', 'Convective_available_potential_energy_pressure_difference_layer', 'Simulated_Brightness_Temperature_for_GOES_12_Channel_4_atmosphere_top', 'u-component_of_wind_maximum_wind', 'Geopotential_height_cloud_ceiling', 'Relative_humidity_isobaric', 'v-component_of_wind_height_above_ground', 'Geopotential_height_highest_tropospheric_freezing', 'Potential_temperature_tropopause', 'Visibility_surface', 'Total_cloud_cover_boundary_layer_cloud', 'MSLP_MAPS_System_Reduction_msl', 'Convective_available_potential_energy_surface', 'Geopotential_height_isotherm', 'Specific_humidity_height_above_ground', 'Mass_density_concentration_height_above_ground', 'Geopotential_height_cloud_base', 'Storm_relative_helicity_height_above_ground_layer', 'Convective_available_potential_energy_height_above_ground_layer', 'Temperature_surface', 'Total_snowfall_surface_32_Hour_Accumulation', 'Geopotential_height_zeroDegC_isotherm', 'Pressure_zeroDegC_isotherm', 'v-component_of_wind_pressure_difference_layer', 'Storm_surface_runoff_surface_1_Hour_Accumulation', 'Geopotential_height_cloud_tops', 'Geopotential_height_convective_cloud_top', 'Pressure_highest_tropospheric_freezing', 'Total_precipitation_surface_Mixed_intervals_Accumulation', 'Vertical_u-component_shear_height_above_ground_layer', 'Vertical_v-component_shear_height_above_ground_layer', 'Convective_inhibition_surface', 'Dewpoint_depression_or_deficit_height_above_ground', 'Total_cloud_cover_entire_atmosphere', 'Relative_humidity_height_above_ground', 'u-component_of_wind_tropopause', 'Absolute_vorticity_isobaric', 'Pressure_surface', 'v-component_of_wind_tropopause', 'Planetary_Boundary_Layer_Height_surface', 'Geopotential_height_isobaric', 'Precipitable_water_entire_atmosphere_single_layer', 'Lightning_surface', 'Convective_precipitation_surface_Mixed_intervals_Accumulation', 'Layer_Thickness_isotherm_layer', 'Relative_humidity_highest_tropospheric_freezing', 'Relative_Humidity_with_Respect_to_Precipitable_Water_entire_atmosphere', 'Simulated_Brightness_Temperature_for_GOES_11_Channel_3_atmosphere_top', 'Baseflow-groundwater_runoff_surface_1_Hour_Accumulation', 'Low_cloud_cover_low_cloud', 'Pressure_height_above_ground', 'Echo_top_entire_atmosphere_single_layer', 'u-component_of_wind_isobaric', 'Geopotential_height_planetary_boundary', 'Geopotential_height_surface', 'Categorical_Freezing_Rain_surface', 'Temperature_isobaric'}\n"
     ]
    },
    {
     "name": "stderr",
     "output_type": "stream",
     "text": [
      "C:\\Users\\Tony\\anaconda3\\lib\\site-packages\\metpy\\calc\\thermo.py:1078: UserWarning: Relative humidity >120%, ensure proper units.\n",
      "  warnings.warn('Relative humidity >120%, ensure proper units.')\n",
      "C:\\Users\\Tony\\anaconda3\\lib\\site-packages\\metpy\\calc\\thermo.py:1078: UserWarning: Relative humidity >120%, ensure proper units.\n",
      "  warnings.warn('Relative humidity >120%, ensure proper units.')\n",
      "C:\\Users\\Tony\\anaconda3\\lib\\site-packages\\metpy\\calc\\thermo.py:1078: UserWarning: Relative humidity >120%, ensure proper units.\n",
      "  warnings.warn('Relative humidity >120%, ensure proper units.')\n",
      "C:\\Users\\Tony\\anaconda3\\lib\\site-packages\\cartopy\\mpl\\geoaxes.py:1662: UserWarning: The following kwargs were not used by contour: 'under'\n",
      "  result = super().contourf(*args, **kwargs)\n"
     ]
    },
    {
     "name": "stdout",
     "output_type": "stream",
     "text": [
      "https://www.ncei.noaa.gov/thredds/catalog/model-rap130/202305/20230501/catalog.html?dataset=rap130/202305/20230501/rap_130_20230501_0300_033.grb2\n"
     ]
    },
    {
     "name": "stderr",
     "output_type": "stream",
     "text": [
      "C:\\Users\\Tony\\anaconda3\\lib\\site-packages\\siphon\\catalog.py:292: UserWarning: URL https://www.ncei.noaa.gov/thredds/catalog/model-rap130/202305/20230501/catalog.html?dataset=rap130/202305/20230501/rap_130_20230501_0300_033.grb2 returned HTML. Changing to: https://www.ncei.noaa.gov/thredds/catalog/model-rap130/202305/20230501/catalog.xml?dataset=rap130/202305/20230501/rap_130_20230501_0300_033.grb2\n",
      "  warnings.warn('URL {} returned HTML. Changing to: {}'.format(self.catalog_url,\n"
     ]
    },
    {
     "name": "stdout",
     "output_type": "stream",
     "text": [
      "{'High_cloud_cover_high_cloud', 'Best_4_layer_Lifted_Index_pressure_difference_layer', 'U-Component_Storm_Motion_height_above_ground_layer', 'Convective_inhibition_pressure_difference_layer', 'Geopotential_height_UnknownLevelType-14', 'Simulated_Brightness_Temperature_for_GOES_11_Channel_4_atmosphere_top', 'Moisture_Availability_depth_below_surface', 'Geopotential_height_lowest_level_of_the_wet_bulb_zero', 'v-component_of_wind_isobaric', 'u-component_of_wind_pressure_difference_layer', 'Relative_humidity_pressure_difference_layer', 'Enhanced_Stretching_Potential_height_above_ground_layer', 'Vertical_velocity_pressure_isobaric', 'Effective_Storm_Relative_Helicity_surface', 'Temperature_pressure_difference_layer', 'Categorical_Ice_Pellets_surface', 'Categorical_Snow_surface', 'Haines_index_surface', 'Composite_reflectivity_entire_atmosphere', 'Pressure_maximum_wind', 'Vertical_velocity_pressure_pressure_difference_layer', 'Relative_humidity_zeroDegC_isotherm', 'Water_equivalent_of_accumulated_snow_depth_surface', 'Wind_speed_gust_surface', 'Aerosol_optical_thickness_entire_atmosphere_single_layer', 'u-component_of_wind_height_above_ground', 'Dewpoint_temperature_height_above_ground', 'Geopotential_height_equilibrium', 'Pressure_tropopause', 'Pressure_of_level_from_which_parcel_was_lifted_pressure_difference_layer', 'Medium_cloud_cover_middle_cloud', 'Snow_depth_surface', 'Pseudo-adiabatic_potential_temperature_or_equivalent_potential_temperature_surface', 'Frozen_Rain_surface_Mixed_intervals_Accumulation', 'Temperature_height_above_ground', 'Categorical_Rain_surface', 'V-Component_Storm_Motion_height_above_ground_layer', 'Precipitation_rate_surface', 'Simulated_Brightness_Temperature_for_GOES_12_Channel_3_atmosphere_top', 'Reflectivity_height_above_ground', 'Critical_Angle_height_above_ground_layer', 'v-component_of_wind_maximum_wind', 'Water_equivalent_of_accumulated_snow_depth_surface_Mixed_intervals_Accumulation', 'Potential_temperature_height_above_ground', 'Surface_Lifted_Index_isobaric_layer', 'Temperature_tropopause', 'Convective_available_potential_energy_pressure_difference_layer', 'Simulated_Brightness_Temperature_for_GOES_12_Channel_4_atmosphere_top', 'u-component_of_wind_maximum_wind', 'Freezing_Rain_surface_33_Hour_Accumulation', 'Geopotential_height_cloud_ceiling', 'Relative_humidity_isobaric', 'v-component_of_wind_height_above_ground', 'Geopotential_height_highest_tropospheric_freezing', 'Potential_temperature_tropopause', 'Visibility_surface', 'Total_cloud_cover_boundary_layer_cloud', 'MSLP_MAPS_System_Reduction_msl', 'Convective_available_potential_energy_surface', 'Geopotential_height_isotherm', 'Specific_humidity_height_above_ground', 'Mass_density_concentration_height_above_ground', 'Geopotential_height_cloud_base', 'Storm_relative_helicity_height_above_ground_layer', 'Convective_available_potential_energy_height_above_ground_layer', 'Temperature_surface', 'Geopotential_height_zeroDegC_isotherm', 'Pressure_zeroDegC_isotherm', 'v-component_of_wind_pressure_difference_layer', 'Geopotential_height_cloud_tops', 'Total_precipitation_surface_Mixed_intervals_Accumulation', 'Geopotential_height_convective_cloud_top', 'Pressure_highest_tropospheric_freezing', 'Storm_surface_runoff_surface_1_Hour_Accumulation', 'Vertical_u-component_shear_height_above_ground_layer', 'Vertical_v-component_shear_height_above_ground_layer', 'Convective_inhibition_surface', 'Dewpoint_depression_or_deficit_height_above_ground', 'Total_cloud_cover_entire_atmosphere', 'Relative_humidity_height_above_ground', 'u-component_of_wind_tropopause', 'Absolute_vorticity_isobaric', 'Total_snowfall_surface_33_Hour_Accumulation', 'Pressure_surface', 'v-component_of_wind_tropopause', 'Planetary_Boundary_Layer_Height_surface', 'Geopotential_height_isobaric', 'Precipitable_water_entire_atmosphere_single_layer', 'Convective_precipitation_surface_Mixed_intervals_Accumulation', 'Lightning_surface', 'Layer_Thickness_isotherm_layer', 'Relative_humidity_highest_tropospheric_freezing', 'Relative_Humidity_with_Respect_to_Precipitable_Water_entire_atmosphere', 'Simulated_Brightness_Temperature_for_GOES_11_Channel_3_atmosphere_top', 'Baseflow-groundwater_runoff_surface_1_Hour_Accumulation', 'Low_cloud_cover_low_cloud', 'Pressure_height_above_ground', 'Echo_top_entire_atmosphere_single_layer', 'u-component_of_wind_isobaric', 'Geopotential_height_planetary_boundary', 'Geopotential_height_surface', 'Categorical_Freezing_Rain_surface', 'Temperature_isobaric'}\n"
     ]
    },
    {
     "name": "stderr",
     "output_type": "stream",
     "text": [
      "C:\\Users\\Tony\\anaconda3\\lib\\site-packages\\metpy\\calc\\thermo.py:1078: UserWarning: Relative humidity >120%, ensure proper units.\n",
      "  warnings.warn('Relative humidity >120%, ensure proper units.')\n",
      "C:\\Users\\Tony\\anaconda3\\lib\\site-packages\\metpy\\calc\\thermo.py:1078: UserWarning: Relative humidity >120%, ensure proper units.\n",
      "  warnings.warn('Relative humidity >120%, ensure proper units.')\n",
      "C:\\Users\\Tony\\anaconda3\\lib\\site-packages\\metpy\\calc\\thermo.py:1078: UserWarning: Relative humidity >120%, ensure proper units.\n",
      "  warnings.warn('Relative humidity >120%, ensure proper units.')\n",
      "C:\\Users\\Tony\\anaconda3\\lib\\site-packages\\cartopy\\mpl\\geoaxes.py:1662: UserWarning: The following kwargs were not used by contour: 'under'\n",
      "  result = super().contourf(*args, **kwargs)\n"
     ]
    },
    {
     "name": "stdout",
     "output_type": "stream",
     "text": [
      "https://www.ncei.noaa.gov/thredds/catalog/model-rap130/202305/20230501/catalog.html?dataset=rap130/202305/20230501/rap_130_20230501_0300_034.grb2\n"
     ]
    },
    {
     "name": "stderr",
     "output_type": "stream",
     "text": [
      "C:\\Users\\Tony\\anaconda3\\lib\\site-packages\\siphon\\catalog.py:292: UserWarning: URL https://www.ncei.noaa.gov/thredds/catalog/model-rap130/202305/20230501/catalog.html?dataset=rap130/202305/20230501/rap_130_20230501_0300_034.grb2 returned HTML. Changing to: https://www.ncei.noaa.gov/thredds/catalog/model-rap130/202305/20230501/catalog.xml?dataset=rap130/202305/20230501/rap_130_20230501_0300_034.grb2\n",
      "  warnings.warn('URL {} returned HTML. Changing to: {}'.format(self.catalog_url,\n"
     ]
    },
    {
     "name": "stdout",
     "output_type": "stream",
     "text": [
      "{'High_cloud_cover_high_cloud', 'Best_4_layer_Lifted_Index_pressure_difference_layer', 'U-Component_Storm_Motion_height_above_ground_layer', 'Convective_inhibition_pressure_difference_layer', 'Geopotential_height_UnknownLevelType-14', 'Simulated_Brightness_Temperature_for_GOES_11_Channel_4_atmosphere_top', 'Moisture_Availability_depth_below_surface', 'Geopotential_height_lowest_level_of_the_wet_bulb_zero', 'v-component_of_wind_isobaric', 'u-component_of_wind_pressure_difference_layer', 'Relative_humidity_pressure_difference_layer', 'Enhanced_Stretching_Potential_height_above_ground_layer', 'Total_snowfall_surface_34_Hour_Accumulation', 'Effective_Storm_Relative_Helicity_surface', 'Vertical_velocity_pressure_isobaric', 'Temperature_pressure_difference_layer', 'Categorical_Ice_Pellets_surface', 'Categorical_Snow_surface', 'Haines_index_surface', 'Composite_reflectivity_entire_atmosphere', 'Pressure_maximum_wind', 'Vertical_velocity_pressure_pressure_difference_layer', 'Relative_humidity_zeroDegC_isotherm', 'Water_equivalent_of_accumulated_snow_depth_surface', 'Wind_speed_gust_surface', 'Aerosol_optical_thickness_entire_atmosphere_single_layer', 'u-component_of_wind_height_above_ground', 'Dewpoint_temperature_height_above_ground', 'Freezing_Rain_surface_34_Hour_Accumulation', 'Geopotential_height_equilibrium', 'Pressure_tropopause', 'Pressure_of_level_from_which_parcel_was_lifted_pressure_difference_layer', 'Medium_cloud_cover_middle_cloud', 'Snow_depth_surface', 'Pseudo-adiabatic_potential_temperature_or_equivalent_potential_temperature_surface', 'Frozen_Rain_surface_Mixed_intervals_Accumulation', 'Temperature_height_above_ground', 'Categorical_Rain_surface', 'V-Component_Storm_Motion_height_above_ground_layer', 'Precipitation_rate_surface', 'Simulated_Brightness_Temperature_for_GOES_12_Channel_3_atmosphere_top', 'Reflectivity_height_above_ground', 'Critical_Angle_height_above_ground_layer', 'v-component_of_wind_maximum_wind', 'Water_equivalent_of_accumulated_snow_depth_surface_Mixed_intervals_Accumulation', 'Potential_temperature_height_above_ground', 'Surface_Lifted_Index_isobaric_layer', 'Temperature_tropopause', 'Convective_available_potential_energy_pressure_difference_layer', 'Simulated_Brightness_Temperature_for_GOES_12_Channel_4_atmosphere_top', 'u-component_of_wind_maximum_wind', 'Geopotential_height_cloud_ceiling', 'Relative_humidity_isobaric', 'v-component_of_wind_height_above_ground', 'Geopotential_height_highest_tropospheric_freezing', 'Potential_temperature_tropopause', 'Visibility_surface', 'Total_cloud_cover_boundary_layer_cloud', 'MSLP_MAPS_System_Reduction_msl', 'Convective_available_potential_energy_surface', 'Geopotential_height_isotherm', 'Specific_humidity_height_above_ground', 'Mass_density_concentration_height_above_ground', 'Geopotential_height_cloud_base', 'Storm_relative_helicity_height_above_ground_layer', 'Convective_available_potential_energy_height_above_ground_layer', 'Temperature_surface', 'Geopotential_height_zeroDegC_isotherm', 'Pressure_zeroDegC_isotherm', 'v-component_of_wind_pressure_difference_layer', 'Storm_surface_runoff_surface_1_Hour_Accumulation', 'Total_precipitation_surface_Mixed_intervals_Accumulation', 'Geopotential_height_cloud_tops', 'Geopotential_height_convective_cloud_top', 'Pressure_highest_tropospheric_freezing', 'Vertical_u-component_shear_height_above_ground_layer', 'Vertical_v-component_shear_height_above_ground_layer', 'Convective_inhibition_surface', 'Dewpoint_depression_or_deficit_height_above_ground', 'Total_cloud_cover_entire_atmosphere', 'Relative_humidity_height_above_ground', 'u-component_of_wind_tropopause', 'Absolute_vorticity_isobaric', 'Pressure_surface', 'v-component_of_wind_tropopause', 'Planetary_Boundary_Layer_Height_surface', 'Geopotential_height_isobaric', 'Precipitable_water_entire_atmosphere_single_layer', 'Convective_precipitation_surface_Mixed_intervals_Accumulation', 'Lightning_surface', 'Layer_Thickness_isotherm_layer', 'Relative_humidity_highest_tropospheric_freezing', 'Relative_Humidity_with_Respect_to_Precipitable_Water_entire_atmosphere', 'Simulated_Brightness_Temperature_for_GOES_11_Channel_3_atmosphere_top', 'Baseflow-groundwater_runoff_surface_1_Hour_Accumulation', 'Low_cloud_cover_low_cloud', 'Pressure_height_above_ground', 'Echo_top_entire_atmosphere_single_layer', 'u-component_of_wind_isobaric', 'Geopotential_height_planetary_boundary', 'Geopotential_height_surface', 'Categorical_Freezing_Rain_surface', 'Temperature_isobaric'}\n"
     ]
    },
    {
     "name": "stderr",
     "output_type": "stream",
     "text": [
      "C:\\Users\\Tony\\anaconda3\\lib\\site-packages\\metpy\\calc\\thermo.py:1078: UserWarning: Relative humidity >120%, ensure proper units.\n",
      "  warnings.warn('Relative humidity >120%, ensure proper units.')\n",
      "C:\\Users\\Tony\\anaconda3\\lib\\site-packages\\metpy\\calc\\thermo.py:1078: UserWarning: Relative humidity >120%, ensure proper units.\n",
      "  warnings.warn('Relative humidity >120%, ensure proper units.')\n",
      "C:\\Users\\Tony\\anaconda3\\lib\\site-packages\\metpy\\calc\\thermo.py:1078: UserWarning: Relative humidity >120%, ensure proper units.\n",
      "  warnings.warn('Relative humidity >120%, ensure proper units.')\n",
      "C:\\Users\\Tony\\anaconda3\\lib\\site-packages\\cartopy\\mpl\\geoaxes.py:1662: UserWarning: The following kwargs were not used by contour: 'under'\n",
      "  result = super().contourf(*args, **kwargs)\n"
     ]
    },
    {
     "name": "stdout",
     "output_type": "stream",
     "text": [
      "https://www.ncei.noaa.gov/thredds/catalog/model-rap130/202305/20230501/catalog.html?dataset=rap130/202305/20230501/rap_130_20230501_0300_035.grb2\n"
     ]
    },
    {
     "name": "stderr",
     "output_type": "stream",
     "text": [
      "C:\\Users\\Tony\\anaconda3\\lib\\site-packages\\siphon\\catalog.py:292: UserWarning: URL https://www.ncei.noaa.gov/thredds/catalog/model-rap130/202305/20230501/catalog.html?dataset=rap130/202305/20230501/rap_130_20230501_0300_035.grb2 returned HTML. Changing to: https://www.ncei.noaa.gov/thredds/catalog/model-rap130/202305/20230501/catalog.xml?dataset=rap130/202305/20230501/rap_130_20230501_0300_035.grb2\n",
      "  warnings.warn('URL {} returned HTML. Changing to: {}'.format(self.catalog_url,\n"
     ]
    },
    {
     "name": "stdout",
     "output_type": "stream",
     "text": [
      "{'High_cloud_cover_high_cloud', 'Best_4_layer_Lifted_Index_pressure_difference_layer', 'U-Component_Storm_Motion_height_above_ground_layer', 'Convective_inhibition_pressure_difference_layer', 'Geopotential_height_UnknownLevelType-14', 'Simulated_Brightness_Temperature_for_GOES_11_Channel_4_atmosphere_top', 'Moisture_Availability_depth_below_surface', 'Geopotential_height_lowest_level_of_the_wet_bulb_zero', 'v-component_of_wind_isobaric', 'u-component_of_wind_pressure_difference_layer', 'Relative_humidity_pressure_difference_layer', 'Enhanced_Stretching_Potential_height_above_ground_layer', 'Vertical_velocity_pressure_isobaric', 'Effective_Storm_Relative_Helicity_surface', 'Temperature_pressure_difference_layer', 'Categorical_Ice_Pellets_surface', 'Categorical_Snow_surface', 'Haines_index_surface', 'Composite_reflectivity_entire_atmosphere', 'Pressure_maximum_wind', 'Vertical_velocity_pressure_pressure_difference_layer', 'Relative_humidity_zeroDegC_isotherm', 'Water_equivalent_of_accumulated_snow_depth_surface', 'Wind_speed_gust_surface', 'Aerosol_optical_thickness_entire_atmosphere_single_layer', 'u-component_of_wind_height_above_ground', 'Dewpoint_temperature_height_above_ground', 'Geopotential_height_equilibrium', 'Pressure_tropopause', 'Pressure_of_level_from_which_parcel_was_lifted_pressure_difference_layer', 'Medium_cloud_cover_middle_cloud', 'Snow_depth_surface', 'Pseudo-adiabatic_potential_temperature_or_equivalent_potential_temperature_surface', 'Frozen_Rain_surface_Mixed_intervals_Accumulation', 'Temperature_height_above_ground', 'Categorical_Rain_surface', 'V-Component_Storm_Motion_height_above_ground_layer', 'Precipitation_rate_surface', 'Simulated_Brightness_Temperature_for_GOES_12_Channel_3_atmosphere_top', 'Reflectivity_height_above_ground', 'Critical_Angle_height_above_ground_layer', 'v-component_of_wind_maximum_wind', 'Water_equivalent_of_accumulated_snow_depth_surface_Mixed_intervals_Accumulation', 'Potential_temperature_height_above_ground', 'Surface_Lifted_Index_isobaric_layer', 'Temperature_tropopause', 'Convective_available_potential_energy_pressure_difference_layer', 'Simulated_Brightness_Temperature_for_GOES_12_Channel_4_atmosphere_top', 'u-component_of_wind_maximum_wind', 'Geopotential_height_cloud_ceiling', 'Relative_humidity_isobaric', 'v-component_of_wind_height_above_ground', 'Geopotential_height_highest_tropospheric_freezing', 'Potential_temperature_tropopause', 'Visibility_surface', 'Total_cloud_cover_boundary_layer_cloud', 'MSLP_MAPS_System_Reduction_msl', 'Convective_available_potential_energy_surface', 'Geopotential_height_isotherm', 'Specific_humidity_height_above_ground', 'Mass_density_concentration_height_above_ground', 'Geopotential_height_cloud_base', 'Storm_relative_helicity_height_above_ground_layer', 'Convective_available_potential_energy_height_above_ground_layer', 'Temperature_surface', 'Geopotential_height_zeroDegC_isotherm', 'Pressure_zeroDegC_isotherm', 'v-component_of_wind_pressure_difference_layer', 'Storm_surface_runoff_surface_1_Hour_Accumulation', 'Geopotential_height_cloud_tops', 'Geopotential_height_convective_cloud_top', 'Pressure_highest_tropospheric_freezing', 'Total_precipitation_surface_Mixed_intervals_Accumulation', 'Vertical_u-component_shear_height_above_ground_layer', 'Vertical_v-component_shear_height_above_ground_layer', 'Convective_inhibition_surface', 'Dewpoint_depression_or_deficit_height_above_ground', 'Total_cloud_cover_entire_atmosphere', 'Relative_humidity_height_above_ground', 'u-component_of_wind_tropopause', 'Absolute_vorticity_isobaric', 'Pressure_surface', 'v-component_of_wind_tropopause', 'Freezing_Rain_surface_35_Hour_Accumulation', 'Planetary_Boundary_Layer_Height_surface', 'Geopotential_height_isobaric', 'Precipitable_water_entire_atmosphere_single_layer', 'Lightning_surface', 'Convective_precipitation_surface_Mixed_intervals_Accumulation', 'Layer_Thickness_isotherm_layer', 'Relative_humidity_highest_tropospheric_freezing', 'Relative_Humidity_with_Respect_to_Precipitable_Water_entire_atmosphere', 'Simulated_Brightness_Temperature_for_GOES_11_Channel_3_atmosphere_top', 'Total_snowfall_surface_35_Hour_Accumulation', 'Baseflow-groundwater_runoff_surface_1_Hour_Accumulation', 'Low_cloud_cover_low_cloud', 'Pressure_height_above_ground', 'Echo_top_entire_atmosphere_single_layer', 'u-component_of_wind_isobaric', 'Geopotential_height_planetary_boundary', 'Geopotential_height_surface', 'Categorical_Freezing_Rain_surface', 'Temperature_isobaric'}\n"
     ]
    },
    {
     "name": "stderr",
     "output_type": "stream",
     "text": [
      "C:\\Users\\Tony\\anaconda3\\lib\\site-packages\\metpy\\calc\\thermo.py:1078: UserWarning: Relative humidity >120%, ensure proper units.\n",
      "  warnings.warn('Relative humidity >120%, ensure proper units.')\n",
      "C:\\Users\\Tony\\anaconda3\\lib\\site-packages\\metpy\\calc\\thermo.py:1078: UserWarning: Relative humidity >120%, ensure proper units.\n",
      "  warnings.warn('Relative humidity >120%, ensure proper units.')\n",
      "C:\\Users\\Tony\\anaconda3\\lib\\site-packages\\metpy\\calc\\thermo.py:1078: UserWarning: Relative humidity >120%, ensure proper units.\n",
      "  warnings.warn('Relative humidity >120%, ensure proper units.')\n",
      "C:\\Users\\Tony\\anaconda3\\lib\\site-packages\\cartopy\\mpl\\geoaxes.py:1662: UserWarning: The following kwargs were not used by contour: 'under'\n",
      "  result = super().contourf(*args, **kwargs)\n"
     ]
    },
    {
     "name": "stdout",
     "output_type": "stream",
     "text": [
      "https://www.ncei.noaa.gov/thredds/catalog/model-rap130/202305/20230501/catalog.html?dataset=rap130/202305/20230501/rap_130_20230501_0300_036.grb2\n"
     ]
    },
    {
     "name": "stderr",
     "output_type": "stream",
     "text": [
      "C:\\Users\\Tony\\anaconda3\\lib\\site-packages\\siphon\\catalog.py:292: UserWarning: URL https://www.ncei.noaa.gov/thredds/catalog/model-rap130/202305/20230501/catalog.html?dataset=rap130/202305/20230501/rap_130_20230501_0300_036.grb2 returned HTML. Changing to: https://www.ncei.noaa.gov/thredds/catalog/model-rap130/202305/20230501/catalog.xml?dataset=rap130/202305/20230501/rap_130_20230501_0300_036.grb2\n",
      "  warnings.warn('URL {} returned HTML. Changing to: {}'.format(self.catalog_url,\n"
     ]
    },
    {
     "name": "stdout",
     "output_type": "stream",
     "text": [
      "{'High_cloud_cover_high_cloud', 'Best_4_layer_Lifted_Index_pressure_difference_layer', 'U-Component_Storm_Motion_height_above_ground_layer', 'Convective_inhibition_pressure_difference_layer', 'Geopotential_height_UnknownLevelType-14', 'Simulated_Brightness_Temperature_for_GOES_11_Channel_4_atmosphere_top', 'Moisture_Availability_depth_below_surface', 'Geopotential_height_lowest_level_of_the_wet_bulb_zero', 'v-component_of_wind_isobaric', 'u-component_of_wind_pressure_difference_layer', 'Relative_humidity_pressure_difference_layer', 'Enhanced_Stretching_Potential_height_above_ground_layer', 'Vertical_velocity_pressure_isobaric', 'Effective_Storm_Relative_Helicity_surface', 'Temperature_pressure_difference_layer', 'Categorical_Ice_Pellets_surface', 'Categorical_Snow_surface', 'Haines_index_surface', 'Composite_reflectivity_entire_atmosphere', 'Pressure_maximum_wind', 'Vertical_velocity_pressure_pressure_difference_layer', 'Relative_humidity_zeroDegC_isotherm', 'Water_equivalent_of_accumulated_snow_depth_surface', 'Wind_speed_gust_surface', 'Aerosol_optical_thickness_entire_atmosphere_single_layer', 'u-component_of_wind_height_above_ground', 'Dewpoint_temperature_height_above_ground', 'Geopotential_height_equilibrium', 'Pressure_tropopause', 'Pressure_of_level_from_which_parcel_was_lifted_pressure_difference_layer', 'Medium_cloud_cover_middle_cloud', 'Snow_depth_surface', 'Pseudo-adiabatic_potential_temperature_or_equivalent_potential_temperature_surface', 'Frozen_Rain_surface_Mixed_intervals_Accumulation', 'Temperature_height_above_ground', 'Categorical_Rain_surface', 'V-Component_Storm_Motion_height_above_ground_layer', 'Precipitation_rate_surface', 'Simulated_Brightness_Temperature_for_GOES_12_Channel_3_atmosphere_top', 'Reflectivity_height_above_ground', 'Critical_Angle_height_above_ground_layer', 'v-component_of_wind_maximum_wind', 'Water_equivalent_of_accumulated_snow_depth_surface_Mixed_intervals_Accumulation', 'Potential_temperature_height_above_ground', 'Surface_Lifted_Index_isobaric_layer', 'Temperature_tropopause', 'Convective_available_potential_energy_pressure_difference_layer', 'Total_snowfall_surface_36_Hour_Accumulation', 'Simulated_Brightness_Temperature_for_GOES_12_Channel_4_atmosphere_top', 'u-component_of_wind_maximum_wind', 'Geopotential_height_cloud_ceiling', 'Relative_humidity_isobaric', 'v-component_of_wind_height_above_ground', 'Geopotential_height_highest_tropospheric_freezing', 'Potential_temperature_tropopause', 'Visibility_surface', 'Total_cloud_cover_boundary_layer_cloud', 'MSLP_MAPS_System_Reduction_msl', 'Convective_available_potential_energy_surface', 'Geopotential_height_isotherm', 'Specific_humidity_height_above_ground', 'Mass_density_concentration_height_above_ground', 'Geopotential_height_cloud_base', 'Storm_relative_helicity_height_above_ground_layer', 'Convective_available_potential_energy_height_above_ground_layer', 'Temperature_surface', 'Geopotential_height_zeroDegC_isotherm', 'Pressure_zeroDegC_isotherm', 'v-component_of_wind_pressure_difference_layer', 'Geopotential_height_cloud_tops', 'Geopotential_height_convective_cloud_top', 'Pressure_highest_tropospheric_freezing', 'Total_precipitation_surface_Mixed_intervals_Accumulation', 'Storm_surface_runoff_surface_1_Hour_Accumulation', 'Vertical_u-component_shear_height_above_ground_layer', 'Vertical_v-component_shear_height_above_ground_layer', 'Convective_inhibition_surface', 'Dewpoint_depression_or_deficit_height_above_ground', 'Total_cloud_cover_entire_atmosphere', 'Relative_humidity_height_above_ground', 'u-component_of_wind_tropopause', 'Absolute_vorticity_isobaric', 'Pressure_surface', 'v-component_of_wind_tropopause', 'Planetary_Boundary_Layer_Height_surface', 'Geopotential_height_isobaric', 'Precipitable_water_entire_atmosphere_single_layer', 'Lightning_surface', 'Convective_precipitation_surface_Mixed_intervals_Accumulation', 'Layer_Thickness_isotherm_layer', 'Relative_humidity_highest_tropospheric_freezing', 'Freezing_Rain_surface_36_Hour_Accumulation', 'Relative_Humidity_with_Respect_to_Precipitable_Water_entire_atmosphere', 'Simulated_Brightness_Temperature_for_GOES_11_Channel_3_atmosphere_top', 'Baseflow-groundwater_runoff_surface_1_Hour_Accumulation', 'Low_cloud_cover_low_cloud', 'Pressure_height_above_ground', 'Echo_top_entire_atmosphere_single_layer', 'u-component_of_wind_isobaric', 'Geopotential_height_planetary_boundary', 'Geopotential_height_surface', 'Categorical_Freezing_Rain_surface', 'Temperature_isobaric'}\n"
     ]
    },
    {
     "name": "stderr",
     "output_type": "stream",
     "text": [
      "C:\\Users\\Tony\\anaconda3\\lib\\site-packages\\metpy\\calc\\thermo.py:1078: UserWarning: Relative humidity >120%, ensure proper units.\n",
      "  warnings.warn('Relative humidity >120%, ensure proper units.')\n",
      "C:\\Users\\Tony\\anaconda3\\lib\\site-packages\\metpy\\calc\\thermo.py:1078: UserWarning: Relative humidity >120%, ensure proper units.\n",
      "  warnings.warn('Relative humidity >120%, ensure proper units.')\n",
      "C:\\Users\\Tony\\anaconda3\\lib\\site-packages\\metpy\\calc\\thermo.py:1078: UserWarning: Relative humidity >120%, ensure proper units.\n",
      "  warnings.warn('Relative humidity >120%, ensure proper units.')\n",
      "C:\\Users\\Tony\\anaconda3\\lib\\site-packages\\cartopy\\mpl\\geoaxes.py:1662: UserWarning: The following kwargs were not used by contour: 'under'\n",
      "  result = super().contourf(*args, **kwargs)\n"
     ]
    },
    {
     "name": "stdout",
     "output_type": "stream",
     "text": [
      "https://www.ncei.noaa.gov/thredds/catalog/model-rap130/202305/20230501/catalog.html?dataset=rap130/202305/20230501/rap_130_20230501_0300_037.grb2\n"
     ]
    },
    {
     "name": "stderr",
     "output_type": "stream",
     "text": [
      "C:\\Users\\Tony\\anaconda3\\lib\\site-packages\\siphon\\catalog.py:292: UserWarning: URL https://www.ncei.noaa.gov/thredds/catalog/model-rap130/202305/20230501/catalog.html?dataset=rap130/202305/20230501/rap_130_20230501_0300_037.grb2 returned HTML. Changing to: https://www.ncei.noaa.gov/thredds/catalog/model-rap130/202305/20230501/catalog.xml?dataset=rap130/202305/20230501/rap_130_20230501_0300_037.grb2\n",
      "  warnings.warn('URL {} returned HTML. Changing to: {}'.format(self.catalog_url,\n"
     ]
    },
    {
     "name": "stdout",
     "output_type": "stream",
     "text": [
      "{'High_cloud_cover_high_cloud', 'Best_4_layer_Lifted_Index_pressure_difference_layer', 'U-Component_Storm_Motion_height_above_ground_layer', 'Convective_inhibition_pressure_difference_layer', 'Total_snowfall_surface_37_Hour_Accumulation', 'Geopotential_height_UnknownLevelType-14', 'Simulated_Brightness_Temperature_for_GOES_11_Channel_4_atmosphere_top', 'Moisture_Availability_depth_below_surface', 'Geopotential_height_lowest_level_of_the_wet_bulb_zero', 'v-component_of_wind_isobaric', 'u-component_of_wind_pressure_difference_layer', 'Relative_humidity_pressure_difference_layer', 'Enhanced_Stretching_Potential_height_above_ground_layer', 'Vertical_velocity_pressure_isobaric', 'Effective_Storm_Relative_Helicity_surface', 'Temperature_pressure_difference_layer', 'Categorical_Ice_Pellets_surface', 'Categorical_Snow_surface', 'Haines_index_surface', 'Composite_reflectivity_entire_atmosphere', 'Pressure_maximum_wind', 'Vertical_velocity_pressure_pressure_difference_layer', 'Relative_humidity_zeroDegC_isotherm', 'Water_equivalent_of_accumulated_snow_depth_surface', 'Wind_speed_gust_surface', 'Aerosol_optical_thickness_entire_atmosphere_single_layer', 'u-component_of_wind_height_above_ground', 'Dewpoint_temperature_height_above_ground', 'Geopotential_height_equilibrium', 'Pressure_tropopause', 'Pressure_of_level_from_which_parcel_was_lifted_pressure_difference_layer', 'Medium_cloud_cover_middle_cloud', 'Snow_depth_surface', 'Pseudo-adiabatic_potential_temperature_or_equivalent_potential_temperature_surface', 'Frozen_Rain_surface_Mixed_intervals_Accumulation', 'Temperature_height_above_ground', 'Categorical_Rain_surface', 'V-Component_Storm_Motion_height_above_ground_layer', 'Precipitation_rate_surface', 'Simulated_Brightness_Temperature_for_GOES_12_Channel_3_atmosphere_top', 'Reflectivity_height_above_ground', 'Critical_Angle_height_above_ground_layer', 'v-component_of_wind_maximum_wind', 'Water_equivalent_of_accumulated_snow_depth_surface_Mixed_intervals_Accumulation', 'Potential_temperature_height_above_ground', 'Surface_Lifted_Index_isobaric_layer', 'Temperature_tropopause', 'Convective_available_potential_energy_pressure_difference_layer', 'Simulated_Brightness_Temperature_for_GOES_12_Channel_4_atmosphere_top', 'u-component_of_wind_maximum_wind', 'Geopotential_height_cloud_ceiling', 'Relative_humidity_isobaric', 'v-component_of_wind_height_above_ground', 'Geopotential_height_highest_tropospheric_freezing', 'Potential_temperature_tropopause', 'Visibility_surface', 'Total_cloud_cover_boundary_layer_cloud', 'MSLP_MAPS_System_Reduction_msl', 'Convective_available_potential_energy_surface', 'Geopotential_height_isotherm', 'Specific_humidity_height_above_ground', 'Mass_density_concentration_height_above_ground', 'Geopotential_height_cloud_base', 'Storm_relative_helicity_height_above_ground_layer', 'Convective_available_potential_energy_height_above_ground_layer', 'Temperature_surface', 'Geopotential_height_zeroDegC_isotherm', 'Pressure_zeroDegC_isotherm', 'v-component_of_wind_pressure_difference_layer', 'Geopotential_height_cloud_tops', 'Geopotential_height_convective_cloud_top', 'Pressure_highest_tropospheric_freezing', 'Storm_surface_runoff_surface_1_Hour_Accumulation', 'Total_precipitation_surface_Mixed_intervals_Accumulation', 'Vertical_u-component_shear_height_above_ground_layer', 'Vertical_v-component_shear_height_above_ground_layer', 'Convective_inhibition_surface', 'Dewpoint_depression_or_deficit_height_above_ground', 'Total_cloud_cover_entire_atmosphere', 'Relative_humidity_height_above_ground', 'u-component_of_wind_tropopause', 'Absolute_vorticity_isobaric', 'Freezing_Rain_surface_37_Hour_Accumulation', 'Pressure_surface', 'v-component_of_wind_tropopause', 'Planetary_Boundary_Layer_Height_surface', 'Geopotential_height_isobaric', 'Precipitable_water_entire_atmosphere_single_layer', 'Lightning_surface', 'Convective_precipitation_surface_Mixed_intervals_Accumulation', 'Layer_Thickness_isotherm_layer', 'Relative_humidity_highest_tropospheric_freezing', 'Relative_Humidity_with_Respect_to_Precipitable_Water_entire_atmosphere', 'Simulated_Brightness_Temperature_for_GOES_11_Channel_3_atmosphere_top', 'Baseflow-groundwater_runoff_surface_1_Hour_Accumulation', 'Low_cloud_cover_low_cloud', 'Pressure_height_above_ground', 'Echo_top_entire_atmosphere_single_layer', 'u-component_of_wind_isobaric', 'Geopotential_height_planetary_boundary', 'Geopotential_height_surface', 'Categorical_Freezing_Rain_surface', 'Temperature_isobaric'}\n"
     ]
    },
    {
     "name": "stderr",
     "output_type": "stream",
     "text": [
      "C:\\Users\\Tony\\anaconda3\\lib\\site-packages\\metpy\\calc\\thermo.py:1078: UserWarning: Relative humidity >120%, ensure proper units.\n",
      "  warnings.warn('Relative humidity >120%, ensure proper units.')\n",
      "C:\\Users\\Tony\\anaconda3\\lib\\site-packages\\metpy\\calc\\thermo.py:1078: UserWarning: Relative humidity >120%, ensure proper units.\n",
      "  warnings.warn('Relative humidity >120%, ensure proper units.')\n",
      "C:\\Users\\Tony\\anaconda3\\lib\\site-packages\\metpy\\calc\\thermo.py:1078: UserWarning: Relative humidity >120%, ensure proper units.\n",
      "  warnings.warn('Relative humidity >120%, ensure proper units.')\n",
      "C:\\Users\\Tony\\anaconda3\\lib\\site-packages\\cartopy\\mpl\\geoaxes.py:1662: UserWarning: The following kwargs were not used by contour: 'under'\n",
      "  result = super().contourf(*args, **kwargs)\n"
     ]
    },
    {
     "name": "stdout",
     "output_type": "stream",
     "text": [
      "https://www.ncei.noaa.gov/thredds/catalog/model-rap130/202305/20230501/catalog.html?dataset=rap130/202305/20230501/rap_130_20230501_0300_038.grb2\n"
     ]
    },
    {
     "name": "stderr",
     "output_type": "stream",
     "text": [
      "C:\\Users\\Tony\\anaconda3\\lib\\site-packages\\siphon\\catalog.py:292: UserWarning: URL https://www.ncei.noaa.gov/thredds/catalog/model-rap130/202305/20230501/catalog.html?dataset=rap130/202305/20230501/rap_130_20230501_0300_038.grb2 returned HTML. Changing to: https://www.ncei.noaa.gov/thredds/catalog/model-rap130/202305/20230501/catalog.xml?dataset=rap130/202305/20230501/rap_130_20230501_0300_038.grb2\n",
      "  warnings.warn('URL {} returned HTML. Changing to: {}'.format(self.catalog_url,\n"
     ]
    },
    {
     "name": "stdout",
     "output_type": "stream",
     "text": [
      "{'High_cloud_cover_high_cloud', 'Best_4_layer_Lifted_Index_pressure_difference_layer', 'U-Component_Storm_Motion_height_above_ground_layer', 'Convective_inhibition_pressure_difference_layer', 'Geopotential_height_UnknownLevelType-14', 'Simulated_Brightness_Temperature_for_GOES_11_Channel_4_atmosphere_top', 'Moisture_Availability_depth_below_surface', 'Geopotential_height_lowest_level_of_the_wet_bulb_zero', 'v-component_of_wind_isobaric', 'u-component_of_wind_pressure_difference_layer', 'Relative_humidity_pressure_difference_layer', 'Enhanced_Stretching_Potential_height_above_ground_layer', 'Vertical_velocity_pressure_isobaric', 'Effective_Storm_Relative_Helicity_surface', 'Temperature_pressure_difference_layer', 'Categorical_Ice_Pellets_surface', 'Categorical_Snow_surface', 'Haines_index_surface', 'Composite_reflectivity_entire_atmosphere', 'Pressure_maximum_wind', 'Vertical_velocity_pressure_pressure_difference_layer', 'Relative_humidity_zeroDegC_isotherm', 'Water_equivalent_of_accumulated_snow_depth_surface', 'Wind_speed_gust_surface', 'Aerosol_optical_thickness_entire_atmosphere_single_layer', 'u-component_of_wind_height_above_ground', 'Dewpoint_temperature_height_above_ground', 'Freezing_Rain_surface_38_Hour_Accumulation', 'Geopotential_height_equilibrium', 'Pressure_tropopause', 'Medium_cloud_cover_middle_cloud', 'Pressure_of_level_from_which_parcel_was_lifted_pressure_difference_layer', 'Snow_depth_surface', 'Pseudo-adiabatic_potential_temperature_or_equivalent_potential_temperature_surface', 'Frozen_Rain_surface_Mixed_intervals_Accumulation', 'Temperature_height_above_ground', 'Categorical_Rain_surface', 'V-Component_Storm_Motion_height_above_ground_layer', 'Precipitation_rate_surface', 'Simulated_Brightness_Temperature_for_GOES_12_Channel_3_atmosphere_top', 'Reflectivity_height_above_ground', 'Critical_Angle_height_above_ground_layer', 'v-component_of_wind_maximum_wind', 'Water_equivalent_of_accumulated_snow_depth_surface_Mixed_intervals_Accumulation', 'Potential_temperature_height_above_ground', 'Surface_Lifted_Index_isobaric_layer', 'Temperature_tropopause', 'Convective_available_potential_energy_pressure_difference_layer', 'Simulated_Brightness_Temperature_for_GOES_12_Channel_4_atmosphere_top', 'u-component_of_wind_maximum_wind', 'Geopotential_height_cloud_ceiling', 'Relative_humidity_isobaric', 'v-component_of_wind_height_above_ground', 'Geopotential_height_highest_tropospheric_freezing', 'Potential_temperature_tropopause', 'Visibility_surface', 'Total_cloud_cover_boundary_layer_cloud', 'MSLP_MAPS_System_Reduction_msl', 'Convective_available_potential_energy_surface', 'Geopotential_height_isotherm', 'Specific_humidity_height_above_ground', 'Mass_density_concentration_height_above_ground', 'Geopotential_height_cloud_base', 'Storm_relative_helicity_height_above_ground_layer', 'Convective_available_potential_energy_height_above_ground_layer', 'Temperature_surface', 'Geopotential_height_zeroDegC_isotherm', 'Pressure_zeroDegC_isotherm', 'v-component_of_wind_pressure_difference_layer', 'Storm_surface_runoff_surface_1_Hour_Accumulation', 'Total_precipitation_surface_Mixed_intervals_Accumulation', 'Geopotential_height_cloud_tops', 'Geopotential_height_convective_cloud_top', 'Pressure_highest_tropospheric_freezing', 'Vertical_u-component_shear_height_above_ground_layer', 'Vertical_v-component_shear_height_above_ground_layer', 'Convective_inhibition_surface', 'Dewpoint_depression_or_deficit_height_above_ground', 'Total_cloud_cover_entire_atmosphere', 'Relative_humidity_height_above_ground', 'u-component_of_wind_tropopause', 'Absolute_vorticity_isobaric', 'Pressure_surface', 'v-component_of_wind_tropopause', 'Planetary_Boundary_Layer_Height_surface', 'Total_snowfall_surface_38_Hour_Accumulation', 'Geopotential_height_isobaric', 'Precipitable_water_entire_atmosphere_single_layer', 'Convective_precipitation_surface_Mixed_intervals_Accumulation', 'Lightning_surface', 'Layer_Thickness_isotherm_layer', 'Relative_humidity_highest_tropospheric_freezing', 'Relative_Humidity_with_Respect_to_Precipitable_Water_entire_atmosphere', 'Simulated_Brightness_Temperature_for_GOES_11_Channel_3_atmosphere_top', 'Baseflow-groundwater_runoff_surface_1_Hour_Accumulation', 'Low_cloud_cover_low_cloud', 'Pressure_height_above_ground', 'Echo_top_entire_atmosphere_single_layer', 'u-component_of_wind_isobaric', 'Geopotential_height_planetary_boundary', 'Geopotential_height_surface', 'Categorical_Freezing_Rain_surface', 'Temperature_isobaric'}\n"
     ]
    },
    {
     "name": "stderr",
     "output_type": "stream",
     "text": [
      "C:\\Users\\Tony\\anaconda3\\lib\\site-packages\\metpy\\calc\\thermo.py:1078: UserWarning: Relative humidity >120%, ensure proper units.\n",
      "  warnings.warn('Relative humidity >120%, ensure proper units.')\n",
      "C:\\Users\\Tony\\anaconda3\\lib\\site-packages\\metpy\\calc\\thermo.py:1078: UserWarning: Relative humidity >120%, ensure proper units.\n",
      "  warnings.warn('Relative humidity >120%, ensure proper units.')\n",
      "C:\\Users\\Tony\\anaconda3\\lib\\site-packages\\metpy\\calc\\thermo.py:1078: UserWarning: Relative humidity >120%, ensure proper units.\n",
      "  warnings.warn('Relative humidity >120%, ensure proper units.')\n",
      "C:\\Users\\Tony\\anaconda3\\lib\\site-packages\\cartopy\\mpl\\geoaxes.py:1662: UserWarning: The following kwargs were not used by contour: 'under'\n",
      "  result = super().contourf(*args, **kwargs)\n"
     ]
    },
    {
     "name": "stdout",
     "output_type": "stream",
     "text": [
      "https://www.ncei.noaa.gov/thredds/catalog/model-rap130/202305/20230501/catalog.html?dataset=rap130/202305/20230501/rap_130_20230501_0300_039.grb2\n"
     ]
    },
    {
     "name": "stderr",
     "output_type": "stream",
     "text": [
      "C:\\Users\\Tony\\anaconda3\\lib\\site-packages\\siphon\\catalog.py:292: UserWarning: URL https://www.ncei.noaa.gov/thredds/catalog/model-rap130/202305/20230501/catalog.html?dataset=rap130/202305/20230501/rap_130_20230501_0300_039.grb2 returned HTML. Changing to: https://www.ncei.noaa.gov/thredds/catalog/model-rap130/202305/20230501/catalog.xml?dataset=rap130/202305/20230501/rap_130_20230501_0300_039.grb2\n",
      "  warnings.warn('URL {} returned HTML. Changing to: {}'.format(self.catalog_url,\n"
     ]
    },
    {
     "name": "stdout",
     "output_type": "stream",
     "text": [
      "{'High_cloud_cover_high_cloud', 'Best_4_layer_Lifted_Index_pressure_difference_layer', 'U-Component_Storm_Motion_height_above_ground_layer', 'Convective_inhibition_pressure_difference_layer', 'Geopotential_height_UnknownLevelType-14', 'Simulated_Brightness_Temperature_for_GOES_11_Channel_4_atmosphere_top', 'Moisture_Availability_depth_below_surface', 'Geopotential_height_lowest_level_of_the_wet_bulb_zero', 'v-component_of_wind_isobaric', 'u-component_of_wind_pressure_difference_layer', 'Relative_humidity_pressure_difference_layer', 'Enhanced_Stretching_Potential_height_above_ground_layer', 'Vertical_velocity_pressure_isobaric', 'Effective_Storm_Relative_Helicity_surface', 'Temperature_pressure_difference_layer', 'Categorical_Ice_Pellets_surface', 'Categorical_Snow_surface', 'Haines_index_surface', 'Composite_reflectivity_entire_atmosphere', 'Pressure_maximum_wind', 'Vertical_velocity_pressure_pressure_difference_layer', 'Relative_humidity_zeroDegC_isotherm', 'Water_equivalent_of_accumulated_snow_depth_surface', 'Wind_speed_gust_surface', 'Aerosol_optical_thickness_entire_atmosphere_single_layer', 'u-component_of_wind_height_above_ground', 'Dewpoint_temperature_height_above_ground', 'Geopotential_height_equilibrium', 'Pressure_tropopause', 'Pressure_of_level_from_which_parcel_was_lifted_pressure_difference_layer', 'Medium_cloud_cover_middle_cloud', 'Snow_depth_surface', 'Pseudo-adiabatic_potential_temperature_or_equivalent_potential_temperature_surface', 'Frozen_Rain_surface_Mixed_intervals_Accumulation', 'Freezing_Rain_surface_39_Hour_Accumulation', 'Temperature_height_above_ground', 'Categorical_Rain_surface', 'V-Component_Storm_Motion_height_above_ground_layer', 'Precipitation_rate_surface', 'Simulated_Brightness_Temperature_for_GOES_12_Channel_3_atmosphere_top', 'Reflectivity_height_above_ground', 'Critical_Angle_height_above_ground_layer', 'v-component_of_wind_maximum_wind', 'Water_equivalent_of_accumulated_snow_depth_surface_Mixed_intervals_Accumulation', 'Potential_temperature_height_above_ground', 'Surface_Lifted_Index_isobaric_layer', 'Temperature_tropopause', 'Convective_available_potential_energy_pressure_difference_layer', 'Simulated_Brightness_Temperature_for_GOES_12_Channel_4_atmosphere_top', 'u-component_of_wind_maximum_wind', 'Geopotential_height_cloud_ceiling', 'Relative_humidity_isobaric', 'v-component_of_wind_height_above_ground', 'Geopotential_height_highest_tropospheric_freezing', 'Potential_temperature_tropopause', 'Visibility_surface', 'Total_cloud_cover_boundary_layer_cloud', 'MSLP_MAPS_System_Reduction_msl', 'Convective_available_potential_energy_surface', 'Geopotential_height_isotherm', 'Specific_humidity_height_above_ground', 'Mass_density_concentration_height_above_ground', 'Geopotential_height_cloud_base', 'Storm_relative_helicity_height_above_ground_layer', 'Convective_available_potential_energy_height_above_ground_layer', 'Temperature_surface', 'Geopotential_height_zeroDegC_isotherm', 'Pressure_zeroDegC_isotherm', 'v-component_of_wind_pressure_difference_layer', 'Storm_surface_runoff_surface_1_Hour_Accumulation', 'Total_precipitation_surface_Mixed_intervals_Accumulation', 'Geopotential_height_cloud_tops', 'Geopotential_height_convective_cloud_top', 'Pressure_highest_tropospheric_freezing', 'Vertical_u-component_shear_height_above_ground_layer', 'Vertical_v-component_shear_height_above_ground_layer', 'Convective_inhibition_surface', 'Dewpoint_depression_or_deficit_height_above_ground', 'Total_cloud_cover_entire_atmosphere', 'Relative_humidity_height_above_ground', 'u-component_of_wind_tropopause', 'Absolute_vorticity_isobaric', 'Pressure_surface', 'v-component_of_wind_tropopause', 'Planetary_Boundary_Layer_Height_surface', 'Geopotential_height_isobaric', 'Precipitable_water_entire_atmosphere_single_layer', 'Convective_precipitation_surface_Mixed_intervals_Accumulation', 'Lightning_surface', 'Layer_Thickness_isotherm_layer', 'Relative_humidity_highest_tropospheric_freezing', 'Relative_Humidity_with_Respect_to_Precipitable_Water_entire_atmosphere', 'Simulated_Brightness_Temperature_for_GOES_11_Channel_3_atmosphere_top', 'Baseflow-groundwater_runoff_surface_1_Hour_Accumulation', 'Low_cloud_cover_low_cloud', 'Pressure_height_above_ground', 'Echo_top_entire_atmosphere_single_layer', 'Total_snowfall_surface_39_Hour_Accumulation', 'u-component_of_wind_isobaric', 'Geopotential_height_planetary_boundary', 'Geopotential_height_surface', 'Categorical_Freezing_Rain_surface', 'Temperature_isobaric'}\n"
     ]
    },
    {
     "name": "stderr",
     "output_type": "stream",
     "text": [
      "C:\\Users\\Tony\\anaconda3\\lib\\site-packages\\metpy\\calc\\thermo.py:1078: UserWarning: Relative humidity >120%, ensure proper units.\n",
      "  warnings.warn('Relative humidity >120%, ensure proper units.')\n",
      "C:\\Users\\Tony\\anaconda3\\lib\\site-packages\\metpy\\calc\\thermo.py:1078: UserWarning: Relative humidity >120%, ensure proper units.\n",
      "  warnings.warn('Relative humidity >120%, ensure proper units.')\n",
      "C:\\Users\\Tony\\anaconda3\\lib\\site-packages\\metpy\\calc\\thermo.py:1078: UserWarning: Relative humidity >120%, ensure proper units.\n",
      "  warnings.warn('Relative humidity >120%, ensure proper units.')\n",
      "C:\\Users\\Tony\\anaconda3\\lib\\site-packages\\cartopy\\mpl\\geoaxes.py:1662: UserWarning: The following kwargs were not used by contour: 'under'\n",
      "  result = super().contourf(*args, **kwargs)\n"
     ]
    },
    {
     "name": "stdout",
     "output_type": "stream",
     "text": [
      "https://www.ncei.noaa.gov/thredds/catalog/model-rap130/202305/20230501/catalog.html?dataset=rap130/202305/20230501/rap_130_20230501_0300_040.grb2\n"
     ]
    },
    {
     "name": "stderr",
     "output_type": "stream",
     "text": [
      "C:\\Users\\Tony\\anaconda3\\lib\\site-packages\\siphon\\catalog.py:292: UserWarning: URL https://www.ncei.noaa.gov/thredds/catalog/model-rap130/202305/20230501/catalog.html?dataset=rap130/202305/20230501/rap_130_20230501_0300_040.grb2 returned HTML. Changing to: https://www.ncei.noaa.gov/thredds/catalog/model-rap130/202305/20230501/catalog.xml?dataset=rap130/202305/20230501/rap_130_20230501_0300_040.grb2\n",
      "  warnings.warn('URL {} returned HTML. Changing to: {}'.format(self.catalog_url,\n"
     ]
    },
    {
     "name": "stdout",
     "output_type": "stream",
     "text": [
      "{'High_cloud_cover_high_cloud', 'Best_4_layer_Lifted_Index_pressure_difference_layer', 'U-Component_Storm_Motion_height_above_ground_layer', 'Convective_inhibition_pressure_difference_layer', 'Geopotential_height_UnknownLevelType-14', 'Simulated_Brightness_Temperature_for_GOES_11_Channel_4_atmosphere_top', 'Moisture_Availability_depth_below_surface', 'Geopotential_height_lowest_level_of_the_wet_bulb_zero', 'v-component_of_wind_isobaric', 'u-component_of_wind_pressure_difference_layer', 'Relative_humidity_pressure_difference_layer', 'Enhanced_Stretching_Potential_height_above_ground_layer', 'Vertical_velocity_pressure_isobaric', 'Effective_Storm_Relative_Helicity_surface', 'Temperature_pressure_difference_layer', 'Categorical_Ice_Pellets_surface', 'Categorical_Snow_surface', 'Haines_index_surface', 'Composite_reflectivity_entire_atmosphere', 'Pressure_maximum_wind', 'Vertical_velocity_pressure_pressure_difference_layer', 'Relative_humidity_zeroDegC_isotherm', 'Water_equivalent_of_accumulated_snow_depth_surface', 'Wind_speed_gust_surface', 'Aerosol_optical_thickness_entire_atmosphere_single_layer', 'u-component_of_wind_height_above_ground', 'Dewpoint_temperature_height_above_ground', 'Geopotential_height_equilibrium', 'Pressure_tropopause', 'Pressure_of_level_from_which_parcel_was_lifted_pressure_difference_layer', 'Medium_cloud_cover_middle_cloud', 'Snow_depth_surface', 'Pseudo-adiabatic_potential_temperature_or_equivalent_potential_temperature_surface', 'Frozen_Rain_surface_Mixed_intervals_Accumulation', 'Temperature_height_above_ground', 'Categorical_Rain_surface', 'V-Component_Storm_Motion_height_above_ground_layer', 'Precipitation_rate_surface', 'Simulated_Brightness_Temperature_for_GOES_12_Channel_3_atmosphere_top', 'Reflectivity_height_above_ground', 'Critical_Angle_height_above_ground_layer', 'v-component_of_wind_maximum_wind', 'Water_equivalent_of_accumulated_snow_depth_surface_Mixed_intervals_Accumulation', 'Potential_temperature_height_above_ground', 'Surface_Lifted_Index_isobaric_layer', 'Temperature_tropopause', 'Convective_available_potential_energy_pressure_difference_layer', 'Simulated_Brightness_Temperature_for_GOES_12_Channel_4_atmosphere_top', 'u-component_of_wind_maximum_wind', 'Geopotential_height_cloud_ceiling', 'Total_snowfall_surface_40_Hour_Accumulation', 'Relative_humidity_isobaric', 'v-component_of_wind_height_above_ground', 'Geopotential_height_highest_tropospheric_freezing', 'Potential_temperature_tropopause', 'Visibility_surface', 'Total_cloud_cover_boundary_layer_cloud', 'MSLP_MAPS_System_Reduction_msl', 'Convective_available_potential_energy_surface', 'Geopotential_height_isotherm', 'Specific_humidity_height_above_ground', 'Mass_density_concentration_height_above_ground', 'Geopotential_height_cloud_base', 'Storm_relative_helicity_height_above_ground_layer', 'Convective_available_potential_energy_height_above_ground_layer', 'Temperature_surface', 'Geopotential_height_zeroDegC_isotherm', 'Pressure_zeroDegC_isotherm', 'v-component_of_wind_pressure_difference_layer', 'Storm_surface_runoff_surface_1_Hour_Accumulation', 'Total_precipitation_surface_Mixed_intervals_Accumulation', 'Geopotential_height_cloud_tops', 'Geopotential_height_convective_cloud_top', 'Pressure_highest_tropospheric_freezing', 'Vertical_u-component_shear_height_above_ground_layer', 'Vertical_v-component_shear_height_above_ground_layer', 'Freezing_Rain_surface_40_Hour_Accumulation', 'Convective_inhibition_surface', 'Dewpoint_depression_or_deficit_height_above_ground', 'Total_cloud_cover_entire_atmosphere', 'Relative_humidity_height_above_ground', 'u-component_of_wind_tropopause', 'Absolute_vorticity_isobaric', 'Pressure_surface', 'v-component_of_wind_tropopause', 'Planetary_Boundary_Layer_Height_surface', 'Geopotential_height_isobaric', 'Precipitable_water_entire_atmosphere_single_layer', 'Convective_precipitation_surface_Mixed_intervals_Accumulation', 'Lightning_surface', 'Layer_Thickness_isotherm_layer', 'Relative_humidity_highest_tropospheric_freezing', 'Relative_Humidity_with_Respect_to_Precipitable_Water_entire_atmosphere', 'Simulated_Brightness_Temperature_for_GOES_11_Channel_3_atmosphere_top', 'Baseflow-groundwater_runoff_surface_1_Hour_Accumulation', 'Low_cloud_cover_low_cloud', 'Pressure_height_above_ground', 'Echo_top_entire_atmosphere_single_layer', 'u-component_of_wind_isobaric', 'Geopotential_height_planetary_boundary', 'Geopotential_height_surface', 'Categorical_Freezing_Rain_surface', 'Temperature_isobaric'}\n"
     ]
    },
    {
     "name": "stderr",
     "output_type": "stream",
     "text": [
      "C:\\Users\\Tony\\anaconda3\\lib\\site-packages\\metpy\\calc\\thermo.py:1078: UserWarning: Relative humidity >120%, ensure proper units.\n",
      "  warnings.warn('Relative humidity >120%, ensure proper units.')\n",
      "C:\\Users\\Tony\\anaconda3\\lib\\site-packages\\metpy\\calc\\thermo.py:1078: UserWarning: Relative humidity >120%, ensure proper units.\n",
      "  warnings.warn('Relative humidity >120%, ensure proper units.')\n",
      "C:\\Users\\Tony\\anaconda3\\lib\\site-packages\\metpy\\calc\\thermo.py:1078: UserWarning: Relative humidity >120%, ensure proper units.\n",
      "  warnings.warn('Relative humidity >120%, ensure proper units.')\n",
      "C:\\Users\\Tony\\anaconda3\\lib\\site-packages\\cartopy\\mpl\\geoaxes.py:1662: UserWarning: The following kwargs were not used by contour: 'under'\n",
      "  result = super().contourf(*args, **kwargs)\n"
     ]
    },
    {
     "name": "stdout",
     "output_type": "stream",
     "text": [
      "https://www.ncei.noaa.gov/thredds/catalog/model-rap130/202305/20230501/catalog.html?dataset=rap130/202305/20230501/rap_130_20230501_0300_041.grb2\n"
     ]
    },
    {
     "name": "stderr",
     "output_type": "stream",
     "text": [
      "C:\\Users\\Tony\\anaconda3\\lib\\site-packages\\siphon\\catalog.py:292: UserWarning: URL https://www.ncei.noaa.gov/thredds/catalog/model-rap130/202305/20230501/catalog.html?dataset=rap130/202305/20230501/rap_130_20230501_0300_041.grb2 returned HTML. Changing to: https://www.ncei.noaa.gov/thredds/catalog/model-rap130/202305/20230501/catalog.xml?dataset=rap130/202305/20230501/rap_130_20230501_0300_041.grb2\n",
      "  warnings.warn('URL {} returned HTML. Changing to: {}'.format(self.catalog_url,\n"
     ]
    },
    {
     "name": "stdout",
     "output_type": "stream",
     "text": [
      "{'High_cloud_cover_high_cloud', 'Best_4_layer_Lifted_Index_pressure_difference_layer', 'U-Component_Storm_Motion_height_above_ground_layer', 'Convective_inhibition_pressure_difference_layer', 'Geopotential_height_UnknownLevelType-14', 'Simulated_Brightness_Temperature_for_GOES_11_Channel_4_atmosphere_top', 'Moisture_Availability_depth_below_surface', 'Geopotential_height_lowest_level_of_the_wet_bulb_zero', 'v-component_of_wind_isobaric', 'u-component_of_wind_pressure_difference_layer', 'Relative_humidity_pressure_difference_layer', 'Freezing_Rain_surface_41_Hour_Accumulation', 'Enhanced_Stretching_Potential_height_above_ground_layer', 'Vertical_velocity_pressure_isobaric', 'Effective_Storm_Relative_Helicity_surface', 'Temperature_pressure_difference_layer', 'Categorical_Ice_Pellets_surface', 'Categorical_Snow_surface', 'Haines_index_surface', 'Composite_reflectivity_entire_atmosphere', 'Pressure_maximum_wind', 'Vertical_velocity_pressure_pressure_difference_layer', 'Relative_humidity_zeroDegC_isotherm', 'Water_equivalent_of_accumulated_snow_depth_surface', 'Wind_speed_gust_surface', 'Aerosol_optical_thickness_entire_atmosphere_single_layer', 'u-component_of_wind_height_above_ground', 'Total_snowfall_surface_41_Hour_Accumulation', 'Dewpoint_temperature_height_above_ground', 'Geopotential_height_equilibrium', 'Pressure_tropopause', 'Pressure_of_level_from_which_parcel_was_lifted_pressure_difference_layer', 'Medium_cloud_cover_middle_cloud', 'Snow_depth_surface', 'Pseudo-adiabatic_potential_temperature_or_equivalent_potential_temperature_surface', 'Frozen_Rain_surface_Mixed_intervals_Accumulation', 'Temperature_height_above_ground', 'Categorical_Rain_surface', 'V-Component_Storm_Motion_height_above_ground_layer', 'Precipitation_rate_surface', 'Simulated_Brightness_Temperature_for_GOES_12_Channel_3_atmosphere_top', 'Reflectivity_height_above_ground', 'Critical_Angle_height_above_ground_layer', 'v-component_of_wind_maximum_wind', 'Water_equivalent_of_accumulated_snow_depth_surface_Mixed_intervals_Accumulation', 'Potential_temperature_height_above_ground', 'Surface_Lifted_Index_isobaric_layer', 'Temperature_tropopause', 'Convective_available_potential_energy_pressure_difference_layer', 'Simulated_Brightness_Temperature_for_GOES_12_Channel_4_atmosphere_top', 'u-component_of_wind_maximum_wind', 'Geopotential_height_cloud_ceiling', 'Relative_humidity_isobaric', 'v-component_of_wind_height_above_ground', 'Geopotential_height_highest_tropospheric_freezing', 'Potential_temperature_tropopause', 'Visibility_surface', 'Total_cloud_cover_boundary_layer_cloud', 'MSLP_MAPS_System_Reduction_msl', 'Convective_available_potential_energy_surface', 'Geopotential_height_isotherm', 'Specific_humidity_height_above_ground', 'Mass_density_concentration_height_above_ground', 'Geopotential_height_cloud_base', 'Storm_relative_helicity_height_above_ground_layer', 'Convective_available_potential_energy_height_above_ground_layer', 'Temperature_surface', 'Geopotential_height_zeroDegC_isotherm', 'Pressure_zeroDegC_isotherm', 'v-component_of_wind_pressure_difference_layer', 'Storm_surface_runoff_surface_1_Hour_Accumulation', 'Total_precipitation_surface_Mixed_intervals_Accumulation', 'Geopotential_height_cloud_tops', 'Geopotential_height_convective_cloud_top', 'Pressure_highest_tropospheric_freezing', 'Vertical_u-component_shear_height_above_ground_layer', 'Vertical_v-component_shear_height_above_ground_layer', 'Convective_inhibition_surface', 'Dewpoint_depression_or_deficit_height_above_ground', 'Total_cloud_cover_entire_atmosphere', 'Relative_humidity_height_above_ground', 'u-component_of_wind_tropopause', 'Absolute_vorticity_isobaric', 'Pressure_surface', 'v-component_of_wind_tropopause', 'Planetary_Boundary_Layer_Height_surface', 'Geopotential_height_isobaric', 'Precipitable_water_entire_atmosphere_single_layer', 'Convective_precipitation_surface_Mixed_intervals_Accumulation', 'Lightning_surface', 'Layer_Thickness_isotherm_layer', 'Relative_humidity_highest_tropospheric_freezing', 'Relative_Humidity_with_Respect_to_Precipitable_Water_entire_atmosphere', 'Simulated_Brightness_Temperature_for_GOES_11_Channel_3_atmosphere_top', 'Baseflow-groundwater_runoff_surface_1_Hour_Accumulation', 'Low_cloud_cover_low_cloud', 'Pressure_height_above_ground', 'Echo_top_entire_atmosphere_single_layer', 'u-component_of_wind_isobaric', 'Geopotential_height_planetary_boundary', 'Geopotential_height_surface', 'Categorical_Freezing_Rain_surface', 'Temperature_isobaric'}\n"
     ]
    },
    {
     "name": "stderr",
     "output_type": "stream",
     "text": [
      "C:\\Users\\Tony\\anaconda3\\lib\\site-packages\\metpy\\calc\\thermo.py:1078: UserWarning: Relative humidity >120%, ensure proper units.\n",
      "  warnings.warn('Relative humidity >120%, ensure proper units.')\n",
      "C:\\Users\\Tony\\anaconda3\\lib\\site-packages\\metpy\\calc\\thermo.py:1078: UserWarning: Relative humidity >120%, ensure proper units.\n",
      "  warnings.warn('Relative humidity >120%, ensure proper units.')\n",
      "C:\\Users\\Tony\\anaconda3\\lib\\site-packages\\metpy\\calc\\thermo.py:1078: UserWarning: Relative humidity >120%, ensure proper units.\n",
      "  warnings.warn('Relative humidity >120%, ensure proper units.')\n",
      "C:\\Users\\Tony\\anaconda3\\lib\\site-packages\\cartopy\\mpl\\geoaxes.py:1662: UserWarning: The following kwargs were not used by contour: 'under'\n",
      "  result = super().contourf(*args, **kwargs)\n"
     ]
    },
    {
     "name": "stdout",
     "output_type": "stream",
     "text": [
      "https://www.ncei.noaa.gov/thredds/catalog/model-rap130/202305/20230501/catalog.html?dataset=rap130/202305/20230501/rap_130_20230501_0300_042.grb2\n"
     ]
    },
    {
     "name": "stderr",
     "output_type": "stream",
     "text": [
      "C:\\Users\\Tony\\anaconda3\\lib\\site-packages\\siphon\\catalog.py:292: UserWarning: URL https://www.ncei.noaa.gov/thredds/catalog/model-rap130/202305/20230501/catalog.html?dataset=rap130/202305/20230501/rap_130_20230501_0300_042.grb2 returned HTML. Changing to: https://www.ncei.noaa.gov/thredds/catalog/model-rap130/202305/20230501/catalog.xml?dataset=rap130/202305/20230501/rap_130_20230501_0300_042.grb2\n",
      "  warnings.warn('URL {} returned HTML. Changing to: {}'.format(self.catalog_url,\n"
     ]
    },
    {
     "name": "stdout",
     "output_type": "stream",
     "text": [
      "{'High_cloud_cover_high_cloud', 'Best_4_layer_Lifted_Index_pressure_difference_layer', 'U-Component_Storm_Motion_height_above_ground_layer', 'Convective_inhibition_pressure_difference_layer', 'Geopotential_height_UnknownLevelType-14', 'Simulated_Brightness_Temperature_for_GOES_11_Channel_4_atmosphere_top', 'Moisture_Availability_depth_below_surface', 'Geopotential_height_lowest_level_of_the_wet_bulb_zero', 'v-component_of_wind_isobaric', 'u-component_of_wind_pressure_difference_layer', 'Relative_humidity_pressure_difference_layer', 'Enhanced_Stretching_Potential_height_above_ground_layer', 'Vertical_velocity_pressure_isobaric', 'Effective_Storm_Relative_Helicity_surface', 'Temperature_pressure_difference_layer', 'Categorical_Ice_Pellets_surface', 'Categorical_Snow_surface', 'Haines_index_surface', 'Composite_reflectivity_entire_atmosphere', 'Pressure_maximum_wind', 'Total_snowfall_surface_42_Hour_Accumulation', 'Vertical_velocity_pressure_pressure_difference_layer', 'Relative_humidity_zeroDegC_isotherm', 'Water_equivalent_of_accumulated_snow_depth_surface', 'Wind_speed_gust_surface', 'Aerosol_optical_thickness_entire_atmosphere_single_layer', 'u-component_of_wind_height_above_ground', 'Dewpoint_temperature_height_above_ground', 'Geopotential_height_equilibrium', 'Pressure_tropopause', 'Pressure_of_level_from_which_parcel_was_lifted_pressure_difference_layer', 'Medium_cloud_cover_middle_cloud', 'Snow_depth_surface', 'Pseudo-adiabatic_potential_temperature_or_equivalent_potential_temperature_surface', 'Frozen_Rain_surface_Mixed_intervals_Accumulation', 'Temperature_height_above_ground', 'Categorical_Rain_surface', 'V-Component_Storm_Motion_height_above_ground_layer', 'Precipitation_rate_surface', 'Simulated_Brightness_Temperature_for_GOES_12_Channel_3_atmosphere_top', 'Reflectivity_height_above_ground', 'Freezing_Rain_surface_42_Hour_Accumulation', 'Critical_Angle_height_above_ground_layer', 'v-component_of_wind_maximum_wind', 'Water_equivalent_of_accumulated_snow_depth_surface_Mixed_intervals_Accumulation', 'Potential_temperature_height_above_ground', 'Surface_Lifted_Index_isobaric_layer', 'Temperature_tropopause', 'Convective_available_potential_energy_pressure_difference_layer', 'Simulated_Brightness_Temperature_for_GOES_12_Channel_4_atmosphere_top', 'u-component_of_wind_maximum_wind', 'Geopotential_height_cloud_ceiling', 'Relative_humidity_isobaric', 'v-component_of_wind_height_above_ground', 'Geopotential_height_highest_tropospheric_freezing', 'Potential_temperature_tropopause', 'Visibility_surface', 'Total_cloud_cover_boundary_layer_cloud', 'MSLP_MAPS_System_Reduction_msl', 'Convective_available_potential_energy_surface', 'Geopotential_height_isotherm', 'Specific_humidity_height_above_ground', 'Mass_density_concentration_height_above_ground', 'Geopotential_height_cloud_base', 'Storm_relative_helicity_height_above_ground_layer', 'Convective_available_potential_energy_height_above_ground_layer', 'Temperature_surface', 'Geopotential_height_zeroDegC_isotherm', 'Pressure_zeroDegC_isotherm', 'v-component_of_wind_pressure_difference_layer', 'Storm_surface_runoff_surface_1_Hour_Accumulation', 'Geopotential_height_cloud_tops', 'Geopotential_height_convective_cloud_top', 'Pressure_highest_tropospheric_freezing', 'Total_precipitation_surface_Mixed_intervals_Accumulation', 'Vertical_u-component_shear_height_above_ground_layer', 'Vertical_v-component_shear_height_above_ground_layer', 'Convective_inhibition_surface', 'Dewpoint_depression_or_deficit_height_above_ground', 'Total_cloud_cover_entire_atmosphere', 'Relative_humidity_height_above_ground', 'u-component_of_wind_tropopause', 'Absolute_vorticity_isobaric', 'Pressure_surface', 'v-component_of_wind_tropopause', 'Planetary_Boundary_Layer_Height_surface', 'Geopotential_height_isobaric', 'Precipitable_water_entire_atmosphere_single_layer', 'Lightning_surface', 'Convective_precipitation_surface_Mixed_intervals_Accumulation', 'Layer_Thickness_isotherm_layer', 'Relative_humidity_highest_tropospheric_freezing', 'Relative_Humidity_with_Respect_to_Precipitable_Water_entire_atmosphere', 'Simulated_Brightness_Temperature_for_GOES_11_Channel_3_atmosphere_top', 'Baseflow-groundwater_runoff_surface_1_Hour_Accumulation', 'Low_cloud_cover_low_cloud', 'Pressure_height_above_ground', 'Echo_top_entire_atmosphere_single_layer', 'u-component_of_wind_isobaric', 'Geopotential_height_planetary_boundary', 'Geopotential_height_surface', 'Categorical_Freezing_Rain_surface', 'Temperature_isobaric'}\n"
     ]
    },
    {
     "name": "stderr",
     "output_type": "stream",
     "text": [
      "C:\\Users\\Tony\\anaconda3\\lib\\site-packages\\metpy\\calc\\thermo.py:1078: UserWarning: Relative humidity >120%, ensure proper units.\n",
      "  warnings.warn('Relative humidity >120%, ensure proper units.')\n",
      "C:\\Users\\Tony\\anaconda3\\lib\\site-packages\\metpy\\calc\\thermo.py:1078: UserWarning: Relative humidity >120%, ensure proper units.\n",
      "  warnings.warn('Relative humidity >120%, ensure proper units.')\n",
      "C:\\Users\\Tony\\anaconda3\\lib\\site-packages\\metpy\\calc\\thermo.py:1078: UserWarning: Relative humidity >120%, ensure proper units.\n",
      "  warnings.warn('Relative humidity >120%, ensure proper units.')\n",
      "C:\\Users\\Tony\\anaconda3\\lib\\site-packages\\cartopy\\mpl\\geoaxes.py:1662: UserWarning: The following kwargs were not used by contour: 'under'\n",
      "  result = super().contourf(*args, **kwargs)\n"
     ]
    },
    {
     "name": "stdout",
     "output_type": "stream",
     "text": [
      "https://www.ncei.noaa.gov/thredds/catalog/model-rap130/202305/20230501/catalog.html?dataset=rap130/202305/20230501/rap_130_20230501_0300_043.grb2\n"
     ]
    },
    {
     "name": "stderr",
     "output_type": "stream",
     "text": [
      "C:\\Users\\Tony\\anaconda3\\lib\\site-packages\\siphon\\catalog.py:292: UserWarning: URL https://www.ncei.noaa.gov/thredds/catalog/model-rap130/202305/20230501/catalog.html?dataset=rap130/202305/20230501/rap_130_20230501_0300_043.grb2 returned HTML. Changing to: https://www.ncei.noaa.gov/thredds/catalog/model-rap130/202305/20230501/catalog.xml?dataset=rap130/202305/20230501/rap_130_20230501_0300_043.grb2\n",
      "  warnings.warn('URL {} returned HTML. Changing to: {}'.format(self.catalog_url,\n"
     ]
    },
    {
     "name": "stdout",
     "output_type": "stream",
     "text": [
      "{'High_cloud_cover_high_cloud', 'Best_4_layer_Lifted_Index_pressure_difference_layer', 'U-Component_Storm_Motion_height_above_ground_layer', 'Convective_inhibition_pressure_difference_layer', 'Geopotential_height_UnknownLevelType-14', 'Simulated_Brightness_Temperature_for_GOES_11_Channel_4_atmosphere_top', 'Moisture_Availability_depth_below_surface', 'Geopotential_height_lowest_level_of_the_wet_bulb_zero', 'v-component_of_wind_isobaric', 'u-component_of_wind_pressure_difference_layer', 'Relative_humidity_pressure_difference_layer', 'Enhanced_Stretching_Potential_height_above_ground_layer', 'Vertical_velocity_pressure_isobaric', 'Effective_Storm_Relative_Helicity_surface', 'Temperature_pressure_difference_layer', 'Categorical_Ice_Pellets_surface', 'Categorical_Snow_surface', 'Haines_index_surface', 'Total_snowfall_surface_43_Hour_Accumulation', 'Composite_reflectivity_entire_atmosphere', 'Pressure_maximum_wind', 'Vertical_velocity_pressure_pressure_difference_layer', 'Relative_humidity_zeroDegC_isotherm', 'Water_equivalent_of_accumulated_snow_depth_surface', 'Wind_speed_gust_surface', 'Aerosol_optical_thickness_entire_atmosphere_single_layer', 'u-component_of_wind_height_above_ground', 'Dewpoint_temperature_height_above_ground', 'Geopotential_height_equilibrium', 'Pressure_tropopause', 'Pressure_of_level_from_which_parcel_was_lifted_pressure_difference_layer', 'Medium_cloud_cover_middle_cloud', 'Snow_depth_surface', 'Pseudo-adiabatic_potential_temperature_or_equivalent_potential_temperature_surface', 'Frozen_Rain_surface_Mixed_intervals_Accumulation', 'Temperature_height_above_ground', 'Categorical_Rain_surface', 'V-Component_Storm_Motion_height_above_ground_layer', 'Precipitation_rate_surface', 'Simulated_Brightness_Temperature_for_GOES_12_Channel_3_atmosphere_top', 'Reflectivity_height_above_ground', 'Critical_Angle_height_above_ground_layer', 'v-component_of_wind_maximum_wind', 'Water_equivalent_of_accumulated_snow_depth_surface_Mixed_intervals_Accumulation', 'Potential_temperature_height_above_ground', 'Surface_Lifted_Index_isobaric_layer', 'Temperature_tropopause', 'Convective_available_potential_energy_pressure_difference_layer', 'Freezing_Rain_surface_43_Hour_Accumulation', 'Simulated_Brightness_Temperature_for_GOES_12_Channel_4_atmosphere_top', 'u-component_of_wind_maximum_wind', 'Geopotential_height_cloud_ceiling', 'Relative_humidity_isobaric', 'v-component_of_wind_height_above_ground', 'Geopotential_height_highest_tropospheric_freezing', 'Potential_temperature_tropopause', 'Visibility_surface', 'Total_cloud_cover_boundary_layer_cloud', 'MSLP_MAPS_System_Reduction_msl', 'Convective_available_potential_energy_surface', 'Geopotential_height_isotherm', 'Specific_humidity_height_above_ground', 'Mass_density_concentration_height_above_ground', 'Geopotential_height_cloud_base', 'Storm_relative_helicity_height_above_ground_layer', 'Convective_available_potential_energy_height_above_ground_layer', 'Temperature_surface', 'Geopotential_height_zeroDegC_isotherm', 'Pressure_zeroDegC_isotherm', 'v-component_of_wind_pressure_difference_layer', 'Geopotential_height_cloud_tops', 'Geopotential_height_convective_cloud_top', 'Pressure_highest_tropospheric_freezing', 'Total_precipitation_surface_Mixed_intervals_Accumulation', 'Storm_surface_runoff_surface_1_Hour_Accumulation', 'Vertical_u-component_shear_height_above_ground_layer', 'Vertical_v-component_shear_height_above_ground_layer', 'Convective_inhibition_surface', 'Dewpoint_depression_or_deficit_height_above_ground', 'Total_cloud_cover_entire_atmosphere', 'Relative_humidity_height_above_ground', 'u-component_of_wind_tropopause', 'Absolute_vorticity_isobaric', 'Pressure_surface', 'v-component_of_wind_tropopause', 'Planetary_Boundary_Layer_Height_surface', 'Geopotential_height_isobaric', 'Precipitable_water_entire_atmosphere_single_layer', 'Lightning_surface', 'Convective_precipitation_surface_Mixed_intervals_Accumulation', 'Layer_Thickness_isotherm_layer', 'Relative_humidity_highest_tropospheric_freezing', 'Relative_Humidity_with_Respect_to_Precipitable_Water_entire_atmosphere', 'Simulated_Brightness_Temperature_for_GOES_11_Channel_3_atmosphere_top', 'Baseflow-groundwater_runoff_surface_1_Hour_Accumulation', 'Low_cloud_cover_low_cloud', 'Pressure_height_above_ground', 'Echo_top_entire_atmosphere_single_layer', 'u-component_of_wind_isobaric', 'Geopotential_height_planetary_boundary', 'Geopotential_height_surface', 'Categorical_Freezing_Rain_surface', 'Temperature_isobaric'}\n"
     ]
    },
    {
     "name": "stderr",
     "output_type": "stream",
     "text": [
      "C:\\Users\\Tony\\anaconda3\\lib\\site-packages\\metpy\\calc\\thermo.py:1078: UserWarning: Relative humidity >120%, ensure proper units.\n",
      "  warnings.warn('Relative humidity >120%, ensure proper units.')\n",
      "C:\\Users\\Tony\\anaconda3\\lib\\site-packages\\metpy\\calc\\thermo.py:1078: UserWarning: Relative humidity >120%, ensure proper units.\n",
      "  warnings.warn('Relative humidity >120%, ensure proper units.')\n",
      "C:\\Users\\Tony\\anaconda3\\lib\\site-packages\\metpy\\calc\\thermo.py:1078: UserWarning: Relative humidity >120%, ensure proper units.\n",
      "  warnings.warn('Relative humidity >120%, ensure proper units.')\n",
      "C:\\Users\\Tony\\anaconda3\\lib\\site-packages\\cartopy\\mpl\\geoaxes.py:1662: UserWarning: The following kwargs were not used by contour: 'under'\n",
      "  result = super().contourf(*args, **kwargs)\n"
     ]
    },
    {
     "name": "stdout",
     "output_type": "stream",
     "text": [
      "https://www.ncei.noaa.gov/thredds/catalog/model-rap130/202305/20230501/catalog.html?dataset=rap130/202305/20230501/rap_130_20230501_0300_044.grb2\n"
     ]
    },
    {
     "name": "stderr",
     "output_type": "stream",
     "text": [
      "C:\\Users\\Tony\\anaconda3\\lib\\site-packages\\siphon\\catalog.py:292: UserWarning: URL https://www.ncei.noaa.gov/thredds/catalog/model-rap130/202305/20230501/catalog.html?dataset=rap130/202305/20230501/rap_130_20230501_0300_044.grb2 returned HTML. Changing to: https://www.ncei.noaa.gov/thredds/catalog/model-rap130/202305/20230501/catalog.xml?dataset=rap130/202305/20230501/rap_130_20230501_0300_044.grb2\n",
      "  warnings.warn('URL {} returned HTML. Changing to: {}'.format(self.catalog_url,\n"
     ]
    },
    {
     "name": "stdout",
     "output_type": "stream",
     "text": [
      "{'High_cloud_cover_high_cloud', 'Best_4_layer_Lifted_Index_pressure_difference_layer', 'U-Component_Storm_Motion_height_above_ground_layer', 'Convective_inhibition_pressure_difference_layer', 'Geopotential_height_UnknownLevelType-14', 'Simulated_Brightness_Temperature_for_GOES_11_Channel_4_atmosphere_top', 'Moisture_Availability_depth_below_surface', 'Geopotential_height_lowest_level_of_the_wet_bulb_zero', 'v-component_of_wind_isobaric', 'u-component_of_wind_pressure_difference_layer', 'Relative_humidity_pressure_difference_layer', 'Enhanced_Stretching_Potential_height_above_ground_layer', 'Vertical_velocity_pressure_isobaric', 'Effective_Storm_Relative_Helicity_surface', 'Temperature_pressure_difference_layer', 'Categorical_Ice_Pellets_surface', 'Categorical_Snow_surface', 'Haines_index_surface', 'Composite_reflectivity_entire_atmosphere', 'Pressure_maximum_wind', 'Vertical_velocity_pressure_pressure_difference_layer', 'Relative_humidity_zeroDegC_isotherm', 'Water_equivalent_of_accumulated_snow_depth_surface', 'Wind_speed_gust_surface', 'Aerosol_optical_thickness_entire_atmosphere_single_layer', 'u-component_of_wind_height_above_ground', 'Dewpoint_temperature_height_above_ground', 'Geopotential_height_equilibrium', 'Pressure_tropopause', 'Pressure_of_level_from_which_parcel_was_lifted_pressure_difference_layer', 'Medium_cloud_cover_middle_cloud', 'Snow_depth_surface', 'Pseudo-adiabatic_potential_temperature_or_equivalent_potential_temperature_surface', 'Frozen_Rain_surface_Mixed_intervals_Accumulation', 'Temperature_height_above_ground', 'Categorical_Rain_surface', 'V-Component_Storm_Motion_height_above_ground_layer', 'Precipitation_rate_surface', 'Simulated_Brightness_Temperature_for_GOES_12_Channel_3_atmosphere_top', 'Reflectivity_height_above_ground', 'Critical_Angle_height_above_ground_layer', 'v-component_of_wind_maximum_wind', 'Water_equivalent_of_accumulated_snow_depth_surface_Mixed_intervals_Accumulation', 'Potential_temperature_height_above_ground', 'Surface_Lifted_Index_isobaric_layer', 'Temperature_tropopause', 'Convective_available_potential_energy_pressure_difference_layer', 'Simulated_Brightness_Temperature_for_GOES_12_Channel_4_atmosphere_top', 'u-component_of_wind_maximum_wind', 'Freezing_Rain_surface_44_Hour_Accumulation', 'Geopotential_height_cloud_ceiling', 'Relative_humidity_isobaric', 'v-component_of_wind_height_above_ground', 'Geopotential_height_highest_tropospheric_freezing', 'Potential_temperature_tropopause', 'Visibility_surface', 'Total_cloud_cover_boundary_layer_cloud', 'MSLP_MAPS_System_Reduction_msl', 'Convective_available_potential_energy_surface', 'Geopotential_height_isotherm', 'Specific_humidity_height_above_ground', 'Mass_density_concentration_height_above_ground', 'Geopotential_height_cloud_base', 'Storm_relative_helicity_height_above_ground_layer', 'Convective_available_potential_energy_height_above_ground_layer', 'Temperature_surface', 'Geopotential_height_zeroDegC_isotherm', 'Pressure_zeroDegC_isotherm', 'v-component_of_wind_pressure_difference_layer', 'Storm_surface_runoff_surface_1_Hour_Accumulation', 'Geopotential_height_cloud_tops', 'Geopotential_height_convective_cloud_top', 'Pressure_highest_tropospheric_freezing', 'Total_precipitation_surface_Mixed_intervals_Accumulation', 'Vertical_u-component_shear_height_above_ground_layer', 'Vertical_v-component_shear_height_above_ground_layer', 'Convective_inhibition_surface', 'Dewpoint_depression_or_deficit_height_above_ground', 'Total_cloud_cover_entire_atmosphere', 'Relative_humidity_height_above_ground', 'Total_snowfall_surface_44_Hour_Accumulation', 'u-component_of_wind_tropopause', 'Absolute_vorticity_isobaric', 'Pressure_surface', 'v-component_of_wind_tropopause', 'Planetary_Boundary_Layer_Height_surface', 'Geopotential_height_isobaric', 'Precipitable_water_entire_atmosphere_single_layer', 'Lightning_surface', 'Convective_precipitation_surface_Mixed_intervals_Accumulation', 'Layer_Thickness_isotherm_layer', 'Relative_humidity_highest_tropospheric_freezing', 'Relative_Humidity_with_Respect_to_Precipitable_Water_entire_atmosphere', 'Simulated_Brightness_Temperature_for_GOES_11_Channel_3_atmosphere_top', 'Baseflow-groundwater_runoff_surface_1_Hour_Accumulation', 'Low_cloud_cover_low_cloud', 'Pressure_height_above_ground', 'Echo_top_entire_atmosphere_single_layer', 'u-component_of_wind_isobaric', 'Geopotential_height_planetary_boundary', 'Geopotential_height_surface', 'Categorical_Freezing_Rain_surface', 'Temperature_isobaric'}\n"
     ]
    },
    {
     "name": "stderr",
     "output_type": "stream",
     "text": [
      "C:\\Users\\Tony\\anaconda3\\lib\\site-packages\\metpy\\calc\\thermo.py:1078: UserWarning: Relative humidity >120%, ensure proper units.\n",
      "  warnings.warn('Relative humidity >120%, ensure proper units.')\n",
      "C:\\Users\\Tony\\anaconda3\\lib\\site-packages\\metpy\\calc\\thermo.py:1078: UserWarning: Relative humidity >120%, ensure proper units.\n",
      "  warnings.warn('Relative humidity >120%, ensure proper units.')\n",
      "C:\\Users\\Tony\\anaconda3\\lib\\site-packages\\metpy\\calc\\thermo.py:1078: UserWarning: Relative humidity >120%, ensure proper units.\n",
      "  warnings.warn('Relative humidity >120%, ensure proper units.')\n",
      "C:\\Users\\Tony\\anaconda3\\lib\\site-packages\\cartopy\\mpl\\geoaxes.py:1662: UserWarning: The following kwargs were not used by contour: 'under'\n",
      "  result = super().contourf(*args, **kwargs)\n"
     ]
    },
    {
     "name": "stdout",
     "output_type": "stream",
     "text": [
      "https://www.ncei.noaa.gov/thredds/catalog/model-rap130/202305/20230501/catalog.html?dataset=rap130/202305/20230501/rap_130_20230501_0300_045.grb2\n"
     ]
    },
    {
     "name": "stderr",
     "output_type": "stream",
     "text": [
      "C:\\Users\\Tony\\anaconda3\\lib\\site-packages\\siphon\\catalog.py:292: UserWarning: URL https://www.ncei.noaa.gov/thredds/catalog/model-rap130/202305/20230501/catalog.html?dataset=rap130/202305/20230501/rap_130_20230501_0300_045.grb2 returned HTML. Changing to: https://www.ncei.noaa.gov/thredds/catalog/model-rap130/202305/20230501/catalog.xml?dataset=rap130/202305/20230501/rap_130_20230501_0300_045.grb2\n",
      "  warnings.warn('URL {} returned HTML. Changing to: {}'.format(self.catalog_url,\n"
     ]
    },
    {
     "name": "stdout",
     "output_type": "stream",
     "text": [
      "{'High_cloud_cover_high_cloud', 'Best_4_layer_Lifted_Index_pressure_difference_layer', 'U-Component_Storm_Motion_height_above_ground_layer', 'Convective_inhibition_pressure_difference_layer', 'Geopotential_height_UnknownLevelType-14', 'Simulated_Brightness_Temperature_for_GOES_11_Channel_4_atmosphere_top', 'Total_snowfall_surface_45_Hour_Accumulation', 'Geopotential_height_lowest_level_of_the_wet_bulb_zero', 'Moisture_Availability_depth_below_surface', 'v-component_of_wind_isobaric', 'u-component_of_wind_pressure_difference_layer', 'Relative_humidity_pressure_difference_layer', 'Enhanced_Stretching_Potential_height_above_ground_layer', 'Vertical_velocity_pressure_isobaric', 'Effective_Storm_Relative_Helicity_surface', 'Temperature_pressure_difference_layer', 'Categorical_Ice_Pellets_surface', 'Categorical_Snow_surface', 'Haines_index_surface', 'Composite_reflectivity_entire_atmosphere', 'Pressure_maximum_wind', 'Vertical_velocity_pressure_pressure_difference_layer', 'Relative_humidity_zeroDegC_isotherm', 'Water_equivalent_of_accumulated_snow_depth_surface', 'Wind_speed_gust_surface', 'Aerosol_optical_thickness_entire_atmosphere_single_layer', 'u-component_of_wind_height_above_ground', 'Dewpoint_temperature_height_above_ground', 'Geopotential_height_equilibrium', 'Pressure_tropopause', 'Pressure_of_level_from_which_parcel_was_lifted_pressure_difference_layer', 'Medium_cloud_cover_middle_cloud', 'Snow_depth_surface', 'Pseudo-adiabatic_potential_temperature_or_equivalent_potential_temperature_surface', 'Frozen_Rain_surface_Mixed_intervals_Accumulation', 'Temperature_height_above_ground', 'Categorical_Rain_surface', 'V-Component_Storm_Motion_height_above_ground_layer', 'Precipitation_rate_surface', 'Simulated_Brightness_Temperature_for_GOES_12_Channel_3_atmosphere_top', 'Reflectivity_height_above_ground', 'Critical_Angle_height_above_ground_layer', 'v-component_of_wind_maximum_wind', 'Water_equivalent_of_accumulated_snow_depth_surface_Mixed_intervals_Accumulation', 'Potential_temperature_height_above_ground', 'Surface_Lifted_Index_isobaric_layer', 'Temperature_tropopause', 'Convective_available_potential_energy_pressure_difference_layer', 'Freezing_Rain_surface_45_Hour_Accumulation', 'Simulated_Brightness_Temperature_for_GOES_12_Channel_4_atmosphere_top', 'u-component_of_wind_maximum_wind', 'Geopotential_height_cloud_ceiling', 'Relative_humidity_isobaric', 'v-component_of_wind_height_above_ground', 'Geopotential_height_highest_tropospheric_freezing', 'Potential_temperature_tropopause', 'Visibility_surface', 'Total_cloud_cover_boundary_layer_cloud', 'MSLP_MAPS_System_Reduction_msl', 'Convective_available_potential_energy_surface', 'Geopotential_height_isotherm', 'Specific_humidity_height_above_ground', 'Mass_density_concentration_height_above_ground', 'Geopotential_height_cloud_base', 'Storm_relative_helicity_height_above_ground_layer', 'Convective_available_potential_energy_height_above_ground_layer', 'Temperature_surface', 'Geopotential_height_zeroDegC_isotherm', 'Pressure_zeroDegC_isotherm', 'v-component_of_wind_pressure_difference_layer', 'Geopotential_height_cloud_tops', 'Geopotential_height_convective_cloud_top', 'Pressure_highest_tropospheric_freezing', 'Storm_surface_runoff_surface_1_Hour_Accumulation', 'Total_precipitation_surface_Mixed_intervals_Accumulation', 'Vertical_u-component_shear_height_above_ground_layer', 'Vertical_v-component_shear_height_above_ground_layer', 'Convective_inhibition_surface', 'Dewpoint_depression_or_deficit_height_above_ground', 'Total_cloud_cover_entire_atmosphere', 'Relative_humidity_height_above_ground', 'u-component_of_wind_tropopause', 'Absolute_vorticity_isobaric', 'Pressure_surface', 'v-component_of_wind_tropopause', 'Planetary_Boundary_Layer_Height_surface', 'Geopotential_height_isobaric', 'Precipitable_water_entire_atmosphere_single_layer', 'Lightning_surface', 'Convective_precipitation_surface_Mixed_intervals_Accumulation', 'Layer_Thickness_isotherm_layer', 'Relative_humidity_highest_tropospheric_freezing', 'Relative_Humidity_with_Respect_to_Precipitable_Water_entire_atmosphere', 'Simulated_Brightness_Temperature_for_GOES_11_Channel_3_atmosphere_top', 'Baseflow-groundwater_runoff_surface_1_Hour_Accumulation', 'Low_cloud_cover_low_cloud', 'Pressure_height_above_ground', 'Echo_top_entire_atmosphere_single_layer', 'u-component_of_wind_isobaric', 'Geopotential_height_planetary_boundary', 'Geopotential_height_surface', 'Categorical_Freezing_Rain_surface', 'Temperature_isobaric'}\n"
     ]
    },
    {
     "name": "stderr",
     "output_type": "stream",
     "text": [
      "C:\\Users\\Tony\\anaconda3\\lib\\site-packages\\metpy\\calc\\thermo.py:1078: UserWarning: Relative humidity >120%, ensure proper units.\n",
      "  warnings.warn('Relative humidity >120%, ensure proper units.')\n",
      "C:\\Users\\Tony\\anaconda3\\lib\\site-packages\\metpy\\calc\\thermo.py:1078: UserWarning: Relative humidity >120%, ensure proper units.\n",
      "  warnings.warn('Relative humidity >120%, ensure proper units.')\n",
      "C:\\Users\\Tony\\anaconda3\\lib\\site-packages\\metpy\\calc\\thermo.py:1078: UserWarning: Relative humidity >120%, ensure proper units.\n",
      "  warnings.warn('Relative humidity >120%, ensure proper units.')\n",
      "C:\\Users\\Tony\\anaconda3\\lib\\site-packages\\cartopy\\mpl\\geoaxes.py:1662: UserWarning: The following kwargs were not used by contour: 'under'\n",
      "  result = super().contourf(*args, **kwargs)\n"
     ]
    },
    {
     "name": "stdout",
     "output_type": "stream",
     "text": [
      "https://www.ncei.noaa.gov/thredds/catalog/model-rap130/202305/20230501/catalog.html?dataset=rap130/202305/20230501/rap_130_20230501_0300_046.grb2\n"
     ]
    },
    {
     "name": "stderr",
     "output_type": "stream",
     "text": [
      "C:\\Users\\Tony\\anaconda3\\lib\\site-packages\\siphon\\catalog.py:292: UserWarning: URL https://www.ncei.noaa.gov/thredds/catalog/model-rap130/202305/20230501/catalog.html?dataset=rap130/202305/20230501/rap_130_20230501_0300_046.grb2 returned HTML. Changing to: https://www.ncei.noaa.gov/thredds/catalog/model-rap130/202305/20230501/catalog.xml?dataset=rap130/202305/20230501/rap_130_20230501_0300_046.grb2\n",
      "  warnings.warn('URL {} returned HTML. Changing to: {}'.format(self.catalog_url,\n"
     ]
    },
    {
     "name": "stdout",
     "output_type": "stream",
     "text": [
      "{'High_cloud_cover_high_cloud', 'Best_4_layer_Lifted_Index_pressure_difference_layer', 'U-Component_Storm_Motion_height_above_ground_layer', 'Convective_inhibition_pressure_difference_layer', 'Geopotential_height_UnknownLevelType-14', 'Simulated_Brightness_Temperature_for_GOES_11_Channel_4_atmosphere_top', 'Moisture_Availability_depth_below_surface', 'Geopotential_height_lowest_level_of_the_wet_bulb_zero', 'v-component_of_wind_isobaric', 'u-component_of_wind_pressure_difference_layer', 'Relative_humidity_pressure_difference_layer', 'Enhanced_Stretching_Potential_height_above_ground_layer', 'Vertical_velocity_pressure_isobaric', 'Effective_Storm_Relative_Helicity_surface', 'Temperature_pressure_difference_layer', 'Categorical_Ice_Pellets_surface', 'Categorical_Snow_surface', 'Haines_index_surface', 'Composite_reflectivity_entire_atmosphere', 'Pressure_maximum_wind', 'Vertical_velocity_pressure_pressure_difference_layer', 'Relative_humidity_zeroDegC_isotherm', 'Water_equivalent_of_accumulated_snow_depth_surface', 'Wind_speed_gust_surface', 'Aerosol_optical_thickness_entire_atmosphere_single_layer', 'u-component_of_wind_height_above_ground', 'Dewpoint_temperature_height_above_ground', 'Geopotential_height_equilibrium', 'Pressure_tropopause', 'Pressure_of_level_from_which_parcel_was_lifted_pressure_difference_layer', 'Medium_cloud_cover_middle_cloud', 'Snow_depth_surface', 'Pseudo-adiabatic_potential_temperature_or_equivalent_potential_temperature_surface', 'Frozen_Rain_surface_Mixed_intervals_Accumulation', 'Temperature_height_above_ground', 'Categorical_Rain_surface', 'V-Component_Storm_Motion_height_above_ground_layer', 'Precipitation_rate_surface', 'Simulated_Brightness_Temperature_for_GOES_12_Channel_3_atmosphere_top', 'Reflectivity_height_above_ground', 'Critical_Angle_height_above_ground_layer', 'v-component_of_wind_maximum_wind', 'Water_equivalent_of_accumulated_snow_depth_surface_Mixed_intervals_Accumulation', 'Potential_temperature_height_above_ground', 'Surface_Lifted_Index_isobaric_layer', 'Temperature_tropopause', 'Convective_available_potential_energy_pressure_difference_layer', 'Simulated_Brightness_Temperature_for_GOES_12_Channel_4_atmosphere_top', 'u-component_of_wind_maximum_wind', 'Geopotential_height_cloud_ceiling', 'Relative_humidity_isobaric', 'v-component_of_wind_height_above_ground', 'Geopotential_height_highest_tropospheric_freezing', 'Potential_temperature_tropopause', 'Visibility_surface', 'Total_cloud_cover_boundary_layer_cloud', 'MSLP_MAPS_System_Reduction_msl', 'Convective_available_potential_energy_surface', 'Geopotential_height_isotherm', 'Specific_humidity_height_above_ground', 'Mass_density_concentration_height_above_ground', 'Geopotential_height_cloud_base', 'Storm_relative_helicity_height_above_ground_layer', 'Convective_available_potential_energy_height_above_ground_layer', 'Temperature_surface', 'Geopotential_height_zeroDegC_isotherm', 'Total_snowfall_surface_46_Hour_Accumulation', 'Freezing_Rain_surface_46_Hour_Accumulation', 'Pressure_zeroDegC_isotherm', 'v-component_of_wind_pressure_difference_layer', 'Geopotential_height_cloud_tops', 'Geopotential_height_convective_cloud_top', 'Pressure_highest_tropospheric_freezing', 'Total_precipitation_surface_Mixed_intervals_Accumulation', 'Storm_surface_runoff_surface_1_Hour_Accumulation', 'Vertical_u-component_shear_height_above_ground_layer', 'Vertical_v-component_shear_height_above_ground_layer', 'Convective_inhibition_surface', 'Dewpoint_depression_or_deficit_height_above_ground', 'Total_cloud_cover_entire_atmosphere', 'Relative_humidity_height_above_ground', 'u-component_of_wind_tropopause', 'Absolute_vorticity_isobaric', 'Pressure_surface', 'v-component_of_wind_tropopause', 'Planetary_Boundary_Layer_Height_surface', 'Geopotential_height_isobaric', 'Precipitable_water_entire_atmosphere_single_layer', 'Lightning_surface', 'Convective_precipitation_surface_Mixed_intervals_Accumulation', 'Layer_Thickness_isotherm_layer', 'Relative_humidity_highest_tropospheric_freezing', 'Relative_Humidity_with_Respect_to_Precipitable_Water_entire_atmosphere', 'Simulated_Brightness_Temperature_for_GOES_11_Channel_3_atmosphere_top', 'Baseflow-groundwater_runoff_surface_1_Hour_Accumulation', 'Low_cloud_cover_low_cloud', 'Pressure_height_above_ground', 'Echo_top_entire_atmosphere_single_layer', 'u-component_of_wind_isobaric', 'Geopotential_height_planetary_boundary', 'Geopotential_height_surface', 'Categorical_Freezing_Rain_surface', 'Temperature_isobaric'}\n"
     ]
    },
    {
     "name": "stderr",
     "output_type": "stream",
     "text": [
      "C:\\Users\\Tony\\anaconda3\\lib\\site-packages\\metpy\\calc\\thermo.py:1078: UserWarning: Relative humidity >120%, ensure proper units.\n",
      "  warnings.warn('Relative humidity >120%, ensure proper units.')\n",
      "C:\\Users\\Tony\\anaconda3\\lib\\site-packages\\metpy\\calc\\thermo.py:1078: UserWarning: Relative humidity >120%, ensure proper units.\n",
      "  warnings.warn('Relative humidity >120%, ensure proper units.')\n",
      "C:\\Users\\Tony\\anaconda3\\lib\\site-packages\\metpy\\calc\\thermo.py:1078: UserWarning: Relative humidity >120%, ensure proper units.\n",
      "  warnings.warn('Relative humidity >120%, ensure proper units.')\n",
      "C:\\Users\\Tony\\anaconda3\\lib\\site-packages\\cartopy\\mpl\\geoaxes.py:1662: UserWarning: The following kwargs were not used by contour: 'under'\n",
      "  result = super().contourf(*args, **kwargs)\n"
     ]
    },
    {
     "name": "stdout",
     "output_type": "stream",
     "text": [
      "https://www.ncei.noaa.gov/thredds/catalog/model-rap130/202305/20230501/catalog.html?dataset=rap130/202305/20230501/rap_130_20230501_0300_047.grb2\n"
     ]
    },
    {
     "name": "stderr",
     "output_type": "stream",
     "text": [
      "C:\\Users\\Tony\\anaconda3\\lib\\site-packages\\siphon\\catalog.py:292: UserWarning: URL https://www.ncei.noaa.gov/thredds/catalog/model-rap130/202305/20230501/catalog.html?dataset=rap130/202305/20230501/rap_130_20230501_0300_047.grb2 returned HTML. Changing to: https://www.ncei.noaa.gov/thredds/catalog/model-rap130/202305/20230501/catalog.xml?dataset=rap130/202305/20230501/rap_130_20230501_0300_047.grb2\n",
      "  warnings.warn('URL {} returned HTML. Changing to: {}'.format(self.catalog_url,\n"
     ]
    },
    {
     "name": "stdout",
     "output_type": "stream",
     "text": [
      "{'High_cloud_cover_high_cloud', 'Best_4_layer_Lifted_Index_pressure_difference_layer', 'U-Component_Storm_Motion_height_above_ground_layer', 'Convective_inhibition_pressure_difference_layer', 'Geopotential_height_UnknownLevelType-14', 'Simulated_Brightness_Temperature_for_GOES_11_Channel_4_atmosphere_top', 'Moisture_Availability_depth_below_surface', 'Geopotential_height_lowest_level_of_the_wet_bulb_zero', 'v-component_of_wind_isobaric', 'u-component_of_wind_pressure_difference_layer', 'Relative_humidity_pressure_difference_layer', 'Enhanced_Stretching_Potential_height_above_ground_layer', 'Vertical_velocity_pressure_isobaric', 'Effective_Storm_Relative_Helicity_surface', 'Temperature_pressure_difference_layer', 'Categorical_Ice_Pellets_surface', 'Categorical_Snow_surface', 'Haines_index_surface', 'Composite_reflectivity_entire_atmosphere', 'Pressure_maximum_wind', 'Vertical_velocity_pressure_pressure_difference_layer', 'Relative_humidity_zeroDegC_isotherm', 'Water_equivalent_of_accumulated_snow_depth_surface', 'Wind_speed_gust_surface', 'Aerosol_optical_thickness_entire_atmosphere_single_layer', 'u-component_of_wind_height_above_ground', 'Dewpoint_temperature_height_above_ground', 'Geopotential_height_equilibrium', 'Pressure_tropopause', 'Pressure_of_level_from_which_parcel_was_lifted_pressure_difference_layer', 'Medium_cloud_cover_middle_cloud', 'Snow_depth_surface', 'Pseudo-adiabatic_potential_temperature_or_equivalent_potential_temperature_surface', 'Frozen_Rain_surface_Mixed_intervals_Accumulation', 'Total_snowfall_surface_47_Hour_Accumulation', 'Temperature_height_above_ground', 'Categorical_Rain_surface', 'V-Component_Storm_Motion_height_above_ground_layer', 'Precipitation_rate_surface', 'Simulated_Brightness_Temperature_for_GOES_12_Channel_3_atmosphere_top', 'Reflectivity_height_above_ground', 'Critical_Angle_height_above_ground_layer', 'v-component_of_wind_maximum_wind', 'Water_equivalent_of_accumulated_snow_depth_surface_Mixed_intervals_Accumulation', 'Potential_temperature_height_above_ground', 'Surface_Lifted_Index_isobaric_layer', 'Temperature_tropopause', 'Convective_available_potential_energy_pressure_difference_layer', 'Simulated_Brightness_Temperature_for_GOES_12_Channel_4_atmosphere_top', 'u-component_of_wind_maximum_wind', 'Geopotential_height_cloud_ceiling', 'Relative_humidity_isobaric', 'v-component_of_wind_height_above_ground', 'Geopotential_height_highest_tropospheric_freezing', 'Potential_temperature_tropopause', 'Visibility_surface', 'Total_cloud_cover_boundary_layer_cloud', 'MSLP_MAPS_System_Reduction_msl', 'Convective_available_potential_energy_surface', 'Geopotential_height_isotherm', 'Specific_humidity_height_above_ground', 'Mass_density_concentration_height_above_ground', 'Geopotential_height_cloud_base', 'Storm_relative_helicity_height_above_ground_layer', 'Convective_available_potential_energy_height_above_ground_layer', 'Temperature_surface', 'Geopotential_height_zeroDegC_isotherm', 'Pressure_zeroDegC_isotherm', 'v-component_of_wind_pressure_difference_layer', 'Geopotential_height_cloud_tops', 'Total_precipitation_surface_Mixed_intervals_Accumulation', 'Geopotential_height_convective_cloud_top', 'Pressure_highest_tropospheric_freezing', 'Storm_surface_runoff_surface_1_Hour_Accumulation', 'Vertical_u-component_shear_height_above_ground_layer', 'Vertical_v-component_shear_height_above_ground_layer', 'Convective_inhibition_surface', 'Dewpoint_depression_or_deficit_height_above_ground', 'Total_cloud_cover_entire_atmosphere', 'Relative_humidity_height_above_ground', 'u-component_of_wind_tropopause', 'Absolute_vorticity_isobaric', 'Freezing_Rain_surface_47_Hour_Accumulation', 'Pressure_surface', 'v-component_of_wind_tropopause', 'Planetary_Boundary_Layer_Height_surface', 'Geopotential_height_isobaric', 'Precipitable_water_entire_atmosphere_single_layer', 'Convective_precipitation_surface_Mixed_intervals_Accumulation', 'Lightning_surface', 'Layer_Thickness_isotherm_layer', 'Relative_humidity_highest_tropospheric_freezing', 'Relative_Humidity_with_Respect_to_Precipitable_Water_entire_atmosphere', 'Simulated_Brightness_Temperature_for_GOES_11_Channel_3_atmosphere_top', 'Baseflow-groundwater_runoff_surface_1_Hour_Accumulation', 'Low_cloud_cover_low_cloud', 'Pressure_height_above_ground', 'Echo_top_entire_atmosphere_single_layer', 'u-component_of_wind_isobaric', 'Geopotential_height_planetary_boundary', 'Geopotential_height_surface', 'Categorical_Freezing_Rain_surface', 'Temperature_isobaric'}\n"
     ]
    },
    {
     "name": "stderr",
     "output_type": "stream",
     "text": [
      "C:\\Users\\Tony\\anaconda3\\lib\\site-packages\\metpy\\calc\\thermo.py:1078: UserWarning: Relative humidity >120%, ensure proper units.\n",
      "  warnings.warn('Relative humidity >120%, ensure proper units.')\n",
      "C:\\Users\\Tony\\anaconda3\\lib\\site-packages\\metpy\\calc\\thermo.py:1078: UserWarning: Relative humidity >120%, ensure proper units.\n",
      "  warnings.warn('Relative humidity >120%, ensure proper units.')\n",
      "C:\\Users\\Tony\\anaconda3\\lib\\site-packages\\metpy\\calc\\thermo.py:1078: UserWarning: Relative humidity >120%, ensure proper units.\n",
      "  warnings.warn('Relative humidity >120%, ensure proper units.')\n",
      "C:\\Users\\Tony\\anaconda3\\lib\\site-packages\\cartopy\\mpl\\geoaxes.py:1662: UserWarning: The following kwargs were not used by contour: 'under'\n",
      "  result = super().contourf(*args, **kwargs)\n"
     ]
    },
    {
     "name": "stdout",
     "output_type": "stream",
     "text": [
      "https://www.ncei.noaa.gov/thredds/catalog/model-rap130/202305/20230501/catalog.html?dataset=rap130/202305/20230501/rap_130_20230501_0300_048.grb2\n"
     ]
    },
    {
     "name": "stderr",
     "output_type": "stream",
     "text": [
      "C:\\Users\\Tony\\anaconda3\\lib\\site-packages\\siphon\\catalog.py:292: UserWarning: URL https://www.ncei.noaa.gov/thredds/catalog/model-rap130/202305/20230501/catalog.html?dataset=rap130/202305/20230501/rap_130_20230501_0300_048.grb2 returned HTML. Changing to: https://www.ncei.noaa.gov/thredds/catalog/model-rap130/202305/20230501/catalog.xml?dataset=rap130/202305/20230501/rap_130_20230501_0300_048.grb2\n",
      "  warnings.warn('URL {} returned HTML. Changing to: {}'.format(self.catalog_url,\n"
     ]
    },
    {
     "name": "stdout",
     "output_type": "stream",
     "text": [
      "{'High_cloud_cover_high_cloud', 'Best_4_layer_Lifted_Index_pressure_difference_layer', 'U-Component_Storm_Motion_height_above_ground_layer', 'Convective_inhibition_pressure_difference_layer', 'Geopotential_height_UnknownLevelType-14', 'Simulated_Brightness_Temperature_for_GOES_11_Channel_4_atmosphere_top', 'Moisture_Availability_depth_below_surface', 'Geopotential_height_lowest_level_of_the_wet_bulb_zero', 'v-component_of_wind_isobaric', 'u-component_of_wind_pressure_difference_layer', 'Relative_humidity_pressure_difference_layer', 'Enhanced_Stretching_Potential_height_above_ground_layer', 'Vertical_velocity_pressure_isobaric', 'Effective_Storm_Relative_Helicity_surface', 'Temperature_pressure_difference_layer', 'Categorical_Ice_Pellets_surface', 'Categorical_Snow_surface', 'Haines_index_surface', 'Composite_reflectivity_entire_atmosphere', 'Pressure_maximum_wind', 'Freezing_Rain_surface_48_Hour_Accumulation', 'Vertical_velocity_pressure_pressure_difference_layer', 'Relative_humidity_zeroDegC_isotherm', 'Water_equivalent_of_accumulated_snow_depth_surface', 'Wind_speed_gust_surface', 'Aerosol_optical_thickness_entire_atmosphere_single_layer', 'u-component_of_wind_height_above_ground', 'Dewpoint_temperature_height_above_ground', 'Geopotential_height_equilibrium', 'Pressure_tropopause', 'Pressure_of_level_from_which_parcel_was_lifted_pressure_difference_layer', 'Medium_cloud_cover_middle_cloud', 'Snow_depth_surface', 'Pseudo-adiabatic_potential_temperature_or_equivalent_potential_temperature_surface', 'Frozen_Rain_surface_Mixed_intervals_Accumulation', 'Temperature_height_above_ground', 'Categorical_Rain_surface', 'V-Component_Storm_Motion_height_above_ground_layer', 'Precipitation_rate_surface', 'Simulated_Brightness_Temperature_for_GOES_12_Channel_3_atmosphere_top', 'Reflectivity_height_above_ground', 'Critical_Angle_height_above_ground_layer', 'v-component_of_wind_maximum_wind', 'Water_equivalent_of_accumulated_snow_depth_surface_Mixed_intervals_Accumulation', 'Potential_temperature_height_above_ground', 'Surface_Lifted_Index_isobaric_layer', 'Temperature_tropopause', 'Convective_available_potential_energy_pressure_difference_layer', 'Simulated_Brightness_Temperature_for_GOES_12_Channel_4_atmosphere_top', 'u-component_of_wind_maximum_wind', 'Geopotential_height_cloud_ceiling', 'Relative_humidity_isobaric', 'v-component_of_wind_height_above_ground', 'Geopotential_height_highest_tropospheric_freezing', 'Potential_temperature_tropopause', 'Visibility_surface', 'Total_cloud_cover_boundary_layer_cloud', 'MSLP_MAPS_System_Reduction_msl', 'Convective_available_potential_energy_surface', 'Geopotential_height_isotherm', 'Specific_humidity_height_above_ground', 'Mass_density_concentration_height_above_ground', 'Geopotential_height_cloud_base', 'Storm_relative_helicity_height_above_ground_layer', 'Convective_available_potential_energy_height_above_ground_layer', 'Temperature_surface', 'Geopotential_height_zeroDegC_isotherm', 'Pressure_zeroDegC_isotherm', 'v-component_of_wind_pressure_difference_layer', 'Storm_surface_runoff_surface_1_Hour_Accumulation', 'Total_precipitation_surface_Mixed_intervals_Accumulation', 'Geopotential_height_cloud_tops', 'Geopotential_height_convective_cloud_top', 'Pressure_highest_tropospheric_freezing', 'Vertical_u-component_shear_height_above_ground_layer', 'Vertical_v-component_shear_height_above_ground_layer', 'Convective_inhibition_surface', 'Dewpoint_depression_or_deficit_height_above_ground', 'Total_cloud_cover_entire_atmosphere', 'Relative_humidity_height_above_ground', 'u-component_of_wind_tropopause', 'Absolute_vorticity_isobaric', 'Pressure_surface', 'v-component_of_wind_tropopause', 'Planetary_Boundary_Layer_Height_surface', 'Geopotential_height_isobaric', 'Precipitable_water_entire_atmosphere_single_layer', 'Convective_precipitation_surface_Mixed_intervals_Accumulation', 'Lightning_surface', 'Layer_Thickness_isotherm_layer', 'Relative_humidity_highest_tropospheric_freezing', 'Relative_Humidity_with_Respect_to_Precipitable_Water_entire_atmosphere', 'Simulated_Brightness_Temperature_for_GOES_11_Channel_3_atmosphere_top', 'Baseflow-groundwater_runoff_surface_1_Hour_Accumulation', 'Low_cloud_cover_low_cloud', 'Pressure_height_above_ground', 'Echo_top_entire_atmosphere_single_layer', 'Total_snowfall_surface_48_Hour_Accumulation', 'u-component_of_wind_isobaric', 'Geopotential_height_planetary_boundary', 'Geopotential_height_surface', 'Categorical_Freezing_Rain_surface', 'Temperature_isobaric'}\n"
     ]
    },
    {
     "name": "stderr",
     "output_type": "stream",
     "text": [
      "C:\\Users\\Tony\\anaconda3\\lib\\site-packages\\metpy\\calc\\thermo.py:1078: UserWarning: Relative humidity >120%, ensure proper units.\n",
      "  warnings.warn('Relative humidity >120%, ensure proper units.')\n",
      "C:\\Users\\Tony\\anaconda3\\lib\\site-packages\\metpy\\calc\\thermo.py:1078: UserWarning: Relative humidity >120%, ensure proper units.\n",
      "  warnings.warn('Relative humidity >120%, ensure proper units.')\n",
      "C:\\Users\\Tony\\anaconda3\\lib\\site-packages\\metpy\\calc\\thermo.py:1078: UserWarning: Relative humidity >120%, ensure proper units.\n",
      "  warnings.warn('Relative humidity >120%, ensure proper units.')\n",
      "C:\\Users\\Tony\\anaconda3\\lib\\site-packages\\cartopy\\mpl\\geoaxes.py:1662: UserWarning: The following kwargs were not used by contour: 'under'\n",
      "  result = super().contourf(*args, **kwargs)\n"
     ]
    },
    {
     "name": "stdout",
     "output_type": "stream",
     "text": [
      "https://www.ncei.noaa.gov/thredds/catalog/model-rap130/202305/20230501/catalog.html?dataset=rap130/202305/20230501/rap_130_20230501_0300_049.grb2\n"
     ]
    },
    {
     "name": "stderr",
     "output_type": "stream",
     "text": [
      "C:\\Users\\Tony\\anaconda3\\lib\\site-packages\\siphon\\catalog.py:292: UserWarning: URL https://www.ncei.noaa.gov/thredds/catalog/model-rap130/202305/20230501/catalog.html?dataset=rap130/202305/20230501/rap_130_20230501_0300_049.grb2 returned HTML. Changing to: https://www.ncei.noaa.gov/thredds/catalog/model-rap130/202305/20230501/catalog.xml?dataset=rap130/202305/20230501/rap_130_20230501_0300_049.grb2\n",
      "  warnings.warn('URL {} returned HTML. Changing to: {}'.format(self.catalog_url,\n"
     ]
    },
    {
     "name": "stdout",
     "output_type": "stream",
     "text": [
      "{'High_cloud_cover_high_cloud', 'Best_4_layer_Lifted_Index_pressure_difference_layer', 'U-Component_Storm_Motion_height_above_ground_layer', 'Convective_inhibition_pressure_difference_layer', 'Geopotential_height_UnknownLevelType-14', 'Simulated_Brightness_Temperature_for_GOES_11_Channel_4_atmosphere_top', 'Moisture_Availability_depth_below_surface', 'Geopotential_height_lowest_level_of_the_wet_bulb_zero', 'v-component_of_wind_isobaric', 'u-component_of_wind_pressure_difference_layer', 'Relative_humidity_pressure_difference_layer', 'Enhanced_Stretching_Potential_height_above_ground_layer', 'Vertical_velocity_pressure_isobaric', 'Effective_Storm_Relative_Helicity_surface', 'Temperature_pressure_difference_layer', 'Categorical_Ice_Pellets_surface', 'Categorical_Snow_surface', 'Haines_index_surface', 'Composite_reflectivity_entire_atmosphere', 'Pressure_maximum_wind', 'Vertical_velocity_pressure_pressure_difference_layer', 'Relative_humidity_zeroDegC_isotherm', 'Water_equivalent_of_accumulated_snow_depth_surface', 'Wind_speed_gust_surface', 'Aerosol_optical_thickness_entire_atmosphere_single_layer', 'u-component_of_wind_height_above_ground', 'Dewpoint_temperature_height_above_ground', 'Geopotential_height_equilibrium', 'Pressure_tropopause', 'Pressure_of_level_from_which_parcel_was_lifted_pressure_difference_layer', 'Medium_cloud_cover_middle_cloud', 'Snow_depth_surface', 'Pseudo-adiabatic_potential_temperature_or_equivalent_potential_temperature_surface', 'Frozen_Rain_surface_Mixed_intervals_Accumulation', 'Temperature_height_above_ground', 'Categorical_Rain_surface', 'V-Component_Storm_Motion_height_above_ground_layer', 'Precipitation_rate_surface', 'Simulated_Brightness_Temperature_for_GOES_12_Channel_3_atmosphere_top', 'Reflectivity_height_above_ground', 'Critical_Angle_height_above_ground_layer', 'v-component_of_wind_maximum_wind', 'Water_equivalent_of_accumulated_snow_depth_surface_Mixed_intervals_Accumulation', 'Potential_temperature_height_above_ground', 'Surface_Lifted_Index_isobaric_layer', 'Temperature_tropopause', 'Convective_available_potential_energy_pressure_difference_layer', 'Simulated_Brightness_Temperature_for_GOES_12_Channel_4_atmosphere_top', 'u-component_of_wind_maximum_wind', 'Geopotential_height_cloud_ceiling', 'Relative_humidity_isobaric', 'v-component_of_wind_height_above_ground', 'Geopotential_height_highest_tropospheric_freezing', 'Potential_temperature_tropopause', 'Visibility_surface', 'Total_cloud_cover_boundary_layer_cloud', 'MSLP_MAPS_System_Reduction_msl', 'Convective_available_potential_energy_surface', 'Geopotential_height_isotherm', 'Specific_humidity_height_above_ground', 'Mass_density_concentration_height_above_ground', 'Geopotential_height_cloud_base', 'Storm_relative_helicity_height_above_ground_layer', 'Convective_available_potential_energy_height_above_ground_layer', 'Temperature_surface', 'Geopotential_height_zeroDegC_isotherm', 'Pressure_zeroDegC_isotherm', 'v-component_of_wind_pressure_difference_layer', 'Geopotential_height_cloud_tops', 'Total_precipitation_surface_Mixed_intervals_Accumulation', 'Geopotential_height_convective_cloud_top', 'Pressure_highest_tropospheric_freezing', 'Storm_surface_runoff_surface_1_Hour_Accumulation', 'Vertical_u-component_shear_height_above_ground_layer', 'Vertical_v-component_shear_height_above_ground_layer', 'Convective_inhibition_surface', 'Dewpoint_depression_or_deficit_height_above_ground', 'Total_cloud_cover_entire_atmosphere', 'Relative_humidity_height_above_ground', 'u-component_of_wind_tropopause', 'Absolute_vorticity_isobaric', 'Pressure_surface', 'v-component_of_wind_tropopause', 'Planetary_Boundary_Layer_Height_surface', 'Geopotential_height_isobaric', 'Precipitable_water_entire_atmosphere_single_layer', 'Convective_precipitation_surface_Mixed_intervals_Accumulation', 'Lightning_surface', 'Layer_Thickness_isotherm_layer', 'Relative_humidity_highest_tropospheric_freezing', 'Relative_Humidity_with_Respect_to_Precipitable_Water_entire_atmosphere', 'Simulated_Brightness_Temperature_for_GOES_11_Channel_3_atmosphere_top', 'Baseflow-groundwater_runoff_surface_1_Hour_Accumulation', 'Low_cloud_cover_low_cloud', 'Total_snowfall_surface_49_Hour_Accumulation', 'Pressure_height_above_ground', 'Echo_top_entire_atmosphere_single_layer', 'Freezing_Rain_surface_49_Hour_Accumulation', 'u-component_of_wind_isobaric', 'Geopotential_height_planetary_boundary', 'Geopotential_height_surface', 'Categorical_Freezing_Rain_surface', 'Temperature_isobaric'}\n"
     ]
    },
    {
     "name": "stderr",
     "output_type": "stream",
     "text": [
      "C:\\Users\\Tony\\anaconda3\\lib\\site-packages\\metpy\\calc\\thermo.py:1078: UserWarning: Relative humidity >120%, ensure proper units.\n",
      "  warnings.warn('Relative humidity >120%, ensure proper units.')\n",
      "C:\\Users\\Tony\\anaconda3\\lib\\site-packages\\metpy\\calc\\thermo.py:1078: UserWarning: Relative humidity >120%, ensure proper units.\n",
      "  warnings.warn('Relative humidity >120%, ensure proper units.')\n",
      "C:\\Users\\Tony\\anaconda3\\lib\\site-packages\\metpy\\calc\\thermo.py:1078: UserWarning: Relative humidity >120%, ensure proper units.\n",
      "  warnings.warn('Relative humidity >120%, ensure proper units.')\n",
      "C:\\Users\\Tony\\anaconda3\\lib\\site-packages\\cartopy\\mpl\\geoaxes.py:1662: UserWarning: The following kwargs were not used by contour: 'under'\n",
      "  result = super().contourf(*args, **kwargs)\n"
     ]
    },
    {
     "name": "stdout",
     "output_type": "stream",
     "text": [
      "https://www.ncei.noaa.gov/thredds/catalog/model-rap130/202305/20230501/catalog.html?dataset=rap130/202305/20230501/rap_130_20230501_0300_050.grb2\n"
     ]
    },
    {
     "name": "stderr",
     "output_type": "stream",
     "text": [
      "C:\\Users\\Tony\\anaconda3\\lib\\site-packages\\siphon\\catalog.py:292: UserWarning: URL https://www.ncei.noaa.gov/thredds/catalog/model-rap130/202305/20230501/catalog.html?dataset=rap130/202305/20230501/rap_130_20230501_0300_050.grb2 returned HTML. Changing to: https://www.ncei.noaa.gov/thredds/catalog/model-rap130/202305/20230501/catalog.xml?dataset=rap130/202305/20230501/rap_130_20230501_0300_050.grb2\n",
      "  warnings.warn('URL {} returned HTML. Changing to: {}'.format(self.catalog_url,\n"
     ]
    },
    {
     "name": "stdout",
     "output_type": "stream",
     "text": [
      "{'High_cloud_cover_high_cloud', 'Best_4_layer_Lifted_Index_pressure_difference_layer', 'U-Component_Storm_Motion_height_above_ground_layer', 'Convective_inhibition_pressure_difference_layer', 'Geopotential_height_UnknownLevelType-14', 'Simulated_Brightness_Temperature_for_GOES_11_Channel_4_atmosphere_top', 'Moisture_Availability_depth_below_surface', 'Geopotential_height_lowest_level_of_the_wet_bulb_zero', 'v-component_of_wind_isobaric', 'u-component_of_wind_pressure_difference_layer', 'Relative_humidity_pressure_difference_layer', 'Enhanced_Stretching_Potential_height_above_ground_layer', 'Vertical_velocity_pressure_isobaric', 'Effective_Storm_Relative_Helicity_surface', 'Temperature_pressure_difference_layer', 'Categorical_Ice_Pellets_surface', 'Categorical_Snow_surface', 'Haines_index_surface', 'Composite_reflectivity_entire_atmosphere', 'Pressure_maximum_wind', 'Vertical_velocity_pressure_pressure_difference_layer', 'Relative_humidity_zeroDegC_isotherm', 'Water_equivalent_of_accumulated_snow_depth_surface', 'Wind_speed_gust_surface', 'Aerosol_optical_thickness_entire_atmosphere_single_layer', 'u-component_of_wind_height_above_ground', 'Dewpoint_temperature_height_above_ground', 'Geopotential_height_equilibrium', 'Pressure_tropopause', 'Pressure_of_level_from_which_parcel_was_lifted_pressure_difference_layer', 'Medium_cloud_cover_middle_cloud', 'Snow_depth_surface', 'Pseudo-adiabatic_potential_temperature_or_equivalent_potential_temperature_surface', 'Frozen_Rain_surface_Mixed_intervals_Accumulation', 'Temperature_height_above_ground', 'Categorical_Rain_surface', 'V-Component_Storm_Motion_height_above_ground_layer', 'Precipitation_rate_surface', 'Simulated_Brightness_Temperature_for_GOES_12_Channel_3_atmosphere_top', 'Reflectivity_height_above_ground', 'Critical_Angle_height_above_ground_layer', 'v-component_of_wind_maximum_wind', 'Water_equivalent_of_accumulated_snow_depth_surface_Mixed_intervals_Accumulation', 'Total_snowfall_surface_50_Hour_Accumulation', 'Potential_temperature_height_above_ground', 'Surface_Lifted_Index_isobaric_layer', 'Temperature_tropopause', 'Convective_available_potential_energy_pressure_difference_layer', 'Simulated_Brightness_Temperature_for_GOES_12_Channel_4_atmosphere_top', 'u-component_of_wind_maximum_wind', 'Geopotential_height_cloud_ceiling', 'Relative_humidity_isobaric', 'v-component_of_wind_height_above_ground', 'Geopotential_height_highest_tropospheric_freezing', 'Potential_temperature_tropopause', 'Visibility_surface', 'Total_cloud_cover_boundary_layer_cloud', 'MSLP_MAPS_System_Reduction_msl', 'Convective_available_potential_energy_surface', 'Geopotential_height_isotherm', 'Specific_humidity_height_above_ground', 'Mass_density_concentration_height_above_ground', 'Geopotential_height_cloud_base', 'Storm_relative_helicity_height_above_ground_layer', 'Convective_available_potential_energy_height_above_ground_layer', 'Temperature_surface', 'Geopotential_height_zeroDegC_isotherm', 'Pressure_zeroDegC_isotherm', 'v-component_of_wind_pressure_difference_layer', 'Geopotential_height_cloud_tops', 'Geopotential_height_convective_cloud_top', 'Pressure_highest_tropospheric_freezing', 'Storm_surface_runoff_surface_1_Hour_Accumulation', 'Total_precipitation_surface_Mixed_intervals_Accumulation', 'Vertical_u-component_shear_height_above_ground_layer', 'Vertical_v-component_shear_height_above_ground_layer', 'Convective_inhibition_surface', 'Dewpoint_depression_or_deficit_height_above_ground', 'Total_cloud_cover_entire_atmosphere', 'Freezing_Rain_surface_50_Hour_Accumulation', 'Relative_humidity_height_above_ground', 'u-component_of_wind_tropopause', 'Absolute_vorticity_isobaric', 'Pressure_surface', 'v-component_of_wind_tropopause', 'Planetary_Boundary_Layer_Height_surface', 'Geopotential_height_isobaric', 'Precipitable_water_entire_atmosphere_single_layer', 'Lightning_surface', 'Convective_precipitation_surface_Mixed_intervals_Accumulation', 'Layer_Thickness_isotherm_layer', 'Relative_humidity_highest_tropospheric_freezing', 'Relative_Humidity_with_Respect_to_Precipitable_Water_entire_atmosphere', 'Simulated_Brightness_Temperature_for_GOES_11_Channel_3_atmosphere_top', 'Baseflow-groundwater_runoff_surface_1_Hour_Accumulation', 'Low_cloud_cover_low_cloud', 'Pressure_height_above_ground', 'Echo_top_entire_atmosphere_single_layer', 'u-component_of_wind_isobaric', 'Geopotential_height_planetary_boundary', 'Geopotential_height_surface', 'Categorical_Freezing_Rain_surface', 'Temperature_isobaric'}\n"
     ]
    },
    {
     "name": "stderr",
     "output_type": "stream",
     "text": [
      "C:\\Users\\Tony\\anaconda3\\lib\\site-packages\\metpy\\calc\\thermo.py:1078: UserWarning: Relative humidity >120%, ensure proper units.\n",
      "  warnings.warn('Relative humidity >120%, ensure proper units.')\n",
      "C:\\Users\\Tony\\anaconda3\\lib\\site-packages\\metpy\\calc\\thermo.py:1078: UserWarning: Relative humidity >120%, ensure proper units.\n",
      "  warnings.warn('Relative humidity >120%, ensure proper units.')\n",
      "C:\\Users\\Tony\\anaconda3\\lib\\site-packages\\metpy\\calc\\thermo.py:1078: UserWarning: Relative humidity >120%, ensure proper units.\n",
      "  warnings.warn('Relative humidity >120%, ensure proper units.')\n",
      "C:\\Users\\Tony\\anaconda3\\lib\\site-packages\\cartopy\\mpl\\geoaxes.py:1662: UserWarning: The following kwargs were not used by contour: 'under'\n",
      "  result = super().contourf(*args, **kwargs)\n"
     ]
    }
   ],
   "source": [
    "catalog_url_base = 'https://www.ncei.noaa.gov/thredds/catalog/model-rap130/202305/20230501/catalog.html'\n",
    "forecast_hours = [str(i).zfill(3) for i in range(0, 51, 1)]  # Forecast hours 0, 3, 6, ..., 21\n",
    "\n",
    "for forecast_hour in forecast_hours:\n",
    "    catalog_url = f'{catalog_url_base}?dataset=rap130/202305/20230501/rap_130_20230501_0300_{forecast_hour}.grb2'\n",
    "    print(catalog_url)\n",
    "    cat = TDSCatalog(catalog_url)\n",
    "    ncss = cat.datasets[0].subset()\n",
    "    print(ncss.variables)\n",
    "    query = ncss.query()\n",
    "    query.lonlat_box(north=65, south=15, east=310, west=220)\n",
    "    query.accept('netcdf')\n",
    "\n",
    "    query.variables('Temperature_isobaric', 'Relative_humidity_isobaric', 'u-component_of_wind_isobaric', 'v-component_of_wind_isobaric')\n",
    "\n",
    "    data = ncss.get_data(query)\n",
    "\n",
    "    temp_var = data.variables['Temperature_isobaric']\n",
    "    rh_var = data.variables['Relative_humidity_isobaric']\n",
    "    u_wind_var850 = data.variables['u-component_of_wind_isobaric'][:] * units('m/s')\n",
    "    v_wind_var850 = data.variables['v-component_of_wind_isobaric'][:] * units('m/s')\n",
    "    time_var = data.variables[find_time_var(rh_var)]\n",
    "\n",
    "    temp = temp_var[:].squeeze()\n",
    "    rh_var = rh_var[:].squeeze()\n",
    "    u_wind850 = u_wind_var850[:].squeeze()\n",
    "    v_wind850 = v_wind_var850[:].squeeze()\n",
    "\n",
    "    temp = units.Quantity(temp, 'kelvin')\n",
    "    temp = temp.to('degC')\n",
    "\n",
    "    u_wind850 = units.Quantity(u_wind850, 'm/s')\n",
    "    v_wind850 = units.Quantity(v_wind850, 'm/s')\n",
    "\n",
    "    wnd = mpcalc.wind_speed(u_wind850, v_wind850)\n",
    "    wnd = wnd.to('kt')\n",
    "\n",
    "    time = num2date(time_var[:].squeeze(), time_var.units)\n",
    "\n",
    "    nc = xr.open_dataset(xr.backends.NetCDF4DataStore(data)).metpy.parse_cf()\n",
    "    uvar_name = 'Temperature_isobaric'\n",
    "    uvar = nc[uvar_name]\n",
    "    ref_name = 'Relative_humidity_isobaric'\n",
    "    ref = nc[ref_name]\n",
    "    grid = nc[uvar.grid_mapping]\n",
    "    uwnd = nc['u-component_of_wind_isobaric']\n",
    "    vwnd = nc['v-component_of_wind_isobaric']\n",
    "\n",
    "    plot_data(data, time)"
   ]
  }
 ],
 "metadata": {
  "kernelspec": {
   "display_name": "base",
   "language": "python",
   "name": "python3"
  },
  "language_info": {
   "codemirror_mode": {
    "name": "ipython",
    "version": 3
   },
   "file_extension": ".py",
   "mimetype": "text/x-python",
   "name": "python",
   "nbconvert_exporter": "python",
   "pygments_lexer": "ipython3",
   "version": "3.9.16"
  },
  "orig_nbformat": 4
 },
 "nbformat": 4,
 "nbformat_minor": 2
}
